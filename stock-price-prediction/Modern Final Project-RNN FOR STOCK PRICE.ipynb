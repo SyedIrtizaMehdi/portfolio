{
  "cells": [
    {
      "cell_type": "markdown",
      "source": [
        "## Data Preparation"
      ],
      "metadata": {
        "id": "9cZyI9TGs9F6"
      }
    },
    {
      "cell_type": "markdown",
      "source": [
        "data_fetcher.py\n",
        "\n",
        "This module fetches historical stock\n",
        "data from Yahoo Finance based on a list of symbols and saves it as CSV files for further use."
      ],
      "metadata": {
        "id": "oFJUL1Cv0k_n"
      }
    },
    {
      "cell_type": "code",
      "source": [
        "%%writefile data_fetcher.py\n",
        "\n",
        "\n",
        "import yfinance as yf\n",
        "import pandas as pd\n",
        "import os\n",
        "\n",
        "def fetch_and_save_stock_data(input_file, start_date=\"2010-01-01\", end_date=\"2024-12-06\", output_dir=\"enhancedata\"):\n",
        "    data = pd.read_csv(input_file)\n",
        "    stock_symbols = data['Name'].unique()\n",
        "\n",
        "    if not os.path.exists(output_dir):\n",
        "        os.makedirs(output_dir)\n",
        "\n",
        "    for symbol in stock_symbols:\n",
        "        try:\n",
        "            print(f\"Fetching data for {symbol}...\")\n",
        "            stock_data = yf.download(symbol, start=start_date, end=end_date)\n",
        "            if stock_data.empty:\n",
        "                print(f\"No data fetched for {symbol}, skipping.\")\n",
        "                continue\n",
        "            file_path = os.path.join(output_dir, f\"{symbol}.csv\")\n",
        "            stock_data.to_csv(file_path, mode='w')\n",
        "            print(f\"Saved data to {file_path}\")\n",
        "        except Exception as e:\n",
        "            print(f\"Failed to fetch data for {symbol}: {e}\")\n",
        "\n",
        "\n",
        "\n",
        "if __name__ == \"__main__\":\n",
        "    # Example usage\n",
        "    fetch_and_save_stock_data(\"all_stocks_5yr.csv\")\n",
        "\n",
        "def standardize_csv(input_dir=\"enhancedata\"):\n",
        "    \"\"\"\n",
        "    Standardize all CSV files in the specified directory.\n",
        "    Removes invalid rows, resets index, and standardizes column names.\n",
        "    \"\"\"\n",
        "    for file_name in os.listdir(input_dir):\n",
        "        file_path = os.path.join(input_dir, file_name)\n",
        "        if os.path.getsize(file_path) <= 2 * 1024:  # 2 KB\n",
        "            print(f\"Skipping {file_name} because its size is less than 2KB.\")\n",
        "            continue\n",
        "\n",
        "        if file_name.endswith(\".csv\"):\n",
        "            try:\n",
        "                df = pd.read_csv(file_path)\n",
        "\n",
        "                # Remove invalid rows and standardize column names\n",
        "                df = df[~df.iloc[:, 0].isin(['Ticker', 'Date'])]\n",
        "                df.reset_index(drop=True, inplace=True)\n",
        "                df.columns = ['date', 'adj close', 'close', 'high', 'low', 'open', 'volume']\n",
        "\n",
        "                df.to_csv(file_path, index=False)\n",
        "                print(f\"Processed and updated {file_name}.\")\n",
        "            except Exception as e:\n",
        "                print(f\"Failed to process {file_name}: {e}\")"
      ],
      "metadata": {
        "colab": {
          "base_uri": "https://localhost:8080/"
        },
        "id": "7ax_hTjVu21t",
        "outputId": "02e5915c-b4ed-45f3-9d9d-8c7a522ea353"
      },
      "execution_count": 11,
      "outputs": [
        {
          "output_type": "stream",
          "name": "stdout",
          "text": [
            "Overwriting data_fetcher.py\n"
          ]
        }
      ]
    },
    {
      "cell_type": "markdown",
      "source": [
        "data_preprocessor.py\n",
        "\n",
        "This module preprocesses stock data by loading, normalizing, and splitting it into training and testing datasets, ready for machine learning models."
      ],
      "metadata": {
        "id": "a8eXhxxU0uRR"
      }
    },
    {
      "cell_type": "code",
      "source": [
        "%%writefile data_preprocessor.py\n",
        "\n",
        "import os\n",
        "import pandas as pd\n",
        "import numpy as np\n",
        "import random\n",
        "\n",
        "class StockEnhanceDataSet:\n",
        "    def __init__(self, stock_sym, input_size=1, num_steps=30, test_ratio=0.1, normalized=True, close_price_only=True):\n",
        "        self.stock_sym = stock_sym\n",
        "        self.input_size = input_size\n",
        "        self.num_steps = num_steps\n",
        "        self.test_ratio = test_ratio\n",
        "        self.close_price_only = close_price_only\n",
        "        self.normalized = normalized\n",
        "\n",
        "        # Reading CSV Files\n",
        "        DATA_DIR = \"enhancedata\"\n",
        "        file_path = os.path.join(DATA_DIR, f\"{stock_sym}.csv\")\n",
        "\n",
        "        # Check if the file exists and is of the required size\n",
        "        if not os.path.exists(file_path) or os.path.getsize(file_path) <= 2 * 1024:  # Files smaller than 2KB\n",
        "            print(f\"Skipping {stock_sym}: File too small or does not exist.\")\n",
        "            self.raw_seq = []\n",
        "            self.train_X, self.train_y, self.test_X, self.test_y = [], [], [], []\n",
        "            return\n",
        "\n",
        "        raw_df = pd.read_csv(file_path)\n",
        "\n",
        "        # Extract price series\n",
        "        if close_price_only:\n",
        "            self.raw_seq = raw_df['close'].dropna().tolist()\n",
        "        else:\n",
        "            self.raw_seq = [price for tup in raw_df[['open', 'close']].dropna().values for price in tup]\n",
        "\n",
        "        self.raw_seq = np.array(self.raw_seq)\n",
        "        if len(self.raw_seq) < self.num_steps:\n",
        "            print(f\"Skipping {stock_sym}: Not enough data for processing.\")\n",
        "            self.train_X, self.train_y, self.test_X, self.test_y = [], [], [], []\n",
        "            return\n",
        "\n",
        "        self.train_X, self.train_y, self.test_X, self.test_y = self._prepare_data(self.raw_seq)\n",
        "\n",
        "    def info(self):\n",
        "        if len(self.train_X) == 0 or len(self.test_X) == 0:\n",
        "            return f\"StockEnhanceDataSet [{self.stock_sym}] has insufficient data.\"\n",
        "        return f\"StockEnhanceDataSet [{self.stock_sym}] train: {len(self.train_X)} test: {len(self.test_y)}\"\n",
        "\n",
        "    def _prepare_data(self, seq):\n",
        "        # Prepare data as a sequence of input size\n",
        "        seq = [np.array(seq[i * self.input_size: (i + 1) * self.input_size]) for i in range(len(seq) // self.input_size)]\n",
        "\n",
        "        if self.normalized:\n",
        "            seq = [seq[0] / seq[0][0] - 1.0] + [curr / seq[i][-1] - 1.0 for i, curr in enumerate(seq[1:])]\n",
        "\n",
        "        # Split into groups of time steps\n",
        "        X = np.array([seq[i: i + self.num_steps] for i in range(len(seq) - self.num_steps)])\n",
        "        y = np.array([seq[i + self.num_steps] for i in range(len(seq) - self.num_steps)])\n",
        "\n",
        "        train_size = int(len(X) * (1.0 - self.test_ratio))\n",
        "        train_X, test_X = X[:train_size], X[train_size:]\n",
        "        train_y, test_y = y[:train_size], y[train_size:]\n",
        "        return train_X, train_y, test_X, test_y\n",
        "\n"
      ],
      "metadata": {
        "colab": {
          "base_uri": "https://localhost:8080/"
        },
        "id": "8R6BHAJ1vctg",
        "outputId": "dbaf664a-fbd0-4a8b-f48f-fa5e937b5f27"
      },
      "execution_count": 12,
      "outputs": [
        {
          "output_type": "stream",
          "name": "stdout",
          "text": [
            "Overwriting data_preprocessor.py\n"
          ]
        }
      ]
    },
    {
      "cell_type": "markdown",
      "source": [
        "Main Program\n",
        "\n",
        "The main program orchestrates the workflow by fetching stock data using data_fetcher.py and preprocessing it with data_preprocessor.py."
      ],
      "metadata": {
        "id": "gXqra_cP09hW"
      }
    },
    {
      "cell_type": "code",
      "source": [
        "from data_fetcher import fetch_and_save_stock_data, standardize_csv\n",
        "from data_preprocessor import StockEnhanceDataSet\n",
        "import pandas as pd\n",
        "\n",
        "def main():\n",
        "    # Step 1: Fetch stock data\n",
        "    input_file = \"all_stocks_5yr.csv\"\n",
        "    fetch_and_save_stock_data(input_file)\n",
        "\n",
        "    # Step 2: Standardize the fetched data\n",
        "    standardize_csv()\n",
        "\n",
        "    # Step 3: Preprocess and analyze standardized data\n",
        "    symbols = pd.read_csv(input_file)['Name'].unique()\n",
        "    print(\"Symbols to process:\", symbols)\n",
        "    for symbol in symbols:\n",
        "        try:\n",
        "            dataset = StockEnhanceDataSet(symbol)\n",
        "            print(dataset.info())\n",
        "        except Exception as e:\n",
        "            print(f\"Error processing symbol {symbol}: {e}\")\n",
        "\n",
        "if __name__ == \"__main__\":\n",
        "    main()\n",
        "\n",
        "\n"
      ],
      "metadata": {
        "colab": {
          "base_uri": "https://localhost:8080/"
        },
        "collapsed": true,
        "id": "fPaEmNJrynrF",
        "outputId": "dc92e786-0a20-49a3-acb6-5b724742e800"
      },
      "execution_count": null,
      "outputs": [
        {
          "output_type": "stream",
          "name": "stdout",
          "text": [
            "Fetching data for AAL...\n"
          ]
        },
        {
          "output_type": "stream",
          "name": "stderr",
          "text": [
            "\r[*********************100%***********************]  1 of 1 completed\n"
          ]
        },
        {
          "output_type": "stream",
          "name": "stdout",
          "text": [
            "Saved data to enhancedata/AAL.csv\n",
            "Fetching data for AAPL...\n"
          ]
        },
        {
          "output_type": "stream",
          "name": "stderr",
          "text": [
            "\r[*********************100%***********************]  1 of 1 completed\n"
          ]
        },
        {
          "output_type": "stream",
          "name": "stdout",
          "text": [
            "Saved data to enhancedata/AAPL.csv\n",
            "Fetching data for AAP...\n"
          ]
        },
        {
          "output_type": "stream",
          "name": "stderr",
          "text": [
            "[*********************100%***********************]  1 of 1 completed\n",
            "[*********************100%***********************]  1 of 1 completed"
          ]
        },
        {
          "output_type": "stream",
          "name": "stdout",
          "text": [
            "Saved data to enhancedata/AAP.csv\n",
            "Fetching data for ABBV...\n"
          ]
        },
        {
          "output_type": "stream",
          "name": "stderr",
          "text": [
            "\n"
          ]
        },
        {
          "output_type": "stream",
          "name": "stdout",
          "text": [
            "Saved data to enhancedata/ABBV.csv\n",
            "Fetching data for ABC...\n"
          ]
        },
        {
          "output_type": "stream",
          "name": "stderr",
          "text": [
            "\r[*********************100%***********************]  1 of 1 completed\n",
            "ERROR:yfinance:\n",
            "1 Failed download:\n",
            "ERROR:yfinance:['ABC']: YFTzMissingError('$%ticker%: possibly delisted; no timezone found')\n"
          ]
        },
        {
          "output_type": "stream",
          "name": "stdout",
          "text": [
            "No data fetched for ABC, skipping.\n",
            "Fetching data for ABT...\n"
          ]
        },
        {
          "output_type": "stream",
          "name": "stderr",
          "text": [
            "[*********************100%***********************]  1 of 1 completed\n",
            "[*********************100%***********************]  1 of 1 completed"
          ]
        },
        {
          "output_type": "stream",
          "name": "stdout",
          "text": [
            "Saved data to enhancedata/ABT.csv\n",
            "Fetching data for ACN...\n"
          ]
        },
        {
          "output_type": "stream",
          "name": "stderr",
          "text": [
            "\n",
            "[*********************100%***********************]  1 of 1 completed"
          ]
        },
        {
          "output_type": "stream",
          "name": "stdout",
          "text": [
            "Saved data to enhancedata/ACN.csv\n",
            "Fetching data for ADBE...\n"
          ]
        },
        {
          "output_type": "stream",
          "name": "stderr",
          "text": [
            "\n",
            "[*********************100%***********************]  1 of 1 completed"
          ]
        },
        {
          "output_type": "stream",
          "name": "stdout",
          "text": [
            "Saved data to enhancedata/ADBE.csv\n",
            "Fetching data for ADI...\n"
          ]
        },
        {
          "output_type": "stream",
          "name": "stderr",
          "text": [
            "\n",
            "[*********************100%***********************]  1 of 1 completed"
          ]
        },
        {
          "output_type": "stream",
          "name": "stdout",
          "text": [
            "Saved data to enhancedata/ADI.csv\n",
            "Fetching data for ADM...\n"
          ]
        },
        {
          "output_type": "stream",
          "name": "stderr",
          "text": [
            "\n"
          ]
        },
        {
          "output_type": "stream",
          "name": "stdout",
          "text": [
            "Saved data to enhancedata/ADM.csv\n",
            "Fetching data for ADP...\n"
          ]
        },
        {
          "output_type": "stream",
          "name": "stderr",
          "text": [
            "[*********************100%***********************]  1 of 1 completed\n",
            "[*********************100%***********************]  1 of 1 completed\n"
          ]
        },
        {
          "output_type": "stream",
          "name": "stdout",
          "text": [
            "Saved data to enhancedata/ADP.csv\n",
            "Fetching data for ADSK...\n",
            "Saved data to enhancedata/ADSK.csv\n",
            "Fetching data for ADS...\n"
          ]
        },
        {
          "output_type": "stream",
          "name": "stderr",
          "text": [
            "\r[*********************100%***********************]  1 of 1 completed\n",
            "ERROR:yfinance:\n",
            "1 Failed download:\n",
            "ERROR:yfinance:['ADS']: YFTzMissingError('$%ticker%: possibly delisted; no timezone found')\n",
            "[*********************100%***********************]  1 of 1 completed\n"
          ]
        },
        {
          "output_type": "stream",
          "name": "stdout",
          "text": [
            "No data fetched for ADS, skipping.\n",
            "Fetching data for AEE...\n",
            "Saved data to enhancedata/AEE.csv\n",
            "Fetching data for AEP...\n"
          ]
        },
        {
          "output_type": "stream",
          "name": "stderr",
          "text": [
            "[*********************100%***********************]  1 of 1 completed\n",
            "[*********************100%***********************]  1 of 1 completed\n"
          ]
        },
        {
          "output_type": "stream",
          "name": "stdout",
          "text": [
            "Saved data to enhancedata/AEP.csv\n",
            "Fetching data for AES...\n"
          ]
        },
        {
          "output_type": "stream",
          "name": "stderr",
          "text": [
            "\r[*********************100%***********************]  1 of 1 completed"
          ]
        },
        {
          "output_type": "stream",
          "name": "stdout",
          "text": [
            "Saved data to enhancedata/AES.csv\n",
            "Fetching data for AET...\n"
          ]
        },
        {
          "output_type": "stream",
          "name": "stderr",
          "text": [
            "\n",
            "[*********************100%***********************]  1 of 1 completed"
          ]
        },
        {
          "output_type": "stream",
          "name": "stdout",
          "text": [
            "Saved data to enhancedata/AET.csv\n",
            "Fetching data for AFL...\n"
          ]
        },
        {
          "output_type": "stream",
          "name": "stderr",
          "text": [
            "\n"
          ]
        },
        {
          "output_type": "stream",
          "name": "stdout",
          "text": [
            "Saved data to enhancedata/AFL.csv\n",
            "Fetching data for AGN...\n"
          ]
        },
        {
          "output_type": "stream",
          "name": "stderr",
          "text": [
            "\r[*********************100%***********************]  1 of 1 completed\n",
            "ERROR:yfinance:\n",
            "1 Failed download:\n",
            "ERROR:yfinance:['AGN']: YFTzMissingError('$%ticker%: possibly delisted; no timezone found')\n"
          ]
        },
        {
          "output_type": "stream",
          "name": "stdout",
          "text": [
            "No data fetched for AGN, skipping.\n",
            "Fetching data for AIG...\n"
          ]
        },
        {
          "output_type": "stream",
          "name": "stderr",
          "text": [
            "\r[*********************100%***********************]  1 of 1 completed\n"
          ]
        },
        {
          "output_type": "stream",
          "name": "stdout",
          "text": [
            "Saved data to enhancedata/AIG.csv\n",
            "Fetching data for AIV...\n"
          ]
        },
        {
          "output_type": "stream",
          "name": "stderr",
          "text": [
            "[*********************100%***********************]  1 of 1 completed\n",
            "[*********************100%***********************]  1 of 1 completed"
          ]
        },
        {
          "output_type": "stream",
          "name": "stdout",
          "text": [
            "Saved data to enhancedata/AIV.csv\n",
            "Fetching data for AIZ...\n"
          ]
        },
        {
          "output_type": "stream",
          "name": "stderr",
          "text": [
            "\n",
            "[*********************100%***********************]  1 of 1 completed"
          ]
        },
        {
          "output_type": "stream",
          "name": "stdout",
          "text": [
            "Saved data to enhancedata/AIZ.csv\n",
            "Fetching data for AJG...\n"
          ]
        },
        {
          "output_type": "stream",
          "name": "stderr",
          "text": [
            "\n",
            "\r[*********************100%***********************]  1 of 1 completed\n"
          ]
        },
        {
          "output_type": "stream",
          "name": "stdout",
          "text": [
            "Saved data to enhancedata/AJG.csv\n",
            "Fetching data for AKAM...\n",
            "Saved data to enhancedata/AKAM.csv\n",
            "Fetching data for ALB...\n"
          ]
        },
        {
          "output_type": "stream",
          "name": "stderr",
          "text": [
            "[*********************100%***********************]  1 of 1 completed\n",
            "[*********************100%***********************]  1 of 1 completed\n"
          ]
        },
        {
          "output_type": "stream",
          "name": "stdout",
          "text": [
            "Saved data to enhancedata/ALB.csv\n",
            "Fetching data for ALGN...\n",
            "Saved data to enhancedata/ALGN.csv\n",
            "Fetching data for ALK...\n"
          ]
        },
        {
          "output_type": "stream",
          "name": "stderr",
          "text": [
            "[*********************100%***********************]  1 of 1 completed\n",
            "[*********************100%***********************]  1 of 1 completed\n"
          ]
        },
        {
          "output_type": "stream",
          "name": "stdout",
          "text": [
            "Saved data to enhancedata/ALK.csv\n",
            "Fetching data for ALLE...\n",
            "Saved data to enhancedata/ALLE.csv\n",
            "Fetching data for ALL...\n"
          ]
        },
        {
          "output_type": "stream",
          "name": "stderr",
          "text": [
            "\r[*********************100%***********************]  1 of 1 completed\n"
          ]
        },
        {
          "output_type": "stream",
          "name": "stdout",
          "text": [
            "Saved data to enhancedata/ALL.csv\n",
            "Fetching data for ALXN...\n"
          ]
        },
        {
          "output_type": "stream",
          "name": "stderr",
          "text": [
            "\r[*********************100%***********************]  1 of 1 completed\n",
            "ERROR:yfinance:\n",
            "1 Failed download:\n",
            "ERROR:yfinance:['ALXN']: YFTzMissingError('$%ticker%: possibly delisted; no timezone found')\n",
            "[*********************100%***********************]  1 of 1 completed"
          ]
        },
        {
          "output_type": "stream",
          "name": "stdout",
          "text": [
            "No data fetched for ALXN, skipping.\n",
            "Fetching data for AMAT...\n"
          ]
        },
        {
          "output_type": "stream",
          "name": "stderr",
          "text": [
            "\n",
            "\r[*********************100%***********************]  1 of 1 completed\n"
          ]
        },
        {
          "output_type": "stream",
          "name": "stdout",
          "text": [
            "Saved data to enhancedata/AMAT.csv\n",
            "Fetching data for AMD...\n",
            "Saved data to enhancedata/AMD.csv\n",
            "Fetching data for AME...\n"
          ]
        },
        {
          "output_type": "stream",
          "name": "stderr",
          "text": [
            "[*********************100%***********************]  1 of 1 completed\n",
            "[*********************100%***********************]  1 of 1 completed"
          ]
        },
        {
          "output_type": "stream",
          "name": "stdout",
          "text": [
            "Saved data to enhancedata/AME.csv\n",
            "Fetching data for AMGN...\n"
          ]
        },
        {
          "output_type": "stream",
          "name": "stderr",
          "text": [
            "\n",
            "[*********************100%***********************]  1 of 1 completed"
          ]
        },
        {
          "output_type": "stream",
          "name": "stdout",
          "text": [
            "Saved data to enhancedata/AMGN.csv\n",
            "Fetching data for AMG...\n"
          ]
        },
        {
          "output_type": "stream",
          "name": "stderr",
          "text": [
            "\n"
          ]
        },
        {
          "output_type": "stream",
          "name": "stdout",
          "text": [
            "Saved data to enhancedata/AMG.csv\n",
            "Fetching data for AMP...\n"
          ]
        },
        {
          "output_type": "stream",
          "name": "stderr",
          "text": [
            "[*********************100%***********************]  1 of 1 completed\n",
            "[*********************100%***********************]  1 of 1 completed"
          ]
        },
        {
          "output_type": "stream",
          "name": "stdout",
          "text": [
            "Saved data to enhancedata/AMP.csv\n",
            "Fetching data for AMT...\n"
          ]
        },
        {
          "output_type": "stream",
          "name": "stderr",
          "text": [
            "\n",
            "\r[*********************100%***********************]  1 of 1 completed\n"
          ]
        },
        {
          "output_type": "stream",
          "name": "stdout",
          "text": [
            "Saved data to enhancedata/AMT.csv\n",
            "Fetching data for AMZN...\n",
            "Saved data to enhancedata/AMZN.csv\n",
            "Fetching data for ANDV...\n"
          ]
        },
        {
          "output_type": "stream",
          "name": "stderr",
          "text": [
            "[*********************100%***********************]  1 of 1 completed\n",
            "[*********************100%***********************]  1 of 1 completed\n"
          ]
        },
        {
          "output_type": "stream",
          "name": "stdout",
          "text": [
            "Saved data to enhancedata/ANDV.csv\n",
            "Fetching data for ANSS...\n",
            "Saved data to enhancedata/ANSS.csv\n",
            "Fetching data for ANTM...\n"
          ]
        },
        {
          "output_type": "stream",
          "name": "stderr",
          "text": [
            "\r[*********************100%***********************]  1 of 1 completed\n",
            "ERROR:yfinance:\n",
            "1 Failed download:\n",
            "ERROR:yfinance:['ANTM']: YFTzMissingError('$%ticker%: possibly delisted; no timezone found')\n"
          ]
        },
        {
          "output_type": "stream",
          "name": "stdout",
          "text": [
            "No data fetched for ANTM, skipping.\n",
            "Fetching data for AON...\n"
          ]
        },
        {
          "output_type": "stream",
          "name": "stderr",
          "text": [
            "\r[*********************100%***********************]  1 of 1 completed\n"
          ]
        },
        {
          "output_type": "stream",
          "name": "stdout",
          "text": [
            "Saved data to enhancedata/AON.csv\n",
            "Fetching data for AOS...\n"
          ]
        },
        {
          "output_type": "stream",
          "name": "stderr",
          "text": [
            "\r[*********************100%***********************]  1 of 1 completed\n"
          ]
        },
        {
          "output_type": "stream",
          "name": "stdout",
          "text": [
            "Saved data to enhancedata/AOS.csv\n",
            "Fetching data for APA...\n"
          ]
        },
        {
          "output_type": "stream",
          "name": "stderr",
          "text": [
            "\r[*********************100%***********************]  1 of 1 completed\n"
          ]
        },
        {
          "output_type": "stream",
          "name": "stdout",
          "text": [
            "Saved data to enhancedata/APA.csv\n",
            "Fetching data for APC...\n"
          ]
        },
        {
          "output_type": "stream",
          "name": "stderr",
          "text": [
            "\r[*********************100%***********************]  1 of 1 completed\n",
            "ERROR:yfinance:\n",
            "1 Failed download:\n",
            "ERROR:yfinance:['APC']: YFTzMissingError('$%ticker%: possibly delisted; no timezone found')\n"
          ]
        },
        {
          "output_type": "stream",
          "name": "stdout",
          "text": [
            "No data fetched for APC, skipping.\n",
            "Fetching data for APD...\n"
          ]
        },
        {
          "output_type": "stream",
          "name": "stderr",
          "text": [
            "\r[*********************100%***********************]  1 of 1 completed\n"
          ]
        },
        {
          "output_type": "stream",
          "name": "stdout",
          "text": [
            "Saved data to enhancedata/APD.csv\n",
            "Fetching data for APH...\n"
          ]
        },
        {
          "output_type": "stream",
          "name": "stderr",
          "text": [
            "\r[*********************100%***********************]  1 of 1 completed\n"
          ]
        },
        {
          "output_type": "stream",
          "name": "stdout",
          "text": [
            "Saved data to enhancedata/APH.csv\n",
            "Fetching data for APTV...\n"
          ]
        },
        {
          "output_type": "stream",
          "name": "stderr",
          "text": [
            "\r[*********************100%***********************]  1 of 1 completed\n"
          ]
        },
        {
          "output_type": "stream",
          "name": "stdout",
          "text": [
            "Saved data to enhancedata/APTV.csv\n",
            "Fetching data for ARE...\n"
          ]
        },
        {
          "output_type": "stream",
          "name": "stderr",
          "text": [
            "\r[*********************100%***********************]  1 of 1 completed\n"
          ]
        },
        {
          "output_type": "stream",
          "name": "stdout",
          "text": [
            "Saved data to enhancedata/ARE.csv\n",
            "Fetching data for ARNC...\n"
          ]
        },
        {
          "output_type": "stream",
          "name": "stderr",
          "text": [
            "\r[*********************100%***********************]  1 of 1 completed\n",
            "ERROR:yfinance:\n",
            "1 Failed download:\n",
            "ERROR:yfinance:['ARNC']: YFTzMissingError('$%ticker%: possibly delisted; no timezone found')\n"
          ]
        },
        {
          "output_type": "stream",
          "name": "stdout",
          "text": [
            "No data fetched for ARNC, skipping.\n",
            "Fetching data for ATVI...\n"
          ]
        },
        {
          "output_type": "stream",
          "name": "stderr",
          "text": [
            "\r[*********************100%***********************]  1 of 1 completed\n",
            "ERROR:yfinance:\n",
            "1 Failed download:\n",
            "ERROR:yfinance:['ATVI']: YFTzMissingError('$%ticker%: possibly delisted; no timezone found')\n",
            "[*********************100%***********************]  1 of 1 completed\n"
          ]
        },
        {
          "output_type": "stream",
          "name": "stdout",
          "text": [
            "No data fetched for ATVI, skipping.\n",
            "Fetching data for AVB...\n"
          ]
        },
        {
          "output_type": "stream",
          "name": "stderr",
          "text": [
            "\r[*********************100%***********************]  1 of 1 completed"
          ]
        },
        {
          "output_type": "stream",
          "name": "stdout",
          "text": [
            "Saved data to enhancedata/AVB.csv\n",
            "Fetching data for AVGO...\n"
          ]
        },
        {
          "output_type": "stream",
          "name": "stderr",
          "text": [
            "\n",
            "[*********************100%***********************]  1 of 1 completed"
          ]
        },
        {
          "output_type": "stream",
          "name": "stdout",
          "text": [
            "Saved data to enhancedata/AVGO.csv\n",
            "Fetching data for AVY...\n"
          ]
        },
        {
          "output_type": "stream",
          "name": "stderr",
          "text": [
            "\n",
            "[*********************100%***********************]  1 of 1 completed"
          ]
        },
        {
          "output_type": "stream",
          "name": "stdout",
          "text": [
            "Saved data to enhancedata/AVY.csv\n",
            "Fetching data for AWK...\n"
          ]
        },
        {
          "output_type": "stream",
          "name": "stderr",
          "text": [
            "\n",
            "[*********************100%***********************]  1 of 1 completed"
          ]
        },
        {
          "output_type": "stream",
          "name": "stdout",
          "text": [
            "Saved data to enhancedata/AWK.csv\n",
            "Fetching data for AXP...\n"
          ]
        },
        {
          "output_type": "stream",
          "name": "stderr",
          "text": [
            "\n",
            "[*********************100%***********************]  1 of 1 completed"
          ]
        },
        {
          "output_type": "stream",
          "name": "stdout",
          "text": [
            "Saved data to enhancedata/AXP.csv\n",
            "Fetching data for AYI...\n"
          ]
        },
        {
          "output_type": "stream",
          "name": "stderr",
          "text": [
            "\n",
            "\r[*********************100%***********************]  1 of 1 completed\n"
          ]
        },
        {
          "output_type": "stream",
          "name": "stdout",
          "text": [
            "Saved data to enhancedata/AYI.csv\n",
            "Fetching data for AZO...\n",
            "Saved data to enhancedata/AZO.csv\n",
            "Fetching data for A...\n"
          ]
        },
        {
          "output_type": "stream",
          "name": "stderr",
          "text": [
            "[*********************100%***********************]  1 of 1 completed\n",
            "[*********************100%***********************]  1 of 1 completed"
          ]
        },
        {
          "output_type": "stream",
          "name": "stdout",
          "text": [
            "Saved data to enhancedata/A.csv\n",
            "Fetching data for BAC...\n"
          ]
        },
        {
          "output_type": "stream",
          "name": "stderr",
          "text": [
            "\n"
          ]
        },
        {
          "output_type": "stream",
          "name": "stdout",
          "text": [
            "Saved data to enhancedata/BAC.csv\n",
            "Fetching data for BAX...\n"
          ]
        },
        {
          "output_type": "stream",
          "name": "stderr",
          "text": [
            "[*********************100%***********************]  1 of 1 completed\n",
            "[*********************100%***********************]  1 of 1 completed"
          ]
        },
        {
          "output_type": "stream",
          "name": "stdout",
          "text": [
            "Saved data to enhancedata/BAX.csv\n",
            "Fetching data for BA...\n"
          ]
        },
        {
          "output_type": "stream",
          "name": "stderr",
          "text": [
            "\n"
          ]
        },
        {
          "output_type": "stream",
          "name": "stdout",
          "text": [
            "Saved data to enhancedata/BA.csv\n",
            "Fetching data for BBT...\n"
          ]
        },
        {
          "output_type": "stream",
          "name": "stderr",
          "text": [
            "\r[*********************100%***********************]  1 of 1 completed\n",
            "ERROR:yfinance:\n",
            "1 Failed download:\n",
            "ERROR:yfinance:['BBT']: YFTzMissingError('$%ticker%: possibly delisted; no timezone found')\n",
            "[*********************100%***********************]  1 of 1 completed\n"
          ]
        },
        {
          "output_type": "stream",
          "name": "stdout",
          "text": [
            "No data fetched for BBT, skipping.\n",
            "Fetching data for BBY...\n",
            "Saved data to enhancedata/BBY.csv\n",
            "Fetching data for BDX...\n"
          ]
        },
        {
          "output_type": "stream",
          "name": "stderr",
          "text": [
            "\r[*********************100%***********************]  1 of 1 completed\n"
          ]
        },
        {
          "output_type": "stream",
          "name": "stdout",
          "text": [
            "Saved data to enhancedata/BDX.csv\n",
            "Fetching data for BEN...\n"
          ]
        },
        {
          "output_type": "stream",
          "name": "stderr",
          "text": [
            "[*********************100%***********************]  1 of 1 completed\n",
            "[*********************100%***********************]  1 of 1 completed\n",
            "ERROR:yfinance:\n",
            "1 Failed download:\n",
            "ERROR:yfinance:['BF.B']: YFPricesMissingError('$%ticker%: possibly delisted; no price data found  (1d 2010-01-01 -> 2024-12-06)')\n",
            "[*********************100%***********************]  1 of 1 completed"
          ]
        },
        {
          "output_type": "stream",
          "name": "stdout",
          "text": [
            "Saved data to enhancedata/BEN.csv\n",
            "Fetching data for BF.B...\n",
            "No data fetched for BF.B, skipping.\n",
            "Fetching data for BHF...\n"
          ]
        },
        {
          "output_type": "stream",
          "name": "stderr",
          "text": [
            "\n"
          ]
        },
        {
          "output_type": "stream",
          "name": "stdout",
          "text": [
            "Saved data to enhancedata/BHF.csv\n",
            "Fetching data for BHGE...\n"
          ]
        },
        {
          "output_type": "stream",
          "name": "stderr",
          "text": [
            "\r[*********************100%***********************]  1 of 1 completed\n",
            "ERROR:yfinance:\n",
            "1 Failed download:\n",
            "ERROR:yfinance:['BHGE']: YFTzMissingError('$%ticker%: possibly delisted; no timezone found')\n",
            "[*********************100%***********************]  1 of 1 completed\n"
          ]
        },
        {
          "output_type": "stream",
          "name": "stdout",
          "text": [
            "No data fetched for BHGE, skipping.\n",
            "Fetching data for BIIB...\n",
            "Saved data to enhancedata/BIIB.csv\n",
            "Fetching data for BK...\n"
          ]
        },
        {
          "output_type": "stream",
          "name": "stderr",
          "text": [
            "[*********************100%***********************]  1 of 1 completed\n",
            "[*********************100%***********************]  1 of 1 completed"
          ]
        },
        {
          "output_type": "stream",
          "name": "stdout",
          "text": [
            "Saved data to enhancedata/BK.csv\n",
            "Fetching data for BLK...\n"
          ]
        },
        {
          "output_type": "stream",
          "name": "stderr",
          "text": [
            "\n"
          ]
        },
        {
          "output_type": "stream",
          "name": "stdout",
          "text": [
            "Saved data to enhancedata/BLK.csv\n",
            "Fetching data for BLL...\n"
          ]
        },
        {
          "output_type": "stream",
          "name": "stderr",
          "text": [
            "\r[*********************100%***********************]  1 of 1 completed\n",
            "ERROR:yfinance:\n",
            "1 Failed download:\n",
            "ERROR:yfinance:['BLL']: YFTzMissingError('$%ticker%: possibly delisted; no timezone found')\n"
          ]
        },
        {
          "output_type": "stream",
          "name": "stdout",
          "text": [
            "No data fetched for BLL, skipping.\n",
            "Fetching data for BMY...\n"
          ]
        },
        {
          "output_type": "stream",
          "name": "stderr",
          "text": [
            "\r[*********************100%***********************]  1 of 1 completed\n"
          ]
        },
        {
          "output_type": "stream",
          "name": "stdout",
          "text": [
            "Saved data to enhancedata/BMY.csv\n",
            "Fetching data for BRK.B...\n"
          ]
        },
        {
          "output_type": "stream",
          "name": "stderr",
          "text": [
            "\r[*********************100%***********************]  1 of 1 completed\n",
            "ERROR:yfinance:\n",
            "1 Failed download:\n",
            "ERROR:yfinance:['BRK.B']: YFTzMissingError('$%ticker%: possibly delisted; no timezone found')\n",
            "[*********************100%***********************]  1 of 1 completed\n"
          ]
        },
        {
          "output_type": "stream",
          "name": "stdout",
          "text": [
            "No data fetched for BRK.B, skipping.\n",
            "Fetching data for BSX...\n",
            "Saved data to enhancedata/BSX.csv\n",
            "Fetching data for BWA...\n"
          ]
        },
        {
          "output_type": "stream",
          "name": "stderr",
          "text": [
            "\r[*********************100%***********************]  1 of 1 completed\n"
          ]
        },
        {
          "output_type": "stream",
          "name": "stdout",
          "text": [
            "Saved data to enhancedata/BWA.csv\n",
            "Fetching data for BXP...\n"
          ]
        },
        {
          "output_type": "stream",
          "name": "stderr",
          "text": [
            "\r[*********************100%***********************]  1 of 1 completed\n"
          ]
        },
        {
          "output_type": "stream",
          "name": "stdout",
          "text": [
            "Saved data to enhancedata/BXP.csv\n",
            "Fetching data for CAG...\n"
          ]
        },
        {
          "output_type": "stream",
          "name": "stderr",
          "text": [
            "[*********************100%***********************]  1 of 1 completed\n",
            "[*********************100%***********************]  1 of 1 completed"
          ]
        },
        {
          "output_type": "stream",
          "name": "stdout",
          "text": [
            "Saved data to enhancedata/CAG.csv\n",
            "Fetching data for CAH...\n"
          ]
        },
        {
          "output_type": "stream",
          "name": "stderr",
          "text": [
            "\n"
          ]
        },
        {
          "output_type": "stream",
          "name": "stdout",
          "text": [
            "Saved data to enhancedata/CAH.csv\n",
            "Fetching data for CAT...\n"
          ]
        },
        {
          "output_type": "stream",
          "name": "stderr",
          "text": [
            "[*********************100%***********************]  1 of 1 completed\n",
            "[*********************100%***********************]  1 of 1 completed\n",
            "[*********************100%***********************]  1 of 1 completed\n",
            "ERROR:yfinance:\n",
            "1 Failed download:\n",
            "ERROR:yfinance:['CBG']: YFPricesMissingError('$%ticker%: possibly delisted; no price data found  (1d 2010-01-01 -> 2024-12-06)')\n"
          ]
        },
        {
          "output_type": "stream",
          "name": "stdout",
          "text": [
            "Saved data to enhancedata/CAT.csv\n",
            "Fetching data for CA...\n",
            "Saved data to enhancedata/CA.csv\n",
            "Fetching data for CBG...\n",
            "No data fetched for CBG, skipping.\n",
            "Fetching data for CBOE...\n"
          ]
        },
        {
          "output_type": "stream",
          "name": "stderr",
          "text": [
            "\r[*********************100%***********************]  1 of 1 completed\n"
          ]
        },
        {
          "output_type": "stream",
          "name": "stdout",
          "text": [
            "Saved data to enhancedata/CBOE.csv\n",
            "Fetching data for CBS...\n"
          ]
        },
        {
          "output_type": "stream",
          "name": "stderr",
          "text": [
            "\r[*********************100%***********************]  1 of 1 completed\n",
            "ERROR:yfinance:\n",
            "1 Failed download:\n",
            "ERROR:yfinance:['CBS']: YFTzMissingError('$%ticker%: possibly delisted; no timezone found')\n"
          ]
        },
        {
          "output_type": "stream",
          "name": "stdout",
          "text": [
            "No data fetched for CBS, skipping.\n",
            "Fetching data for CB...\n"
          ]
        },
        {
          "output_type": "stream",
          "name": "stderr",
          "text": [
            "\r[*********************100%***********************]  1 of 1 completed\n"
          ]
        },
        {
          "output_type": "stream",
          "name": "stdout",
          "text": [
            "Saved data to enhancedata/CB.csv\n",
            "Fetching data for CCI...\n"
          ]
        },
        {
          "output_type": "stream",
          "name": "stderr",
          "text": [
            "\r[*********************100%***********************]  1 of 1 completed\n"
          ]
        },
        {
          "output_type": "stream",
          "name": "stdout",
          "text": [
            "Saved data to enhancedata/CCI.csv\n",
            "Fetching data for CCL...\n"
          ]
        },
        {
          "output_type": "stream",
          "name": "stderr",
          "text": [
            "[*********************100%***********************]  1 of 1 completed\n",
            "[*********************100%***********************]  1 of 1 completed"
          ]
        },
        {
          "output_type": "stream",
          "name": "stdout",
          "text": [
            "Saved data to enhancedata/CCL.csv\n",
            "Fetching data for CDNS...\n"
          ]
        },
        {
          "output_type": "stream",
          "name": "stderr",
          "text": [
            "\n"
          ]
        },
        {
          "output_type": "stream",
          "name": "stdout",
          "text": [
            "Saved data to enhancedata/CDNS.csv\n",
            "Fetching data for CELG...\n"
          ]
        },
        {
          "output_type": "stream",
          "name": "stderr",
          "text": [
            "\r[*********************100%***********************]  1 of 1 completed\n",
            "ERROR:yfinance:\n",
            "1 Failed download:\n",
            "ERROR:yfinance:['CELG']: YFTzMissingError('$%ticker%: possibly delisted; no timezone found')\n"
          ]
        },
        {
          "output_type": "stream",
          "name": "stdout",
          "text": [
            "No data fetched for CELG, skipping.\n",
            "Fetching data for CERN...\n"
          ]
        },
        {
          "output_type": "stream",
          "name": "stderr",
          "text": [
            "\r[*********************100%***********************]  1 of 1 completed\n",
            "ERROR:yfinance:\n",
            "1 Failed download:\n",
            "ERROR:yfinance:['CERN']: YFTzMissingError('$%ticker%: possibly delisted; no timezone found')\n",
            "[*********************100%***********************]  1 of 1 completed\n"
          ]
        },
        {
          "output_type": "stream",
          "name": "stdout",
          "text": [
            "No data fetched for CERN, skipping.\n",
            "Fetching data for CFG...\n",
            "Saved data to enhancedata/CFG.csv\n",
            "Fetching data for CF...\n"
          ]
        },
        {
          "output_type": "stream",
          "name": "stderr",
          "text": [
            "[*********************100%***********************]  1 of 1 completed\n",
            "[*********************100%***********************]  1 of 1 completed"
          ]
        },
        {
          "output_type": "stream",
          "name": "stdout",
          "text": [
            "Saved data to enhancedata/CF.csv\n",
            "Fetching data for CHD...\n"
          ]
        },
        {
          "output_type": "stream",
          "name": "stderr",
          "text": [
            "\n"
          ]
        },
        {
          "output_type": "stream",
          "name": "stdout",
          "text": [
            "Saved data to enhancedata/CHD.csv\n",
            "Fetching data for CHK...\n"
          ]
        },
        {
          "output_type": "stream",
          "name": "stderr",
          "text": [
            "\r[*********************100%***********************]  1 of 1 completed\n",
            "ERROR:yfinance:\n",
            "1 Failed download:\n",
            "ERROR:yfinance:['CHK']: YFTzMissingError('$%ticker%: possibly delisted; no timezone found')\n"
          ]
        },
        {
          "output_type": "stream",
          "name": "stdout",
          "text": [
            "No data fetched for CHK, skipping.\n",
            "Fetching data for CHRW...\n"
          ]
        },
        {
          "output_type": "stream",
          "name": "stderr",
          "text": [
            "[*********************100%***********************]  1 of 1 completed\n",
            "[*********************100%***********************]  1 of 1 completed\n"
          ]
        },
        {
          "output_type": "stream",
          "name": "stdout",
          "text": [
            "Saved data to enhancedata/CHRW.csv\n",
            "Fetching data for CHTR...\n",
            "Saved data to enhancedata/CHTR.csv\n",
            "Fetching data for CINF...\n"
          ]
        },
        {
          "output_type": "stream",
          "name": "stderr",
          "text": [
            "\r[*********************100%***********************]  1 of 1 completed\n"
          ]
        },
        {
          "output_type": "stream",
          "name": "stdout",
          "text": [
            "Saved data to enhancedata/CINF.csv\n",
            "Fetching data for CI...\n"
          ]
        },
        {
          "output_type": "stream",
          "name": "stderr",
          "text": [
            "[*********************100%***********************]  1 of 1 completed\n",
            "[*********************100%***********************]  1 of 1 completed"
          ]
        },
        {
          "output_type": "stream",
          "name": "stdout",
          "text": [
            "Saved data to enhancedata/CI.csv\n",
            "Fetching data for CLX...\n"
          ]
        },
        {
          "output_type": "stream",
          "name": "stderr",
          "text": [
            "\n"
          ]
        },
        {
          "output_type": "stream",
          "name": "stdout",
          "text": [
            "Saved data to enhancedata/CLX.csv\n",
            "Fetching data for CL...\n"
          ]
        },
        {
          "output_type": "stream",
          "name": "stderr",
          "text": [
            "\r[*********************100%***********************]  1 of 1 completed\n"
          ]
        },
        {
          "output_type": "stream",
          "name": "stdout",
          "text": [
            "Saved data to enhancedata/CL.csv\n",
            "Fetching data for CMA...\n"
          ]
        },
        {
          "output_type": "stream",
          "name": "stderr",
          "text": [
            "[*********************100%***********************]  1 of 1 completed\n",
            "[*********************100%***********************]  1 of 1 completed"
          ]
        },
        {
          "output_type": "stream",
          "name": "stdout",
          "text": [
            "Saved data to enhancedata/CMA.csv\n",
            "Fetching data for CMCSA...\n"
          ]
        },
        {
          "output_type": "stream",
          "name": "stderr",
          "text": [
            "\n"
          ]
        },
        {
          "output_type": "stream",
          "name": "stdout",
          "text": [
            "Saved data to enhancedata/CMCSA.csv\n",
            "Fetching data for CME...\n"
          ]
        },
        {
          "output_type": "stream",
          "name": "stderr",
          "text": [
            "[*********************100%***********************]  1 of 1 completed\n",
            "[*********************100%***********************]  1 of 1 completed"
          ]
        },
        {
          "output_type": "stream",
          "name": "stdout",
          "text": [
            "Saved data to enhancedata/CME.csv\n",
            "Fetching data for CMG...\n"
          ]
        },
        {
          "output_type": "stream",
          "name": "stderr",
          "text": [
            "\n",
            "[*********************100%***********************]  1 of 1 completed"
          ]
        },
        {
          "output_type": "stream",
          "name": "stdout",
          "text": [
            "Saved data to enhancedata/CMG.csv\n",
            "Fetching data for CMI...\n"
          ]
        },
        {
          "output_type": "stream",
          "name": "stderr",
          "text": [
            "\n"
          ]
        },
        {
          "output_type": "stream",
          "name": "stdout",
          "text": [
            "Saved data to enhancedata/CMI.csv\n",
            "Fetching data for CMS...\n"
          ]
        },
        {
          "output_type": "stream",
          "name": "stderr",
          "text": [
            "[*********************100%***********************]  1 of 1 completed\n",
            "[*********************100%***********************]  1 of 1 completed\n"
          ]
        },
        {
          "output_type": "stream",
          "name": "stdout",
          "text": [
            "Saved data to enhancedata/CMS.csv\n",
            "Fetching data for CNC...\n",
            "Saved data to enhancedata/CNC.csv\n",
            "Fetching data for CNP...\n"
          ]
        },
        {
          "output_type": "stream",
          "name": "stderr",
          "text": [
            "[*********************100%***********************]  1 of 1 completed\n",
            "[*********************100%***********************]  1 of 1 completed\n"
          ]
        },
        {
          "output_type": "stream",
          "name": "stdout",
          "text": [
            "Saved data to enhancedata/CNP.csv\n",
            "Fetching data for COF...\n",
            "Saved data to enhancedata/COF.csv\n",
            "Fetching data for COG...\n"
          ]
        },
        {
          "output_type": "stream",
          "name": "stderr",
          "text": [
            "\r[*********************100%***********************]  1 of 1 completed\n",
            "ERROR:yfinance:\n",
            "1 Failed download:\n",
            "ERROR:yfinance:['COG']: YFTzMissingError('$%ticker%: possibly delisted; no timezone found')\n",
            "[*********************100%***********************]  1 of 1 completed\n"
          ]
        },
        {
          "output_type": "stream",
          "name": "stdout",
          "text": [
            "No data fetched for COG, skipping.\n",
            "Fetching data for COL...\n",
            "Saved data to enhancedata/COL.csv\n",
            "Fetching data for COO...\n"
          ]
        },
        {
          "output_type": "stream",
          "name": "stderr",
          "text": [
            "\r[*********************100%***********************]  1 of 1 completed\n"
          ]
        },
        {
          "output_type": "stream",
          "name": "stdout",
          "text": [
            "Saved data to enhancedata/COO.csv\n",
            "Fetching data for COP...\n"
          ]
        },
        {
          "output_type": "stream",
          "name": "stderr",
          "text": [
            "[*********************100%***********************]  1 of 1 completed\n",
            "[*********************100%***********************]  1 of 1 completed"
          ]
        },
        {
          "output_type": "stream",
          "name": "stdout",
          "text": [
            "Saved data to enhancedata/COP.csv\n",
            "Fetching data for COST...\n"
          ]
        },
        {
          "output_type": "stream",
          "name": "stderr",
          "text": [
            "\n",
            "\r[*********************100%***********************]  1 of 1 completed\n"
          ]
        },
        {
          "output_type": "stream",
          "name": "stdout",
          "text": [
            "Saved data to enhancedata/COST.csv\n",
            "Fetching data for COTY...\n",
            "Saved data to enhancedata/COTY.csv\n",
            "Fetching data for CPB...\n"
          ]
        },
        {
          "output_type": "stream",
          "name": "stderr",
          "text": [
            "[*********************100%***********************]  1 of 1 completed\n",
            "[*********************100%***********************]  1 of 1 completed\n"
          ]
        },
        {
          "output_type": "stream",
          "name": "stdout",
          "text": [
            "Saved data to enhancedata/CPB.csv\n",
            "Fetching data for CRM...\n"
          ]
        },
        {
          "output_type": "stream",
          "name": "stderr",
          "text": [
            "\r[*********************100%***********************]  1 of 1 completed\n"
          ]
        },
        {
          "output_type": "stream",
          "name": "stdout",
          "text": [
            "Saved data to enhancedata/CRM.csv\n",
            "Fetching data for CSCO...\n",
            "Saved data to enhancedata/CSCO.csv\n",
            "Fetching data for CSRA...\n"
          ]
        },
        {
          "output_type": "stream",
          "name": "stderr",
          "text": [
            "\r[*********************100%***********************]  1 of 1 completed\n"
          ]
        },
        {
          "output_type": "stream",
          "name": "stdout",
          "text": [
            "Saved data to enhancedata/CSRA.csv\n",
            "Fetching data for CSX...\n"
          ]
        },
        {
          "output_type": "stream",
          "name": "stderr",
          "text": [
            "[*********************100%***********************]  1 of 1 completed\n",
            "[*********************100%***********************]  1 of 1 completed"
          ]
        },
        {
          "output_type": "stream",
          "name": "stdout",
          "text": [
            "Saved data to enhancedata/CSX.csv\n",
            "Fetching data for CTAS...\n"
          ]
        },
        {
          "output_type": "stream",
          "name": "stderr",
          "text": [
            "\n"
          ]
        },
        {
          "output_type": "stream",
          "name": "stdout",
          "text": [
            "Saved data to enhancedata/CTAS.csv\n",
            "Fetching data for CTL...\n"
          ]
        },
        {
          "output_type": "stream",
          "name": "stderr",
          "text": [
            "\r[*********************100%***********************]  1 of 1 completed\n",
            "ERROR:yfinance:\n",
            "1 Failed download:\n",
            "ERROR:yfinance:['CTL']: YFTzMissingError('$%ticker%: possibly delisted; no timezone found')\n",
            "[*********************100%***********************]  1 of 1 completed\n"
          ]
        },
        {
          "output_type": "stream",
          "name": "stdout",
          "text": [
            "No data fetched for CTL, skipping.\n",
            "Fetching data for CTSH...\n",
            "Saved data to enhancedata/CTSH.csv\n",
            "Fetching data for CTXS...\n"
          ]
        },
        {
          "output_type": "stream",
          "name": "stderr",
          "text": [
            "\r[*********************100%***********************]  1 of 1 completed\n",
            "ERROR:yfinance:\n",
            "1 Failed download:\n",
            "ERROR:yfinance:['CTXS']: possibly delisted; no timezone found\n",
            "[*********************100%***********************]  1 of 1 completed\n",
            "ERROR:yfinance:\n",
            "1 Failed download:\n",
            "ERROR:yfinance:['CTXS']: YFTzMissingError('$%ticker%: possibly delisted; no timezone found')\n"
          ]
        },
        {
          "output_type": "stream",
          "name": "stdout",
          "text": [
            "No data fetched for CTXS, skipping.\n",
            "Fetching data for CVS...\n",
            "No data fetched for CVS, skipping.\n",
            "Fetching data for CVX...\n"
          ]
        },
        {
          "output_type": "stream",
          "name": "stderr",
          "text": [
            "\r[*********************100%***********************]  1 of 1 completed\n"
          ]
        },
        {
          "output_type": "stream",
          "name": "stdout",
          "text": [
            "Saved data to enhancedata/CVX.csv\n",
            "Fetching data for CXO...\n"
          ]
        },
        {
          "output_type": "stream",
          "name": "stderr",
          "text": [
            "\r[*********************100%***********************]  1 of 1 completed\n",
            "ERROR:yfinance:\n",
            "1 Failed download:\n",
            "ERROR:yfinance:['CXO']: YFTzMissingError('$%ticker%: possibly delisted; no timezone found')\n"
          ]
        },
        {
          "output_type": "stream",
          "name": "stdout",
          "text": [
            "No data fetched for CXO, skipping.\n",
            "Fetching data for C...\n"
          ]
        },
        {
          "output_type": "stream",
          "name": "stderr",
          "text": [
            "\r[*********************100%***********************]  1 of 1 completed\n"
          ]
        },
        {
          "output_type": "stream",
          "name": "stdout",
          "text": [
            "Saved data to enhancedata/C.csv\n",
            "Fetching data for DAL...\n"
          ]
        },
        {
          "output_type": "stream",
          "name": "stderr",
          "text": [
            "\r[*********************100%***********************]  1 of 1 completed\n"
          ]
        },
        {
          "output_type": "stream",
          "name": "stdout",
          "text": [
            "Saved data to enhancedata/DAL.csv\n",
            "Fetching data for DE...\n"
          ]
        },
        {
          "output_type": "stream",
          "name": "stderr",
          "text": [
            "\r[*********************100%***********************]  1 of 1 completed\n"
          ]
        },
        {
          "output_type": "stream",
          "name": "stdout",
          "text": [
            "Saved data to enhancedata/DE.csv\n",
            "Fetching data for DFS...\n"
          ]
        },
        {
          "output_type": "stream",
          "name": "stderr",
          "text": [
            "\r[*********************100%***********************]  1 of 1 completed\n"
          ]
        },
        {
          "output_type": "stream",
          "name": "stdout",
          "text": [
            "Saved data to enhancedata/DFS.csv\n",
            "Fetching data for DGX...\n"
          ]
        },
        {
          "output_type": "stream",
          "name": "stderr",
          "text": [
            "[*********************100%***********************]  1 of 1 completed\n",
            "[*********************100%***********************]  1 of 1 completed"
          ]
        },
        {
          "output_type": "stream",
          "name": "stdout",
          "text": [
            "Saved data to enhancedata/DGX.csv\n",
            "Fetching data for DG...\n"
          ]
        },
        {
          "output_type": "stream",
          "name": "stderr",
          "text": [
            "\n",
            "[*********************100%***********************]  1 of 1 completed"
          ]
        },
        {
          "output_type": "stream",
          "name": "stdout",
          "text": [
            "Saved data to enhancedata/DG.csv\n",
            "Fetching data for DHI...\n"
          ]
        },
        {
          "output_type": "stream",
          "name": "stderr",
          "text": [
            "\n"
          ]
        },
        {
          "output_type": "stream",
          "name": "stdout",
          "text": [
            "Saved data to enhancedata/DHI.csv\n",
            "Fetching data for DHR...\n"
          ]
        },
        {
          "output_type": "stream",
          "name": "stderr",
          "text": [
            "\r[*********************100%***********************]  1 of 1 completed\n"
          ]
        },
        {
          "output_type": "stream",
          "name": "stdout",
          "text": [
            "Saved data to enhancedata/DHR.csv\n",
            "Fetching data for DISCA...\n"
          ]
        },
        {
          "output_type": "stream",
          "name": "stderr",
          "text": [
            "\r[*********************100%***********************]  1 of 1 completed\n",
            "ERROR:yfinance:\n",
            "1 Failed download:\n",
            "ERROR:yfinance:['DISCA']: YFTzMissingError('$%ticker%: possibly delisted; no timezone found')\n"
          ]
        },
        {
          "output_type": "stream",
          "name": "stdout",
          "text": [
            "No data fetched for DISCA, skipping.\n",
            "Fetching data for DISCK...\n"
          ]
        },
        {
          "output_type": "stream",
          "name": "stderr",
          "text": [
            "\r[*********************100%***********************]  1 of 1 completed\n",
            "ERROR:yfinance:\n",
            "1 Failed download:\n",
            "ERROR:yfinance:['DISCK']: YFTzMissingError('$%ticker%: possibly delisted; no timezone found')\n"
          ]
        },
        {
          "output_type": "stream",
          "name": "stdout",
          "text": [
            "No data fetched for DISCK, skipping.\n",
            "Fetching data for DISH...\n"
          ]
        },
        {
          "output_type": "stream",
          "name": "stderr",
          "text": [
            "\r[*********************100%***********************]  1 of 1 completed\n",
            "ERROR:yfinance:\n",
            "1 Failed download:\n",
            "ERROR:yfinance:['DISH']: YFTzMissingError('$%ticker%: possibly delisted; no timezone found')\n"
          ]
        },
        {
          "output_type": "stream",
          "name": "stdout",
          "text": [
            "No data fetched for DISH, skipping.\n",
            "Fetching data for DIS...\n"
          ]
        },
        {
          "output_type": "stream",
          "name": "stderr",
          "text": [
            "\r[*********************100%***********************]  1 of 1 completed\n"
          ]
        },
        {
          "output_type": "stream",
          "name": "stdout",
          "text": [
            "Saved data to enhancedata/DIS.csv\n",
            "Fetching data for DLR...\n"
          ]
        },
        {
          "output_type": "stream",
          "name": "stderr",
          "text": [
            "[*********************100%***********************]  1 of 1 completed\n",
            "[*********************100%***********************]  1 of 1 completed"
          ]
        },
        {
          "output_type": "stream",
          "name": "stdout",
          "text": [
            "Saved data to enhancedata/DLR.csv\n",
            "Fetching data for DLTR...\n"
          ]
        },
        {
          "output_type": "stream",
          "name": "stderr",
          "text": [
            "\n",
            "[*********************100%***********************]  1 of 1 completed"
          ]
        },
        {
          "output_type": "stream",
          "name": "stdout",
          "text": [
            "Saved data to enhancedata/DLTR.csv\n",
            "Fetching data for DOV...\n"
          ]
        },
        {
          "output_type": "stream",
          "name": "stderr",
          "text": [
            "\n",
            "\r[*********************100%***********************]  1 of 1 completed\n",
            "ERROR:yfinance:\n",
            "1 Failed download:\n",
            "ERROR:yfinance:['DPS']: YFPricesMissingError('$%ticker%: possibly delisted; no price data found  (1d 2010-01-01 -> 2024-12-06)')\n"
          ]
        },
        {
          "output_type": "stream",
          "name": "stdout",
          "text": [
            "Saved data to enhancedata/DOV.csv\n",
            "Fetching data for DPS...\n",
            "No data fetched for DPS, skipping.\n",
            "Fetching data for DRE...\n"
          ]
        },
        {
          "output_type": "stream",
          "name": "stderr",
          "text": [
            "\r[*********************100%***********************]  1 of 1 completed\n",
            "ERROR:yfinance:\n",
            "1 Failed download:\n",
            "ERROR:yfinance:['DRE']: YFTzMissingError('$%ticker%: possibly delisted; no timezone found')\n"
          ]
        },
        {
          "output_type": "stream",
          "name": "stdout",
          "text": [
            "No data fetched for DRE, skipping.\n",
            "Fetching data for DRI...\n"
          ]
        },
        {
          "output_type": "stream",
          "name": "stderr",
          "text": [
            "\r[*********************100%***********************]  1 of 1 completed\n"
          ]
        },
        {
          "output_type": "stream",
          "name": "stdout",
          "text": [
            "Saved data to enhancedata/DRI.csv\n",
            "Fetching data for DTE...\n"
          ]
        },
        {
          "output_type": "stream",
          "name": "stderr",
          "text": [
            "[*********************100%***********************]  1 of 1 completed\n",
            "[*********************100%***********************]  1 of 1 completed"
          ]
        },
        {
          "output_type": "stream",
          "name": "stdout",
          "text": [
            "Saved data to enhancedata/DTE.csv\n",
            "Fetching data for DUK...\n"
          ]
        },
        {
          "output_type": "stream",
          "name": "stderr",
          "text": [
            "\n",
            "\r[*********************100%***********************]  1 of 1 completed\n"
          ]
        },
        {
          "output_type": "stream",
          "name": "stdout",
          "text": [
            "Saved data to enhancedata/DUK.csv\n",
            "Fetching data for DVA...\n"
          ]
        },
        {
          "output_type": "stream",
          "name": "stderr",
          "text": [
            "\r[*********************100%***********************]  1 of 1 completed"
          ]
        },
        {
          "output_type": "stream",
          "name": "stdout",
          "text": [
            "Saved data to enhancedata/DVA.csv\n",
            "Fetching data for DVN...\n"
          ]
        },
        {
          "output_type": "stream",
          "name": "stderr",
          "text": [
            "\n"
          ]
        },
        {
          "output_type": "stream",
          "name": "stdout",
          "text": [
            "Saved data to enhancedata/DVN.csv\n",
            "Fetching data for DWDP...\n"
          ]
        },
        {
          "output_type": "stream",
          "name": "stderr",
          "text": [
            "\r[*********************100%***********************]  1 of 1 completed\n",
            "ERROR:yfinance:\n",
            "1 Failed download:\n",
            "ERROR:yfinance:['DWDP']: YFTzMissingError('$%ticker%: possibly delisted; no timezone found')\n"
          ]
        },
        {
          "output_type": "stream",
          "name": "stdout",
          "text": [
            "No data fetched for DWDP, skipping.\n",
            "Fetching data for DXC...\n"
          ]
        },
        {
          "output_type": "stream",
          "name": "stderr",
          "text": [
            "[*********************100%***********************]  1 of 1 completed\n",
            "[*********************100%***********************]  1 of 1 completed"
          ]
        },
        {
          "output_type": "stream",
          "name": "stdout",
          "text": [
            "Saved data to enhancedata/DXC.csv\n",
            "Fetching data for D...\n"
          ]
        },
        {
          "output_type": "stream",
          "name": "stderr",
          "text": [
            "\n",
            "[*********************100%***********************]  1 of 1 completed\n"
          ]
        },
        {
          "output_type": "stream",
          "name": "stdout",
          "text": [
            "Saved data to enhancedata/D.csv\n",
            "Fetching data for EA...\n"
          ]
        },
        {
          "output_type": "stream",
          "name": "stderr",
          "text": [
            "\r[*********************100%***********************]  1 of 1 completed"
          ]
        },
        {
          "output_type": "stream",
          "name": "stdout",
          "text": [
            "Saved data to enhancedata/EA.csv\n",
            "Fetching data for EBAY...\n"
          ]
        },
        {
          "output_type": "stream",
          "name": "stderr",
          "text": [
            "\n",
            "[*********************100%***********************]  1 of 1 completed"
          ]
        },
        {
          "output_type": "stream",
          "name": "stdout",
          "text": [
            "Saved data to enhancedata/EBAY.csv\n",
            "Fetching data for ECL...\n"
          ]
        },
        {
          "output_type": "stream",
          "name": "stderr",
          "text": [
            "\n"
          ]
        },
        {
          "output_type": "stream",
          "name": "stdout",
          "text": [
            "Saved data to enhancedata/ECL.csv\n",
            "Fetching data for ED...\n"
          ]
        },
        {
          "output_type": "stream",
          "name": "stderr",
          "text": [
            "[*********************100%***********************]  1 of 1 completed\n",
            "[*********************100%***********************]  1 of 1 completed\n"
          ]
        },
        {
          "output_type": "stream",
          "name": "stdout",
          "text": [
            "Saved data to enhancedata/ED.csv\n",
            "Fetching data for EFX...\n"
          ]
        },
        {
          "output_type": "stream",
          "name": "stderr",
          "text": [
            "\r[*********************100%***********************]  1 of 1 completed"
          ]
        },
        {
          "output_type": "stream",
          "name": "stdout",
          "text": [
            "Saved data to enhancedata/EFX.csv\n",
            "Fetching data for EIX...\n"
          ]
        },
        {
          "output_type": "stream",
          "name": "stderr",
          "text": [
            "\n",
            "[*********************100%***********************]  1 of 1 completed"
          ]
        },
        {
          "output_type": "stream",
          "name": "stdout",
          "text": [
            "Saved data to enhancedata/EIX.csv\n",
            "Fetching data for EL...\n"
          ]
        },
        {
          "output_type": "stream",
          "name": "stderr",
          "text": [
            "\n"
          ]
        },
        {
          "output_type": "stream",
          "name": "stdout",
          "text": [
            "Saved data to enhancedata/EL.csv\n",
            "Fetching data for EMN...\n"
          ]
        },
        {
          "output_type": "stream",
          "name": "stderr",
          "text": [
            "\r[*********************100%***********************]  1 of 1 completed\n"
          ]
        },
        {
          "output_type": "stream",
          "name": "stdout",
          "text": [
            "Saved data to enhancedata/EMN.csv\n",
            "Fetching data for EMR...\n"
          ]
        },
        {
          "output_type": "stream",
          "name": "stderr",
          "text": [
            "[*********************100%***********************]  1 of 1 completed\n",
            "[*********************100%***********************]  1 of 1 completed"
          ]
        },
        {
          "output_type": "stream",
          "name": "stdout",
          "text": [
            "Saved data to enhancedata/EMR.csv\n",
            "Fetching data for EOG...\n"
          ]
        },
        {
          "output_type": "stream",
          "name": "stderr",
          "text": [
            "\n",
            "\r[*********************100%***********************]  1 of 1 completed\n"
          ]
        },
        {
          "output_type": "stream",
          "name": "stdout",
          "text": [
            "Saved data to enhancedata/EOG.csv\n",
            "Fetching data for EQIX...\n",
            "Saved data to enhancedata/EQIX.csv\n",
            "Fetching data for EQR...\n"
          ]
        },
        {
          "output_type": "stream",
          "name": "stderr",
          "text": [
            "[*********************100%***********************]  1 of 1 completed\n",
            "[*********************100%***********************]  1 of 1 completed"
          ]
        },
        {
          "output_type": "stream",
          "name": "stdout",
          "text": [
            "Saved data to enhancedata/EQR.csv\n",
            "Fetching data for EQT...\n"
          ]
        },
        {
          "output_type": "stream",
          "name": "stderr",
          "text": [
            "\n",
            "[*********************100%***********************]  1 of 1 completed\n"
          ]
        },
        {
          "output_type": "stream",
          "name": "stdout",
          "text": [
            "Saved data to enhancedata/EQT.csv\n",
            "Fetching data for ESRX...\n",
            "Saved data to enhancedata/ESRX.csv\n",
            "Fetching data for ESS...\n"
          ]
        },
        {
          "output_type": "stream",
          "name": "stderr",
          "text": [
            "\r[*********************100%***********************]  1 of 1 completed\n"
          ]
        },
        {
          "output_type": "stream",
          "name": "stdout",
          "text": [
            "Saved data to enhancedata/ESS.csv\n",
            "Fetching data for ES...\n"
          ]
        },
        {
          "output_type": "stream",
          "name": "stderr",
          "text": [
            "\r[*********************100%***********************]  1 of 1 completed\n"
          ]
        },
        {
          "output_type": "stream",
          "name": "stdout",
          "text": [
            "Saved data to enhancedata/ES.csv\n",
            "Fetching data for ETFC...\n"
          ]
        },
        {
          "output_type": "stream",
          "name": "stderr",
          "text": [
            "\r[*********************100%***********************]  1 of 1 completed\n",
            "ERROR:yfinance:\n",
            "1 Failed download:\n",
            "ERROR:yfinance:['ETFC']: YFTzMissingError('$%ticker%: possibly delisted; no timezone found')\n"
          ]
        },
        {
          "output_type": "stream",
          "name": "stdout",
          "text": [
            "No data fetched for ETFC, skipping.\n",
            "Fetching data for ETN...\n"
          ]
        },
        {
          "output_type": "stream",
          "name": "stderr",
          "text": [
            "\r[*********************100%***********************]  1 of 1 completed\n"
          ]
        },
        {
          "output_type": "stream",
          "name": "stdout",
          "text": [
            "Saved data to enhancedata/ETN.csv\n",
            "Fetching data for ETR...\n"
          ]
        },
        {
          "output_type": "stream",
          "name": "stderr",
          "text": [
            "[*********************100%***********************]  1 of 1 completed\n",
            "[*********************100%***********************]  1 of 1 completed"
          ]
        },
        {
          "output_type": "stream",
          "name": "stdout",
          "text": [
            "Saved data to enhancedata/ETR.csv\n",
            "Fetching data for EVHC...\n",
            "Saved data to enhancedata/EVHC.csv\n",
            "Fetching data for EW...\n"
          ]
        },
        {
          "output_type": "stream",
          "name": "stderr",
          "text": [
            "\n",
            "[*********************100%***********************]  1 of 1 completed\n"
          ]
        },
        {
          "output_type": "stream",
          "name": "stdout",
          "text": [
            "Saved data to enhancedata/EW.csv\n",
            "Fetching data for EXC...\n"
          ]
        },
        {
          "output_type": "stream",
          "name": "stderr",
          "text": [
            "[*********************100%***********************]  1 of 1 completed\n",
            "[*********************100%***********************]  1 of 1 completed"
          ]
        },
        {
          "output_type": "stream",
          "name": "stdout",
          "text": [
            "Saved data to enhancedata/EXC.csv\n",
            "Fetching data for EXPD...\n"
          ]
        },
        {
          "output_type": "stream",
          "name": "stderr",
          "text": [
            "\n"
          ]
        },
        {
          "output_type": "stream",
          "name": "stdout",
          "text": [
            "Saved data to enhancedata/EXPD.csv\n",
            "Fetching data for EXPE...\n"
          ]
        },
        {
          "output_type": "stream",
          "name": "stderr",
          "text": [
            "[*********************100%***********************]  1 of 1 completed\n",
            "[*********************100%***********************]  1 of 1 completed\n"
          ]
        },
        {
          "output_type": "stream",
          "name": "stdout",
          "text": [
            "Saved data to enhancedata/EXPE.csv\n",
            "Fetching data for EXR...\n"
          ]
        },
        {
          "output_type": "stream",
          "name": "stderr",
          "text": [
            "\r[*********************100%***********************]  1 of 1 completed"
          ]
        },
        {
          "output_type": "stream",
          "name": "stdout",
          "text": [
            "Saved data to enhancedata/EXR.csv\n",
            "Fetching data for FAST...\n"
          ]
        },
        {
          "output_type": "stream",
          "name": "stderr",
          "text": [
            "\n"
          ]
        },
        {
          "output_type": "stream",
          "name": "stdout",
          "text": [
            "Saved data to enhancedata/FAST.csv\n",
            "Fetching data for FBHS...\n"
          ]
        },
        {
          "output_type": "stream",
          "name": "stderr",
          "text": [
            "\r[*********************100%***********************]  1 of 1 completed\n",
            "ERROR:yfinance:\n",
            "1 Failed download:\n",
            "ERROR:yfinance:['FBHS']: YFTzMissingError('$%ticker%: possibly delisted; no timezone found')\n"
          ]
        },
        {
          "output_type": "stream",
          "name": "stdout",
          "text": [
            "No data fetched for FBHS, skipping.\n",
            "Fetching data for FB...\n"
          ]
        },
        {
          "output_type": "stream",
          "name": "stderr",
          "text": [
            "\r[*********************100%***********************]  1 of 1 completed\n",
            "ERROR:yfinance:\n",
            "1 Failed download:\n",
            "ERROR:yfinance:['FB']: YFTzMissingError('$%ticker%: possibly delisted; no timezone found')\n",
            "[*********************100%***********************]  1 of 1 completed"
          ]
        },
        {
          "output_type": "stream",
          "name": "stdout",
          "text": [
            "No data fetched for FB, skipping.\n",
            "Fetching data for FCX...\n"
          ]
        },
        {
          "output_type": "stream",
          "name": "stderr",
          "text": [
            "\n"
          ]
        },
        {
          "output_type": "stream",
          "name": "stdout",
          "text": [
            "Saved data to enhancedata/FCX.csv\n",
            "Fetching data for FDX...\n"
          ]
        },
        {
          "output_type": "stream",
          "name": "stderr",
          "text": [
            "[*********************100%***********************]  1 of 1 completed\n",
            "[*********************100%***********************]  1 of 1 completed"
          ]
        },
        {
          "output_type": "stream",
          "name": "stdout",
          "text": [
            "Saved data to enhancedata/FDX.csv\n",
            "Fetching data for FE...\n"
          ]
        },
        {
          "output_type": "stream",
          "name": "stderr",
          "text": [
            "\n",
            "[*********************100%***********************]  1 of 1 completed"
          ]
        },
        {
          "output_type": "stream",
          "name": "stdout",
          "text": [
            "Saved data to enhancedata/FE.csv\n",
            "Fetching data for FFIV...\n"
          ]
        },
        {
          "output_type": "stream",
          "name": "stderr",
          "text": [
            "\n",
            "\r[*********************100%***********************]  1 of 1 completed\n"
          ]
        },
        {
          "output_type": "stream",
          "name": "stdout",
          "text": [
            "Saved data to enhancedata/FFIV.csv\n",
            "Fetching data for FISV...\n",
            "Saved data to enhancedata/FISV.csv\n",
            "Fetching data for FIS...\n"
          ]
        },
        {
          "output_type": "stream",
          "name": "stderr",
          "text": [
            "[*********************100%***********************]  1 of 1 completed\n",
            "[*********************100%***********************]  1 of 1 completed"
          ]
        },
        {
          "output_type": "stream",
          "name": "stdout",
          "text": [
            "Saved data to enhancedata/FIS.csv\n",
            "Fetching data for FITB...\n"
          ]
        },
        {
          "output_type": "stream",
          "name": "stderr",
          "text": [
            "\n"
          ]
        },
        {
          "output_type": "stream",
          "name": "stdout",
          "text": [
            "Saved data to enhancedata/FITB.csv\n",
            "Fetching data for FLIR...\n"
          ]
        },
        {
          "output_type": "stream",
          "name": "stderr",
          "text": [
            "\r[*********************100%***********************]  1 of 1 completed\n",
            "ERROR:yfinance:\n",
            "1 Failed download:\n",
            "ERROR:yfinance:['FLIR']: YFTzMissingError('$%ticker%: possibly delisted; no timezone found')\n",
            "[*********************100%***********************]  1 of 1 completed\n"
          ]
        },
        {
          "output_type": "stream",
          "name": "stdout",
          "text": [
            "No data fetched for FLIR, skipping.\n",
            "Fetching data for FLR...\n"
          ]
        },
        {
          "output_type": "stream",
          "name": "stderr",
          "text": [
            "\r[*********************100%***********************]  1 of 1 completed"
          ]
        },
        {
          "output_type": "stream",
          "name": "stdout",
          "text": [
            "Saved data to enhancedata/FLR.csv\n",
            "Fetching data for FLS...\n"
          ]
        },
        {
          "output_type": "stream",
          "name": "stderr",
          "text": [
            "\n",
            "[*********************100%***********************]  1 of 1 completed"
          ]
        },
        {
          "output_type": "stream",
          "name": "stdout",
          "text": [
            "Saved data to enhancedata/FLS.csv\n",
            "Fetching data for FL...\n"
          ]
        },
        {
          "output_type": "stream",
          "name": "stderr",
          "text": [
            "\n",
            "[*********************100%***********************]  1 of 1 completed"
          ]
        },
        {
          "output_type": "stream",
          "name": "stdout",
          "text": [
            "Saved data to enhancedata/FL.csv\n",
            "Fetching data for FMC...\n"
          ]
        },
        {
          "output_type": "stream",
          "name": "stderr",
          "text": [
            "\n",
            "\r[*********************100%***********************]  1 of 1 completed\n"
          ]
        },
        {
          "output_type": "stream",
          "name": "stdout",
          "text": [
            "Saved data to enhancedata/FMC.csv\n",
            "Fetching data for FOXA...\n",
            "Saved data to enhancedata/FOXA.csv\n",
            "Fetching data for FOX...\n"
          ]
        },
        {
          "output_type": "stream",
          "name": "stderr",
          "text": [
            "[*********************100%***********************]  1 of 1 completed\n",
            "[*********************100%***********************]  1 of 1 completed\n"
          ]
        },
        {
          "output_type": "stream",
          "name": "stdout",
          "text": [
            "Saved data to enhancedata/FOX.csv\n",
            "Fetching data for FRT...\n"
          ]
        },
        {
          "output_type": "stream",
          "name": "stderr",
          "text": [
            "\r[*********************100%***********************]  1 of 1 completed"
          ]
        },
        {
          "output_type": "stream",
          "name": "stdout",
          "text": [
            "Saved data to enhancedata/FRT.csv\n",
            "Fetching data for FTI...\n"
          ]
        },
        {
          "output_type": "stream",
          "name": "stderr",
          "text": [
            "\n",
            "[*********************100%***********************]  1 of 1 completed"
          ]
        },
        {
          "output_type": "stream",
          "name": "stdout",
          "text": [
            "Saved data to enhancedata/FTI.csv\n",
            "Fetching data for FTV...\n"
          ]
        },
        {
          "output_type": "stream",
          "name": "stderr",
          "text": [
            "\n"
          ]
        },
        {
          "output_type": "stream",
          "name": "stdout",
          "text": [
            "Saved data to enhancedata/FTV.csv\n",
            "Fetching data for F...\n"
          ]
        },
        {
          "output_type": "stream",
          "name": "stderr",
          "text": [
            "\r[*********************100%***********************]  1 of 1 completed\n"
          ]
        },
        {
          "output_type": "stream",
          "name": "stdout",
          "text": [
            "Saved data to enhancedata/F.csv\n",
            "Fetching data for GD...\n"
          ]
        },
        {
          "output_type": "stream",
          "name": "stderr",
          "text": [
            "\r[*********************100%***********************]  1 of 1 completed\n"
          ]
        },
        {
          "output_type": "stream",
          "name": "stdout",
          "text": [
            "Saved data to enhancedata/GD.csv\n",
            "Fetching data for GE...\n"
          ]
        },
        {
          "output_type": "stream",
          "name": "stderr",
          "text": [
            "[*********************100%***********************]  1 of 1 completed\n",
            "[*********************100%***********************]  1 of 1 completed\n",
            "ERROR:yfinance:\n",
            "1 Failed download:\n",
            "ERROR:yfinance:['GGP']: YFPricesMissingError('$%ticker%: possibly delisted; no price data found  (1d 2010-01-01 -> 2024-12-06)')\n"
          ]
        },
        {
          "output_type": "stream",
          "name": "stdout",
          "text": [
            "Saved data to enhancedata/GE.csv\n",
            "Fetching data for GGP...\n",
            "No data fetched for GGP, skipping.\n",
            "Fetching data for GILD...\n"
          ]
        },
        {
          "output_type": "stream",
          "name": "stderr",
          "text": [
            "[*********************100%***********************]  1 of 1 completed\n",
            "[*********************100%***********************]  1 of 1 completed"
          ]
        },
        {
          "output_type": "stream",
          "name": "stdout",
          "text": [
            "Saved data to enhancedata/GILD.csv\n",
            "Fetching data for GIS...\n"
          ]
        },
        {
          "output_type": "stream",
          "name": "stderr",
          "text": [
            "\n",
            "[*********************100%***********************]  1 of 1 completed"
          ]
        },
        {
          "output_type": "stream",
          "name": "stdout",
          "text": [
            "Saved data to enhancedata/GIS.csv\n",
            "Fetching data for GLW...\n"
          ]
        },
        {
          "output_type": "stream",
          "name": "stderr",
          "text": [
            "\n"
          ]
        },
        {
          "output_type": "stream",
          "name": "stdout",
          "text": [
            "Saved data to enhancedata/GLW.csv\n",
            "Fetching data for GM...\n"
          ]
        },
        {
          "output_type": "stream",
          "name": "stderr",
          "text": [
            "[*********************100%***********************]  1 of 1 completed\n",
            "[*********************100%***********************]  1 of 1 completed"
          ]
        },
        {
          "output_type": "stream",
          "name": "stdout",
          "text": [
            "Saved data to enhancedata/GM.csv\n",
            "Fetching data for GOOGL...\n"
          ]
        },
        {
          "output_type": "stream",
          "name": "stderr",
          "text": [
            "\n"
          ]
        },
        {
          "output_type": "stream",
          "name": "stdout",
          "text": [
            "Saved data to enhancedata/GOOGL.csv\n",
            "Fetching data for GOOG...\n"
          ]
        },
        {
          "output_type": "stream",
          "name": "stderr",
          "text": [
            "[*********************100%***********************]  1 of 1 completed\n",
            "[*********************100%***********************]  1 of 1 completed"
          ]
        },
        {
          "output_type": "stream",
          "name": "stdout",
          "text": [
            "Saved data to enhancedata/GOOG.csv\n",
            "Fetching data for GPC...\n"
          ]
        },
        {
          "output_type": "stream",
          "name": "stderr",
          "text": [
            "\n",
            "[*********************100%***********************]  1 of 1 completed"
          ]
        },
        {
          "output_type": "stream",
          "name": "stdout",
          "text": [
            "Saved data to enhancedata/GPC.csv\n",
            "Fetching data for GPN...\n"
          ]
        },
        {
          "output_type": "stream",
          "name": "stderr",
          "text": [
            "\n"
          ]
        },
        {
          "output_type": "stream",
          "name": "stdout",
          "text": [
            "Saved data to enhancedata/GPN.csv\n",
            "Fetching data for GPS...\n"
          ]
        },
        {
          "output_type": "stream",
          "name": "stderr",
          "text": [
            "\r[*********************100%***********************]  1 of 1 completed\n",
            "ERROR:yfinance:\n",
            "1 Failed download:\n",
            "ERROR:yfinance:['GPS']: YFTzMissingError('$%ticker%: possibly delisted; no timezone found')\n"
          ]
        },
        {
          "output_type": "stream",
          "name": "stdout",
          "text": [
            "No data fetched for GPS, skipping.\n",
            "Fetching data for GRMN...\n"
          ]
        },
        {
          "output_type": "stream",
          "name": "stderr",
          "text": [
            "\r[*********************100%***********************]  1 of 1 completed\n"
          ]
        },
        {
          "output_type": "stream",
          "name": "stdout",
          "text": [
            "Saved data to enhancedata/GRMN.csv\n",
            "Fetching data for GS...\n"
          ]
        },
        {
          "output_type": "stream",
          "name": "stderr",
          "text": [
            "\r[*********************100%***********************]  1 of 1 completed\n"
          ]
        },
        {
          "output_type": "stream",
          "name": "stdout",
          "text": [
            "Saved data to enhancedata/GS.csv\n",
            "Fetching data for GT...\n"
          ]
        },
        {
          "output_type": "stream",
          "name": "stderr",
          "text": [
            "\r[*********************100%***********************]  1 of 1 completed\n"
          ]
        },
        {
          "output_type": "stream",
          "name": "stdout",
          "text": [
            "Saved data to enhancedata/GT.csv\n",
            "Fetching data for GWW...\n"
          ]
        },
        {
          "output_type": "stream",
          "name": "stderr",
          "text": [
            "\r[*********************100%***********************]  1 of 1 completed\n"
          ]
        },
        {
          "output_type": "stream",
          "name": "stdout",
          "text": [
            "Saved data to enhancedata/GWW.csv\n",
            "Fetching data for HAL...\n"
          ]
        },
        {
          "output_type": "stream",
          "name": "stderr",
          "text": [
            "\r[*********************100%***********************]  1 of 1 completed\n"
          ]
        },
        {
          "output_type": "stream",
          "name": "stdout",
          "text": [
            "Saved data to enhancedata/HAL.csv\n",
            "Fetching data for HAS...\n"
          ]
        },
        {
          "output_type": "stream",
          "name": "stderr",
          "text": [
            "\r[*********************100%***********************]  1 of 1 completed\n"
          ]
        },
        {
          "output_type": "stream",
          "name": "stdout",
          "text": [
            "Saved data to enhancedata/HAS.csv\n",
            "Fetching data for HBAN...\n"
          ]
        },
        {
          "output_type": "stream",
          "name": "stderr",
          "text": [
            "\r[*********************100%***********************]  1 of 1 completed\n"
          ]
        },
        {
          "output_type": "stream",
          "name": "stdout",
          "text": [
            "Saved data to enhancedata/HBAN.csv\n",
            "Fetching data for HBI...\n"
          ]
        },
        {
          "output_type": "stream",
          "name": "stderr",
          "text": [
            "\r[*********************100%***********************]  1 of 1 completed\n"
          ]
        },
        {
          "output_type": "stream",
          "name": "stdout",
          "text": [
            "Saved data to enhancedata/HBI.csv\n",
            "Fetching data for HCA...\n"
          ]
        },
        {
          "output_type": "stream",
          "name": "stderr",
          "text": [
            "[*********************100%***********************]  1 of 1 completed\n",
            "[*********************100%***********************]  1 of 1 completed\n",
            "ERROR:yfinance:\n",
            "1 Failed download:\n",
            "ERROR:yfinance:['HCN']: YFPricesMissingError('$%ticker%: possibly delisted; no price data found  (1d 2010-01-01 -> 2024-12-06)')\n",
            "[*********************100%***********************]  1 of 1 completed"
          ]
        },
        {
          "output_type": "stream",
          "name": "stdout",
          "text": [
            "Saved data to enhancedata/HCA.csv\n",
            "Fetching data for HCN...\n",
            "No data fetched for HCN, skipping.\n",
            "Fetching data for HCP...\n",
            "Saved data to enhancedata/HCP.csv\n",
            "Fetching data for HD...\n"
          ]
        },
        {
          "output_type": "stream",
          "name": "stderr",
          "text": [
            "\n",
            "[*********************100%***********************]  1 of 1 completed\n",
            "[*********************100%***********************]  1 of 1 completed"
          ]
        },
        {
          "output_type": "stream",
          "name": "stdout",
          "text": [
            "Saved data to enhancedata/HD.csv\n",
            "Fetching data for HES...\n"
          ]
        },
        {
          "output_type": "stream",
          "name": "stderr",
          "text": [
            "\n",
            "[*********************100%***********************]  1 of 1 completed"
          ]
        },
        {
          "output_type": "stream",
          "name": "stdout",
          "text": [
            "Saved data to enhancedata/HES.csv\n",
            "Fetching data for HIG...\n"
          ]
        },
        {
          "output_type": "stream",
          "name": "stderr",
          "text": [
            "\n",
            "[*********************100%***********************]  1 of 1 completed"
          ]
        },
        {
          "output_type": "stream",
          "name": "stdout",
          "text": [
            "Saved data to enhancedata/HIG.csv\n",
            "Fetching data for HII...\n"
          ]
        },
        {
          "output_type": "stream",
          "name": "stderr",
          "text": [
            "\n",
            "[*********************100%***********************]  1 of 1 completed"
          ]
        },
        {
          "output_type": "stream",
          "name": "stdout",
          "text": [
            "Saved data to enhancedata/HII.csv\n",
            "Fetching data for HLT...\n"
          ]
        },
        {
          "output_type": "stream",
          "name": "stderr",
          "text": [
            "\n",
            "[*********************100%***********************]  1 of 1 completed"
          ]
        },
        {
          "output_type": "stream",
          "name": "stdout",
          "text": [
            "Saved data to enhancedata/HLT.csv\n",
            "Fetching data for HOG...\n"
          ]
        },
        {
          "output_type": "stream",
          "name": "stderr",
          "text": [
            "\n",
            "[*********************100%***********************]  1 of 1 completed"
          ]
        },
        {
          "output_type": "stream",
          "name": "stdout",
          "text": [
            "Saved data to enhancedata/HOG.csv\n",
            "Fetching data for HOLX...\n"
          ]
        },
        {
          "output_type": "stream",
          "name": "stderr",
          "text": [
            "\n"
          ]
        },
        {
          "output_type": "stream",
          "name": "stdout",
          "text": [
            "Saved data to enhancedata/HOLX.csv\n",
            "Fetching data for HON...\n"
          ]
        },
        {
          "output_type": "stream",
          "name": "stderr",
          "text": [
            "[*********************100%***********************]  1 of 1 completed\n",
            "[*********************100%***********************]  1 of 1 completed\n"
          ]
        },
        {
          "output_type": "stream",
          "name": "stdout",
          "text": [
            "Saved data to enhancedata/HON.csv\n",
            "Fetching data for HPE...\n",
            "Saved data to enhancedata/HPE.csv\n",
            "Fetching data for HPQ...\n"
          ]
        },
        {
          "output_type": "stream",
          "name": "stderr",
          "text": [
            "[*********************100%***********************]  1 of 1 completed\n",
            "[*********************100%***********************]  1 of 1 completed"
          ]
        },
        {
          "output_type": "stream",
          "name": "stdout",
          "text": [
            "Saved data to enhancedata/HPQ.csv\n",
            "Fetching data for HP...\n"
          ]
        },
        {
          "output_type": "stream",
          "name": "stderr",
          "text": [
            "\n",
            "[*********************100%***********************]  1 of 1 completed"
          ]
        },
        {
          "output_type": "stream",
          "name": "stdout",
          "text": [
            "Saved data to enhancedata/HP.csv\n",
            "Fetching data for HRB...\n"
          ]
        },
        {
          "output_type": "stream",
          "name": "stderr",
          "text": [
            "\n",
            "[*********************100%***********************]  1 of 1 completed"
          ]
        },
        {
          "output_type": "stream",
          "name": "stdout",
          "text": [
            "Saved data to enhancedata/HRB.csv\n",
            "Fetching data for HRL...\n"
          ]
        },
        {
          "output_type": "stream",
          "name": "stderr",
          "text": [
            "\n"
          ]
        },
        {
          "output_type": "stream",
          "name": "stdout",
          "text": [
            "Saved data to enhancedata/HRL.csv\n",
            "Fetching data for HRS...\n"
          ]
        },
        {
          "output_type": "stream",
          "name": "stderr",
          "text": [
            "\r[*********************100%***********************]  1 of 1 completed\n",
            "ERROR:yfinance:\n",
            "1 Failed download:\n",
            "ERROR:yfinance:['HRS']: YFTzMissingError('$%ticker%: possibly delisted; no timezone found')\n",
            "[*********************100%***********************]  1 of 1 completed\n"
          ]
        },
        {
          "output_type": "stream",
          "name": "stdout",
          "text": [
            "No data fetched for HRS, skipping.\n",
            "Fetching data for HSIC...\n",
            "Saved data to enhancedata/HSIC.csv"
          ]
        },
        {
          "output_type": "stream",
          "name": "stderr",
          "text": [
            "\r[*********************100%***********************]  1 of 1 completed"
          ]
        },
        {
          "output_type": "stream",
          "name": "stdout",
          "text": [
            "\n",
            "Fetching data for HST...\n"
          ]
        },
        {
          "output_type": "stream",
          "name": "stderr",
          "text": [
            "\n",
            "[*********************100%***********************]  1 of 1 completed"
          ]
        },
        {
          "output_type": "stream",
          "name": "stdout",
          "text": [
            "Saved data to enhancedata/HST.csv\n",
            "Fetching data for HSY...\n"
          ]
        },
        {
          "output_type": "stream",
          "name": "stderr",
          "text": [
            "\n"
          ]
        },
        {
          "output_type": "stream",
          "name": "stdout",
          "text": [
            "Saved data to enhancedata/HSY.csv\n",
            "Fetching data for HUM...\n"
          ]
        },
        {
          "output_type": "stream",
          "name": "stderr",
          "text": [
            "\r[*********************100%***********************]  1 of 1 completed\n"
          ]
        },
        {
          "output_type": "stream",
          "name": "stdout",
          "text": [
            "Saved data to enhancedata/HUM.csv\n",
            "Fetching data for IBM...\n"
          ]
        },
        {
          "output_type": "stream",
          "name": "stderr",
          "text": [
            "[*********************100%***********************]  1 of 1 completed\n",
            "[*********************100%***********************]  1 of 1 completed"
          ]
        },
        {
          "output_type": "stream",
          "name": "stdout",
          "text": [
            "Saved data to enhancedata/IBM.csv\n",
            "Fetching data for ICE...\n"
          ]
        },
        {
          "output_type": "stream",
          "name": "stderr",
          "text": [
            "\n",
            "\r[*********************100%***********************]  1 of 1 completed\n"
          ]
        },
        {
          "output_type": "stream",
          "name": "stdout",
          "text": [
            "Saved data to enhancedata/ICE.csv\n",
            "Fetching data for IDXX...\n",
            "Saved data to enhancedata/IDXX.csv\n",
            "Fetching data for IFF...\n"
          ]
        },
        {
          "output_type": "stream",
          "name": "stderr",
          "text": [
            "[*********************100%***********************]  1 of 1 completed\n",
            "[*********************100%***********************]  1 of 1 completed\n"
          ]
        },
        {
          "output_type": "stream",
          "name": "stdout",
          "text": [
            "Saved data to enhancedata/IFF.csv\n",
            "Fetching data for ILMN...\n"
          ]
        },
        {
          "output_type": "stream",
          "name": "stderr",
          "text": [
            "\r[*********************100%***********************]  1 of 1 completed\n"
          ]
        },
        {
          "output_type": "stream",
          "name": "stdout",
          "text": [
            "Saved data to enhancedata/ILMN.csv\n",
            "Fetching data for INCY...\n",
            "Saved data to enhancedata/INCY.csv\n",
            "Fetching data for INFO...\n"
          ]
        },
        {
          "output_type": "stream",
          "name": "stderr",
          "text": [
            "[*********************100%***********************]  1 of 1 completed\n",
            "[*********************100%***********************]  1 of 1 completed\n"
          ]
        },
        {
          "output_type": "stream",
          "name": "stdout",
          "text": [
            "Saved data to enhancedata/INFO.csv\n",
            "Fetching data for INTC...\n",
            "Saved data to enhancedata/INTC.csv\n",
            "Fetching data for INTU...\n"
          ]
        },
        {
          "output_type": "stream",
          "name": "stderr",
          "text": [
            "[*********************100%***********************]  1 of 1 completed\n",
            "[*********************100%***********************]  1 of 1 completed"
          ]
        },
        {
          "output_type": "stream",
          "name": "stdout",
          "text": [
            "Saved data to enhancedata/INTU.csv\n",
            "Fetching data for IPG...\n"
          ]
        },
        {
          "output_type": "stream",
          "name": "stderr",
          "text": [
            "\n"
          ]
        },
        {
          "output_type": "stream",
          "name": "stdout",
          "text": [
            "Saved data to enhancedata/IPG.csv\n",
            "Fetching data for IP...\n"
          ]
        },
        {
          "output_type": "stream",
          "name": "stderr",
          "text": [
            "[*********************100%***********************]  1 of 1 completed\n",
            "[*********************100%***********************]  1 of 1 completed\n"
          ]
        },
        {
          "output_type": "stream",
          "name": "stdout",
          "text": [
            "Saved data to enhancedata/IP.csv\n",
            "Fetching data for IQV...\n",
            "Saved data to enhancedata/IQV.csv\n",
            "Fetching data for IRM...\n"
          ]
        },
        {
          "output_type": "stream",
          "name": "stderr",
          "text": [
            "[*********************100%***********************]  1 of 1 completed\n",
            "[*********************100%***********************]  1 of 1 completed\n"
          ]
        },
        {
          "output_type": "stream",
          "name": "stdout",
          "text": [
            "Saved data to enhancedata/IRM.csv\n",
            "Fetching data for IR...\n",
            "Saved data to enhancedata/IR.csv\n",
            "Fetching data for ISRG...\n"
          ]
        },
        {
          "output_type": "stream",
          "name": "stderr",
          "text": [
            "[*********************100%***********************]  1 of 1 completed\n",
            "[*********************100%***********************]  1 of 1 completed"
          ]
        },
        {
          "output_type": "stream",
          "name": "stdout",
          "text": [
            "Saved data to enhancedata/ISRG.csv\n",
            "Fetching data for ITW...\n"
          ]
        },
        {
          "output_type": "stream",
          "name": "stderr",
          "text": [
            "\n",
            "\r[*********************100%***********************]  1 of 1 completed\n"
          ]
        },
        {
          "output_type": "stream",
          "name": "stdout",
          "text": [
            "Saved data to enhancedata/ITW.csv\n",
            "Fetching data for IT...\n",
            "Saved data to enhancedata/IT.csv\n",
            "Fetching data for IVZ...\n"
          ]
        },
        {
          "output_type": "stream",
          "name": "stderr",
          "text": [
            "[*********************100%***********************]  1 of 1 completed\n",
            "[*********************100%***********************]  1 of 1 completed"
          ]
        },
        {
          "output_type": "stream",
          "name": "stdout",
          "text": [
            "Saved data to enhancedata/IVZ.csv\n",
            "Fetching data for JBHT...\n"
          ]
        },
        {
          "output_type": "stream",
          "name": "stderr",
          "text": [
            "\n",
            "[*********************100%***********************]  1 of 1 completed"
          ]
        },
        {
          "output_type": "stream",
          "name": "stdout",
          "text": [
            "Saved data to enhancedata/JBHT.csv\n",
            "Fetching data for JCI...\n"
          ]
        },
        {
          "output_type": "stream",
          "name": "stderr",
          "text": [
            "\n"
          ]
        },
        {
          "output_type": "stream",
          "name": "stdout",
          "text": [
            "Saved data to enhancedata/JCI.csv\n",
            "Fetching data for JEC...\n"
          ]
        },
        {
          "output_type": "stream",
          "name": "stderr",
          "text": [
            "\r[*********************100%***********************]  1 of 1 completed\n",
            "ERROR:yfinance:\n",
            "1 Failed download:\n",
            "ERROR:yfinance:['JEC']: YFTzMissingError('$%ticker%: possibly delisted; no timezone found')\n"
          ]
        },
        {
          "output_type": "stream",
          "name": "stdout",
          "text": [
            "No data fetched for JEC, skipping.\n",
            "Fetching data for JNJ...\n"
          ]
        },
        {
          "output_type": "stream",
          "name": "stderr",
          "text": [
            "[*********************100%***********************]  1 of 1 completed\n",
            "[*********************100%***********************]  1 of 1 completed"
          ]
        },
        {
          "output_type": "stream",
          "name": "stdout",
          "text": [
            "Saved data to enhancedata/JNJ.csv\n",
            "Fetching data for JNPR...\n"
          ]
        },
        {
          "output_type": "stream",
          "name": "stderr",
          "text": [
            "\n"
          ]
        },
        {
          "output_type": "stream",
          "name": "stdout",
          "text": [
            "Saved data to enhancedata/JNPR.csv\n",
            "Fetching data for JPM...\n"
          ]
        },
        {
          "output_type": "stream",
          "name": "stderr",
          "text": [
            "\r[*********************100%***********************]  1 of 1 completed\n"
          ]
        },
        {
          "output_type": "stream",
          "name": "stdout",
          "text": [
            "Saved data to enhancedata/JPM.csv\n",
            "Fetching data for JWN...\n"
          ]
        },
        {
          "output_type": "stream",
          "name": "stderr",
          "text": [
            "\r[*********************100%***********************]  1 of 1 completed\n"
          ]
        },
        {
          "output_type": "stream",
          "name": "stdout",
          "text": [
            "Saved data to enhancedata/JWN.csv\n",
            "Fetching data for KEY...\n"
          ]
        },
        {
          "output_type": "stream",
          "name": "stderr",
          "text": [
            "[*********************100%***********************]  1 of 1 completed\n",
            "[*********************100%***********************]  1 of 1 completed"
          ]
        },
        {
          "output_type": "stream",
          "name": "stdout",
          "text": [
            "Saved data to enhancedata/KEY.csv\n",
            "Fetching data for KHC...\n"
          ]
        },
        {
          "output_type": "stream",
          "name": "stderr",
          "text": [
            "\n"
          ]
        },
        {
          "output_type": "stream",
          "name": "stdout",
          "text": [
            "Saved data to enhancedata/KHC.csv\n",
            "Fetching data for KIM...\n"
          ]
        },
        {
          "output_type": "stream",
          "name": "stderr",
          "text": [
            "[*********************100%***********************]  1 of 1 completed\n",
            "[*********************100%***********************]  1 of 1 completed"
          ]
        },
        {
          "output_type": "stream",
          "name": "stdout",
          "text": [
            "Saved data to enhancedata/KIM.csv\n",
            "Fetching data for KLAC...\n"
          ]
        },
        {
          "output_type": "stream",
          "name": "stderr",
          "text": [
            "\n"
          ]
        },
        {
          "output_type": "stream",
          "name": "stdout",
          "text": [
            "Saved data to enhancedata/KLAC.csv\n",
            "Fetching data for KMB...\n"
          ]
        },
        {
          "output_type": "stream",
          "name": "stderr",
          "text": [
            "\r[*********************100%***********************]  1 of 1 completed\n"
          ]
        },
        {
          "output_type": "stream",
          "name": "stdout",
          "text": [
            "Saved data to enhancedata/KMB.csv\n",
            "Fetching data for KMI...\n"
          ]
        },
        {
          "output_type": "stream",
          "name": "stderr",
          "text": [
            "[*********************100%***********************]  1 of 1 completed\n",
            "[*********************100%***********************]  1 of 1 completed"
          ]
        },
        {
          "output_type": "stream",
          "name": "stdout",
          "text": [
            "Saved data to enhancedata/KMI.csv\n",
            "Fetching data for KMX...\n"
          ]
        },
        {
          "output_type": "stream",
          "name": "stderr",
          "text": [
            "\n",
            "\r[*********************100%***********************]  1 of 1 completed\n",
            "ERROR:yfinance:\n",
            "1 Failed download:\n",
            "ERROR:yfinance:['KORS']: YFPricesMissingError('$%ticker%: possibly delisted; no price data found  (1d 2010-01-01 -> 2024-12-06)')\n"
          ]
        },
        {
          "output_type": "stream",
          "name": "stdout",
          "text": [
            "Saved data to enhancedata/KMX.csv\n",
            "Fetching data for KORS...\n",
            "No data fetched for KORS, skipping.\n",
            "Fetching data for KO...\n"
          ]
        },
        {
          "output_type": "stream",
          "name": "stderr",
          "text": [
            "\r[*********************100%***********************]  1 of 1 completed\n"
          ]
        },
        {
          "output_type": "stream",
          "name": "stdout",
          "text": [
            "Saved data to enhancedata/KO.csv\n",
            "Fetching data for KR...\n"
          ]
        },
        {
          "output_type": "stream",
          "name": "stderr",
          "text": [
            "\r[*********************100%***********************]  1 of 1 completed\n"
          ]
        },
        {
          "output_type": "stream",
          "name": "stdout",
          "text": [
            "Saved data to enhancedata/KR.csv\n",
            "Fetching data for KSS...\n"
          ]
        },
        {
          "output_type": "stream",
          "name": "stderr",
          "text": [
            "\r[*********************100%***********************]  1 of 1 completed\n"
          ]
        },
        {
          "output_type": "stream",
          "name": "stdout",
          "text": [
            "Saved data to enhancedata/KSS.csv\n",
            "Fetching data for KSU...\n"
          ]
        },
        {
          "output_type": "stream",
          "name": "stderr",
          "text": [
            "\r[*********************100%***********************]  1 of 1 completed\n",
            "ERROR:yfinance:\n",
            "1 Failed download:\n",
            "ERROR:yfinance:['KSU']: YFTzMissingError('$%ticker%: possibly delisted; no timezone found')\n",
            "[*********************100%***********************]  1 of 1 completed\n"
          ]
        },
        {
          "output_type": "stream",
          "name": "stdout",
          "text": [
            "No data fetched for KSU, skipping.\n",
            "Fetching data for K...\n"
          ]
        },
        {
          "output_type": "stream",
          "name": "stderr",
          "text": [
            "\r[*********************100%***********************]  1 of 1 completed\n"
          ]
        },
        {
          "output_type": "stream",
          "name": "stdout",
          "text": [
            "Saved data to enhancedata/K.csv\n",
            "Fetching data for LB...\n",
            "Saved data to enhancedata/LB.csv\n",
            "Fetching data for LEG...\n"
          ]
        },
        {
          "output_type": "stream",
          "name": "stderr",
          "text": [
            "\r[*********************100%***********************]  1 of 1 completed\n"
          ]
        },
        {
          "output_type": "stream",
          "name": "stdout",
          "text": [
            "Saved data to enhancedata/LEG.csv\n",
            "Fetching data for LEN...\n"
          ]
        },
        {
          "output_type": "stream",
          "name": "stderr",
          "text": [
            "[*********************100%***********************]  1 of 1 completed\n",
            "[*********************100%***********************]  1 of 1 completed"
          ]
        },
        {
          "output_type": "stream",
          "name": "stdout",
          "text": [
            "Saved data to enhancedata/LEN.csv\n",
            "Fetching data for LH...\n"
          ]
        },
        {
          "output_type": "stream",
          "name": "stderr",
          "text": [
            "\n",
            "[*********************100%***********************]  1 of 1 completed"
          ]
        },
        {
          "output_type": "stream",
          "name": "stdout",
          "text": [
            "Saved data to enhancedata/LH.csv\n",
            "Fetching data for LKQ...\n"
          ]
        },
        {
          "output_type": "stream",
          "name": "stderr",
          "text": [
            "\n"
          ]
        },
        {
          "output_type": "stream",
          "name": "stdout",
          "text": [
            "Saved data to enhancedata/LKQ.csv\n",
            "Fetching data for LLL...\n"
          ]
        },
        {
          "output_type": "stream",
          "name": "stderr",
          "text": [
            "\r[*********************100%***********************]  1 of 1 completed\n",
            "ERROR:yfinance:\n",
            "1 Failed download:\n",
            "ERROR:yfinance:['LLL']: YFTzMissingError('$%ticker%: possibly delisted; no timezone found')\n"
          ]
        },
        {
          "output_type": "stream",
          "name": "stdout",
          "text": [
            "No data fetched for LLL, skipping.\n",
            "Fetching data for LLY...\n"
          ]
        },
        {
          "output_type": "stream",
          "name": "stderr",
          "text": [
            "[*********************100%***********************]  1 of 1 completed\n",
            "[*********************100%***********************]  1 of 1 completed"
          ]
        },
        {
          "output_type": "stream",
          "name": "stdout",
          "text": [
            "Saved data to enhancedata/LLY.csv\n",
            "Fetching data for LMT...\n"
          ]
        },
        {
          "output_type": "stream",
          "name": "stderr",
          "text": [
            "\n",
            "[*********************100%***********************]  1 of 1 completed"
          ]
        },
        {
          "output_type": "stream",
          "name": "stdout",
          "text": [
            "Saved data to enhancedata/LMT.csv\n",
            "Fetching data for LNC...\n"
          ]
        },
        {
          "output_type": "stream",
          "name": "stderr",
          "text": [
            "\n"
          ]
        },
        {
          "output_type": "stream",
          "name": "stdout",
          "text": [
            "Saved data to enhancedata/LNC.csv\n",
            "Fetching data for LNT...\n"
          ]
        },
        {
          "output_type": "stream",
          "name": "stderr",
          "text": [
            "[*********************100%***********************]  1 of 1 completed\n",
            "[*********************100%***********************]  1 of 1 completed"
          ]
        },
        {
          "output_type": "stream",
          "name": "stdout",
          "text": [
            "Saved data to enhancedata/LNT.csv\n",
            "Fetching data for LOW...\n"
          ]
        },
        {
          "output_type": "stream",
          "name": "stderr",
          "text": [
            "\n"
          ]
        },
        {
          "output_type": "stream",
          "name": "stdout",
          "text": [
            "Saved data to enhancedata/LOW.csv\n",
            "Fetching data for LRCX...\n"
          ]
        },
        {
          "output_type": "stream",
          "name": "stderr",
          "text": [
            "[*********************100%***********************]  1 of 1 completed\n",
            "[*********************100%***********************]  1 of 1 completed\n",
            "ERROR:yfinance:\n",
            "1 Failed download:\n",
            "ERROR:yfinance:['LUK']: YFPricesMissingError('$%ticker%: possibly delisted; no price data found  (1d 2010-01-01 -> 2024-12-06)')\n"
          ]
        },
        {
          "output_type": "stream",
          "name": "stdout",
          "text": [
            "Saved data to enhancedata/LRCX.csv\n",
            "Fetching data for LUK...\n",
            "No data fetched for LUK, skipping.\n",
            "Fetching data for LUV...\n"
          ]
        },
        {
          "output_type": "stream",
          "name": "stderr",
          "text": [
            "[*********************100%***********************]  1 of 1 completed\n",
            "[*********************100%***********************]  1 of 1 completed"
          ]
        },
        {
          "output_type": "stream",
          "name": "stdout",
          "text": [
            "Saved data to enhancedata/LUV.csv\n",
            "Fetching data for LYB...\n"
          ]
        },
        {
          "output_type": "stream",
          "name": "stderr",
          "text": [
            "\n"
          ]
        },
        {
          "output_type": "stream",
          "name": "stdout",
          "text": [
            "Saved data to enhancedata/LYB.csv\n",
            "Fetching data for L...\n"
          ]
        },
        {
          "output_type": "stream",
          "name": "stderr",
          "text": [
            "[*********************100%***********************]  1 of 1 completed\n",
            "[*********************100%***********************]  1 of 1 completed"
          ]
        },
        {
          "output_type": "stream",
          "name": "stdout",
          "text": [
            "Saved data to enhancedata/L.csv\n",
            "Fetching data for MAA...\n"
          ]
        },
        {
          "output_type": "stream",
          "name": "stderr",
          "text": [
            "\n",
            "[*********************100%***********************]  1 of 1 completed"
          ]
        },
        {
          "output_type": "stream",
          "name": "stdout",
          "text": [
            "Saved data to enhancedata/MAA.csv\n",
            "Fetching data for MAC...\n"
          ]
        },
        {
          "output_type": "stream",
          "name": "stderr",
          "text": [
            "\n"
          ]
        },
        {
          "output_type": "stream",
          "name": "stdout",
          "text": [
            "Saved data to enhancedata/MAC.csv\n",
            "Fetching data for MAR...\n"
          ]
        },
        {
          "output_type": "stream",
          "name": "stderr",
          "text": [
            "\r[*********************100%***********************]  1 of 1 completed\n"
          ]
        },
        {
          "output_type": "stream",
          "name": "stdout",
          "text": [
            "Saved data to enhancedata/MAR.csv\n",
            "Fetching data for MAS...\n"
          ]
        },
        {
          "output_type": "stream",
          "name": "stderr",
          "text": [
            "[*********************100%***********************]  1 of 1 completed\n",
            "[*********************100%***********************]  1 of 1 completed"
          ]
        },
        {
          "output_type": "stream",
          "name": "stdout",
          "text": [
            "Saved data to enhancedata/MAS.csv\n",
            "Fetching data for MAT...\n"
          ]
        },
        {
          "output_type": "stream",
          "name": "stderr",
          "text": [
            "\n",
            "[*********************100%***********************]  1 of 1 completed"
          ]
        },
        {
          "output_type": "stream",
          "name": "stdout",
          "text": [
            "Saved data to enhancedata/MAT.csv\n",
            "Fetching data for MA...\n"
          ]
        },
        {
          "output_type": "stream",
          "name": "stderr",
          "text": [
            "\n"
          ]
        },
        {
          "output_type": "stream",
          "name": "stdout",
          "text": [
            "Saved data to enhancedata/MA.csv\n",
            "Fetching data for MCD...\n"
          ]
        },
        {
          "output_type": "stream",
          "name": "stderr",
          "text": [
            "\r[*********************100%***********************]  1 of 1 completed\n"
          ]
        },
        {
          "output_type": "stream",
          "name": "stdout",
          "text": [
            "Saved data to enhancedata/MCD.csv\n",
            "Fetching data for MCHP...\n"
          ]
        },
        {
          "output_type": "stream",
          "name": "stderr",
          "text": [
            "[*********************100%***********************]  1 of 1 completed\n",
            "[*********************100%***********************]  1 of 1 completed"
          ]
        },
        {
          "output_type": "stream",
          "name": "stdout",
          "text": [
            "Saved data to enhancedata/MCHP.csv\n",
            "Fetching data for MCK...\n"
          ]
        },
        {
          "output_type": "stream",
          "name": "stderr",
          "text": [
            "\n",
            "[*********************100%***********************]  1 of 1 completed"
          ]
        },
        {
          "output_type": "stream",
          "name": "stdout",
          "text": [
            "Saved data to enhancedata/MCK.csv\n",
            "Fetching data for MCO...\n"
          ]
        },
        {
          "output_type": "stream",
          "name": "stderr",
          "text": [
            "\n",
            "[*********************100%***********************]  1 of 1 completed"
          ]
        },
        {
          "output_type": "stream",
          "name": "stdout",
          "text": [
            "Saved data to enhancedata/MCO.csv\n",
            "Fetching data for MDLZ...\n"
          ]
        },
        {
          "output_type": "stream",
          "name": "stderr",
          "text": [
            "\n",
            "[*********************100%***********************]  1 of 1 completed"
          ]
        },
        {
          "output_type": "stream",
          "name": "stdout",
          "text": [
            "Saved data to enhancedata/MDLZ.csv\n",
            "Fetching data for MDT...\n"
          ]
        },
        {
          "output_type": "stream",
          "name": "stderr",
          "text": [
            "\n"
          ]
        },
        {
          "output_type": "stream",
          "name": "stdout",
          "text": [
            "Saved data to enhancedata/MDT.csv\n",
            "Fetching data for MET...\n"
          ]
        },
        {
          "output_type": "stream",
          "name": "stderr",
          "text": [
            "[*********************100%***********************]  1 of 1 completed\n",
            "[*********************100%***********************]  1 of 1 completed"
          ]
        },
        {
          "output_type": "stream",
          "name": "stdout",
          "text": [
            "Saved data to enhancedata/MET.csv\n",
            "Fetching data for MGM...\n"
          ]
        },
        {
          "output_type": "stream",
          "name": "stderr",
          "text": [
            "\n",
            "[*********************100%***********************]  1 of 1 completed"
          ]
        },
        {
          "output_type": "stream",
          "name": "stdout",
          "text": [
            "Saved data to enhancedata/MGM.csv\n",
            "Fetching data for MHK...\n",
            "Saved data to enhancedata/MHK.csv\n",
            "Fetching data for MKC...\n"
          ]
        },
        {
          "output_type": "stream",
          "name": "stderr",
          "text": [
            "\n",
            "[*********************100%***********************]  1 of 1 completed\n",
            "[*********************100%***********************]  1 of 1 completed"
          ]
        },
        {
          "output_type": "stream",
          "name": "stdout",
          "text": [
            "Saved data to enhancedata/MKC.csv\n",
            "Fetching data for MLM...\n"
          ]
        },
        {
          "output_type": "stream",
          "name": "stderr",
          "text": [
            "\n",
            "[*********************100%***********************]  1 of 1 completed"
          ]
        },
        {
          "output_type": "stream",
          "name": "stdout",
          "text": [
            "Saved data to enhancedata/MLM.csv\n",
            "Fetching data for MMC...\n"
          ]
        },
        {
          "output_type": "stream",
          "name": "stderr",
          "text": [
            "\n"
          ]
        },
        {
          "output_type": "stream",
          "name": "stdout",
          "text": [
            "Saved data to enhancedata/MMC.csv\n",
            "Fetching data for MMM...\n"
          ]
        },
        {
          "output_type": "stream",
          "name": "stderr",
          "text": [
            "[*********************100%***********************]  1 of 1 completed\n",
            "[*********************100%***********************]  1 of 1 completed"
          ]
        },
        {
          "output_type": "stream",
          "name": "stdout",
          "text": [
            "Saved data to enhancedata/MMM.csv\n",
            "Fetching data for MNST...\n"
          ]
        },
        {
          "output_type": "stream",
          "name": "stderr",
          "text": [
            "\n"
          ]
        },
        {
          "output_type": "stream",
          "name": "stdout",
          "text": [
            "Saved data to enhancedata/MNST.csv\n",
            "Fetching data for MON...\n"
          ]
        },
        {
          "output_type": "stream",
          "name": "stderr",
          "text": [
            "\r[*********************100%***********************]  1 of 1 completed\n",
            "ERROR:yfinance:\n",
            "1 Failed download:\n",
            "ERROR:yfinance:['MON']: YFTzMissingError('$%ticker%: possibly delisted; no timezone found')\n"
          ]
        },
        {
          "output_type": "stream",
          "name": "stdout",
          "text": [
            "No data fetched for MON, skipping.\n",
            "Fetching data for MOS...\n"
          ]
        },
        {
          "output_type": "stream",
          "name": "stderr",
          "text": [
            "\r[*********************100%***********************]  1 of 1 completed\n"
          ]
        },
        {
          "output_type": "stream",
          "name": "stdout",
          "text": [
            "Saved data to enhancedata/MOS.csv\n",
            "Fetching data for MO...\n"
          ]
        },
        {
          "output_type": "stream",
          "name": "stderr",
          "text": [
            "\r[*********************100%***********************]  1 of 1 completed\n"
          ]
        },
        {
          "output_type": "stream",
          "name": "stdout",
          "text": [
            "Saved data to enhancedata/MO.csv\n",
            "Fetching data for MPC...\n"
          ]
        },
        {
          "output_type": "stream",
          "name": "stderr",
          "text": [
            "\r[*********************100%***********************]  1 of 1 completed\n"
          ]
        },
        {
          "output_type": "stream",
          "name": "stdout",
          "text": [
            "Saved data to enhancedata/MPC.csv\n",
            "Fetching data for MRK...\n"
          ]
        },
        {
          "output_type": "stream",
          "name": "stderr",
          "text": [
            "\r[*********************100%***********************]  1 of 1 completed\n"
          ]
        },
        {
          "output_type": "stream",
          "name": "stdout",
          "text": [
            "Saved data to enhancedata/MRK.csv\n",
            "Fetching data for MRO...\n"
          ]
        },
        {
          "output_type": "stream",
          "name": "stderr",
          "text": [
            "[*********************100%***********************]  1 of 1 completed\n",
            "[*********************100%***********************]  1 of 1 completed"
          ]
        },
        {
          "output_type": "stream",
          "name": "stdout",
          "text": [
            "Saved data to enhancedata/MRO.csv\n",
            "Fetching data for MSFT...\n"
          ]
        },
        {
          "output_type": "stream",
          "name": "stderr",
          "text": [
            "\n"
          ]
        },
        {
          "output_type": "stream",
          "name": "stdout",
          "text": [
            "Saved data to enhancedata/MSFT.csv\n",
            "Fetching data for MSI...\n"
          ]
        },
        {
          "output_type": "stream",
          "name": "stderr",
          "text": [
            "\r[*********************100%***********************]  1 of 1 completed\n"
          ]
        },
        {
          "output_type": "stream",
          "name": "stdout",
          "text": [
            "Saved data to enhancedata/MSI.csv\n",
            "Fetching data for MS...\n"
          ]
        },
        {
          "output_type": "stream",
          "name": "stderr",
          "text": [
            "[*********************100%***********************]  1 of 1 completed\n",
            "[*********************100%***********************]  1 of 1 completed"
          ]
        },
        {
          "output_type": "stream",
          "name": "stdout",
          "text": [
            "Saved data to enhancedata/MS.csv\n",
            "Fetching data for MTB...\n"
          ]
        },
        {
          "output_type": "stream",
          "name": "stderr",
          "text": [
            "\n",
            "\r[*********************100%***********************]  1 of 1 completed\n"
          ]
        },
        {
          "output_type": "stream",
          "name": "stdout",
          "text": [
            "Saved data to enhancedata/MTB.csv\n",
            "Fetching data for MTD...\n",
            "Saved data to enhancedata/MTD.csv\n",
            "Fetching data for MU...\n"
          ]
        },
        {
          "output_type": "stream",
          "name": "stderr",
          "text": [
            "\r[*********************100%***********************]  1 of 1 completed\n"
          ]
        },
        {
          "output_type": "stream",
          "name": "stdout",
          "text": [
            "Saved data to enhancedata/MU.csv\n",
            "Fetching data for MYL...\n"
          ]
        },
        {
          "output_type": "stream",
          "name": "stderr",
          "text": [
            "\r[*********************100%***********************]  1 of 1 completed\n",
            "ERROR:yfinance:\n",
            "1 Failed download:\n",
            "ERROR:yfinance:['MYL']: YFTzMissingError('$%ticker%: possibly delisted; no timezone found')\n"
          ]
        },
        {
          "output_type": "stream",
          "name": "stdout",
          "text": [
            "No data fetched for MYL, skipping.\n",
            "Fetching data for M...\n"
          ]
        },
        {
          "output_type": "stream",
          "name": "stderr",
          "text": [
            "[*********************100%***********************]  1 of 1 completed\n",
            "[*********************100%***********************]  1 of 1 completed\n"
          ]
        },
        {
          "output_type": "stream",
          "name": "stdout",
          "text": [
            "Saved data to enhancedata/M.csv\n",
            "Fetching data for NAVI...\n",
            "Saved data to enhancedata/NAVI.csv\n",
            "Fetching data for NBL...\n"
          ]
        },
        {
          "output_type": "stream",
          "name": "stderr",
          "text": [
            "\r[*********************100%***********************]  1 of 1 completed\n",
            "ERROR:yfinance:\n",
            "1 Failed download:\n",
            "ERROR:yfinance:['NBL']: YFTzMissingError('$%ticker%: possibly delisted; no timezone found')\n",
            "[*********************100%***********************]  1 of 1 completed\n"
          ]
        },
        {
          "output_type": "stream",
          "name": "stdout",
          "text": [
            "No data fetched for NBL, skipping.\n",
            "Fetching data for NCLH...\n",
            "Saved data to enhancedata/NCLH.csv\n",
            "Fetching data for NDAQ...\n"
          ]
        },
        {
          "output_type": "stream",
          "name": "stderr",
          "text": [
            "\r[*********************100%***********************]  1 of 1 completed\n"
          ]
        },
        {
          "output_type": "stream",
          "name": "stdout",
          "text": [
            "Saved data to enhancedata/NDAQ.csv\n",
            "Fetching data for NEE...\n"
          ]
        },
        {
          "output_type": "stream",
          "name": "stderr",
          "text": [
            "[*********************100%***********************]  1 of 1 completed\n",
            "[*********************100%***********************]  1 of 1 completed"
          ]
        },
        {
          "output_type": "stream",
          "name": "stdout",
          "text": [
            "Saved data to enhancedata/NEE.csv\n",
            "Fetching data for NEM...\n"
          ]
        },
        {
          "output_type": "stream",
          "name": "stderr",
          "text": [
            "\n",
            "[*********************100%***********************]  1 of 1 completed"
          ]
        },
        {
          "output_type": "stream",
          "name": "stdout",
          "text": [
            "Saved data to enhancedata/NEM.csv\n",
            "Fetching data for NFLX...\n"
          ]
        },
        {
          "output_type": "stream",
          "name": "stderr",
          "text": [
            "\n",
            "\r[*********************100%***********************]  1 of 1 completed\n"
          ]
        },
        {
          "output_type": "stream",
          "name": "stdout",
          "text": [
            "Saved data to enhancedata/NFLX.csv\n",
            "Fetching data for NFX...\n",
            "Saved data to enhancedata/NFX.csv\n",
            "Fetching data for NI...\n"
          ]
        },
        {
          "output_type": "stream",
          "name": "stderr",
          "text": [
            "[*********************100%***********************]  1 of 1 completed\n",
            "[*********************100%***********************]  1 of 1 completed"
          ]
        },
        {
          "output_type": "stream",
          "name": "stdout",
          "text": [
            "Saved data to enhancedata/NI.csv\n",
            "Fetching data for NKE...\n"
          ]
        },
        {
          "output_type": "stream",
          "name": "stderr",
          "text": [
            "\n"
          ]
        },
        {
          "output_type": "stream",
          "name": "stdout",
          "text": [
            "Saved data to enhancedata/NKE.csv\n",
            "Fetching data for NLSN...\n"
          ]
        },
        {
          "output_type": "stream",
          "name": "stderr",
          "text": [
            "\r[*********************100%***********************]  1 of 1 completed\n",
            "ERROR:yfinance:\n",
            "1 Failed download:\n",
            "ERROR:yfinance:['NLSN']: YFTzMissingError('$%ticker%: possibly delisted; no timezone found')\n"
          ]
        },
        {
          "output_type": "stream",
          "name": "stdout",
          "text": [
            "No data fetched for NLSN, skipping.\n",
            "Fetching data for NOC...\n"
          ]
        },
        {
          "output_type": "stream",
          "name": "stderr",
          "text": [
            "[*********************100%***********************]  1 of 1 completed\n",
            "[*********************100%***********************]  1 of 1 completed"
          ]
        },
        {
          "output_type": "stream",
          "name": "stdout",
          "text": [
            "Saved data to enhancedata/NOC.csv\n",
            "Fetching data for NOV...\n"
          ]
        },
        {
          "output_type": "stream",
          "name": "stderr",
          "text": [
            "\n",
            "[*********************100%***********************]  1 of 1 completed\n"
          ]
        },
        {
          "output_type": "stream",
          "name": "stdout",
          "text": [
            "Saved data to enhancedata/NOV.csv\n",
            "Fetching data for NRG...\n",
            "Saved data to enhancedata/NRG.csv\n",
            "Fetching data for NSC...\n"
          ]
        },
        {
          "output_type": "stream",
          "name": "stderr",
          "text": [
            "[*********************100%***********************]  1 of 1 completed\n",
            "[*********************100%***********************]  1 of 1 completed"
          ]
        },
        {
          "output_type": "stream",
          "name": "stdout",
          "text": [
            "Saved data to enhancedata/NSC.csv\n",
            "Fetching data for NTAP...\n"
          ]
        },
        {
          "output_type": "stream",
          "name": "stderr",
          "text": [
            "\n"
          ]
        },
        {
          "output_type": "stream",
          "name": "stdout",
          "text": [
            "Saved data to enhancedata/NTAP.csv\n",
            "Fetching data for NTRS...\n"
          ]
        },
        {
          "output_type": "stream",
          "name": "stderr",
          "text": [
            "\r[*********************100%***********************]  1 of 1 completed\n"
          ]
        },
        {
          "output_type": "stream",
          "name": "stdout",
          "text": [
            "Saved data to enhancedata/NTRS.csv\n",
            "Fetching data for NUE...\n"
          ]
        },
        {
          "output_type": "stream",
          "name": "stderr",
          "text": [
            "\r[*********************100%***********************]  1 of 1 completed\n"
          ]
        },
        {
          "output_type": "stream",
          "name": "stdout",
          "text": [
            "Saved data to enhancedata/NUE.csv\n",
            "Fetching data for NVDA...\n"
          ]
        },
        {
          "output_type": "stream",
          "name": "stderr",
          "text": [
            "\r[*********************100%***********************]  1 of 1 completed\n"
          ]
        },
        {
          "output_type": "stream",
          "name": "stdout",
          "text": [
            "Saved data to enhancedata/NVDA.csv\n",
            "Fetching data for NWL...\n"
          ]
        },
        {
          "output_type": "stream",
          "name": "stderr",
          "text": [
            "[*********************100%***********************]  1 of 1 completed\n",
            "[*********************100%***********************]  1 of 1 completed\n"
          ]
        },
        {
          "output_type": "stream",
          "name": "stdout",
          "text": [
            "Saved data to enhancedata/NWL.csv\n",
            "Fetching data for NWSA...\n",
            "Saved data to enhancedata/NWSA.csv\n",
            "Fetching data for NWS...\n"
          ]
        },
        {
          "output_type": "stream",
          "name": "stderr",
          "text": [
            "\r[*********************100%***********************]  1 of 1 completed\n"
          ]
        },
        {
          "output_type": "stream",
          "name": "stdout",
          "text": [
            "Saved data to enhancedata/NWS.csv\n",
            "Fetching data for OKE...\n"
          ]
        },
        {
          "output_type": "stream",
          "name": "stderr",
          "text": [
            "[*********************100%***********************]  1 of 1 completed\n",
            "[*********************100%***********************]  1 of 1 completed"
          ]
        },
        {
          "output_type": "stream",
          "name": "stdout",
          "text": [
            "Saved data to enhancedata/OKE.csv\n",
            "Fetching data for OMC...\n"
          ]
        },
        {
          "output_type": "stream",
          "name": "stderr",
          "text": [
            "\n",
            "[*********************100%***********************]  1 of 1 completed"
          ]
        },
        {
          "output_type": "stream",
          "name": "stdout",
          "text": [
            "Saved data to enhancedata/OMC.csv\n",
            "Fetching data for ORCL...\n"
          ]
        },
        {
          "output_type": "stream",
          "name": "stderr",
          "text": [
            "\n",
            "[*********************100%***********************]  1 of 1 completed"
          ]
        },
        {
          "output_type": "stream",
          "name": "stdout",
          "text": [
            "Saved data to enhancedata/ORCL.csv\n",
            "Fetching data for ORLY...\n"
          ]
        },
        {
          "output_type": "stream",
          "name": "stderr",
          "text": [
            "\n"
          ]
        },
        {
          "output_type": "stream",
          "name": "stdout",
          "text": [
            "Saved data to enhancedata/ORLY.csv\n",
            "Fetching data for OXY...\n"
          ]
        },
        {
          "output_type": "stream",
          "name": "stderr",
          "text": [
            "\r[*********************100%***********************]  1 of 1 completed\n"
          ]
        },
        {
          "output_type": "stream",
          "name": "stdout",
          "text": [
            "Saved data to enhancedata/OXY.csv\n",
            "Fetching data for O...\n"
          ]
        },
        {
          "output_type": "stream",
          "name": "stderr",
          "text": [
            "\r[*********************100%***********************]  1 of 1 completed\n"
          ]
        },
        {
          "output_type": "stream",
          "name": "stdout",
          "text": [
            "Saved data to enhancedata/O.csv\n",
            "Fetching data for PAYX...\n"
          ]
        },
        {
          "output_type": "stream",
          "name": "stderr",
          "text": [
            "\r[*********************100%***********************]  1 of 1 completed\n"
          ]
        },
        {
          "output_type": "stream",
          "name": "stdout",
          "text": [
            "Saved data to enhancedata/PAYX.csv\n",
            "Fetching data for PBCT...\n"
          ]
        },
        {
          "output_type": "stream",
          "name": "stderr",
          "text": [
            "\r[*********************100%***********************]  1 of 1 completed\n",
            "ERROR:yfinance:\n",
            "1 Failed download:\n",
            "ERROR:yfinance:['PBCT']: YFTzMissingError('$%ticker%: possibly delisted; no timezone found')\n"
          ]
        },
        {
          "output_type": "stream",
          "name": "stdout",
          "text": [
            "No data fetched for PBCT, skipping.\n",
            "Fetching data for PCAR...\n"
          ]
        },
        {
          "output_type": "stream",
          "name": "stderr",
          "text": [
            "\r[*********************100%***********************]  1 of 1 completed\n"
          ]
        },
        {
          "output_type": "stream",
          "name": "stdout",
          "text": [
            "Saved data to enhancedata/PCAR.csv\n",
            "Fetching data for PCG...\n"
          ]
        },
        {
          "output_type": "stream",
          "name": "stderr",
          "text": [
            "[*********************100%***********************]  1 of 1 completed\n",
            "[*********************100%***********************]  1 of 1 completed\n",
            "ERROR:yfinance:\n",
            "1 Failed download:\n",
            "ERROR:yfinance:['PCLN']: YFPricesMissingError('$%ticker%: possibly delisted; no price data found  (1d 2010-01-01 -> 2024-12-06)')\n"
          ]
        },
        {
          "output_type": "stream",
          "name": "stdout",
          "text": [
            "Saved data to enhancedata/PCG.csv\n",
            "Fetching data for PCLN...\n",
            "No data fetched for PCLN, skipping.\n",
            "Fetching data for PDCO...\n"
          ]
        },
        {
          "output_type": "stream",
          "name": "stderr",
          "text": [
            "\r[*********************100%***********************]  1 of 1 completed\n"
          ]
        },
        {
          "output_type": "stream",
          "name": "stdout",
          "text": [
            "Saved data to enhancedata/PDCO.csv\n",
            "Fetching data for PEG...\n"
          ]
        },
        {
          "output_type": "stream",
          "name": "stderr",
          "text": [
            "\r[*********************100%***********************]  1 of 1 completed\n"
          ]
        },
        {
          "output_type": "stream",
          "name": "stdout",
          "text": [
            "Saved data to enhancedata/PEG.csv\n",
            "Fetching data for PEP...\n"
          ]
        },
        {
          "output_type": "stream",
          "name": "stderr",
          "text": [
            "\r[*********************100%***********************]  1 of 1 completed\n"
          ]
        },
        {
          "output_type": "stream",
          "name": "stdout",
          "text": [
            "Saved data to enhancedata/PEP.csv\n",
            "Fetching data for PFE...\n"
          ]
        },
        {
          "output_type": "stream",
          "name": "stderr",
          "text": [
            "[*********************100%***********************]  1 of 1 completed\n",
            "[*********************100%***********************]  1 of 1 completed"
          ]
        },
        {
          "output_type": "stream",
          "name": "stdout",
          "text": [
            "Saved data to enhancedata/PFE.csv\n",
            "Fetching data for PFG...\n"
          ]
        },
        {
          "output_type": "stream",
          "name": "stderr",
          "text": [
            "\n",
            "[*********************100%***********************]  1 of 1 completed"
          ]
        },
        {
          "output_type": "stream",
          "name": "stdout",
          "text": [
            "Saved data to enhancedata/PFG.csv\n",
            "Fetching data for PGR...\n"
          ]
        },
        {
          "output_type": "stream",
          "name": "stderr",
          "text": [
            "\n"
          ]
        },
        {
          "output_type": "stream",
          "name": "stdout",
          "text": [
            "Saved data to enhancedata/PGR.csv\n",
            "Fetching data for PG...\n"
          ]
        },
        {
          "output_type": "stream",
          "name": "stderr",
          "text": [
            "[*********************100%***********************]  1 of 1 completed\n",
            "[*********************100%***********************]  1 of 1 completed"
          ]
        },
        {
          "output_type": "stream",
          "name": "stdout",
          "text": [
            "Saved data to enhancedata/PG.csv\n",
            "Fetching data for PHM...\n"
          ]
        },
        {
          "output_type": "stream",
          "name": "stderr",
          "text": [
            "\n",
            "[*********************100%***********************]  1 of 1 completed"
          ]
        },
        {
          "output_type": "stream",
          "name": "stdout",
          "text": [
            "Saved data to enhancedata/PHM.csv\n",
            "Fetching data for PH...\n"
          ]
        },
        {
          "output_type": "stream",
          "name": "stderr",
          "text": [
            "\n",
            "[*********************100%***********************]  1 of 1 completed"
          ]
        },
        {
          "output_type": "stream",
          "name": "stdout",
          "text": [
            "Saved data to enhancedata/PH.csv\n",
            "Fetching data for PKG...\n"
          ]
        },
        {
          "output_type": "stream",
          "name": "stderr",
          "text": [
            "\n"
          ]
        },
        {
          "output_type": "stream",
          "name": "stdout",
          "text": [
            "Saved data to enhancedata/PKG.csv\n",
            "Fetching data for PKI...\n"
          ]
        },
        {
          "output_type": "stream",
          "name": "stderr",
          "text": [
            "\r[*********************100%***********************]  1 of 1 completed\n",
            "ERROR:yfinance:\n",
            "1 Failed download:\n",
            "ERROR:yfinance:['PKI']: YFTzMissingError('$%ticker%: possibly delisted; no timezone found')\n",
            "[*********************100%***********************]  1 of 1 completed\n"
          ]
        },
        {
          "output_type": "stream",
          "name": "stdout",
          "text": [
            "No data fetched for PKI, skipping.\n",
            "Fetching data for PLD...\n",
            "Saved data to enhancedata/PLD.csv\n",
            "Fetching data for PM...\n"
          ]
        },
        {
          "output_type": "stream",
          "name": "stderr",
          "text": [
            "\r[*********************100%***********************]  1 of 1 completed\n"
          ]
        },
        {
          "output_type": "stream",
          "name": "stdout",
          "text": [
            "Saved data to enhancedata/PM.csv\n",
            "Fetching data for PNC...\n"
          ]
        },
        {
          "output_type": "stream",
          "name": "stderr",
          "text": [
            "[*********************100%***********************]  1 of 1 completed\n",
            "[*********************100%***********************]  1 of 1 completed"
          ]
        },
        {
          "output_type": "stream",
          "name": "stdout",
          "text": [
            "Saved data to enhancedata/PNC.csv\n",
            "Fetching data for PNR...\n"
          ]
        },
        {
          "output_type": "stream",
          "name": "stderr",
          "text": [
            "\n",
            "[*********************100%***********************]  1 of 1 completed"
          ]
        },
        {
          "output_type": "stream",
          "name": "stdout",
          "text": [
            "Saved data to enhancedata/PNR.csv\n",
            "Fetching data for PNW...\n"
          ]
        },
        {
          "output_type": "stream",
          "name": "stderr",
          "text": [
            "\n",
            "[*********************100%***********************]  1 of 1 completed"
          ]
        },
        {
          "output_type": "stream",
          "name": "stdout",
          "text": [
            "Saved data to enhancedata/PNW.csv\n",
            "Fetching data for PPG...\n"
          ]
        },
        {
          "output_type": "stream",
          "name": "stderr",
          "text": [
            "\n"
          ]
        },
        {
          "output_type": "stream",
          "name": "stdout",
          "text": [
            "Saved data to enhancedata/PPG.csv\n",
            "Fetching data for PPL...\n"
          ]
        },
        {
          "output_type": "stream",
          "name": "stderr",
          "text": [
            "[*********************100%***********************]  1 of 1 completed\n",
            "[*********************100%***********************]  1 of 1 completed\n"
          ]
        },
        {
          "output_type": "stream",
          "name": "stdout",
          "text": [
            "Saved data to enhancedata/PPL.csv\n",
            "Fetching data for PRGO...\n",
            "Saved data to enhancedata/PRGO.csv\n",
            "Fetching data for PRU...\n"
          ]
        },
        {
          "output_type": "stream",
          "name": "stderr",
          "text": [
            "[*********************100%***********************]  1 of 1 completed\n",
            "[*********************100%***********************]  1 of 1 completed"
          ]
        },
        {
          "output_type": "stream",
          "name": "stdout",
          "text": [
            "Saved data to enhancedata/PRU.csv\n",
            "Fetching data for PSA...\n"
          ]
        },
        {
          "output_type": "stream",
          "name": "stderr",
          "text": [
            "\n",
            "\r[*********************100%***********************]  1 of 1 completed\n"
          ]
        },
        {
          "output_type": "stream",
          "name": "stdout",
          "text": [
            "Saved data to enhancedata/PSA.csv\n",
            "Fetching data for PSX...\n",
            "Saved data to enhancedata/PSX.csv\n",
            "Fetching data for PVH...\n"
          ]
        },
        {
          "output_type": "stream",
          "name": "stderr",
          "text": [
            "[*********************100%***********************]  1 of 1 completed\n",
            "[*********************100%***********************]  1 of 1 completed\n"
          ]
        },
        {
          "output_type": "stream",
          "name": "stdout",
          "text": [
            "Saved data to enhancedata/PVH.csv\n",
            "Fetching data for PWR...\n",
            "Saved data to enhancedata/PWR.csv\n",
            "Fetching data for PXD...\n"
          ]
        },
        {
          "output_type": "stream",
          "name": "stderr",
          "text": [
            "\r[*********************100%***********************]  1 of 1 completed\n",
            "ERROR:yfinance:\n",
            "1 Failed download:\n",
            "ERROR:yfinance:['PXD']: YFTzMissingError('$%ticker%: possibly delisted; no timezone found')\n",
            "[*********************100%***********************]  1 of 1 completed\n"
          ]
        },
        {
          "output_type": "stream",
          "name": "stdout",
          "text": [
            "No data fetched for PXD, skipping.\n",
            "Fetching data for PX...\n",
            "Saved data to enhancedata/PX.csv\n",
            "Fetching data for PYPL...\n"
          ]
        },
        {
          "output_type": "stream",
          "name": "stderr",
          "text": [
            "[*********************100%***********************]  1 of 1 completed\n",
            "[*********************100%***********************]  1 of 1 completed"
          ]
        },
        {
          "output_type": "stream",
          "name": "stdout",
          "text": [
            "Saved data to enhancedata/PYPL.csv\n",
            "Fetching data for QCOM...\n"
          ]
        },
        {
          "output_type": "stream",
          "name": "stderr",
          "text": [
            "\n",
            "\r[*********************100%***********************]  1 of 1 completed\n"
          ]
        },
        {
          "output_type": "stream",
          "name": "stdout",
          "text": [
            "Saved data to enhancedata/QCOM.csv\n",
            "Fetching data for QRVO...\n",
            "Saved data to enhancedata/QRVO.csv\n",
            "Fetching data for RCL...\n"
          ]
        },
        {
          "output_type": "stream",
          "name": "stderr",
          "text": [
            "[*********************100%***********************]  1 of 1 completed\n",
            "[*********************100%***********************]  1 of 1 completed\n"
          ]
        },
        {
          "output_type": "stream",
          "name": "stdout",
          "text": [
            "Saved data to enhancedata/RCL.csv\n",
            "Fetching data for REGN...\n"
          ]
        },
        {
          "output_type": "stream",
          "name": "stderr",
          "text": [
            "\r[*********************100%***********************]  1 of 1 completed"
          ]
        },
        {
          "output_type": "stream",
          "name": "stdout",
          "text": [
            "Saved data to enhancedata/REGN.csv\n",
            "Fetching data for REG...\n"
          ]
        },
        {
          "output_type": "stream",
          "name": "stderr",
          "text": [
            "\n"
          ]
        },
        {
          "output_type": "stream",
          "name": "stdout",
          "text": [
            "Saved data to enhancedata/REG.csv\n",
            "Fetching data for RE...\n"
          ]
        },
        {
          "output_type": "stream",
          "name": "stderr",
          "text": [
            "\r[*********************100%***********************]  1 of 1 completed\n",
            "ERROR:yfinance:\n",
            "1 Failed download:\n",
            "ERROR:yfinance:['RE']: YFTzMissingError('$%ticker%: possibly delisted; no timezone found')\n"
          ]
        },
        {
          "output_type": "stream",
          "name": "stdout",
          "text": [
            "No data fetched for RE, skipping.\n",
            "Fetching data for RF...\n"
          ]
        },
        {
          "output_type": "stream",
          "name": "stderr",
          "text": [
            "[*********************100%***********************]  1 of 1 completed\n",
            "[*********************100%***********************]  1 of 1 completed"
          ]
        },
        {
          "output_type": "stream",
          "name": "stdout",
          "text": [
            "Saved data to enhancedata/RF.csv\n",
            "Fetching data for RHI...\n"
          ]
        },
        {
          "output_type": "stream",
          "name": "stderr",
          "text": [
            "\n"
          ]
        },
        {
          "output_type": "stream",
          "name": "stdout",
          "text": [
            "Saved data to enhancedata/RHI.csv\n",
            "Fetching data for RHT...\n"
          ]
        },
        {
          "output_type": "stream",
          "name": "stderr",
          "text": [
            "\r[*********************100%***********************]  1 of 1 completed\n",
            "ERROR:yfinance:\n",
            "1 Failed download:\n",
            "ERROR:yfinance:['RHT']: YFTzMissingError('$%ticker%: possibly delisted; no timezone found')\n"
          ]
        },
        {
          "output_type": "stream",
          "name": "stdout",
          "text": [
            "No data fetched for RHT, skipping.\n",
            "Fetching data for RJF...\n"
          ]
        },
        {
          "output_type": "stream",
          "name": "stderr",
          "text": [
            "\r[*********************100%***********************]  1 of 1 completed\n"
          ]
        },
        {
          "output_type": "stream",
          "name": "stdout",
          "text": [
            "Saved data to enhancedata/RJF.csv\n",
            "Fetching data for RL...\n"
          ]
        },
        {
          "output_type": "stream",
          "name": "stderr",
          "text": [
            "\r[*********************100%***********************]  1 of 1 completed\n"
          ]
        },
        {
          "output_type": "stream",
          "name": "stdout",
          "text": [
            "Saved data to enhancedata/RL.csv\n",
            "Fetching data for RMD...\n"
          ]
        },
        {
          "output_type": "stream",
          "name": "stderr",
          "text": [
            "\r[*********************100%***********************]  1 of 1 completed\n"
          ]
        },
        {
          "output_type": "stream",
          "name": "stdout",
          "text": [
            "Saved data to enhancedata/RMD.csv\n",
            "Fetching data for ROK...\n"
          ]
        },
        {
          "output_type": "stream",
          "name": "stderr",
          "text": [
            "[*********************100%***********************]  1 of 1 completed\n",
            "[*********************100%***********************]  1 of 1 completed"
          ]
        },
        {
          "output_type": "stream",
          "name": "stdout",
          "text": [
            "Saved data to enhancedata/ROK.csv\n",
            "Fetching data for ROP...\n"
          ]
        },
        {
          "output_type": "stream",
          "name": "stderr",
          "text": [
            "\n"
          ]
        },
        {
          "output_type": "stream",
          "name": "stdout",
          "text": [
            "Saved data to enhancedata/ROP.csv\n",
            "Fetching data for ROST...\n"
          ]
        },
        {
          "output_type": "stream",
          "name": "stderr",
          "text": [
            "[*********************100%***********************]  1 of 1 completed\n",
            "[*********************100%***********************]  1 of 1 completed"
          ]
        },
        {
          "output_type": "stream",
          "name": "stdout",
          "text": [
            "Saved data to enhancedata/ROST.csv\n",
            "Fetching data for RRC...\n"
          ]
        },
        {
          "output_type": "stream",
          "name": "stderr",
          "text": [
            "\n",
            "[*********************100%***********************]  1 of 1 completed"
          ]
        },
        {
          "output_type": "stream",
          "name": "stdout",
          "text": [
            "Saved data to enhancedata/RRC.csv\n",
            "Fetching data for RSG...\n"
          ]
        },
        {
          "output_type": "stream",
          "name": "stderr",
          "text": [
            "\n"
          ]
        },
        {
          "output_type": "stream",
          "name": "stdout",
          "text": [
            "Saved data to enhancedata/RSG.csv\n",
            "Fetching data for RTN...\n"
          ]
        },
        {
          "output_type": "stream",
          "name": "stderr",
          "text": [
            "\r[*********************100%***********************]  1 of 1 completed\n",
            "ERROR:yfinance:\n",
            "1 Failed download:\n",
            "ERROR:yfinance:['RTN']: YFTzMissingError('$%ticker%: possibly delisted; no timezone found')\n",
            "[*********************100%***********************]  1 of 1 completed"
          ]
        },
        {
          "output_type": "stream",
          "name": "stdout",
          "text": [
            "No data fetched for RTN, skipping.\n",
            "Fetching data for SBAC...\n"
          ]
        },
        {
          "output_type": "stream",
          "name": "stderr",
          "text": [
            "\n"
          ]
        },
        {
          "output_type": "stream",
          "name": "stdout",
          "text": [
            "Saved data to enhancedata/SBAC.csv\n",
            "Fetching data for SBUX...\n"
          ]
        },
        {
          "output_type": "stream",
          "name": "stderr",
          "text": [
            "[*********************100%***********************]  1 of 1 completed\n",
            "[*********************100%***********************]  1 of 1 completed\n"
          ]
        },
        {
          "output_type": "stream",
          "name": "stdout",
          "text": [
            "Saved data to enhancedata/SBUX.csv\n",
            "Fetching data for SCG...\n",
            "Saved data to enhancedata/SCG.csv\n",
            "Fetching data for SCHW...\n"
          ]
        },
        {
          "output_type": "stream",
          "name": "stderr",
          "text": [
            "\r[*********************100%***********************]  1 of 1 completed\n"
          ]
        },
        {
          "output_type": "stream",
          "name": "stdout",
          "text": [
            "Saved data to enhancedata/SCHW.csv\n",
            "Fetching data for SEE...\n"
          ]
        },
        {
          "output_type": "stream",
          "name": "stderr",
          "text": [
            "[*********************100%***********************]  1 of 1 completed\n",
            "[*********************100%***********************]  1 of 1 completed"
          ]
        },
        {
          "output_type": "stream",
          "name": "stdout",
          "text": [
            "Saved data to enhancedata/SEE.csv\n",
            "Fetching data for SHW...\n"
          ]
        },
        {
          "output_type": "stream",
          "name": "stderr",
          "text": [
            "\n",
            "[*********************100%***********************]  1 of 1 completed"
          ]
        },
        {
          "output_type": "stream",
          "name": "stdout",
          "text": [
            "Saved data to enhancedata/SHW.csv\n",
            "Fetching data for SIG...\n"
          ]
        },
        {
          "output_type": "stream",
          "name": "stderr",
          "text": [
            "\n",
            "[*********************100%***********************]  1 of 1 completed"
          ]
        },
        {
          "output_type": "stream",
          "name": "stdout",
          "text": [
            "Saved data to enhancedata/SIG.csv\n",
            "Fetching data for SJM...\n"
          ]
        },
        {
          "output_type": "stream",
          "name": "stderr",
          "text": [
            "\n",
            "[*********************100%***********************]  1 of 1 completed"
          ]
        },
        {
          "output_type": "stream",
          "name": "stdout",
          "text": [
            "Saved data to enhancedata/SJM.csv\n",
            "Fetching data for SLB...\n"
          ]
        },
        {
          "output_type": "stream",
          "name": "stderr",
          "text": [
            "\n"
          ]
        },
        {
          "output_type": "stream",
          "name": "stdout",
          "text": [
            "Saved data to enhancedata/SLB.csv\n",
            "Fetching data for SLG...\n"
          ]
        },
        {
          "output_type": "stream",
          "name": "stderr",
          "text": [
            "\r[*********************100%***********************]  1 of 1 completed\n"
          ]
        },
        {
          "output_type": "stream",
          "name": "stdout",
          "text": [
            "Saved data to enhancedata/SLG.csv\n",
            "Fetching data for SNA...\n"
          ]
        },
        {
          "output_type": "stream",
          "name": "stderr",
          "text": [
            "[*********************100%***********************]  1 of 1 completed\n",
            "[*********************100%***********************]  1 of 1 completed\n"
          ]
        },
        {
          "output_type": "stream",
          "name": "stdout",
          "text": [
            "Saved data to enhancedata/SNA.csv\n",
            "Fetching data for SNI...\n",
            "Saved data to enhancedata/SNI.csv\n",
            "Fetching data for SNPS...\n"
          ]
        },
        {
          "output_type": "stream",
          "name": "stderr",
          "text": [
            "[*********************100%***********************]  1 of 1 completed\n",
            "[*********************100%***********************]  1 of 1 completed"
          ]
        },
        {
          "output_type": "stream",
          "name": "stdout",
          "text": [
            "Saved data to enhancedata/SNPS.csv\n",
            "Fetching data for SO...\n"
          ]
        },
        {
          "output_type": "stream",
          "name": "stderr",
          "text": [
            "\n"
          ]
        },
        {
          "output_type": "stream",
          "name": "stdout",
          "text": [
            "Saved data to enhancedata/SO.csv\n",
            "Fetching data for SPGI...\n"
          ]
        },
        {
          "output_type": "stream",
          "name": "stderr",
          "text": [
            "\r[*********************100%***********************]  1 of 1 completed\n"
          ]
        },
        {
          "output_type": "stream",
          "name": "stdout",
          "text": [
            "Saved data to enhancedata/SPGI.csv\n",
            "Fetching data for SPG...\n"
          ]
        },
        {
          "output_type": "stream",
          "name": "stderr",
          "text": [
            "[*********************100%***********************]  1 of 1 completed\n",
            "[*********************100%***********************]  1 of 1 completed\n"
          ]
        },
        {
          "output_type": "stream",
          "name": "stdout",
          "text": [
            "Saved data to enhancedata/SPG.csv\n",
            "Fetching data for SRCL...\n",
            "Saved data to enhancedata/SRCL.csv\n",
            "Fetching data for SRE...\n"
          ]
        },
        {
          "output_type": "stream",
          "name": "stderr",
          "text": [
            "[*********************100%***********************]  1 of 1 completed\n",
            "[*********************100%***********************]  1 of 1 completed\n"
          ]
        },
        {
          "output_type": "stream",
          "name": "stdout",
          "text": [
            "Saved data to enhancedata/SRE.csv\n",
            "Fetching data for STI...\n",
            "Saved data to enhancedata/STI.csv\n",
            "Fetching data for STT...\n"
          ]
        },
        {
          "output_type": "stream",
          "name": "stderr",
          "text": [
            "[*********************100%***********************]  1 of 1 completed\n",
            "[*********************100%***********************]  1 of 1 completed"
          ]
        },
        {
          "output_type": "stream",
          "name": "stdout",
          "text": [
            "Saved data to enhancedata/STT.csv\n",
            "Fetching data for STX...\n"
          ]
        },
        {
          "output_type": "stream",
          "name": "stderr",
          "text": [
            "\n"
          ]
        },
        {
          "output_type": "stream",
          "name": "stdout",
          "text": [
            "Saved data to enhancedata/STX.csv\n",
            "Fetching data for STZ...\n"
          ]
        },
        {
          "output_type": "stream",
          "name": "stderr",
          "text": [
            "[*********************100%***********************]  1 of 1 completed\n",
            "[*********************100%***********************]  1 of 1 completed"
          ]
        },
        {
          "output_type": "stream",
          "name": "stdout",
          "text": [
            "Saved data to enhancedata/STZ.csv\n",
            "Fetching data for SWKS...\n"
          ]
        },
        {
          "output_type": "stream",
          "name": "stderr",
          "text": [
            "\n",
            "[*********************100%***********************]  1 of 1 completed"
          ]
        },
        {
          "output_type": "stream",
          "name": "stdout",
          "text": [
            "Saved data to enhancedata/SWKS.csv\n",
            "Fetching data for SWK...\n"
          ]
        },
        {
          "output_type": "stream",
          "name": "stderr",
          "text": [
            "\n",
            "[*********************100%***********************]  1 of 1 completed"
          ]
        },
        {
          "output_type": "stream",
          "name": "stdout",
          "text": [
            "Saved data to enhancedata/SWK.csv\n",
            "Fetching data for SYF...\n"
          ]
        },
        {
          "output_type": "stream",
          "name": "stderr",
          "text": [
            "\n",
            "[*********************100%***********************]  1 of 1 completed"
          ]
        },
        {
          "output_type": "stream",
          "name": "stdout",
          "text": [
            "Saved data to enhancedata/SYF.csv\n",
            "Fetching data for SYK...\n"
          ]
        },
        {
          "output_type": "stream",
          "name": "stderr",
          "text": [
            "\n"
          ]
        },
        {
          "output_type": "stream",
          "name": "stdout",
          "text": [
            "Saved data to enhancedata/SYK.csv\n",
            "Fetching data for SYMC...\n"
          ]
        },
        {
          "output_type": "stream",
          "name": "stderr",
          "text": [
            "\r[*********************100%***********************]  1 of 1 completed\n",
            "ERROR:yfinance:\n",
            "1 Failed download:\n",
            "ERROR:yfinance:['SYMC']: YFTzMissingError('$%ticker%: possibly delisted; no timezone found')\n",
            "[*********************100%***********************]  1 of 1 completed\n"
          ]
        },
        {
          "output_type": "stream",
          "name": "stdout",
          "text": [
            "No data fetched for SYMC, skipping.\n",
            "Fetching data for SYY...\n"
          ]
        },
        {
          "output_type": "stream",
          "name": "stderr",
          "text": [
            "\r[*********************100%***********************]  1 of 1 completed"
          ]
        },
        {
          "output_type": "stream",
          "name": "stdout",
          "text": [
            "Saved data to enhancedata/SYY.csv\n",
            "Fetching data for TAP...\n"
          ]
        },
        {
          "output_type": "stream",
          "name": "stderr",
          "text": [
            "\n",
            "[*********************100%***********************]  1 of 1 completed"
          ]
        },
        {
          "output_type": "stream",
          "name": "stdout",
          "text": [
            "Saved data to enhancedata/TAP.csv\n",
            "Fetching data for TDG...\n"
          ]
        },
        {
          "output_type": "stream",
          "name": "stderr",
          "text": [
            "\n",
            "\r[*********************100%***********************]  1 of 1 completed\n"
          ]
        },
        {
          "output_type": "stream",
          "name": "stdout",
          "text": [
            "Saved data to enhancedata/TDG.csv\n",
            "Fetching data for TEL...\n",
            "Saved data to enhancedata/TEL.csv\n",
            "Fetching data for TGT...\n"
          ]
        },
        {
          "output_type": "stream",
          "name": "stderr",
          "text": [
            "\r[*********************100%***********************]  1 of 1 completed\n"
          ]
        },
        {
          "output_type": "stream",
          "name": "stdout",
          "text": [
            "Saved data to enhancedata/TGT.csv\n",
            "Fetching data for TIF...\n"
          ]
        },
        {
          "output_type": "stream",
          "name": "stderr",
          "text": [
            "\r[*********************100%***********************]  1 of 1 completed\n",
            "ERROR:yfinance:\n",
            "1 Failed download:\n",
            "ERROR:yfinance:['TIF']: YFTzMissingError('$%ticker%: possibly delisted; no timezone found')\n"
          ]
        },
        {
          "output_type": "stream",
          "name": "stdout",
          "text": [
            "No data fetched for TIF, skipping.\n",
            "Fetching data for TJX...\n"
          ]
        },
        {
          "output_type": "stream",
          "name": "stderr",
          "text": [
            "\r[*********************100%***********************]  1 of 1 completed\n"
          ]
        },
        {
          "output_type": "stream",
          "name": "stdout",
          "text": [
            "Saved data to enhancedata/TJX.csv\n",
            "Fetching data for TMK...\n"
          ]
        },
        {
          "output_type": "stream",
          "name": "stderr",
          "text": [
            "\r[*********************100%***********************]  1 of 1 completed\n",
            "ERROR:yfinance:\n",
            "1 Failed download:\n",
            "ERROR:yfinance:['TMK']: YFTzMissingError('$%ticker%: possibly delisted; no timezone found')\n",
            "[*********************100%***********************]  1 of 1 completed\n"
          ]
        },
        {
          "output_type": "stream",
          "name": "stdout",
          "text": [
            "No data fetched for TMK, skipping.\n",
            "Fetching data for TMO...\n"
          ]
        },
        {
          "output_type": "stream",
          "name": "stderr",
          "text": [
            "\r[*********************100%***********************]  1 of 1 completed"
          ]
        },
        {
          "output_type": "stream",
          "name": "stdout",
          "text": [
            "Saved data to enhancedata/TMO.csv\n",
            "Fetching data for TPR...\n",
            "Saved data to enhancedata/TPR.csv\n",
            "Fetching data for TRIP...\n"
          ]
        },
        {
          "output_type": "stream",
          "name": "stderr",
          "text": [
            "\n",
            "[*********************100%***********************]  1 of 1 completed\n",
            "[*********************100%***********************]  1 of 1 completed"
          ]
        },
        {
          "output_type": "stream",
          "name": "stdout",
          "text": [
            "Saved data to enhancedata/TRIP.csv\n",
            "Fetching data for TROW...\n"
          ]
        },
        {
          "output_type": "stream",
          "name": "stderr",
          "text": [
            "\n"
          ]
        },
        {
          "output_type": "stream",
          "name": "stdout",
          "text": [
            "Saved data to enhancedata/TROW.csv\n",
            "Fetching data for TRV...\n"
          ]
        },
        {
          "output_type": "stream",
          "name": "stderr",
          "text": [
            "[*********************100%***********************]  1 of 1 completed\n",
            "[*********************100%***********************]  1 of 1 completed"
          ]
        },
        {
          "output_type": "stream",
          "name": "stdout",
          "text": [
            "Saved data to enhancedata/TRV.csv\n",
            "Fetching data for TSCO...\n"
          ]
        },
        {
          "output_type": "stream",
          "name": "stderr",
          "text": [
            "\n"
          ]
        },
        {
          "output_type": "stream",
          "name": "stdout",
          "text": [
            "Saved data to enhancedata/TSCO.csv\n",
            "Fetching data for TSN...\n"
          ]
        },
        {
          "output_type": "stream",
          "name": "stderr",
          "text": [
            "\r[*********************100%***********************]  1 of 1 completed\n"
          ]
        },
        {
          "output_type": "stream",
          "name": "stdout",
          "text": [
            "Saved data to enhancedata/TSN.csv\n",
            "Fetching data for TSS...\n"
          ]
        },
        {
          "output_type": "stream",
          "name": "stderr",
          "text": [
            "\r[*********************100%***********************]  1 of 1 completed\n",
            "ERROR:yfinance:\n",
            "1 Failed download:\n",
            "ERROR:yfinance:['TSS']: YFTzMissingError('$%ticker%: possibly delisted; no timezone found')\n",
            "[*********************100%***********************]  1 of 1 completed\n"
          ]
        },
        {
          "output_type": "stream",
          "name": "stdout",
          "text": [
            "No data fetched for TSS, skipping.\n",
            "Fetching data for TWX...\n",
            "Saved data to enhancedata/TWX.csv\n",
            "Fetching data for TXN...\n"
          ]
        },
        {
          "output_type": "stream",
          "name": "stderr",
          "text": [
            "\r[*********************100%***********************]  1 of 1 completed\n"
          ]
        },
        {
          "output_type": "stream",
          "name": "stdout",
          "text": [
            "Saved data to enhancedata/TXN.csv\n",
            "Fetching data for TXT...\n"
          ]
        },
        {
          "output_type": "stream",
          "name": "stderr",
          "text": [
            "\r[*********************100%***********************]  1 of 1 completed\n"
          ]
        },
        {
          "output_type": "stream",
          "name": "stdout",
          "text": [
            "Saved data to enhancedata/TXT.csv\n",
            "Fetching data for T...\n"
          ]
        },
        {
          "output_type": "stream",
          "name": "stderr",
          "text": [
            "[*********************100%***********************]  1 of 1 completed\n",
            "[*********************100%***********************]  1 of 1 completed\n"
          ]
        },
        {
          "output_type": "stream",
          "name": "stdout",
          "text": [
            "Saved data to enhancedata/T.csv\n",
            "Fetching data for UAA...\n"
          ]
        },
        {
          "output_type": "stream",
          "name": "stderr",
          "text": [
            "\r[*********************100%***********************]  1 of 1 completed\n"
          ]
        },
        {
          "output_type": "stream",
          "name": "stdout",
          "text": [
            "Saved data to enhancedata/UAA.csv\n",
            "Fetching data for UAL...\n",
            "Saved data to enhancedata/UAL.csv\n",
            "Fetching data for UA...\n"
          ]
        },
        {
          "output_type": "stream",
          "name": "stderr",
          "text": [
            "[*********************100%***********************]  1 of 1 completed\n",
            "[*********************100%***********************]  1 of 1 completed"
          ]
        },
        {
          "output_type": "stream",
          "name": "stdout",
          "text": [
            "Saved data to enhancedata/UA.csv\n",
            "Fetching data for UDR...\n"
          ]
        },
        {
          "output_type": "stream",
          "name": "stderr",
          "text": [
            "\n",
            "[*********************100%***********************]  1 of 1 completed"
          ]
        },
        {
          "output_type": "stream",
          "name": "stdout",
          "text": [
            "Saved data to enhancedata/UDR.csv\n",
            "Fetching data for UHS...\n"
          ]
        },
        {
          "output_type": "stream",
          "name": "stderr",
          "text": [
            "\n",
            "[*********************100%***********************]  1 of 1 completed"
          ]
        },
        {
          "output_type": "stream",
          "name": "stdout",
          "text": [
            "Saved data to enhancedata/UHS.csv\n",
            "Fetching data for ULTA...\n"
          ]
        },
        {
          "output_type": "stream",
          "name": "stderr",
          "text": [
            "\n"
          ]
        },
        {
          "output_type": "stream",
          "name": "stdout",
          "text": [
            "Saved data to enhancedata/ULTA.csv\n",
            "Fetching data for UNH...\n"
          ]
        },
        {
          "output_type": "stream",
          "name": "stderr",
          "text": [
            "[*********************100%***********************]  1 of 1 completed\n",
            "[*********************100%***********************]  1 of 1 completed"
          ]
        },
        {
          "output_type": "stream",
          "name": "stdout",
          "text": [
            "Saved data to enhancedata/UNH.csv\n",
            "Fetching data for UNM...\n"
          ]
        },
        {
          "output_type": "stream",
          "name": "stderr",
          "text": [
            "\n",
            "[*********************100%***********************]  1 of 1 completed"
          ]
        },
        {
          "output_type": "stream",
          "name": "stdout",
          "text": [
            "Saved data to enhancedata/UNM.csv\n",
            "Fetching data for UNP...\n"
          ]
        },
        {
          "output_type": "stream",
          "name": "stderr",
          "text": [
            "\n",
            "[*********************100%***********************]  1 of 1 completed"
          ]
        },
        {
          "output_type": "stream",
          "name": "stdout",
          "text": [
            "Saved data to enhancedata/UNP.csv\n",
            "Fetching data for UPS...\n"
          ]
        },
        {
          "output_type": "stream",
          "name": "stderr",
          "text": [
            "\n",
            "[*********************100%***********************]  1 of 1 completed"
          ]
        },
        {
          "output_type": "stream",
          "name": "stdout",
          "text": [
            "Saved data to enhancedata/UPS.csv\n",
            "Fetching data for URI...\n"
          ]
        },
        {
          "output_type": "stream",
          "name": "stderr",
          "text": [
            "\n"
          ]
        },
        {
          "output_type": "stream",
          "name": "stdout",
          "text": [
            "Saved data to enhancedata/URI.csv\n",
            "Fetching data for USB...\n"
          ]
        },
        {
          "output_type": "stream",
          "name": "stderr",
          "text": [
            "\r[*********************100%***********************]  1 of 1 completed\n"
          ]
        },
        {
          "output_type": "stream",
          "name": "stdout",
          "text": [
            "Saved data to enhancedata/USB.csv\n",
            "Fetching data for UTX...\n"
          ]
        },
        {
          "output_type": "stream",
          "name": "stderr",
          "text": [
            "\r[*********************100%***********************]  1 of 1 completed\n",
            "ERROR:yfinance:\n",
            "1 Failed download:\n",
            "ERROR:yfinance:['UTX']: YFTzMissingError('$%ticker%: possibly delisted; no timezone found')\n"
          ]
        },
        {
          "output_type": "stream",
          "name": "stdout",
          "text": [
            "No data fetched for UTX, skipping.\n",
            "Fetching data for VAR...\n"
          ]
        },
        {
          "output_type": "stream",
          "name": "stderr",
          "text": [
            "\r[*********************100%***********************]  1 of 1 completed\n",
            "ERROR:yfinance:\n",
            "1 Failed download:\n",
            "ERROR:yfinance:['VAR']: YFTzMissingError('$%ticker%: possibly delisted; no timezone found')\n"
          ]
        },
        {
          "output_type": "stream",
          "name": "stdout",
          "text": [
            "No data fetched for VAR, skipping.\n",
            "Fetching data for VFC...\n"
          ]
        },
        {
          "output_type": "stream",
          "name": "stderr",
          "text": [
            "\r[*********************100%***********************]  1 of 1 completed\n"
          ]
        },
        {
          "output_type": "stream",
          "name": "stdout",
          "text": [
            "Saved data to enhancedata/VFC.csv\n",
            "Fetching data for VIAB...\n"
          ]
        },
        {
          "output_type": "stream",
          "name": "stderr",
          "text": [
            "\r[*********************100%***********************]  1 of 1 completed\n",
            "ERROR:yfinance:\n",
            "1 Failed download:\n",
            "ERROR:yfinance:['VIAB']: YFTzMissingError('$%ticker%: possibly delisted; no timezone found')\n"
          ]
        },
        {
          "output_type": "stream",
          "name": "stdout",
          "text": [
            "No data fetched for VIAB, skipping.\n",
            "Fetching data for VLO...\n"
          ]
        },
        {
          "output_type": "stream",
          "name": "stderr",
          "text": [
            "[*********************100%***********************]  1 of 1 completed\n",
            "[*********************100%***********************]  1 of 1 completed"
          ]
        },
        {
          "output_type": "stream",
          "name": "stdout",
          "text": [
            "Saved data to enhancedata/VLO.csv\n",
            "Fetching data for VMC...\n"
          ]
        },
        {
          "output_type": "stream",
          "name": "stderr",
          "text": [
            "\n"
          ]
        },
        {
          "output_type": "stream",
          "name": "stdout",
          "text": [
            "Saved data to enhancedata/VMC.csv\n",
            "Fetching data for VNO...\n"
          ]
        },
        {
          "output_type": "stream",
          "name": "stderr",
          "text": [
            "[*********************100%***********************]  1 of 1 completed\n",
            "[*********************100%***********************]  1 of 1 completed"
          ]
        },
        {
          "output_type": "stream",
          "name": "stdout",
          "text": [
            "Saved data to enhancedata/VNO.csv\n",
            "Fetching data for VRSK...\n"
          ]
        },
        {
          "output_type": "stream",
          "name": "stderr",
          "text": [
            "\n",
            "[*********************100%***********************]  1 of 1 completed"
          ]
        },
        {
          "output_type": "stream",
          "name": "stdout",
          "text": [
            "Saved data to enhancedata/VRSK.csv\n",
            "Fetching data for VRSN...\n"
          ]
        },
        {
          "output_type": "stream",
          "name": "stderr",
          "text": [
            "\n",
            "\r[*********************100%***********************]  1 of 1 completed\n"
          ]
        },
        {
          "output_type": "stream",
          "name": "stdout",
          "text": [
            "Saved data to enhancedata/VRSN.csv\n",
            "Fetching data for VRTX...\n",
            "Saved data to enhancedata/VRTX.csv\n",
            "Fetching data for VTR...\n"
          ]
        },
        {
          "output_type": "stream",
          "name": "stderr",
          "text": [
            "\r[*********************100%***********************]  1 of 1 completed\n"
          ]
        },
        {
          "output_type": "stream",
          "name": "stdout",
          "text": [
            "Saved data to enhancedata/VTR.csv\n",
            "Fetching data for VZ...\n"
          ]
        },
        {
          "output_type": "stream",
          "name": "stderr",
          "text": [
            "\r[*********************100%***********************]  1 of 1 completed\n"
          ]
        },
        {
          "output_type": "stream",
          "name": "stdout",
          "text": [
            "Saved data to enhancedata/VZ.csv\n",
            "Fetching data for V...\n"
          ]
        },
        {
          "output_type": "stream",
          "name": "stderr",
          "text": [
            "[*********************100%***********************]  1 of 1 completed\n",
            "[*********************100%***********************]  1 of 1 completed\n"
          ]
        },
        {
          "output_type": "stream",
          "name": "stdout",
          "text": [
            "Saved data to enhancedata/V.csv\n",
            "Fetching data for WAT...\n",
            "Saved data to enhancedata/WAT.csv\n",
            "Fetching data for WBA...\n"
          ]
        },
        {
          "output_type": "stream",
          "name": "stderr",
          "text": [
            "[*********************100%***********************]  1 of 1 completed\n",
            "[*********************100%***********************]  1 of 1 completed\n"
          ]
        },
        {
          "output_type": "stream",
          "name": "stdout",
          "text": [
            "Saved data to enhancedata/WBA.csv\n",
            "Fetching data for WDC...\n",
            "Saved data to enhancedata/WDC.csv\n",
            "Fetching data for WEC...\n"
          ]
        },
        {
          "output_type": "stream",
          "name": "stderr",
          "text": [
            "[*********************100%***********************]  1 of 1 completed\n",
            "[*********************100%***********************]  1 of 1 completed"
          ]
        },
        {
          "output_type": "stream",
          "name": "stdout",
          "text": [
            "Saved data to enhancedata/WEC.csv\n",
            "Fetching data for WFC...\n"
          ]
        },
        {
          "output_type": "stream",
          "name": "stderr",
          "text": [
            "\n",
            "[*********************100%***********************]  1 of 1 completed"
          ]
        },
        {
          "output_type": "stream",
          "name": "stdout",
          "text": [
            "Saved data to enhancedata/WFC.csv\n",
            "Fetching data for WHR...\n"
          ]
        },
        {
          "output_type": "stream",
          "name": "stderr",
          "text": [
            "\n"
          ]
        },
        {
          "output_type": "stream",
          "name": "stdout",
          "text": [
            "Saved data to enhancedata/WHR.csv\n",
            "Fetching data for WLTW...\n"
          ]
        },
        {
          "output_type": "stream",
          "name": "stderr",
          "text": [
            "\r[*********************100%***********************]  1 of 1 completed\n",
            "ERROR:yfinance:\n",
            "1 Failed download:\n",
            "ERROR:yfinance:['WLTW']: YFTzMissingError('$%ticker%: possibly delisted; no timezone found')\n"
          ]
        },
        {
          "output_type": "stream",
          "name": "stdout",
          "text": [
            "No data fetched for WLTW, skipping.\n",
            "Fetching data for WMB...\n"
          ]
        },
        {
          "output_type": "stream",
          "name": "stderr",
          "text": [
            "\r[*********************100%***********************]  1 of 1 completed\n"
          ]
        },
        {
          "output_type": "stream",
          "name": "stdout",
          "text": [
            "Saved data to enhancedata/WMB.csv\n",
            "Fetching data for WMT...\n"
          ]
        },
        {
          "output_type": "stream",
          "name": "stderr",
          "text": [
            "[*********************100%***********************]  1 of 1 completed\n",
            "[*********************100%***********************]  1 of 1 completed"
          ]
        },
        {
          "output_type": "stream",
          "name": "stdout",
          "text": [
            "Saved data to enhancedata/WMT.csv\n",
            "Fetching data for WM...\n"
          ]
        },
        {
          "output_type": "stream",
          "name": "stderr",
          "text": [
            "\n"
          ]
        },
        {
          "output_type": "stream",
          "name": "stdout",
          "text": [
            "Saved data to enhancedata/WM.csv\n",
            "Fetching data for WRK...\n"
          ]
        },
        {
          "output_type": "stream",
          "name": "stderr",
          "text": [
            "\r[*********************100%***********************]  1 of 1 completed\n",
            "ERROR:yfinance:\n",
            "1 Failed download:\n",
            "ERROR:yfinance:['WRK']: YFTzMissingError('$%ticker%: possibly delisted; no timezone found')\n",
            "[*********************100%***********************]  1 of 1 completed"
          ]
        },
        {
          "output_type": "stream",
          "name": "stdout",
          "text": [
            "No data fetched for WRK, skipping.\n",
            "Fetching data for WU...\n"
          ]
        },
        {
          "output_type": "stream",
          "name": "stderr",
          "text": [
            "\n",
            "[*********************100%***********************]  1 of 1 completed"
          ]
        },
        {
          "output_type": "stream",
          "name": "stdout",
          "text": [
            "Saved data to enhancedata/WU.csv\n",
            "Fetching data for WYNN...\n"
          ]
        },
        {
          "output_type": "stream",
          "name": "stderr",
          "text": [
            "\n",
            "\r[*********************100%***********************]  1 of 1 completed\n",
            "ERROR:yfinance:\n",
            "1 Failed download:\n",
            "ERROR:yfinance:['WYN']: YFPricesMissingError('$%ticker%: possibly delisted; no price data found  (1d 2010-01-01 -> 2024-12-06)')\n"
          ]
        },
        {
          "output_type": "stream",
          "name": "stdout",
          "text": [
            "Saved data to enhancedata/WYNN.csv\n",
            "Fetching data for WYN...\n",
            "No data fetched for WYN, skipping.\n",
            "Fetching data for WY...\n"
          ]
        },
        {
          "output_type": "stream",
          "name": "stderr",
          "text": [
            "\r[*********************100%***********************]  1 of 1 completed\n"
          ]
        },
        {
          "output_type": "stream",
          "name": "stdout",
          "text": [
            "Saved data to enhancedata/WY.csv\n",
            "Fetching data for XEC...\n"
          ]
        },
        {
          "output_type": "stream",
          "name": "stderr",
          "text": [
            "\r[*********************100%***********************]  1 of 1 completed\n",
            "ERROR:yfinance:\n",
            "1 Failed download:\n",
            "ERROR:yfinance:['XEC']: YFTzMissingError('$%ticker%: possibly delisted; no timezone found')\n"
          ]
        },
        {
          "output_type": "stream",
          "name": "stdout",
          "text": [
            "No data fetched for XEC, skipping.\n",
            "Fetching data for XEL...\n"
          ]
        },
        {
          "output_type": "stream",
          "name": "stderr",
          "text": [
            "\r[*********************100%***********************]  1 of 1 completed\n"
          ]
        },
        {
          "output_type": "stream",
          "name": "stdout",
          "text": [
            "Saved data to enhancedata/XEL.csv\n",
            "Fetching data for XLNX...\n"
          ]
        },
        {
          "output_type": "stream",
          "name": "stderr",
          "text": [
            "\r[*********************100%***********************]  1 of 1 completed\n",
            "ERROR:yfinance:\n",
            "1 Failed download:\n",
            "ERROR:yfinance:['XLNX']: YFTzMissingError('$%ticker%: possibly delisted; no timezone found')\n"
          ]
        },
        {
          "output_type": "stream",
          "name": "stdout",
          "text": [
            "No data fetched for XLNX, skipping.\n",
            "Fetching data for XL...\n"
          ]
        },
        {
          "output_type": "stream",
          "name": "stderr",
          "text": [
            "\r[*********************100%***********************]  1 of 1 completed\n",
            "ERROR:yfinance:\n",
            "1 Failed download:\n",
            "ERROR:yfinance:['XL']: YFTzMissingError('$%ticker%: possibly delisted; no timezone found')\n"
          ]
        },
        {
          "output_type": "stream",
          "name": "stdout",
          "text": [
            "No data fetched for XL, skipping.\n",
            "Fetching data for XOM...\n"
          ]
        },
        {
          "output_type": "stream",
          "name": "stderr",
          "text": [
            "[*********************100%***********************]  1 of 1 completed\n",
            "[*********************100%***********************]  1 of 1 completed"
          ]
        },
        {
          "output_type": "stream",
          "name": "stdout",
          "text": [
            "Saved data to enhancedata/XOM.csv\n",
            "Fetching data for XRAY...\n"
          ]
        },
        {
          "output_type": "stream",
          "name": "stderr",
          "text": [
            "\n"
          ]
        },
        {
          "output_type": "stream",
          "name": "stdout",
          "text": [
            "Saved data to enhancedata/XRAY.csv\n",
            "Fetching data for XRX...\n"
          ]
        },
        {
          "output_type": "stream",
          "name": "stderr",
          "text": [
            "[*********************100%***********************]  1 of 1 completed\n",
            "[*********************100%***********************]  1 of 1 completed\n"
          ]
        },
        {
          "output_type": "stream",
          "name": "stdout",
          "text": [
            "Saved data to enhancedata/XRX.csv\n",
            "Fetching data for XYL...\n",
            "Saved data to enhancedata/XYL.csv\n",
            "Fetching data for YUM...\n"
          ]
        },
        {
          "output_type": "stream",
          "name": "stderr",
          "text": [
            "[*********************100%***********************]  1 of 1 completed\n",
            "[*********************100%***********************]  1 of 1 completed"
          ]
        },
        {
          "output_type": "stream",
          "name": "stdout",
          "text": [
            "Saved data to enhancedata/YUM.csv\n",
            "Fetching data for ZBH...\n"
          ]
        },
        {
          "output_type": "stream",
          "name": "stderr",
          "text": [
            "\n",
            "[*********************100%***********************]  1 of 1 completed"
          ]
        },
        {
          "output_type": "stream",
          "name": "stdout",
          "text": [
            "Saved data to enhancedata/ZBH.csv\n",
            "Fetching data for ZION...\n"
          ]
        },
        {
          "output_type": "stream",
          "name": "stderr",
          "text": [
            "\n",
            "[*********************100%***********************]  1 of 1 completed"
          ]
        },
        {
          "output_type": "stream",
          "name": "stdout",
          "text": [
            "Saved data to enhancedata/ZION.csv\n",
            "Fetching data for ZTS...\n",
            "Saved data to enhancedata/ZTS.csv\n"
          ]
        },
        {
          "output_type": "stream",
          "name": "stderr",
          "text": [
            "\n"
          ]
        },
        {
          "output_type": "stream",
          "name": "stdout",
          "text": [
            "Processed and updated ADP.csv.\n",
            "Processed and updated INCY.csv.\n",
            "Processed and updated VZ.csv.\n",
            "Processed and updated HII.csv.\n",
            "Processed and updated WBA.csv.\n",
            "Processed and updated GPN.csv.\n",
            "Processed and updated KLAC.csv.\n",
            "Processed and updated ALK.csv.\n",
            "Processed and updated LYB.csv.\n",
            "Processed and updated AVY.csv.\n",
            "Processed and updated KEY.csv.\n",
            "Processed and updated AME.csv.\n",
            "Processed and updated ULTA.csv.\n",
            "Processed and updated SIG.csv.\n",
            "Processed and updated TSN.csv.\n",
            "Processed and updated ISRG.csv.\n",
            "Processed and updated STZ.csv.\n",
            "Processed and updated COL.csv.\n",
            "Processed and updated ABBV.csv.\n",
            "Processed and updated BAX.csv.\n",
            "Processed and updated NCLH.csv.\n",
            "Processed and updated COO.csv.\n",
            "Processed and updated SLG.csv.\n",
            "Processed and updated SPG.csv.\n",
            "Processed and updated AMT.csv.\n",
            "Processed and updated MNST.csv.\n",
            "Processed and updated NOC.csv.\n",
            "Processed and updated ARE.csv.\n",
            "Processed and updated PGR.csv.\n",
            "Processed and updated PKG.csv.\n",
            "Processed and updated UDR.csv.\n",
            "Processed and updated HRB.csv.\n",
            "Processed and updated RCL.csv.\n",
            "Processed and updated HES.csv.\n",
            "Processed and updated ORLY.csv.\n",
            "Processed and updated COTY.csv.\n",
            "Processed and updated SLB.csv.\n",
            "Processed and updated TRIP.csv.\n",
            "Processed and updated UAL.csv.\n",
            "Processed and updated AAL.csv.\n",
            "Processed and updated PNC.csv.\n",
            "Processed and updated BA.csv.\n",
            "Processed and updated AMP.csv.\n",
            "Processed and updated DIS.csv.\n",
            "Processed and updated FTI.csv.\n",
            "Processed and updated CME.csv.\n",
            "Processed and updated DXC.csv.\n",
            "Processed and updated TRV.csv.\n",
            "Processed and updated CLX.csv.\n",
            "Processed and updated CAG.csv.\n",
            "Processed and updated AMGN.csv.\n",
            "Processed and updated CAT.csv.\n",
            "Processed and updated HRL.csv.\n",
            "Processed and updated CDNS.csv.\n",
            "Processed and updated AIG.csv.\n",
            "Processed and updated MS.csv.\n",
            "Processed and updated PH.csv.\n",
            "Processed and updated RMD.csv.\n",
            "Processed and updated MLM.csv.\n",
            "Processed and updated GWW.csv.\n",
            "Processed and updated NWSA.csv.\n",
            "Processed and updated MDT.csv.\n",
            "Processed and updated ALL.csv.\n",
            "Processed and updated PSA.csv.\n",
            "Processed and updated FAST.csv.\n",
            "Processed and updated UNH.csv.\n",
            "Processed and updated CMI.csv.\n",
            "Processed and updated IDXX.csv.\n",
            "Processed and updated ROK.csv.\n",
            "Processed and updated DFS.csv.\n",
            "Processed and updated MET.csv.\n",
            "Processed and updated MRK.csv.\n",
            "Processed and updated BHF.csv.\n",
            "Processed and updated AMAT.csv.\n",
            "Processed and updated PAYX.csv.\n",
            "Processed and updated AJG.csv.\n",
            "Processed and updated AVGO.csv.\n",
            "Processed and updated TJX.csv.\n",
            "Processed and updated AEP.csv.\n",
            "Processed and updated WFC.csv.\n",
            "Processed and updated AMG.csv.\n",
            "Processed and updated CI.csv.\n",
            "Processed and updated MMM.csv.\n",
            "Processed and updated UA.csv.\n",
            "Processed and updated EL.csv.\n",
            "Processed and updated APTV.csv.\n",
            "Processed and updated L.csv.\n",
            "Processed and updated AFL.csv.\n",
            "Processed and updated A.csv.\n",
            "Processed and updated IR.csv.\n",
            "Processed and updated BMY.csv.\n",
            "Processed and updated ADI.csv.\n",
            "Processed and updated ABT.csv.\n",
            "Processed and updated MAS.csv.\n",
            "Processed and updated CCI.csv.\n",
            "Processed and updated CSX.csv.\n",
            "Processed and updated VRSN.csv.\n",
            "Processed and updated IPG.csv.\n",
            "Processed and updated VTR.csv.\n",
            "Processed and updated JNPR.csv.\n",
            "Processed and updated CF.csv.\n",
            "Processed and updated CPB.csv.\n",
            "Processed and updated WAT.csv.\n",
            "Processed and updated LMT.csv.\n",
            "Processed and updated ALB.csv.\n",
            "Processed and updated NWS.csv.\n",
            "Processed and updated DHR.csv.\n",
            "Processed and updated FTV.csv.\n",
            "Processed and updated FOXA.csv.\n",
            "Processed and updated WEC.csv.\n",
            "Processed and updated AMD.csv.\n",
            "Processed and updated SEE.csv.\n",
            "Processed and updated LNT.csv.\n",
            "Processed and updated UNM.csv.\n",
            "Processed and updated TWX.csv.\n",
            "Processed and updated PX.csv.\n",
            "Processed and updated AZO.csv.\n",
            "Processed and updated SO.csv.\n",
            "Processed and updated PM.csv.\n",
            "Processed and updated OKE.csv.\n",
            "Processed and updated PSX.csv.\n",
            "Processed and updated HPQ.csv.\n",
            "Processed and updated LUV.csv.\n",
            "Processed and updated V.csv.\n",
            "Processed and updated PWR.csv.\n",
            "Processed and updated JBHT.csv.\n",
            "Processed and updated ZION.csv.\n",
            "Processed and updated ANDV.csv.\n",
            "Processed and updated GOOG.csv.\n",
            "Processed and updated EVHC.csv.\n",
            "Processed and updated JWN.csv.\n",
            "Processed and updated LB.csv.\n",
            "Processed and updated KHC.csv.\n",
            "Processed and updated WMT.csv.\n",
            "Processed and updated D.csv.\n",
            "Processed and updated HUM.csv.\n",
            "Processed and updated TPR.csv.\n",
            "Processed and updated BK.csv.\n",
            "Processed and updated HSIC.csv.\n",
            "Processed and updated MCHP.csv.\n",
            "Processed and updated KO.csv.\n",
            "Processed and updated ALGN.csv.\n",
            "Processed and updated HST.csv.\n",
            "Processed and updated LNC.csv.\n",
            "Processed and updated MMC.csv.\n",
            "Processed and updated IP.csv.\n",
            "Processed and updated CMG.csv.\n",
            "Processed and updated NFX.csv.\n",
            "Processed and updated GLW.csv.\n",
            "Processed and updated TEL.csv.\n",
            "Processed and updated CSCO.csv.\n",
            "Processed and updated F.csv.\n",
            "Processed and updated CAH.csv.\n",
            "Processed and updated LLY.csv.\n",
            "Processed and updated OMC.csv.\n",
            "Processed and updated KIM.csv.\n",
            "Processed and updated INTC.csv.\n",
            "Processed and updated RHI.csv.\n",
            "Processed and updated BLK.csv.\n",
            "Processed and updated HCP.csv.\n",
            "Processed and updated IFF.csv.\n",
            "Processed and updated ESS.csv.\n",
            "Processed and updated GM.csv.\n",
            "Processed and updated NSC.csv.\n",
            "Processed and updated EMR.csv.\n",
            "Processed and updated BBY.csv.\n",
            "Processed and updated EQIX.csv.\n",
            "Processed and updated MSFT.csv.\n",
            "Processed and updated HIG.csv.\n",
            "Processed and updated STT.csv.\n",
            "Processed and updated ORCL.csv.\n",
            "Processed and updated HLT.csv.\n",
            "Processed and updated GD.csv.\n",
            "Processed and updated KR.csv.\n",
            "Processed and updated FCX.csv.\n",
            "Processed and updated MPC.csv.\n",
            "Processed and updated EIX.csv.\n",
            "Processed and updated IBM.csv.\n",
            "Processed and updated ETR.csv.\n",
            "Processed and updated PRGO.csv.\n",
            "Processed and updated SCHW.csv.\n",
            "Processed and updated BXP.csv.\n",
            "Processed and updated KSS.csv.\n",
            "Processed and updated ICE.csv.\n",
            "Processed and updated ZTS.csv.\n",
            "Processed and updated MCK.csv.\n",
            "Processed and updated HBI.csv.\n",
            "Processed and updated SWKS.csv.\n",
            "Processed and updated HD.csv.\n",
            "Processed and updated NFLX.csv.\n",
            "Processed and updated T.csv.\n",
            "Processed and updated LRCX.csv.\n",
            "Processed and updated BWA.csv.\n",
            "Processed and updated HOLX.csv.\n",
            "Processed and updated CHD.csv.\n",
            "Processed and updated WY.csv.\n",
            "Processed and updated ROST.csv.\n",
            "Processed and updated QCOM.csv.\n",
            "Processed and updated AES.csv.\n",
            "Processed and updated CBOE.csv.\n",
            "Processed and updated ADM.csv.\n",
            "Processed and updated SBAC.csv.\n",
            "Processed and updated MO.csv.\n",
            "Processed and updated MCO.csv.\n",
            "Processed and updated TDG.csv.\n",
            "Processed and updated EBAY.csv.\n",
            "Processed and updated ZBH.csv.\n",
            "Processed and updated GS.csv.\n",
            "Processed and updated PYPL.csv.\n",
            "Processed and updated DUK.csv.\n",
            "Processed and updated AAPL.csv.\n",
            "Processed and updated XYL.csv.\n",
            "Processed and updated TAP.csv.\n",
            "Processed and updated FLR.csv.\n",
            "Processed and updated PFE.csv.\n",
            "Processed and updated WDC.csv.\n",
            "Processed and updated AMZN.csv.\n",
            "Processed and updated HBAN.csv.\n",
            "Processed and updated MTD.csv.\n",
            "Processed and updated EXPD.csv.\n",
            "Processed and updated XOM.csv.\n",
            "Processed and updated TGT.csv.\n",
            "Processed and updated STX.csv.\n",
            "Processed and updated HP.csv.\n",
            "Processed and updated NAVI.csv.\n",
            "Processed and updated WMB.csv.\n",
            "Processed and updated EQR.csv.\n",
            "Processed and updated CRM.csv.\n",
            "Processed and updated SYF.csv.\n",
            "Processed and updated AVB.csv.\n",
            "Processed and updated PHM.csv.\n",
            "Processed and updated PCG.csv.\n",
            "Processed and updated IT.csv.\n",
            "Processed and updated ALLE.csv.\n",
            "Processed and updated CTAS.csv.\n",
            "Processed and updated DVN.csv.\n",
            "Processed and updated UAA.csv.\n",
            "Processed and updated CMCSA.csv.\n",
            "Processed and updated ILMN.csv.\n",
            "Processed and updated DTE.csv.\n",
            "Processed and updated PRU.csv.\n",
            "Processed and updated COF.csv.\n",
            "Processed and updated DG.csv.\n",
            "Processed and updated DOV.csv.\n",
            "Processed and updated ECL.csv.\n",
            "Processed and updated REGN.csv.\n",
            "Processed and updated HPE.csv.\n",
            "Processed and updated CVS.csv.\n",
            "Processed and updated REG.csv.\n",
            "Processed and updated RJF.csv.\n",
            "Processed and updated SHW.csv.\n",
            "Processed and updated SPGI.csv.\n",
            "Processed and updated SNPS.csv.\n",
            "Processed and updated NEE.csv.\n",
            "Processed and updated GRMN.csv.\n",
            "Processed and updated CNC.csv.\n",
            "Processed and updated LEG.csv.\n",
            "Processed and updated COST.csv.\n",
            "Processed and updated EOG.csv.\n",
            "Processed and updated AXP.csv.\n",
            "Processed and updated NRG.csv.\n",
            "Processed and updated AYI.csv.\n",
            "Processed and updated SRE.csv.\n",
            "Processed and updated JPM.csv.\n",
            "Processed and updated INTU.csv.\n",
            "Processed and updated VNO.csv.\n",
            "Processed and updated ES.csv.\n",
            "Processed and updated K.csv.\n",
            "Processed and updated NKE.csv.\n",
            "Processed and updated HOG.csv.\n",
            "Processed and updated DAL.csv.\n",
            "Processed and updated STI.csv.\n",
            "Processed and updated KMI.csv.\n",
            "Processed and updated WYNN.csv.\n",
            "Processed and updated CB.csv.\n",
            "Processed and updated RRC.csv.\n",
            "Processed and updated DVA.csv.\n",
            "Processed and updated APD.csv.\n",
            "Processed and updated EFX.csv.\n",
            "Processed and updated MDLZ.csv.\n",
            "Processed and updated KMB.csv.\n",
            "Processed and updated MSI.csv.\n",
            "Processed and updated SCG.csv.\n",
            "Processed and updated FMC.csv.\n",
            "Processed and updated ETN.csv.\n",
            "Processed and updated SNI.csv.\n",
            "Processed and updated CMS.csv.\n",
            "Processed and updated HSY.csv.\n",
            "Processed and updated CHRW.csv.\n",
            "Processed and updated SBUX.csv.\n",
            "Processed and updated UPS.csv.\n",
            "Processed and updated ANSS.csv.\n",
            "Processed and updated ITW.csv.\n",
            "Processed and updated FLS.csv.\n",
            "Processed and updated BDX.csv.\n",
            "Processed and updated ACN.csv.\n",
            "Processed and updated PLD.csv.\n",
            "Processed and updated XRX.csv.\n",
            "Processed and updated MU.csv.\n",
            "Processed and updated SYK.csv.\n",
            "Processed and updated PVH.csv.\n",
            "Processed and updated LH.csv.\n",
            "Processed and updated APH.csv.\n",
            "Processed and updated PEP.csv.\n",
            "Processed and updated NUE.csv.\n",
            "Processed and updated HAS.csv.\n",
            "Processed and updated TSCO.csv.\n",
            "Processed and updated URI.csv.\n",
            "Processed and updated VLO.csv.\n",
            "Processed and updated SNA.csv.\n",
            "Processed and updated FRT.csv.\n",
            "Processed and updated CSRA.csv.\n",
            "Processed and updated FOX.csv.\n",
            "Processed and updated USB.csv.\n",
            "Processed and updated ROP.csv.\n",
            "Processed and updated MHK.csv.\n",
            "Processed and updated NI.csv.\n",
            "Processed and updated MOS.csv.\n",
            "Processed and updated WHR.csv.\n",
            "Processed and updated PCAR.csv.\n",
            "Processed and updated EXC.csv.\n",
            "Processed and updated SRCL.csv.\n",
            "Processed and updated FE.csv.\n",
            "Processed and updated PNR.csv.\n",
            "Processed and updated OXY.csv.\n",
            "Processed and updated O.csv.\n",
            "Processed and updated VFC.csv.\n",
            "Processed and updated M.csv.\n",
            "Processed and updated EQT.csv.\n",
            "Processed and updated TXT.csv.\n",
            "Processed and updated FFIV.csv.\n",
            "Processed and updated XEL.csv.\n",
            "Processed and updated SYY.csv.\n",
            "Processed and updated MAT.csv.\n",
            "Processed and updated RF.csv.\n",
            "Processed and updated MAA.csv.\n",
            "Processed and updated BAC.csv.\n",
            "Processed and updated JNJ.csv.\n",
            "Processed and updated AOS.csv.\n",
            "Processed and updated ADSK.csv.\n",
            "Processed and updated MTB.csv.\n",
            "Processed and updated HON.csv.\n",
            "Processed and updated GPC.csv.\n",
            "Processed and updated AIZ.csv.\n",
            "Processed and updated BEN.csv.\n",
            "Processed and updated NVDA.csv.\n",
            "Processed and updated CNP.csv.\n",
            "Processed and updated MAC.csv.\n",
            "Processed and updated GOOGL.csv.\n",
            "Processed and updated MKC.csv.\n",
            "Processed and updated NWL.csv.\n",
            "Processed and updated GIS.csv.\n",
            "Processed and updated AAP.csv.\n",
            "Processed and updated COP.csv.\n",
            "Processed and updated DRI.csv.\n",
            "Processed and updated XRAY.csv.\n",
            "Processed and updated FDX.csv.\n",
            "Processed and updated EMN.csv.\n",
            "Processed and updated PPG.csv.\n",
            "Processed and updated ED.csv.\n",
            "Processed and updated VMC.csv.\n",
            "Processed and updated TROW.csv.\n",
            "Processed and updated ESRX.csv.\n",
            "Processed and updated RSG.csv.\n",
            "Processed and updated GILD.csv.\n",
            "Processed and updated DE.csv.\n",
            "Processed and updated IRM.csv.\n",
            "Processed and updated WM.csv.\n",
            "Processed and updated TMO.csv.\n",
            "Processed and updated RL.csv.\n",
            "Processed and updated INFO.csv.\n",
            "Processed and updated DLTR.csv.\n",
            "Processed and updated CL.csv.\n",
            "Processed and updated C.csv.\n",
            "Processed and updated CTSH.csv.\n",
            "Processed and updated APA.csv.\n",
            "Processed and updated AET.csv.\n",
            "Processed and updated FIS.csv.\n",
            "Processed and updated EXPE.csv.\n",
            "Processed and updated AIV.csv.\n",
            "Processed and updated WU.csv.\n",
            "Processed and updated SJM.csv.\n",
            "Processed and updated PFG.csv.\n",
            "Processed and updated NOV.csv.\n",
            "Processed and updated VRTX.csv.\n",
            "Processed and updated MRO.csv.\n",
            "Processed and updated VRSK.csv.\n",
            "Processed and updated NTAP.csv.\n",
            "Processed and updated PPL.csv.\n",
            "Processed and updated DHI.csv.\n",
            "Processed and updated DGX.csv.\n",
            "Processed and updated CMA.csv.\n",
            "Processed and updated BSX.csv.\n",
            "Processed and updated PG.csv.\n",
            "Processed and updated MCD.csv.\n",
            "Processed and updated SWK.csv.\n",
            "Processed and updated UHS.csv.\n",
            "Processed and updated KMX.csv.\n",
            "Processed and updated NTRS.csv.\n",
            "Processed and updated LOW.csv.\n",
            "Processed and updated LKQ.csv.\n",
            "Processed and updated AON.csv.\n",
            "Processed and updated CINF.csv.\n",
            "Processed and updated NDAQ.csv.\n",
            "Processed and updated DLR.csv.\n",
            "Processed and updated AWK.csv.\n",
            "Processed and updated CA.csv.\n",
            "Processed and updated BIIB.csv.\n",
            "Processed and updated FISV.csv.\n",
            "Processed and updated GE.csv.\n",
            "Processed and updated CHTR.csv.\n",
            "Processed and updated JCI.csv.\n",
            "Processed and updated MGM.csv.\n",
            "Processed and updated ADBE.csv.\n",
            "Processed and updated FL.csv.\n",
            "Processed and updated IQV.csv.\n",
            "Processed and updated HCA.csv.\n",
            "Processed and updated CVX.csv.\n",
            "Processed and updated IVZ.csv.\n",
            "Processed and updated MAR.csv.\n",
            "Processed and updated MA.csv.\n",
            "Processed and updated EXR.csv.\n",
            "Processed and updated AEE.csv.\n",
            "Processed and updated QRVO.csv.\n",
            "Processed and updated CCL.csv.\n",
            "Processed and updated TXN.csv.\n",
            "Processed and updated UNP.csv.\n",
            "Processed and updated NEM.csv.\n",
            "Processed and updated LEN.csv.\n",
            "Processed and updated CFG.csv.\n",
            "Processed and updated EW.csv.\n",
            "Processed and updated HAL.csv.\n",
            "Processed and updated PDCO.csv.\n",
            "Processed and updated PEG.csv.\n",
            "Processed and updated PNW.csv.\n",
            "Processed and updated GT.csv.\n",
            "Processed and updated EA.csv.\n",
            "Processed and updated FITB.csv.\n",
            "Processed and updated YUM.csv.\n",
            "Processed and updated AKAM.csv.\n",
            "Symbols to process: ['AAL' 'AAPL' 'AAP' 'ABBV' 'ABC' 'ABT' 'ACN' 'ADBE' 'ADI' 'ADM' 'ADP'\n",
            " 'ADSK' 'ADS' 'AEE' 'AEP' 'AES' 'AET' 'AFL' 'AGN' 'AIG' 'AIV' 'AIZ' 'AJG'\n",
            " 'AKAM' 'ALB' 'ALGN' 'ALK' 'ALLE' 'ALL' 'ALXN' 'AMAT' 'AMD' 'AME' 'AMGN'\n",
            " 'AMG' 'AMP' 'AMT' 'AMZN' 'ANDV' 'ANSS' 'ANTM' 'AON' 'AOS' 'APA' 'APC'\n",
            " 'APD' 'APH' 'APTV' 'ARE' 'ARNC' 'ATVI' 'AVB' 'AVGO' 'AVY' 'AWK' 'AXP'\n",
            " 'AYI' 'AZO' 'A' 'BAC' 'BAX' 'BA' 'BBT' 'BBY' 'BDX' 'BEN' 'BF.B' 'BHF'\n",
            " 'BHGE' 'BIIB' 'BK' 'BLK' 'BLL' 'BMY' 'BRK.B' 'BSX' 'BWA' 'BXP' 'CAG'\n",
            " 'CAH' 'CAT' 'CA' 'CBG' 'CBOE' 'CBS' 'CB' 'CCI' 'CCL' 'CDNS' 'CELG' 'CERN'\n",
            " 'CFG' 'CF' 'CHD' 'CHK' 'CHRW' 'CHTR' 'CINF' 'CI' 'CLX' 'CL' 'CMA' 'CMCSA'\n",
            " 'CME' 'CMG' 'CMI' 'CMS' 'CNC' 'CNP' 'COF' 'COG' 'COL' 'COO' 'COP' 'COST'\n",
            " 'COTY' 'CPB' 'CRM' 'CSCO' 'CSRA' 'CSX' 'CTAS' 'CTL' 'CTSH' 'CTXS' 'CVS'\n",
            " 'CVX' 'CXO' 'C' 'DAL' 'DE' 'DFS' 'DGX' 'DG' 'DHI' 'DHR' 'DISCA' 'DISCK'\n",
            " 'DISH' 'DIS' 'DLR' 'DLTR' 'DOV' 'DPS' 'DRE' 'DRI' 'DTE' 'DUK' 'DVA' 'DVN'\n",
            " 'DWDP' 'DXC' 'D' 'EA' 'EBAY' 'ECL' 'ED' 'EFX' 'EIX' 'EL' 'EMN' 'EMR'\n",
            " 'EOG' 'EQIX' 'EQR' 'EQT' 'ESRX' 'ESS' 'ES' 'ETFC' 'ETN' 'ETR' 'EVHC' 'EW'\n",
            " 'EXC' 'EXPD' 'EXPE' 'EXR' 'FAST' 'FBHS' 'FB' 'FCX' 'FDX' 'FE' 'FFIV'\n",
            " 'FISV' 'FIS' 'FITB' 'FLIR' 'FLR' 'FLS' 'FL' 'FMC' 'FOXA' 'FOX' 'FRT'\n",
            " 'FTI' 'FTV' 'F' 'GD' 'GE' 'GGP' 'GILD' 'GIS' 'GLW' 'GM' 'GOOGL' 'GOOG'\n",
            " 'GPC' 'GPN' 'GPS' 'GRMN' 'GS' 'GT' 'GWW' 'HAL' 'HAS' 'HBAN' 'HBI' 'HCA'\n",
            " 'HCN' 'HCP' 'HD' 'HES' 'HIG' 'HII' 'HLT' 'HOG' 'HOLX' 'HON' 'HPE' 'HPQ'\n",
            " 'HP' 'HRB' 'HRL' 'HRS' 'HSIC' 'HST' 'HSY' 'HUM' 'IBM' 'ICE' 'IDXX' 'IFF'\n",
            " 'ILMN' 'INCY' 'INFO' 'INTC' 'INTU' 'IPG' 'IP' 'IQV' 'IRM' 'IR' 'ISRG'\n",
            " 'ITW' 'IT' 'IVZ' 'JBHT' 'JCI' 'JEC' 'JNJ' 'JNPR' 'JPM' 'JWN' 'KEY' 'KHC'\n",
            " 'KIM' 'KLAC' 'KMB' 'KMI' 'KMX' 'KORS' 'KO' 'KR' 'KSS' 'KSU' 'K' 'LB'\n",
            " 'LEG' 'LEN' 'LH' 'LKQ' 'LLL' 'LLY' 'LMT' 'LNC' 'LNT' 'LOW' 'LRCX' 'LUK'\n",
            " 'LUV' 'LYB' 'L' 'MAA' 'MAC' 'MAR' 'MAS' 'MAT' 'MA' 'MCD' 'MCHP' 'MCK'\n",
            " 'MCO' 'MDLZ' 'MDT' 'MET' 'MGM' 'MHK' 'MKC' 'MLM' 'MMC' 'MMM' 'MNST' 'MON'\n",
            " 'MOS' 'MO' 'MPC' 'MRK' 'MRO' 'MSFT' 'MSI' 'MS' 'MTB' 'MTD' 'MU' 'MYL' 'M'\n",
            " 'NAVI' 'NBL' 'NCLH' 'NDAQ' 'NEE' 'NEM' 'NFLX' 'NFX' 'NI' 'NKE' 'NLSN'\n",
            " 'NOC' 'NOV' 'NRG' 'NSC' 'NTAP' 'NTRS' 'NUE' 'NVDA' 'NWL' 'NWSA' 'NWS'\n",
            " 'OKE' 'OMC' 'ORCL' 'ORLY' 'OXY' 'O' 'PAYX' 'PBCT' 'PCAR' 'PCG' 'PCLN'\n",
            " 'PDCO' 'PEG' 'PEP' 'PFE' 'PFG' 'PGR' 'PG' 'PHM' 'PH' 'PKG' 'PKI' 'PLD'\n",
            " 'PM' 'PNC' 'PNR' 'PNW' 'PPG' 'PPL' 'PRGO' 'PRU' 'PSA' 'PSX' 'PVH' 'PWR'\n",
            " 'PXD' 'PX' 'PYPL' 'QCOM' 'QRVO' 'RCL' 'REGN' 'REG' 'RE' 'RF' 'RHI' 'RHT'\n",
            " 'RJF' 'RL' 'RMD' 'ROK' 'ROP' 'ROST' 'RRC' 'RSG' 'RTN' 'SBAC' 'SBUX' 'SCG'\n",
            " 'SCHW' 'SEE' 'SHW' 'SIG' 'SJM' 'SLB' 'SLG' 'SNA' 'SNI' 'SNPS' 'SO' 'SPGI'\n",
            " 'SPG' 'SRCL' 'SRE' 'STI' 'STT' 'STX' 'STZ' 'SWKS' 'SWK' 'SYF' 'SYK'\n",
            " 'SYMC' 'SYY' 'TAP' 'TDG' 'TEL' 'TGT' 'TIF' 'TJX' 'TMK' 'TMO' 'TPR' 'TRIP'\n",
            " 'TROW' 'TRV' 'TSCO' 'TSN' 'TSS' 'TWX' 'TXN' 'TXT' 'T' 'UAA' 'UAL' 'UA'\n",
            " 'UDR' 'UHS' 'ULTA' 'UNH' 'UNM' 'UNP' 'UPS' 'URI' 'USB' 'UTX' 'VAR' 'VFC'\n",
            " 'VIAB' 'VLO' 'VMC' 'VNO' 'VRSK' 'VRSN' 'VRTX' 'VTR' 'VZ' 'V' 'WAT' 'WBA'\n",
            " 'WDC' 'WEC' 'WFC' 'WHR' 'WLTW' 'WMB' 'WMT' 'WM' 'WRK' 'WU' 'WYNN' 'WYN'\n",
            " 'WY' 'XEC' 'XEL' 'XLNX' 'XL' 'XOM' 'XRAY' 'XRX' 'XYL' 'YUM' 'ZBH' 'ZION'\n",
            " 'ZTS']\n",
            "StockEnhanceDataSet [AAL] train: 3354 test: 373\n",
            "StockEnhanceDataSet [AAPL] train: 3354 test: 373\n",
            "StockEnhanceDataSet [AAP] train: 3354 test: 373\n",
            "StockEnhanceDataSet [ABBV] train: 2675 test: 298\n",
            "Skipping ABC: File too small or does not exist.\n",
            "StockEnhanceDataSet [ABC] has insufficient data.\n",
            "StockEnhanceDataSet [ABT] train: 3354 test: 373\n",
            "StockEnhanceDataSet [ACN] train: 3354 test: 373\n",
            "StockEnhanceDataSet [ADBE] train: 3354 test: 373\n",
            "StockEnhanceDataSet [ADI] train: 3354 test: 373\n",
            "StockEnhanceDataSet [ADM] train: 3354 test: 373\n",
            "StockEnhanceDataSet [ADP] train: 3354 test: 373\n",
            "StockEnhanceDataSet [ADSK] train: 3354 test: 373\n",
            "Skipping ADS: File too small or does not exist.\n",
            "StockEnhanceDataSet [ADS] has insufficient data.\n",
            "StockEnhanceDataSet [AEE] train: 3354 test: 373\n",
            "StockEnhanceDataSet [AEP] train: 3354 test: 373\n",
            "StockEnhanceDataSet [AES] train: 3354 test: 373\n",
            "StockEnhanceDataSet [AET] train: 1992 test: 222\n",
            "StockEnhanceDataSet [AFL] train: 3354 test: 373\n",
            "Skipping AGN: File too small or does not exist.\n",
            "StockEnhanceDataSet [AGN] has insufficient data.\n",
            "StockEnhanceDataSet [AIG] train: 3354 test: 373\n",
            "StockEnhanceDataSet [AIV] train: 3354 test: 373\n",
            "StockEnhanceDataSet [AIZ] train: 3354 test: 373\n",
            "StockEnhanceDataSet [AJG] train: 3354 test: 373\n",
            "StockEnhanceDataSet [AKAM] train: 3354 test: 373\n",
            "StockEnhanceDataSet [ALB] train: 3354 test: 373\n",
            "StockEnhanceDataSet [ALGN] train: 3354 test: 373\n",
            "StockEnhanceDataSet [ALK] train: 3354 test: 373\n",
            "StockEnhanceDataSet [ALLE] train: 2475 test: 276\n",
            "StockEnhanceDataSet [ALL] train: 3354 test: 373\n",
            "Skipping ALXN: File too small or does not exist.\n",
            "StockEnhanceDataSet [ALXN] has insufficient data.\n",
            "StockEnhanceDataSet [AMAT] train: 3354 test: 373\n",
            "StockEnhanceDataSet [AMD] train: 3354 test: 373\n",
            "StockEnhanceDataSet [AME] train: 3354 test: 373\n",
            "StockEnhanceDataSet [AMGN] train: 3354 test: 373\n",
            "StockEnhanceDataSet [AMG] train: 3354 test: 373\n",
            "StockEnhanceDataSet [AMP] train: 3354 test: 373\n",
            "StockEnhanceDataSet [AMT] train: 3354 test: 373\n",
            "StockEnhanceDataSet [AMZN] train: 3354 test: 373\n",
            "StockEnhanceDataSet [ANDV] train: 1953 test: 218\n",
            "StockEnhanceDataSet [ANSS] train: 3354 test: 373\n",
            "Skipping ANTM: File too small or does not exist.\n",
            "StockEnhanceDataSet [ANTM] has insufficient data.\n",
            "StockEnhanceDataSet [AON] train: 3354 test: 373\n",
            "StockEnhanceDataSet [AOS] train: 3354 test: 373\n",
            "StockEnhanceDataSet [APA] train: 3354 test: 373\n",
            "Skipping APC: File too small or does not exist.\n",
            "StockEnhanceDataSet [APC] has insufficient data.\n",
            "StockEnhanceDataSet [APD] train: 3354 test: 373\n",
            "StockEnhanceDataSet [APH] train: 3354 test: 373\n",
            "StockEnhanceDataSet [APTV] train: 2927 test: 326\n",
            "StockEnhanceDataSet [ARE] train: 3354 test: 373\n",
            "Skipping ARNC: File too small or does not exist.\n",
            "StockEnhanceDataSet [ARNC] has insufficient data.\n",
            "Skipping ATVI: File too small or does not exist.\n",
            "StockEnhanceDataSet [ATVI] has insufficient data.\n",
            "StockEnhanceDataSet [AVB] train: 3354 test: 373\n",
            "StockEnhanceDataSet [AVGO] train: 3354 test: 373\n",
            "StockEnhanceDataSet [AVY] train: 3354 test: 373\n",
            "StockEnhanceDataSet [AWK] train: 3354 test: 373\n",
            "StockEnhanceDataSet [AXP] train: 3354 test: 373\n",
            "StockEnhanceDataSet [AYI] train: 3354 test: 373\n",
            "StockEnhanceDataSet [AZO] train: 3354 test: 373\n",
            "StockEnhanceDataSet [A] train: 3354 test: 373\n",
            "StockEnhanceDataSet [BAC] train: 3354 test: 373\n",
            "StockEnhanceDataSet [BAX] train: 3354 test: 373\n",
            "StockEnhanceDataSet [BA] train: 3354 test: 373\n",
            "Skipping BBT: File too small or does not exist.\n",
            "StockEnhanceDataSet [BBT] has insufficient data.\n",
            "StockEnhanceDataSet [BBY] train: 3354 test: 373\n",
            "StockEnhanceDataSet [BDX] train: 3354 test: 373\n",
            "StockEnhanceDataSet [BEN] train: 3354 test: 373\n",
            "Skipping BF.B: File too small or does not exist.\n",
            "StockEnhanceDataSet [BF.B] has insufficient data.\n",
            "StockEnhanceDataSet [BHF] train: 1647 test: 184\n",
            "Skipping BHGE: File too small or does not exist.\n",
            "StockEnhanceDataSet [BHGE] has insufficient data.\n",
            "StockEnhanceDataSet [BIIB] train: 3354 test: 373\n",
            "StockEnhanceDataSet [BK] train: 3354 test: 373\n",
            "StockEnhanceDataSet [BLK] train: 3354 test: 373\n",
            "Skipping BLL: File too small or does not exist.\n",
            "StockEnhanceDataSet [BLL] has insufficient data.\n",
            "StockEnhanceDataSet [BMY] train: 3354 test: 373\n",
            "Skipping BRK.B: File too small or does not exist.\n",
            "StockEnhanceDataSet [BRK.B] has insufficient data.\n",
            "StockEnhanceDataSet [BSX] train: 3354 test: 373\n",
            "StockEnhanceDataSet [BWA] train: 3354 test: 373\n",
            "StockEnhanceDataSet [BXP] train: 3354 test: 373\n",
            "StockEnhanceDataSet [CAG] train: 3354 test: 373\n",
            "StockEnhanceDataSet [CAH] train: 3354 test: 373\n",
            "StockEnhanceDataSet [CAT] train: 3354 test: 373\n",
            "StockEnhanceDataSet [CA] train: 191 test: 22\n",
            "Skipping CBG: File too small or does not exist.\n",
            "StockEnhanceDataSet [CBG] has insufficient data.\n",
            "StockEnhanceDataSet [CBOE] train: 3253 test: 362\n",
            "Skipping CBS: File too small or does not exist.\n",
            "StockEnhanceDataSet [CBS] has insufficient data.\n",
            "StockEnhanceDataSet [CB] train: 3354 test: 373\n",
            "StockEnhanceDataSet [CCI] train: 3354 test: 373\n",
            "StockEnhanceDataSet [CCL] train: 3354 test: 373\n",
            "StockEnhanceDataSet [CDNS] train: 3354 test: 373\n",
            "Skipping CELG: File too small or does not exist.\n",
            "StockEnhanceDataSet [CELG] has insufficient data.\n",
            "Skipping CERN: File too small or does not exist.\n",
            "StockEnhanceDataSet [CERN] has insufficient data.\n",
            "StockEnhanceDataSet [CFG] train: 2284 test: 254\n",
            "StockEnhanceDataSet [CF] train: 3354 test: 373\n",
            "StockEnhanceDataSet [CHD] train: 3354 test: 373\n",
            "Skipping CHK: File too small or does not exist.\n",
            "StockEnhanceDataSet [CHK] has insufficient data.\n",
            "StockEnhanceDataSet [CHRW] train: 3354 test: 373\n",
            "StockEnhanceDataSet [CHTR] train: 3353 test: 373\n",
            "StockEnhanceDataSet [CINF] train: 3354 test: 373\n",
            "StockEnhanceDataSet [CI] train: 3354 test: 373\n",
            "StockEnhanceDataSet [CLX] train: 3354 test: 373\n",
            "StockEnhanceDataSet [CL] train: 3354 test: 373\n",
            "StockEnhanceDataSet [CMA] train: 3354 test: 373\n",
            "StockEnhanceDataSet [CMCSA] train: 3354 test: 373\n",
            "StockEnhanceDataSet [CME] train: 3354 test: 373\n",
            "StockEnhanceDataSet [CMG] train: 3354 test: 373\n",
            "StockEnhanceDataSet [CMI] train: 3354 test: 373\n",
            "StockEnhanceDataSet [CMS] train: 3354 test: 373\n",
            "StockEnhanceDataSet [CNC] train: 3354 test: 373\n",
            "StockEnhanceDataSet [CNP] train: 3354 test: 373\n",
            "StockEnhanceDataSet [COF] train: 3354 test: 373\n",
            "Skipping COG: File too small or does not exist.\n",
            "StockEnhanceDataSet [COG] has insufficient data.\n",
            "StockEnhanceDataSet [COL] train: 1826 test: 203\n",
            "StockEnhanceDataSet [COO] train: 3354 test: 373\n",
            "StockEnhanceDataSet [COP] train: 3354 test: 373\n",
            "StockEnhanceDataSet [COST] train: 3354 test: 373\n",
            "StockEnhanceDataSet [COTY] train: 2574 test: 287\n",
            "StockEnhanceDataSet [CPB] train: 3354 test: 373\n",
            "StockEnhanceDataSet [CRM] train: 3354 test: 373\n",
            "StockEnhanceDataSet [CSCO] train: 3354 test: 373\n",
            "StockEnhanceDataSet [CSRA] train: 511 test: 57\n",
            "StockEnhanceDataSet [CSX] train: 3354 test: 373\n",
            "StockEnhanceDataSet [CTAS] train: 3354 test: 373\n",
            "Skipping CTL: File too small or does not exist.\n",
            "StockEnhanceDataSet [CTL] has insufficient data.\n",
            "StockEnhanceDataSet [CTSH] train: 3354 test: 373\n",
            "Skipping CTXS: File too small or does not exist.\n",
            "StockEnhanceDataSet [CTXS] has insufficient data.\n",
            "StockEnhanceDataSet [CVS] train: 3354 test: 373\n",
            "StockEnhanceDataSet [CVX] train: 3354 test: 373\n",
            "Skipping CXO: File too small or does not exist.\n",
            "StockEnhanceDataSet [CXO] has insufficient data.\n",
            "StockEnhanceDataSet [C] train: 3354 test: 373\n",
            "StockEnhanceDataSet [DAL] train: 3354 test: 373\n",
            "StockEnhanceDataSet [DE] train: 3354 test: 373\n",
            "StockEnhanceDataSet [DFS] train: 3354 test: 373\n",
            "StockEnhanceDataSet [DGX] train: 3354 test: 373\n",
            "StockEnhanceDataSet [DG] train: 3354 test: 373\n",
            "StockEnhanceDataSet [DHI] train: 3354 test: 373\n",
            "StockEnhanceDataSet [DHR] train: 3354 test: 373\n",
            "Skipping DISCA: File too small or does not exist.\n",
            "StockEnhanceDataSet [DISCA] has insufficient data.\n",
            "Skipping DISCK: File too small or does not exist.\n",
            "StockEnhanceDataSet [DISCK] has insufficient data.\n",
            "Skipping DISH: File too small or does not exist.\n",
            "StockEnhanceDataSet [DISH] has insufficient data.\n",
            "StockEnhanceDataSet [DIS] train: 3354 test: 373\n",
            "StockEnhanceDataSet [DLR] train: 3354 test: 373\n",
            "StockEnhanceDataSet [DLTR] train: 3354 test: 373\n",
            "StockEnhanceDataSet [DOV] train: 3354 test: 373\n",
            "Skipping DPS: File too small or does not exist.\n",
            "StockEnhanceDataSet [DPS] has insufficient data.\n",
            "Skipping DRE: File too small or does not exist.\n",
            "StockEnhanceDataSet [DRE] has insufficient data.\n",
            "StockEnhanceDataSet [DRI] train: 3354 test: 373\n",
            "StockEnhanceDataSet [DTE] train: 3354 test: 373\n",
            "StockEnhanceDataSet [DUK] train: 3354 test: 373\n",
            "StockEnhanceDataSet [DVA] train: 3354 test: 373\n",
            "StockEnhanceDataSet [DVN] train: 3354 test: 373\n",
            "Skipping DWDP: File too small or does not exist.\n",
            "StockEnhanceDataSet [DWDP] has insufficient data.\n",
            "StockEnhanceDataSet [DXC] train: 3354 test: 373\n",
            "StockEnhanceDataSet [D] train: 3354 test: 373\n",
            "StockEnhanceDataSet [EA] train: 3354 test: 373\n",
            "StockEnhanceDataSet [EBAY] train: 3354 test: 373\n",
            "StockEnhanceDataSet [ECL] train: 3354 test: 373\n",
            "StockEnhanceDataSet [ED] train: 3354 test: 373\n",
            "StockEnhanceDataSet [EFX] train: 3354 test: 373\n",
            "StockEnhanceDataSet [EIX] train: 3354 test: 373\n",
            "StockEnhanceDataSet [EL] train: 3354 test: 373\n",
            "StockEnhanceDataSet [EMN] train: 3354 test: 373\n",
            "StockEnhanceDataSet [EMR] train: 3354 test: 373\n",
            "StockEnhanceDataSet [EOG] train: 3354 test: 373\n",
            "StockEnhanceDataSet [EQIX] train: 3354 test: 373\n",
            "StockEnhanceDataSet [EQR] train: 3354 test: 373\n",
            "StockEnhanceDataSet [EQT] train: 3354 test: 373\n",
            "StockEnhanceDataSet [ESRX] train: 2005 test: 223\n",
            "StockEnhanceDataSet [ESS] train: 3354 test: 373\n",
            "StockEnhanceDataSet [ES] train: 3354 test: 373\n",
            "Skipping ETFC: File too small or does not exist.\n",
            "StockEnhanceDataSet [ETFC] has insufficient data.\n",
            "StockEnhanceDataSet [ETN] train: 3354 test: 373\n",
            "StockEnhanceDataSet [ETR] train: 3354 test: 373\n",
            "StockEnhanceDataSet [EVHC] train: 1142 test: 127\n",
            "StockEnhanceDataSet [EW] train: 3354 test: 373\n",
            "StockEnhanceDataSet [EXC] train: 3354 test: 373\n",
            "StockEnhanceDataSet [EXPD] train: 3354 test: 373\n",
            "StockEnhanceDataSet [EXPE] train: 3354 test: 373\n",
            "StockEnhanceDataSet [EXR] train: 3354 test: 373\n",
            "StockEnhanceDataSet [FAST] train: 3354 test: 373\n",
            "Skipping FBHS: File too small or does not exist.\n",
            "StockEnhanceDataSet [FBHS] has insufficient data.\n",
            "Skipping FB: File too small or does not exist.\n",
            "StockEnhanceDataSet [FB] has insufficient data.\n",
            "StockEnhanceDataSet [FCX] train: 3354 test: 373\n",
            "StockEnhanceDataSet [FDX] train: 3354 test: 373\n",
            "StockEnhanceDataSet [FE] train: 3354 test: 373\n",
            "StockEnhanceDataSet [FFIV] train: 3354 test: 373\n",
            "StockEnhanceDataSet [FISV] train: 318 test: 36\n",
            "StockEnhanceDataSet [FIS] train: 3354 test: 373\n",
            "StockEnhanceDataSet [FITB] train: 3354 test: 373\n",
            "Skipping FLIR: File too small or does not exist.\n",
            "StockEnhanceDataSet [FLIR] has insufficient data.\n",
            "StockEnhanceDataSet [FLR] train: 3354 test: 373\n",
            "StockEnhanceDataSet [FLS] train: 3354 test: 373\n",
            "StockEnhanceDataSet [FL] train: 3354 test: 373\n",
            "StockEnhanceDataSet [FMC] train: 3354 test: 373\n",
            "StockEnhanceDataSet [FOXA] train: 1274 test: 142\n",
            "StockEnhanceDataSet [FOX] train: 1273 test: 142\n",
            "StockEnhanceDataSet [FRT] train: 3354 test: 373\n",
            "StockEnhanceDataSet [FTI] train: 3354 test: 373\n",
            "StockEnhanceDataSet [FTV] train: 1881 test: 210\n",
            "StockEnhanceDataSet [F] train: 3354 test: 373\n",
            "StockEnhanceDataSet [GD] train: 3354 test: 373\n",
            "StockEnhanceDataSet [GE] train: 3354 test: 373\n",
            "Skipping GGP: File too small or does not exist.\n",
            "StockEnhanceDataSet [GGP] has insufficient data.\n",
            "StockEnhanceDataSet [GILD] train: 3354 test: 373\n",
            "StockEnhanceDataSet [GIS] train: 3354 test: 373\n",
            "StockEnhanceDataSet [GLW] train: 3354 test: 373\n",
            "StockEnhanceDataSet [GM] train: 3154 test: 351\n",
            "StockEnhanceDataSet [GOOGL] train: 3354 test: 373\n",
            "StockEnhanceDataSet [GOOG] train: 3354 test: 373\n",
            "StockEnhanceDataSet [GPC] train: 3354 test: 373\n",
            "StockEnhanceDataSet [GPN] train: 3354 test: 373\n",
            "Skipping GPS: File too small or does not exist.\n",
            "StockEnhanceDataSet [GPS] has insufficient data.\n",
            "StockEnhanceDataSet [GRMN] train: 3354 test: 373\n",
            "StockEnhanceDataSet [GS] train: 3354 test: 373\n",
            "StockEnhanceDataSet [GT] train: 3354 test: 373\n",
            "StockEnhanceDataSet [GWW] train: 3354 test: 373\n",
            "StockEnhanceDataSet [HAL] train: 3354 test: 373\n",
            "StockEnhanceDataSet [HAS] train: 3354 test: 373\n",
            "StockEnhanceDataSet [HBAN] train: 3354 test: 373\n",
            "StockEnhanceDataSet [HBI] train: 3354 test: 373\n",
            "StockEnhanceDataSet [HCA] train: 3086 test: 343\n",
            "Skipping HCN: File too small or does not exist.\n",
            "StockEnhanceDataSet [HCN] has insufficient data.\n",
            "StockEnhanceDataSet [HCP] train: 649 test: 73\n",
            "StockEnhanceDataSet [HD] train: 3354 test: 373\n",
            "StockEnhanceDataSet [HES] train: 3354 test: 373\n",
            "StockEnhanceDataSet [HIG] train: 3354 test: 373\n",
            "StockEnhanceDataSet [HII] train: 3078 test: 343\n",
            "StockEnhanceDataSet [HLT] train: 2460 test: 274\n",
            "StockEnhanceDataSet [HOG] train: 3354 test: 373\n",
            "StockEnhanceDataSet [HOLX] train: 3354 test: 373\n",
            "StockEnhanceDataSet [HON] train: 3354 test: 373\n",
            "StockEnhanceDataSet [HPE] train: 2042 test: 227\n",
            "StockEnhanceDataSet [HPQ] train: 3354 test: 373\n",
            "StockEnhanceDataSet [HP] train: 3354 test: 373\n",
            "StockEnhanceDataSet [HRB] train: 3354 test: 373\n",
            "StockEnhanceDataSet [HRL] train: 3354 test: 373\n",
            "Skipping HRS: File too small or does not exist.\n",
            "StockEnhanceDataSet [HRS] has insufficient data.\n",
            "StockEnhanceDataSet [HSIC] train: 3354 test: 373\n",
            "StockEnhanceDataSet [HST] train: 3354 test: 373\n",
            "StockEnhanceDataSet [HSY] train: 3354 test: 373\n",
            "StockEnhanceDataSet [HUM] train: 3354 test: 373\n",
            "StockEnhanceDataSet [IBM] train: 3354 test: 373\n",
            "StockEnhanceDataSet [ICE] train: 3354 test: 373\n",
            "StockEnhanceDataSet [IDXX] train: 3354 test: 373\n",
            "StockEnhanceDataSet [IFF] train: 3354 test: 373\n",
            "StockEnhanceDataSet [ILMN] train: 3354 test: 373\n",
            "StockEnhanceDataSet [INCY] train: 3354 test: 373\n",
            "StockEnhanceDataSet [INFO] train: 9 test: 1\n",
            "StockEnhanceDataSet [INTC] train: 3354 test: 373\n",
            "StockEnhanceDataSet [INTU] train: 3354 test: 373\n",
            "StockEnhanceDataSet [IPG] train: 3354 test: 373\n",
            "StockEnhanceDataSet [IP] train: 3354 test: 373\n",
            "StockEnhanceDataSet [IQV] train: 2596 test: 289\n",
            "StockEnhanceDataSet [IRM] train: 3354 test: 373\n",
            "StockEnhanceDataSet [IR] train: 1687 test: 188\n",
            "StockEnhanceDataSet [ISRG] train: 3354 test: 373\n",
            "StockEnhanceDataSet [ITW] train: 3354 test: 373\n",
            "StockEnhanceDataSet [IT] train: 3354 test: 373\n",
            "StockEnhanceDataSet [IVZ] train: 3354 test: 373\n",
            "StockEnhanceDataSet [JBHT] train: 3354 test: 373\n",
            "StockEnhanceDataSet [JCI] train: 3354 test: 373\n",
            "Skipping JEC: File too small or does not exist.\n",
            "StockEnhanceDataSet [JEC] has insufficient data.\n",
            "StockEnhanceDataSet [JNJ] train: 3354 test: 373\n",
            "StockEnhanceDataSet [JNPR] train: 3354 test: 373\n",
            "StockEnhanceDataSet [JPM] train: 3354 test: 373\n",
            "StockEnhanceDataSet [JWN] train: 3354 test: 373\n",
            "StockEnhanceDataSet [KEY] train: 3354 test: 373\n",
            "StockEnhanceDataSet [KHC] train: 2108 test: 235\n",
            "StockEnhanceDataSet [KIM] train: 3354 test: 373\n",
            "StockEnhanceDataSet [KLAC] train: 3354 test: 373\n",
            "StockEnhanceDataSet [KMB] train: 3354 test: 373\n",
            "StockEnhanceDataSet [KMI] train: 3102 test: 345\n",
            "StockEnhanceDataSet [KMX] train: 3354 test: 373\n",
            "Skipping KORS: File too small or does not exist.\n",
            "StockEnhanceDataSet [KORS] has insufficient data.\n",
            "StockEnhanceDataSet [KO] train: 3354 test: 373\n",
            "StockEnhanceDataSet [KR] train: 3354 test: 373\n",
            "StockEnhanceDataSet [KSS] train: 3354 test: 373\n",
            "Skipping KSU: File too small or does not exist.\n",
            "StockEnhanceDataSet [KSU] has insufficient data.\n",
            "StockEnhanceDataSet [K] train: 3354 test: 373\n",
            "StockEnhanceDataSet [LB] train: 73 test: 9\n",
            "StockEnhanceDataSet [LEG] train: 3354 test: 373\n",
            "StockEnhanceDataSet [LEN] train: 3354 test: 373\n",
            "StockEnhanceDataSet [LH] train: 3354 test: 373\n",
            "StockEnhanceDataSet [LKQ] train: 3354 test: 373\n",
            "Skipping LLL: File too small or does not exist.\n",
            "StockEnhanceDataSet [LLL] has insufficient data.\n",
            "StockEnhanceDataSet [LLY] train: 3354 test: 373\n",
            "StockEnhanceDataSet [LMT] train: 3354 test: 373\n",
            "StockEnhanceDataSet [LNC] train: 3354 test: 373\n",
            "StockEnhanceDataSet [LNT] train: 3354 test: 373\n",
            "StockEnhanceDataSet [LOW] train: 3354 test: 373\n",
            "StockEnhanceDataSet [LRCX] train: 3354 test: 373\n",
            "Skipping LUK: File too small or does not exist.\n",
            "StockEnhanceDataSet [LUK] has insufficient data.\n",
            "StockEnhanceDataSet [LUV] train: 3354 test: 373\n",
            "StockEnhanceDataSet [LYB] train: 3283 test: 365\n",
            "StockEnhanceDataSet [L] train: 3354 test: 373\n",
            "StockEnhanceDataSet [MAA] train: 3354 test: 373\n",
            "StockEnhanceDataSet [MAC] train: 3354 test: 373\n",
            "StockEnhanceDataSet [MAR] train: 3354 test: 373\n",
            "StockEnhanceDataSet [MAS] train: 3354 test: 373\n",
            "StockEnhanceDataSet [MAT] train: 3354 test: 373\n",
            "StockEnhanceDataSet [MA] train: 3354 test: 373\n",
            "StockEnhanceDataSet [MCD] train: 3354 test: 373\n",
            "StockEnhanceDataSet [MCHP] train: 3354 test: 373\n",
            "StockEnhanceDataSet [MCK] train: 3354 test: 373\n",
            "StockEnhanceDataSet [MCO] train: 3354 test: 373\n",
            "StockEnhanceDataSet [MDLZ] train: 3354 test: 373\n",
            "StockEnhanceDataSet [MDT] train: 3354 test: 373\n",
            "StockEnhanceDataSet [MET] train: 3354 test: 373\n",
            "StockEnhanceDataSet [MGM] train: 3354 test: 373\n",
            "StockEnhanceDataSet [MHK] train: 3354 test: 373\n",
            "StockEnhanceDataSet [MKC] train: 3354 test: 373\n",
            "StockEnhanceDataSet [MLM] train: 3354 test: 373\n",
            "StockEnhanceDataSet [MMC] train: 3354 test: 373\n",
            "StockEnhanceDataSet [MMM] train: 3354 test: 373\n",
            "StockEnhanceDataSet [MNST] train: 3354 test: 373\n",
            "Skipping MON: File too small or does not exist.\n",
            "StockEnhanceDataSet [MON] has insufficient data.\n",
            "StockEnhanceDataSet [MOS] train: 3354 test: 373\n",
            "StockEnhanceDataSet [MO] train: 3354 test: 373\n",
            "StockEnhanceDataSet [MPC] train: 3019 test: 336\n",
            "StockEnhanceDataSet [MRK] train: 3354 test: 373\n",
            "StockEnhanceDataSet [MRO] train: 3346 test: 372\n",
            "StockEnhanceDataSet [MSFT] train: 3354 test: 373\n",
            "StockEnhanceDataSet [MSI] train: 3354 test: 373\n",
            "StockEnhanceDataSet [MS] train: 3354 test: 373\n",
            "StockEnhanceDataSet [MTB] train: 3354 test: 373\n",
            "StockEnhanceDataSet [MTD] train: 3354 test: 373\n",
            "StockEnhanceDataSet [MU] train: 3354 test: 373\n",
            "Skipping MYL: File too small or does not exist.\n",
            "StockEnhanceDataSet [MYL] has insufficient data.\n",
            "StockEnhanceDataSet [M] train: 3354 test: 373\n",
            "StockEnhanceDataSet [NAVI] train: 2383 test: 265\n",
            "Skipping NBL: File too small or does not exist.\n",
            "StockEnhanceDataSet [NBL] has insufficient data.\n",
            "StockEnhanceDataSet [NCLH] train: 2664 test: 297\n",
            "StockEnhanceDataSet [NDAQ] train: 3354 test: 373\n",
            "StockEnhanceDataSet [NEE] train: 3354 test: 373\n",
            "StockEnhanceDataSet [NEM] train: 3354 test: 373\n",
            "StockEnhanceDataSet [NFLX] train: 3354 test: 373\n",
            "StockEnhanceDataSet [NFX] train: 2036 test: 227\n",
            "StockEnhanceDataSet [NI] train: 3354 test: 373\n",
            "StockEnhanceDataSet [NKE] train: 3354 test: 373\n",
            "Skipping NLSN: File too small or does not exist.\n",
            "StockEnhanceDataSet [NLSN] has insufficient data.\n",
            "StockEnhanceDataSet [NOC] train: 3354 test: 373\n",
            "StockEnhanceDataSet [NOV] train: 3354 test: 373\n",
            "StockEnhanceDataSet [NRG] train: 3354 test: 373\n",
            "StockEnhanceDataSet [NSC] train: 3354 test: 373\n",
            "StockEnhanceDataSet [NTAP] train: 3354 test: 373\n",
            "StockEnhanceDataSet [NTRS] train: 3354 test: 373\n",
            "StockEnhanceDataSet [NUE] train: 3354 test: 373\n",
            "StockEnhanceDataSet [NVDA] train: 3354 test: 373\n",
            "StockEnhanceDataSet [NWL] train: 3354 test: 373\n",
            "StockEnhanceDataSet [NWSA] train: 2571 test: 286\n",
            "StockEnhanceDataSet [NWS] train: 2571 test: 286\n",
            "StockEnhanceDataSet [OKE] train: 3354 test: 373\n",
            "StockEnhanceDataSet [OMC] train: 3354 test: 373\n",
            "StockEnhanceDataSet [ORCL] train: 3354 test: 373\n",
            "StockEnhanceDataSet [ORLY] train: 3354 test: 373\n",
            "StockEnhanceDataSet [OXY] train: 3354 test: 373\n",
            "StockEnhanceDataSet [O] train: 3354 test: 373\n",
            "StockEnhanceDataSet [PAYX] train: 3354 test: 373\n",
            "Skipping PBCT: File too small or does not exist.\n",
            "StockEnhanceDataSet [PBCT] has insufficient data.\n",
            "StockEnhanceDataSet [PCAR] train: 3354 test: 373\n",
            "StockEnhanceDataSet [PCG] train: 3354 test: 373\n",
            "Skipping PCLN: File too small or does not exist.\n",
            "StockEnhanceDataSet [PCLN] has insufficient data.\n",
            "StockEnhanceDataSet [PDCO] train: 3354 test: 373\n",
            "StockEnhanceDataSet [PEG] train: 3354 test: 373\n",
            "StockEnhanceDataSet [PEP] train: 3354 test: 373\n",
            "StockEnhanceDataSet [PFE] train: 3354 test: 373\n",
            "StockEnhanceDataSet [PFG] train: 3354 test: 373\n",
            "StockEnhanceDataSet [PGR] train: 3354 test: 373\n",
            "StockEnhanceDataSet [PG] train: 3354 test: 373\n",
            "StockEnhanceDataSet [PHM] train: 3354 test: 373\n",
            "StockEnhanceDataSet [PH] train: 3354 test: 373\n",
            "StockEnhanceDataSet [PKG] train: 3354 test: 373\n",
            "Skipping PKI: File too small or does not exist.\n",
            "StockEnhanceDataSet [PKI] has insufficient data.\n",
            "StockEnhanceDataSet [PLD] train: 3354 test: 373\n",
            "StockEnhanceDataSet [PM] train: 3354 test: 373\n",
            "StockEnhanceDataSet [PNC] train: 3354 test: 373\n",
            "StockEnhanceDataSet [PNR] train: 3354 test: 373\n",
            "StockEnhanceDataSet [PNW] train: 3354 test: 373\n",
            "StockEnhanceDataSet [PPG] train: 3354 test: 373\n",
            "StockEnhanceDataSet [PPL] train: 3354 test: 373\n",
            "StockEnhanceDataSet [PRGO] train: 3354 test: 373\n",
            "StockEnhanceDataSet [PRU] train: 3354 test: 373\n",
            "StockEnhanceDataSet [PSA] train: 3354 test: 373\n",
            "StockEnhanceDataSet [PSX] train: 2838 test: 316\n",
            "StockEnhanceDataSet [PVH] train: 3354 test: 373\n",
            "StockEnhanceDataSet [PWR] train: 3354 test: 373\n",
            "Skipping PXD: File too small or does not exist.\n",
            "StockEnhanceDataSet [PXD] has insufficient data.\n",
            "StockEnhanceDataSet [PX] train: 680 test: 76\n",
            "StockEnhanceDataSet [PYPL] train: 2108 test: 235\n",
            "StockEnhanceDataSet [QCOM] train: 3354 test: 373\n",
            "StockEnhanceDataSet [QRVO] train: 2222 test: 247\n",
            "StockEnhanceDataSet [RCL] train: 3354 test: 373\n",
            "StockEnhanceDataSet [REGN] train: 3354 test: 373\n",
            "StockEnhanceDataSet [REG] train: 3354 test: 373\n",
            "Skipping RE: File too small or does not exist.\n",
            "StockEnhanceDataSet [RE] has insufficient data.\n",
            "StockEnhanceDataSet [RF] train: 3354 test: 373\n",
            "StockEnhanceDataSet [RHI] train: 3354 test: 373\n",
            "Skipping RHT: File too small or does not exist.\n",
            "StockEnhanceDataSet [RHT] has insufficient data.\n",
            "StockEnhanceDataSet [RJF] train: 3354 test: 373\n",
            "StockEnhanceDataSet [RL] train: 3354 test: 373\n",
            "StockEnhanceDataSet [RMD] train: 3354 test: 373\n",
            "StockEnhanceDataSet [ROK] train: 3354 test: 373\n",
            "StockEnhanceDataSet [ROP] train: 3354 test: 373\n",
            "StockEnhanceDataSet [ROST] train: 3354 test: 373\n",
            "StockEnhanceDataSet [RRC] train: 3354 test: 373\n",
            "StockEnhanceDataSet [RSG] train: 3354 test: 373\n",
            "Skipping RTN: File too small or does not exist.\n",
            "StockEnhanceDataSet [RTN] has insufficient data.\n",
            "StockEnhanceDataSet [SBAC] train: 3354 test: 373\n",
            "StockEnhanceDataSet [SBUX] train: 3354 test: 373\n",
            "StockEnhanceDataSet [SCG] train: 757 test: 85\n",
            "StockEnhanceDataSet [SCHW] train: 3354 test: 373\n",
            "StockEnhanceDataSet [SEE] train: 3354 test: 373\n",
            "StockEnhanceDataSet [SHW] train: 3354 test: 373\n",
            "StockEnhanceDataSet [SIG] train: 3354 test: 373\n",
            "StockEnhanceDataSet [SJM] train: 3354 test: 373\n",
            "StockEnhanceDataSet [SLB] train: 3354 test: 373\n",
            "StockEnhanceDataSet [SLG] train: 3354 test: 373\n",
            "StockEnhanceDataSet [SNA] train: 3354 test: 373\n",
            "StockEnhanceDataSet [SNI] train: 1825 test: 203\n",
            "StockEnhanceDataSet [SNPS] train: 3354 test: 373\n",
            "StockEnhanceDataSet [SO] train: 3354 test: 373\n",
            "StockEnhanceDataSet [SPGI] train: 3354 test: 373\n"
          ]
        }
      ]
    },
    {
      "cell_type": "markdown",
      "source": [
        "# LSTM"
      ],
      "metadata": {
        "id": "htleYsNm3lg3"
      }
    },
    {
      "cell_type": "code",
      "source": [
        "import numpy as np\n",
        "import os\n",
        "import matplotlib.pyplot as plt\n",
        "import tensorflow as tf\n",
        "from sklearn.metrics import mean_squared_error, mean_absolute_error\n",
        "from tensorflow.keras.models import Sequential\n",
        "from tensorflow.keras.layers import Input, LSTM, Dense, Dropout, Bidirectional, Flatten\n",
        "from sklearn.model_selection import KFold\n",
        "import matplotlib.pyplot as plt\n",
        "import numpy as np\n",
        "from sklearn.metrics import mean_squared_error, mean_absolute_error\n",
        "\n",
        "\n",
        "\n",
        "class LstmRNNEh:\n",
        "    def __init__(self, stock_count, lstm_size=128, num_layers=1, num_steps=30, input_size=1,\n",
        "                 dropout_rate=0.2, logs_dir=\"logs\", plots_dir=\"images\", model_type=\"LSTM\"):\n",
        "        \"\"\"\n",
        "        Construct a RNN model using LSTM or other architectures.\n",
        "\n",
        "        Args:\n",
        "            stock_count: Number of stocks being processed\n",
        "            lstm_size: Number of units in LSTM layers\n",
        "            num_layers: Number of stacked layers\n",
        "            num_steps: Number of time steps in the input sequence\n",
        "            input_size: Number of features in each input step\n",
        "            dropout_rate: Dropout rate to prevent overfitting\n",
        "            logs_dir: Directory to save logs\n",
        "            plots_dir: Directory to save plots\n",
        "            model_type: Type of model to use (\"LSTM\", \"Bidirectional_LSTM\")\n",
        "        \"\"\"\n",
        "        self.stock_count = stock_count\n",
        "        self.lstm_size = lstm_size\n",
        "        self.num_layers = num_layers\n",
        "        self.num_steps = num_steps\n",
        "        self.input_size = input_size\n",
        "        self.dropout_rate = dropout_rate\n",
        "        self.logs_dir = logs_dir\n",
        "        self.plots_dir = plots_dir\n",
        "        self.model_type = model_type\n",
        "\n",
        "        # Build the model based on the specified architecture\n",
        "        self.model = self.build_model()\n",
        "\n",
        "    def build_model(self):\n",
        "        \"\"\"\n",
        "        Build the model based on the specified type: LSTM, Bidirectional LSTM\n",
        "        \"\"\"\n",
        "        model = Sequential()\n",
        "\n",
        "        # Adding an Input layer\n",
        "        model.add(Input(shape=(self.num_steps, self.input_size)))\n",
        "\n",
        "        if self.model_type == \"LSTM\":\n",
        "            for i in range(self.num_layers):\n",
        "                return_sequences = i < self.num_layers - 1  # True if not the last layer\n",
        "                model.add(LSTM(units=self.lstm_size, return_sequences=return_sequences))\n",
        "                model.add(Dropout(self.dropout_rate))\n",
        "\n",
        "        elif self.model_type == \"Bidirectional_LSTM\":\n",
        "            for i in range(self.num_layers):\n",
        "                return_sequences = i < self.num_layers - 1\n",
        "                model.add(Bidirectional(LSTM(units=self.lstm_size, return_sequences=return_sequences)))\n",
        "                model.add(Dropout(self.dropout_rate))\n",
        "\n",
        "            model.add(Flatten())  # Flatten the output for the Dense layer\n",
        "\n",
        "        # Add the output layer\n",
        "        model.add(Dense(units=self.input_size))\n",
        "        model.compile(optimizer=\"adam\", loss=\"mean_squared_error\")\n",
        "\n",
        "        return model\n",
        "\n",
        "    def train(self, dataset_list, config):\n",
        "        \"\"\"\n",
        "        Train the model with the given dataset.\n",
        "        Implement cross-validation during training.\n",
        "\n",
        "        Args:\n",
        "            dataset_list: List of StockDataSet objects\n",
        "            config: Configuration settings (e.g., max_epoch, batch_size)\n",
        "        \"\"\"\n",
        "        assert len(dataset_list) > 0, \"Dataset list is empty.\"\n",
        "\n",
        "        merged_train_X = []\n",
        "        merged_train_y = []\n",
        "        for dataset in dataset_list:\n",
        "            merged_train_X.append(dataset.train_X)\n",
        "            merged_train_y.append(dataset.train_y)\n",
        "\n",
        "        train_X = np.concatenate(merged_train_X, axis=0)\n",
        "        train_y = np.concatenate(merged_train_y, axis=0)\n",
        "\n",
        "        # Implement Cross-Validation\n",
        "        kfold = KFold(n_splits=5, shuffle=True, random_state=42)\n",
        "        fold_no = 1\n",
        "\n",
        "        for train_idx, val_idx in kfold.split(train_X, train_y):\n",
        "            print(f\"Training fold {fold_no}...\")\n",
        "            fold_train_X, fold_val_X = train_X[train_idx], train_X[val_idx]\n",
        "            fold_train_y, fold_val_y = train_y[train_idx], train_y[val_idx]\n",
        "\n",
        "            # Train the model on the current fold\n",
        "            self.model.fit(\n",
        "                fold_train_X, fold_train_y,\n",
        "                epochs=config['max_epoch'],\n",
        "                batch_size=config['batch_size'],\n",
        "                validation_data=(fold_val_X, fold_val_y),\n",
        "                verbose=2\n",
        "            )\n",
        "\n",
        "            fold_no += 1\n",
        "\n",
        "    def predict(self, dataset):\n",
        "        \"\"\"\n",
        "        Predict using the trained model.\n",
        "\n",
        "        Args:\n",
        "            dataset: A StockDataSet object containing test data.\n",
        "\n",
        "        Returns:\n",
        "            np.array: Predicted values.\n",
        "        \"\"\"\n",
        "        predictions = self.model.predict(dataset.test_X)\n",
        "        return predictions\n",
        "\n",
        "    def evaluate(self, dataset):\n",
        "        \"\"\"\n",
        "        Evaluate the model on the test dataset.\n",
        "\n",
        "        Args:\n",
        "            dataset: A StockDataSet object containing test data\n",
        "\n",
        "        Returns:\n",
        "            Test loss\n",
        "        \"\"\"\n",
        "        test_loss = self.model.evaluate(dataset.test_X, dataset.test_y, verbose=2)\n",
        "        print(f\"Test Loss: {test_loss}\")\n",
        "        return test_loss\n",
        "\n",
        "    def save(self):\n",
        "        \"\"\"\n",
        "        Save the trained model.\n",
        "        \"\"\"\n",
        "        model_path = os.path.join(self.logs_dir, \"lstm_model_enhance.h5\")\n",
        "        self.model.save(model_path)\n",
        "        print(f\"Model saved to {model_path}\")\n",
        "\n",
        "    def load(self):\n",
        "        \"\"\"\n",
        "        Load the trained model.\n",
        "        \"\"\"\n",
        "        model_path = os.path.join(self.logs_dir, \"lstm_model_enhance.h5\")\n",
        "        if os.path.exists(model_path):\n",
        "            self.model = tf.keras.models.load_model(model_path)\n",
        "            print(f\"Model loaded from {model_path}\")\n",
        "        else:\n",
        "            print(f\"No model found at {model_path}\")\n",
        "\n",
        "    def plot_samples(self, preds, targets, stock_sym=None):\n",
        "        \"\"\"\n",
        "        Plot predictions vs ground truth.\n",
        "\n",
        "        Args:\n",
        "            preds: Predicted values\n",
        "            targets: Ground truth values\n",
        "            stock_sym: Stock symbol for the plot title\n",
        "        \"\"\"\n",
        "        days = np.arange(len(targets))\n",
        "\n",
        "        plt.figure(figsize=(12, 6))\n",
        "        plt.plot(days, targets, label='True Prices', color='blue')\n",
        "        plt.plot(days, preds, label='Predicted Prices', color='orange')\n",
        "        plt.legend(loc='upper left')\n",
        "        plt.xlabel(\"Days\")\n",
        "        plt.ylabel(\"Price\")\n",
        "        plt.title(f\"Stock {stock_sym}\" if stock_sym else \"Predictions vs True Prices\")\n",
        "        plt.savefig(os.path.join(self.plots_dir, \"prediction.png\"))\n",
        "        plt.show()\n"
      ],
      "metadata": {
        "id": "tTihyEwePVBo"
      },
      "execution_count": 21,
      "outputs": []
    },
    {
      "cell_type": "markdown",
      "source": [
        "# Enhance Evaluation and Visualization"
      ],
      "metadata": {
        "id": "NXCujve3H1DC"
      }
    },
    {
      "cell_type": "code",
      "execution_count": 23,
      "metadata": {
        "id": "7dUQ08slRFrA"
      },
      "outputs": [],
      "source": [
        "import matplotlib.pyplot as plt\n",
        "import numpy as np\n",
        "from sklearn.metrics import mean_squared_error, mean_absolute_error, r2_score\n",
        "\n",
        "def evaluate_and_visualize(predictions, ground_truth, stock_sym=None, baseline_predictions=None):\n",
        "    \"\"\"\n",
        "    Evaluate the model predictions and visualize the results, including error analysis,\n",
        "    baseline comparisons, and detailed visualizations.\n",
        "\n",
        "    Args:\n",
        "        predictions (np.array): Predicted values.\n",
        "        ground_truth (np.array): True values.\n",
        "        stock_sym (str or list): Stock symbol(s) for the title (optional).\n",
        "        baseline_predictions (np.array): Predictions from a baseline model for comparison (optional).\n",
        "    \"\"\"\n",
        "    # Ensure inputs are numpy arrays\n",
        "    predictions = np.array(predictions)\n",
        "    ground_truth = np.array(ground_truth)\n",
        "    if baseline_predictions is not None:\n",
        "        baseline_predictions = np.array(baseline_predictions)\n",
        "\n",
        "    # Compute evaluation metrics\n",
        "    mse = mean_squared_error(ground_truth, predictions)\n",
        "    rmse = np.sqrt(mse)\n",
        "    mae = mean_absolute_error(ground_truth, predictions)\n",
        "    mape = np.mean(np.abs((ground_truth - predictions) / ground_truth)) * 100\n",
        "    naive_forecast = np.roll(ground_truth, shift=1)  # Flat prediction (simple baseline model)\n",
        "    naive_forecast[0] = ground_truth[0]  # The first value cannot be predicted, so it is directly assigned to the real value\n",
        "    mase_denominator = np.mean(np.abs(ground_truth[1:] - naive_forecast[1:]))\n",
        "    mase = mae / mase_denominator\n",
        "\n",
        "\n",
        "\n",
        "    print(f\"Evaluation Metrics for {stock_sym if stock_sym else 'Stock'}:\")\n",
        "    print(f\"Mean Squared Error (MSE): {mse:.4f}\")\n",
        "    print(f\"Root Mean Squared Error (RMSE): {rmse:.4f}\")\n",
        "    print(f\"Mean Absolute Error (MAE): {mae:.4f}\")\n",
        "    print(f\"Mean Absolute Percentage Error (MAPE): {mape:.2f}%\")\n",
        "    print(f\"Mean Absolute Scaled Error (MASE): {mase:.4f}\")\n",
        "\n",
        "    if baseline_predictions is not None:\n",
        "        # Baseline metrics\n",
        "        baseline_mse = mean_squared_error(ground_truth, baseline_predictions)\n",
        "        baseline_rmse = np.sqrt(baseline_mse)\n",
        "        baseline_mae = mean_absolute_error(ground_truth, baseline_predictions)\n",
        "        print(\"\\nBaseline Comparison:\")\n",
        "        print(f\"Baseline Mean Squared Error (MSE): {baseline_mse:.4f}\")\n",
        "        print(f\"Baseline Root Mean Squared Error (RMSE): {baseline_rmse:.4f}\")\n",
        "        print(f\"Baseline Mean Absolute Error (MAE): {baseline_mae:.4f}\")\n",
        "\n",
        "    # Plot predictions vs ground truth\n",
        "    plt.figure(figsize=(14, 7))\n",
        "    days = np.arange(len(ground_truth))\n",
        "    plt.plot(days, ground_truth, label='True Prices', color='blue', alpha=0.8, linewidth=2)\n",
        "    plt.plot(days, predictions, label='Predicted Prices', color='orange', alpha=0.8, linewidth=2)\n",
        "    if baseline_predictions is not None:\n",
        "        plt.plot(days, baseline_predictions, label='Baseline Predictions', color='green', alpha=0.8, linestyle='--')\n",
        "    plt.title(f\"Predictions vs True Prices for {stock_sym}\" if stock_sym else \"Predictions vs True Prices\")\n",
        "    plt.xlabel(\"Days\")\n",
        "    plt.ylabel(\"Price\")\n",
        "    plt.legend()\n",
        "    plt.grid()\n",
        "    plt.tight_layout()\n",
        "    plt.show()\n",
        "\n",
        "    # Plot error distribution\n",
        "    absolute_errors = np.abs(ground_truth - predictions)\n",
        "    plt.figure(figsize=(10, 6))\n",
        "    plt.hist(absolute_errors, bins=30, color='purple', alpha=0.7, label='Absolute Error')\n",
        "    plt.title(f\"Absolute Error Distribution for {stock_sym}\" if stock_sym else \"Absolute Error Distribution\")\n",
        "    plt.xlabel(\"Absolute Error\")\n",
        "    plt.ylabel(\"Frequency\")\n",
        "    plt.grid()\n",
        "    plt.legend()\n",
        "    plt.tight_layout()\n",
        "    plt.show()\n",
        "\n",
        "    # Plot error over time\n",
        "    plt.figure(figsize=(14, 7))\n",
        "    plt.plot(days, absolute_errors, label='Absolute Errors', color='red', alpha=0.8, linewidth=1)\n",
        "    plt.title(f\"Absolute Error Over Time for {stock_sym}\" if stock_sym else \"Absolute Error Over Time\")\n",
        "    plt.xlabel(\"Days\")\n",
        "    plt.ylabel(\"Absolute Error\")\n",
        "    plt.grid()\n",
        "    plt.legend()\n",
        "    plt.tight_layout()\n",
        "    plt.show()\n",
        "\n",
        "    # Baseline comparison\n",
        "    if baseline_predictions is not None:\n",
        "        plt.figure(figsize=(14, 7))\n",
        "        plt.plot(days, ground_truth, label='True Prices', color='blue', alpha=0.8, linewidth=2)\n",
        "        plt.plot(days, predictions, label='Model Predictions', color='orange', alpha=0.8, linewidth=2)\n",
        "        plt.plot(days, baseline_predictions, label='Baseline Predictions', color='green', alpha=0.8, linestyle='--')\n",
        "        plt.title(f\"Model vs Baseline Predictions for {stock_sym}\" if stock_sym else \"Model vs Baseline Predictions\")\n",
        "        plt.xlabel(\"Days\")\n",
        "        plt.ylabel(\"Price\")\n",
        "        plt.legend()\n",
        "        plt.grid()\n",
        "        plt.tight_layout()\n",
        "        plt.show()\n"
      ]
    },
    {
      "cell_type": "markdown",
      "metadata": {
        "id": "q-9yBLiIRFrB"
      },
      "source": [
        "# Modelling\n",
        "\n"
      ]
    },
    {
      "cell_type": "code",
      "execution_count": 17,
      "metadata": {
        "colab": {
          "base_uri": "https://localhost:8080/"
        },
        "collapsed": true,
        "id": "pBxavvNNRFrB",
        "outputId": "0437b238-7c7a-4d22-c74c-eb1d45b68665"
      },
      "outputs": [
        {
          "metadata": {
            "tags": null
          },
          "name": "stdout",
          "output_type": "stream",
          "text": [
            "Testing with params: {'batch_size': 32, 'max_epoch': 10}\n",
            "Training fold 1...\n",
            "Epoch 1/10\n",
            "84/84 - 8s - 99ms/step - loss: 3.4089e-04 - val_loss: 3.2632e-04\n",
            "Epoch 2/10\n",
            "84/84 - 5s - 61ms/step - loss: 3.2868e-04 - val_loss: 3.6027e-04\n",
            "Epoch 3/10\n",
            "84/84 - 7s - 78ms/step - loss: 3.3610e-04 - val_loss: 3.2741e-04\n",
            "Epoch 4/10\n",
            "84/84 - 4s - 53ms/step - loss: 3.2969e-04 - val_loss: 3.4366e-04\n",
            "Epoch 5/10\n",
            "84/84 - 7s - 85ms/step - loss: 3.3583e-04 - val_loss: 3.3409e-04\n",
            "Epoch 6/10\n",
            "84/84 - 5s - 57ms/step - loss: 3.2798e-04 - val_loss: 3.2722e-04\n",
            "Epoch 7/10\n",
            "84/84 - 5s - 56ms/step - loss: 3.2806e-04 - val_loss: 3.5100e-04\n",
            "Epoch 8/10\n",
            "84/84 - 8s - 90ms/step - loss: 3.3080e-04 - val_loss: 3.3504e-04\n",
            "Epoch 9/10\n",
            "84/84 - 8s - 92ms/step - loss: 3.3062e-04 - val_loss: 3.2579e-04\n",
            "Epoch 10/10\n",
            "84/84 - 8s - 91ms/step - loss: 3.2677e-04 - val_loss: 3.2558e-04\n",
            "Training fold 2...\n",
            "Epoch 1/10\n",
            "84/84 - 4s - 52ms/step - loss: 3.2807e-04 - val_loss: 3.2367e-04\n",
            "Epoch 2/10\n",
            "84/84 - 6s - 76ms/step - loss: 3.2567e-04 - val_loss: 3.6053e-04\n",
            "Epoch 3/10\n",
            "84/84 - 8s - 97ms/step - loss: 3.2719e-04 - val_loss: 3.2470e-04\n",
            "Epoch 4/10\n",
            "84/84 - 7s - 87ms/step - loss: 3.2979e-04 - val_loss: 3.2497e-04\n",
            "Epoch 5/10\n",
            "84/84 - 8s - 96ms/step - loss: 3.2485e-04 - val_loss: 3.2341e-04\n",
            "Epoch 6/10\n",
            "84/84 - 8s - 90ms/step - loss: 3.2510e-04 - val_loss: 3.2630e-04\n",
            "Epoch 7/10\n",
            "84/84 - 8s - 91ms/step - loss: 3.2589e-04 - val_loss: 3.4165e-04\n",
            "Epoch 8/10\n",
            "84/84 - 8s - 91ms/step - loss: 3.2611e-04 - val_loss: 3.2392e-04\n",
            "Epoch 9/10\n",
            "84/84 - 4s - 52ms/step - loss: 3.2502e-04 - val_loss: 3.3801e-04\n",
            "Epoch 10/10\n",
            "84/84 - 5s - 60ms/step - loss: 3.2659e-04 - val_loss: 3.2382e-04\n",
            "Training fold 3...\n",
            "Epoch 1/10\n",
            "84/84 - 6s - 73ms/step - loss: 3.2030e-04 - val_loss: 3.4409e-04\n",
            "Epoch 2/10\n",
            "84/84 - 4s - 51ms/step - loss: 3.1931e-04 - val_loss: 3.4779e-04\n",
            "Epoch 3/10\n",
            "84/84 - 7s - 84ms/step - loss: 3.2375e-04 - val_loss: 3.5613e-04\n",
            "Epoch 4/10\n",
            "84/84 - 5s - 58ms/step - loss: 3.1932e-04 - val_loss: 3.5541e-04\n",
            "Epoch 5/10\n",
            "84/84 - 4s - 53ms/step - loss: 3.2009e-04 - val_loss: 3.4647e-04\n",
            "Epoch 6/10\n",
            "84/84 - 7s - 80ms/step - loss: 3.1825e-04 - val_loss: 3.5318e-04\n",
            "Epoch 7/10\n",
            "84/84 - 8s - 93ms/step - loss: 3.1958e-04 - val_loss: 3.4456e-04\n",
            "Epoch 8/10\n",
            "84/84 - 6s - 77ms/step - loss: 3.1857e-04 - val_loss: 3.4830e-04\n",
            "Epoch 9/10\n",
            "84/84 - 8s - 96ms/step - loss: 3.1900e-04 - val_loss: 3.4511e-04\n",
            "Epoch 10/10\n",
            "84/84 - 8s - 91ms/step - loss: 3.1772e-04 - val_loss: 3.5910e-04\n",
            "Training fold 4...\n",
            "Epoch 1/10\n",
            "84/84 - 4s - 53ms/step - loss: 3.2327e-04 - val_loss: 3.3467e-04\n",
            "Epoch 2/10\n",
            "84/84 - 7s - 81ms/step - loss: 3.2272e-04 - val_loss: 3.3165e-04\n",
            "Epoch 3/10\n",
            "84/84 - 4s - 52ms/step - loss: 3.2351e-04 - val_loss: 3.2958e-04\n",
            "Epoch 4/10\n",
            "84/84 - 4s - 53ms/step - loss: 3.2144e-04 - val_loss: 3.3211e-04\n",
            "Epoch 5/10\n",
            "84/84 - 7s - 87ms/step - loss: 3.2220e-04 - val_loss: 3.2959e-04\n",
            "Epoch 6/10\n",
            "84/84 - 4s - 52ms/step - loss: 3.2239e-04 - val_loss: 3.3169e-04\n",
            "Epoch 7/10\n",
            "84/84 - 5s - 63ms/step - loss: 3.2165e-04 - val_loss: 3.3105e-04\n",
            "Epoch 8/10\n",
            "84/84 - 9s - 109ms/step - loss: 3.2089e-04 - val_loss: 3.3323e-04\n",
            "Epoch 9/10\n",
            "84/84 - 8s - 92ms/step - loss: 3.2225e-04 - val_loss: 3.3162e-04\n",
            "Epoch 10/10\n",
            "84/84 - 8s - 92ms/step - loss: 3.2194e-04 - val_loss: 3.3083e-04\n",
            "Training fold 5...\n",
            "Epoch 1/10\n",
            "84/84 - 7s - 83ms/step - loss: 3.3287e-04 - val_loss: 2.8383e-04\n",
            "Epoch 2/10\n",
            "84/84 - 4s - 53ms/step - loss: 3.3316e-04 - val_loss: 2.9075e-04\n",
            "Epoch 3/10\n",
            "84/84 - 4s - 52ms/step - loss: 3.3348e-04 - val_loss: 2.8405e-04\n",
            "Epoch 4/10\n",
            "84/84 - 7s - 81ms/step - loss: 3.3824e-04 - val_loss: 2.8553e-04\n",
            "Epoch 5/10\n",
            "84/84 - 8s - 92ms/step - loss: 3.3269e-04 - val_loss: 2.9742e-04\n",
            "Epoch 6/10\n",
            "84/84 - 8s - 91ms/step - loss: 3.3463e-04 - val_loss: 2.8403e-04\n",
            "Epoch 7/10\n",
            "84/84 - 8s - 93ms/step - loss: 3.3257e-04 - val_loss: 2.8711e-04\n",
            "Epoch 8/10\n",
            "84/84 - 7s - 89ms/step - loss: 3.3413e-04 - val_loss: 2.8412e-04\n",
            "Epoch 9/10\n",
            "84/84 - 8s - 93ms/step - loss: 3.3208e-04 - val_loss: 2.8632e-04\n",
            "Epoch 10/10\n",
            "84/84 - 7s - 82ms/step - loss: 3.3278e-04 - val_loss: 2.8577e-04\n",
            "12/12 - 0s - 17ms/step - loss: 1.8443e-04\n"
          ]
        },
        {
          "metadata": {
            "tags": null
          },
          "name": "stderr",
          "output_type": "stream",
          "text": [
            "WARNING:absl:You are saving your model as an HDF5 file via `model.save()` or `keras.saving.save_model(model)`. This file format is considered legacy. We recommend using instead the native Keras format, e.g. `model.save('my_model.keras')` or `keras.saving.save_model(model, 'my_model.keras')`. \n"
          ]
        },
        {
          "output_type": "stream",
          "name": "stdout",
          "text": [
            "Test Loss: 0.00018443215230945498\n",
            "Model saved to logs/lstm_model_enhance.h5\n",
            "Model saved with best params\n",
            "Testing with params: {'batch_size': 32, 'max_epoch': 20}\n",
            "Training fold 1...\n",
            "Epoch 1/20\n",
            "84/84 - 7s - 87ms/step - loss: 3.3690e-04 - val_loss: 3.3112e-04\n",
            "Epoch 2/20\n",
            "84/84 - 7s - 87ms/step - loss: 3.3626e-04 - val_loss: 3.2853e-04\n",
            "Epoch 3/20\n",
            "84/84 - 8s - 91ms/step - loss: 3.3129e-04 - val_loss: 3.2942e-04\n",
            "Epoch 4/20\n",
            "84/84 - 7s - 82ms/step - loss: 3.3777e-04 - val_loss: 3.2773e-04\n",
            "Epoch 5/20\n",
            "84/84 - 8s - 92ms/step - loss: 3.3096e-04 - val_loss: 3.2927e-04\n",
            "Epoch 6/20\n",
            "84/84 - 7s - 89ms/step - loss: 3.2922e-04 - val_loss: 3.6957e-04\n",
            "Epoch 7/20\n",
            "84/84 - 8s - 94ms/step - loss: 3.2820e-04 - val_loss: 3.5589e-04\n",
            "Epoch 8/20\n",
            "84/84 - 7s - 82ms/step - loss: 3.3339e-04 - val_loss: 3.2578e-04\n",
            "Epoch 9/20\n",
            "84/84 - 9s - 113ms/step - loss: 3.3011e-04 - val_loss: 3.3026e-04\n",
            "Epoch 10/20\n",
            "84/84 - 9s - 109ms/step - loss: 3.2987e-04 - val_loss: 3.4480e-04\n",
            "Epoch 11/20\n",
            "84/84 - 7s - 80ms/step - loss: 3.2959e-04 - val_loss: 3.3911e-04\n",
            "Epoch 12/20\n",
            "84/84 - 8s - 94ms/step - loss: 3.2680e-04 - val_loss: 3.2839e-04\n",
            "Epoch 13/20\n",
            "84/84 - 8s - 90ms/step - loss: 3.2688e-04 - val_loss: 3.2733e-04\n",
            "Epoch 14/20\n",
            "84/84 - 8s - 92ms/step - loss: 3.2408e-04 - val_loss: 3.2934e-04\n",
            "Epoch 15/20\n",
            "84/84 - 7s - 81ms/step - loss: 3.2649e-04 - val_loss: 3.3633e-04\n",
            "Epoch 16/20\n",
            "84/84 - 8s - 93ms/step - loss: 3.2617e-04 - val_loss: 3.2595e-04\n",
            "Epoch 17/20\n",
            "84/84 - 8s - 91ms/step - loss: 3.2770e-04 - val_loss: 3.2647e-04\n",
            "Epoch 18/20\n",
            "84/84 - 4s - 52ms/step - loss: 3.2573e-04 - val_loss: 3.2690e-04\n",
            "Epoch 19/20\n",
            "84/84 - 5s - 60ms/step - loss: 3.2427e-04 - val_loss: 3.2568e-04\n",
            "Epoch 20/20\n",
            "84/84 - 7s - 82ms/step - loss: 3.2615e-04 - val_loss: 3.3016e-04\n",
            "Training fold 2...\n",
            "Epoch 1/20\n",
            "84/84 - 4s - 52ms/step - loss: 3.2613e-04 - val_loss: 3.2739e-04\n",
            "Epoch 2/20\n",
            "84/84 - 5s - 60ms/step - loss: 3.2222e-04 - val_loss: 3.2631e-04\n",
            "Epoch 3/20\n",
            "84/84 - 6s - 76ms/step - loss: 3.2622e-04 - val_loss: 3.2326e-04\n",
            "Epoch 4/20\n",
            "84/84 - 9s - 110ms/step - loss: 3.2686e-04 - val_loss: 3.3869e-04\n",
            "Epoch 5/20\n",
            "84/84 - 9s - 111ms/step - loss: 3.2382e-04 - val_loss: 3.2650e-04\n",
            "Epoch 6/20\n",
            "84/84 - 7s - 79ms/step - loss: 3.2424e-04 - val_loss: 3.4523e-04\n",
            "Epoch 7/20\n",
            "84/84 - 8s - 94ms/step - loss: 3.2241e-04 - val_loss: 3.3283e-04\n",
            "Epoch 8/20\n",
            "84/84 - 8s - 92ms/step - loss: 3.2424e-04 - val_loss: 3.2366e-04\n",
            "Epoch 9/20\n",
            "84/84 - 8s - 91ms/step - loss: 3.2547e-04 - val_loss: 3.2525e-04\n",
            "Epoch 10/20\n",
            "84/84 - 8s - 92ms/step - loss: 3.2340e-04 - val_loss: 3.2366e-04\n",
            "Epoch 11/20\n",
            "84/84 - 8s - 92ms/step - loss: 3.2384e-04 - val_loss: 3.3003e-04\n",
            "Epoch 12/20\n",
            "84/84 - 8s - 90ms/step - loss: 3.2313e-04 - val_loss: 3.2520e-04\n",
            "Epoch 13/20\n",
            "84/84 - 4s - 53ms/step - loss: 3.2485e-04 - val_loss: 3.2446e-04\n",
            "Epoch 14/20\n",
            "84/84 - 6s - 68ms/step - loss: 3.2346e-04 - val_loss: 3.2386e-04\n",
            "Epoch 15/20\n",
            "84/84 - 6s - 76ms/step - loss: 3.2358e-04 - val_loss: 3.2773e-04\n",
            "Epoch 16/20\n",
            "84/84 - 4s - 53ms/step - loss: 3.2439e-04 - val_loss: 3.3186e-04\n",
            "Epoch 17/20\n",
            "84/84 - 7s - 89ms/step - loss: 3.2434e-04 - val_loss: 3.2437e-04\n",
            "Epoch 18/20\n",
            "84/84 - 8s - 93ms/step - loss: 3.2395e-04 - val_loss: 3.2950e-04\n",
            "Epoch 19/20\n",
            "84/84 - 6s - 77ms/step - loss: 3.2287e-04 - val_loss: 3.2624e-04\n",
            "Epoch 20/20\n",
            "84/84 - 8s - 96ms/step - loss: 3.2297e-04 - val_loss: 3.2553e-04\n",
            "Training fold 3...\n",
            "Epoch 1/20\n",
            "84/84 - 7s - 82ms/step - loss: 3.1837e-04 - val_loss: 3.4455e-04\n",
            "Epoch 2/20\n",
            "84/84 - 4s - 53ms/step - loss: 3.1832e-04 - val_loss: 3.4452e-04\n",
            "Epoch 3/20\n",
            "84/84 - 5s - 60ms/step - loss: 3.1850e-04 - val_loss: 3.4397e-04\n",
            "Epoch 4/20\n",
            "84/84 - 7s - 87ms/step - loss: 3.1707e-04 - val_loss: 3.4382e-04\n",
            "Epoch 5/20\n",
            "84/84 - 4s - 52ms/step - loss: 3.1753e-04 - val_loss: 3.4753e-04\n",
            "Epoch 6/20\n",
            "84/84 - 7s - 85ms/step - loss: 3.2045e-04 - val_loss: 3.4580e-04\n",
            "Epoch 7/20\n",
            "84/84 - 8s - 98ms/step - loss: 3.1702e-04 - val_loss: 3.4633e-04\n",
            "Epoch 8/20\n",
            "84/84 - 7s - 89ms/step - loss: 3.1784e-04 - val_loss: 3.4614e-04\n",
            "Epoch 9/20\n",
            "84/84 - 8s - 94ms/step - loss: 3.1798e-04 - val_loss: 3.4655e-04\n",
            "Epoch 10/20\n",
            "84/84 - 7s - 83ms/step - loss: 3.1736e-04 - val_loss: 3.4558e-04\n",
            "Epoch 11/20\n",
            "84/84 - 4s - 52ms/step - loss: 3.1886e-04 - val_loss: 3.4725e-04\n",
            "Epoch 12/20\n",
            "84/84 - 5s - 61ms/step - loss: 3.1897e-04 - val_loss: 3.4962e-04\n",
            "Epoch 13/20\n",
            "84/84 - 7s - 81ms/step - loss: 3.1686e-04 - val_loss: 3.4729e-04\n",
            "Epoch 14/20\n",
            "84/84 - 8s - 92ms/step - loss: 3.1835e-04 - val_loss: 3.4529e-04\n",
            "Epoch 15/20\n",
            "84/84 - 7s - 80ms/step - loss: 3.1914e-04 - val_loss: 3.5412e-04\n",
            "Epoch 16/20\n",
            "84/84 - 8s - 93ms/step - loss: 3.1788e-04 - val_loss: 3.4881e-04\n",
            "Epoch 17/20\n",
            "84/84 - 7s - 80ms/step - loss: 3.1810e-04 - val_loss: 3.4479e-04\n",
            "Epoch 18/20\n",
            "84/84 - 8s - 94ms/step - loss: 3.1850e-04 - val_loss: 3.4427e-04\n",
            "Epoch 19/20\n",
            "84/84 - 7s - 85ms/step - loss: 3.1714e-04 - val_loss: 3.4689e-04\n",
            "Epoch 20/20\n",
            "84/84 - 9s - 104ms/step - loss: 3.1813e-04 - val_loss: 3.4915e-04\n",
            "Training fold 4...\n",
            "Epoch 1/20\n",
            "84/84 - 6s - 72ms/step - loss: 3.2384e-04 - val_loss: 3.3648e-04\n",
            "Epoch 2/20\n",
            "84/84 - 10s - 119ms/step - loss: 3.2261e-04 - val_loss: 3.3136e-04\n",
            "Epoch 3/20\n",
            "84/84 - 9s - 104ms/step - loss: 3.2073e-04 - val_loss: 3.2968e-04\n",
            "Epoch 4/20\n",
            "84/84 - 7s - 89ms/step - loss: 3.2028e-04 - val_loss: 3.2976e-04\n",
            "Epoch 5/20\n",
            "84/84 - 4s - 51ms/step - loss: 3.2375e-04 - val_loss: 3.3232e-04\n",
            "Epoch 6/20\n",
            "84/84 - 4s - 52ms/step - loss: 3.2179e-04 - val_loss: 3.2975e-04\n",
            "Epoch 7/20\n",
            "84/84 - 8s - 90ms/step - loss: 3.2007e-04 - val_loss: 3.3321e-04\n",
            "Epoch 8/20\n",
            "84/84 - 4s - 52ms/step - loss: 3.2210e-04 - val_loss: 3.2971e-04\n",
            "Epoch 9/20\n",
            "84/84 - 7s - 79ms/step - loss: 3.2229e-04 - val_loss: 3.3015e-04\n",
            "Epoch 10/20\n",
            "84/84 - 9s - 103ms/step - loss: 3.2054e-04 - val_loss: 3.3118e-04\n",
            "Epoch 11/20\n",
            "84/84 - 7s - 89ms/step - loss: 3.2082e-04 - val_loss: 3.2982e-04\n",
            "Epoch 12/20\n",
            "84/84 - 4s - 51ms/step - loss: 3.2200e-04 - val_loss: 3.2974e-04\n",
            "Epoch 13/20\n",
            "84/84 - 4s - 51ms/step - loss: 3.2232e-04 - val_loss: 3.3731e-04\n",
            "Epoch 14/20\n",
            "84/84 - 7s - 79ms/step - loss: 3.2250e-04 - val_loss: 3.3998e-04\n",
            "Epoch 15/20\n",
            "84/84 - 8s - 95ms/step - loss: 3.2360e-04 - val_loss: 3.3334e-04\n",
            "Epoch 16/20\n",
            "84/84 - 7s - 84ms/step - loss: 3.2098e-04 - val_loss: 3.2967e-04\n",
            "Epoch 17/20\n",
            "84/84 - 9s - 108ms/step - loss: 3.2083e-04 - val_loss: 3.3474e-04\n",
            "Epoch 18/20\n",
            "84/84 - 9s - 112ms/step - loss: 3.2018e-04 - val_loss: 3.3421e-04\n",
            "Epoch 19/20\n",
            "84/84 - 8s - 91ms/step - loss: 3.2194e-04 - val_loss: 3.3104e-04\n",
            "Epoch 20/20\n",
            "84/84 - 4s - 52ms/step - loss: 3.2173e-04 - val_loss: 3.3344e-04\n",
            "Training fold 5...\n",
            "Epoch 1/20\n",
            "84/84 - 5s - 55ms/step - loss: 3.3270e-04 - val_loss: 2.9340e-04\n",
            "Epoch 2/20\n",
            "84/84 - 6s - 75ms/step - loss: 3.3343e-04 - val_loss: 2.8410e-04\n",
            "Epoch 3/20\n",
            "84/84 - 4s - 52ms/step - loss: 3.3307e-04 - val_loss: 2.8744e-04\n",
            "Epoch 4/20\n",
            "84/84 - 6s - 71ms/step - loss: 3.3362e-04 - val_loss: 2.8394e-04\n",
            "Epoch 5/20\n",
            "84/84 - 9s - 102ms/step - loss: 3.3271e-04 - val_loss: 2.8548e-04\n",
            "Epoch 6/20\n",
            "84/84 - 6s - 76ms/step - loss: 3.3360e-04 - val_loss: 2.8429e-04\n",
            "Epoch 7/20\n",
            "84/84 - 8s - 98ms/step - loss: 3.3310e-04 - val_loss: 2.9053e-04\n",
            "Epoch 8/20\n",
            "84/84 - 7s - 89ms/step - loss: 3.3186e-04 - val_loss: 2.8458e-04\n",
            "Epoch 9/20\n",
            "84/84 - 8s - 93ms/step - loss: 3.3078e-04 - val_loss: 2.8495e-04\n",
            "Epoch 10/20\n",
            "84/84 - 7s - 89ms/step - loss: 3.3328e-04 - val_loss: 2.8443e-04\n",
            "Epoch 11/20\n",
            "84/84 - 8s - 94ms/step - loss: 3.3247e-04 - val_loss: 2.8852e-04\n",
            "Epoch 12/20\n",
            "84/84 - 7s - 81ms/step - loss: 3.3316e-04 - val_loss: 2.8420e-04\n",
            "Epoch 13/20\n",
            "84/84 - 8s - 93ms/step - loss: 3.3387e-04 - val_loss: 2.8718e-04\n",
            "Epoch 14/20\n",
            "84/84 - 7s - 79ms/step - loss: 3.3192e-04 - val_loss: 2.8593e-04\n",
            "Epoch 15/20\n",
            "84/84 - 4s - 52ms/step - loss: 3.3362e-04 - val_loss: 2.8468e-04\n",
            "Epoch 16/20\n",
            "84/84 - 4s - 52ms/step - loss: 3.3514e-04 - val_loss: 2.8456e-04\n",
            "Epoch 17/20\n",
            "84/84 - 7s - 81ms/step - loss: 3.3247e-04 - val_loss: 2.8438e-04\n",
            "Epoch 18/20\n",
            "84/84 - 8s - 92ms/step - loss: 3.3384e-04 - val_loss: 2.8462e-04\n",
            "Epoch 19/20\n",
            "84/84 - 7s - 84ms/step - loss: 3.3381e-04 - val_loss: 2.8594e-04\n",
            "Epoch 20/20\n",
            "84/84 - 4s - 52ms/step - loss: 3.3297e-04 - val_loss: 2.8549e-04\n",
            "12/12 - 0s - 17ms/step - loss: 1.8447e-04\n",
            "Test Loss: 0.00018447429465595633\n",
            "Testing with params: {'batch_size': 32, 'max_epoch': 30}\n",
            "Training fold 1...\n",
            "Epoch 1/30\n",
            "84/84 - 10s - 115ms/step - loss: 3.5281e-04 - val_loss: 3.2587e-04\n",
            "Epoch 2/30\n",
            "84/84 - 8s - 94ms/step - loss: 3.3164e-04 - val_loss: 3.2598e-04\n",
            "Epoch 3/30\n",
            "84/84 - 7s - 78ms/step - loss: 3.3426e-04 - val_loss: 3.3028e-04\n",
            "Epoch 4/30\n",
            "84/84 - 4s - 53ms/step - loss: 3.2903e-04 - val_loss: 3.2966e-04\n",
            "Epoch 5/30\n",
            "84/84 - 7s - 88ms/step - loss: 3.2752e-04 - val_loss: 3.2957e-04\n",
            "Epoch 6/30\n",
            "84/84 - 8s - 95ms/step - loss: 3.2958e-04 - val_loss: 3.2814e-04\n",
            "Epoch 7/30\n",
            "84/84 - 7s - 88ms/step - loss: 3.2852e-04 - val_loss: 3.3740e-04\n",
            "Epoch 8/30\n",
            "84/84 - 4s - 53ms/step - loss: 3.2697e-04 - val_loss: 3.2640e-04\n",
            "Epoch 9/30\n",
            "84/84 - 5s - 64ms/step - loss: 3.2730e-04 - val_loss: 3.2850e-04\n",
            "Epoch 10/30\n",
            "84/84 - 7s - 78ms/step - loss: 3.3034e-04 - val_loss: 3.3828e-04\n",
            "Epoch 11/30\n",
            "84/84 - 10s - 117ms/step - loss: 3.2762e-04 - val_loss: 3.3408e-04\n",
            "Epoch 12/30\n",
            "84/84 - 9s - 106ms/step - loss: 3.2877e-04 - val_loss: 3.3494e-04\n",
            "Epoch 13/30\n",
            "84/84 - 7s - 89ms/step - loss: 3.2970e-04 - val_loss: 3.2965e-04\n",
            "Epoch 14/30\n",
            "84/84 - 8s - 95ms/step - loss: 3.2363e-04 - val_loss: 3.2996e-04\n",
            "Epoch 15/30\n",
            "84/84 - 7s - 89ms/step - loss: 3.2976e-04 - val_loss: 3.2787e-04\n",
            "Epoch 16/30\n",
            "84/84 - 8s - 93ms/step - loss: 3.2925e-04 - val_loss: 3.2888e-04\n",
            "Epoch 17/30\n",
            "84/84 - 7s - 87ms/step - loss: 3.2494e-04 - val_loss: 3.2564e-04\n",
            "Epoch 18/30\n",
            "84/84 - 8s - 98ms/step - loss: 3.2659e-04 - val_loss: 3.2647e-04\n",
            "Epoch 19/30\n",
            "84/84 - 7s - 82ms/step - loss: 3.2593e-04 - val_loss: 3.2923e-04\n",
            "Epoch 20/30\n",
            "84/84 - 9s - 107ms/step - loss: 3.2602e-04 - val_loss: 3.2620e-04\n",
            "Epoch 21/30\n",
            "84/84 - 10s - 113ms/step - loss: 3.2470e-04 - val_loss: 3.2584e-04\n",
            "Epoch 22/30\n",
            "84/84 - 7s - 82ms/step - loss: 3.2318e-04 - val_loss: 3.3768e-04\n",
            "Epoch 23/30\n",
            "84/84 - 4s - 53ms/step - loss: 3.2503e-04 - val_loss: 3.3489e-04\n",
            "Epoch 24/30\n",
            "84/84 - 5s - 61ms/step - loss: 3.2467e-04 - val_loss: 3.2830e-04\n",
            "Epoch 25/30\n",
            "84/84 - 7s - 83ms/step - loss: 3.2330e-04 - val_loss: 3.2709e-04\n",
            "Epoch 26/30\n",
            "84/84 - 4s - 53ms/step - loss: 3.2241e-04 - val_loss: 3.3142e-04\n",
            "Epoch 27/30\n",
            "84/84 - 7s - 86ms/step - loss: 3.2590e-04 - val_loss: 3.2557e-04\n",
            "Epoch 28/30\n",
            "84/84 - 8s - 96ms/step - loss: 3.2552e-04 - val_loss: 3.2585e-04\n",
            "Epoch 29/30\n",
            "84/84 - 7s - 89ms/step - loss: 3.2490e-04 - val_loss: 3.2768e-04\n",
            "Epoch 30/30\n",
            "84/84 - 8s - 94ms/step - loss: 3.2311e-04 - val_loss: 3.2564e-04\n",
            "Training fold 2...\n",
            "Epoch 1/30\n",
            "84/84 - 7s - 81ms/step - loss: 3.2511e-04 - val_loss: 3.2539e-04\n",
            "Epoch 2/30\n",
            "84/84 - 8s - 94ms/step - loss: 3.2556e-04 - val_loss: 3.2508e-04\n",
            "Epoch 3/30\n",
            "84/84 - 7s - 88ms/step - loss: 3.2366e-04 - val_loss: 3.2775e-04\n",
            "Epoch 4/30\n",
            "84/84 - 8s - 94ms/step - loss: 3.2229e-04 - val_loss: 3.2419e-04\n",
            "Epoch 5/30\n",
            "84/84 - 7s - 82ms/step - loss: 3.2244e-04 - val_loss: 3.2353e-04\n",
            "Epoch 6/30\n",
            "84/84 - 8s - 93ms/step - loss: 3.2493e-04 - val_loss: 3.2332e-04\n",
            "Epoch 7/30\n",
            "84/84 - 7s - 85ms/step - loss: 3.2337e-04 - val_loss: 3.2337e-04\n",
            "Epoch 8/30\n",
            "84/84 - 9s - 103ms/step - loss: 3.2200e-04 - val_loss: 3.2805e-04\n",
            "Epoch 9/30\n",
            "84/84 - 6s - 74ms/step - loss: 3.2444e-04 - val_loss: 3.2424e-04\n",
            "Epoch 10/30\n",
            "84/84 - 10s - 117ms/step - loss: 3.2426e-04 - val_loss: 3.2384e-04\n",
            "Epoch 11/30\n",
            "84/84 - 9s - 106ms/step - loss: 3.2337e-04 - val_loss: 3.2612e-04\n",
            "Epoch 12/30\n",
            "84/84 - 6s - 76ms/step - loss: 3.2215e-04 - val_loss: 3.3200e-04\n",
            "Epoch 13/30\n",
            "84/84 - 8s - 98ms/step - loss: 3.2561e-04 - val_loss: 3.2368e-04\n",
            "Epoch 14/30\n",
            "84/84 - 7s - 89ms/step - loss: 3.2182e-04 - val_loss: 3.2379e-04\n",
            "Epoch 15/30\n",
            "84/84 - 8s - 93ms/step - loss: 3.2355e-04 - val_loss: 3.6356e-04\n",
            "Epoch 16/30\n",
            "84/84 - 8s - 89ms/step - loss: 3.2342e-04 - val_loss: 3.2633e-04\n",
            "Epoch 17/30\n",
            "84/84 - 8s - 94ms/step - loss: 3.2260e-04 - val_loss: 3.2381e-04\n",
            "Epoch 18/30\n",
            "84/84 - 7s - 83ms/step - loss: 3.2239e-04 - val_loss: 3.3263e-04\n",
            "Epoch 19/30\n",
            "84/84 - 4s - 52ms/step - loss: 3.2328e-04 - val_loss: 3.2539e-04\n",
            "Epoch 20/30\n",
            "84/84 - 6s - 69ms/step - loss: 3.2319e-04 - val_loss: 3.2479e-04\n",
            "Epoch 21/30\n",
            "84/84 - 9s - 106ms/step - loss: 3.2169e-04 - val_loss: 3.2888e-04\n",
            "Epoch 22/30\n",
            "84/84 - 7s - 88ms/step - loss: 3.2289e-04 - val_loss: 3.2403e-04\n",
            "Epoch 23/30\n",
            "84/84 - 8s - 94ms/step - loss: 3.2418e-04 - val_loss: 3.2367e-04\n",
            "Epoch 24/30\n",
            "84/84 - 7s - 87ms/step - loss: 3.2421e-04 - val_loss: 3.3192e-04\n",
            "Epoch 25/30\n",
            "84/84 - 8s - 95ms/step - loss: 3.2314e-04 - val_loss: 3.2524e-04\n",
            "Epoch 26/30\n",
            "84/84 - 7s - 81ms/step - loss: 3.2317e-04 - val_loss: 3.2366e-04\n",
            "Epoch 27/30\n",
            "84/84 - 4s - 53ms/step - loss: 3.2351e-04 - val_loss: 3.2382e-04\n",
            "Epoch 28/30\n",
            "84/84 - 5s - 56ms/step - loss: 3.2318e-04 - val_loss: 3.2782e-04\n",
            "Epoch 29/30\n",
            "84/84 - 7s - 78ms/step - loss: 3.2302e-04 - val_loss: 3.2490e-04\n",
            "Epoch 30/30\n",
            "84/84 - 9s - 106ms/step - loss: 3.2258e-04 - val_loss: 3.2406e-04\n",
            "Training fold 3...\n",
            "Epoch 1/30\n",
            "84/84 - 4s - 53ms/step - loss: 3.1796e-04 - val_loss: 3.4450e-04\n",
            "Epoch 2/30\n",
            "84/84 - 7s - 89ms/step - loss: 3.1745e-04 - val_loss: 3.4414e-04\n",
            "Epoch 3/30\n",
            "84/84 - 8s - 94ms/step - loss: 3.1827e-04 - val_loss: 3.4652e-04\n",
            "Epoch 4/30\n",
            "84/84 - 7s - 89ms/step - loss: 3.1816e-04 - val_loss: 3.4592e-04\n",
            "Epoch 5/30\n",
            "84/84 - 4s - 53ms/step - loss: 3.1846e-04 - val_loss: 3.4476e-04\n",
            "Epoch 6/30\n",
            "84/84 - 5s - 57ms/step - loss: 3.1651e-04 - val_loss: 3.4866e-04\n",
            "Epoch 7/30\n",
            "84/84 - 6s - 77ms/step - loss: 3.1810e-04 - val_loss: 3.4451e-04\n",
            "Epoch 8/30\n",
            "84/84 - 10s - 117ms/step - loss: 3.1781e-04 - val_loss: 3.4490e-04\n",
            "Epoch 9/30\n",
            "84/84 - 9s - 106ms/step - loss: 3.1691e-04 - val_loss: 3.4507e-04\n",
            "Epoch 10/30\n",
            "84/84 - 7s - 89ms/step - loss: 3.1670e-04 - val_loss: 3.4650e-04\n",
            "Epoch 11/30\n",
            "84/84 - 8s - 93ms/step - loss: 3.1867e-04 - val_loss: 3.4487e-04\n",
            "Epoch 12/30\n",
            "84/84 - 7s - 81ms/step - loss: 3.1718e-04 - val_loss: 3.4648e-04\n",
            "Epoch 13/30\n",
            "84/84 - 8s - 93ms/step - loss: 3.1784e-04 - val_loss: 3.4630e-04\n",
            "Epoch 14/30\n",
            "84/84 - 7s - 81ms/step - loss: 3.1760e-04 - val_loss: 3.4552e-04\n",
            "Epoch 15/30\n",
            "84/84 - 4s - 52ms/step - loss: 3.1892e-04 - val_loss: 3.4561e-04\n",
            "Epoch 16/30\n",
            "84/84 - 5s - 62ms/step - loss: 3.2026e-04 - val_loss: 3.4687e-04\n",
            "Epoch 17/30\n",
            "84/84 - 7s - 80ms/step - loss: 3.1662e-04 - val_loss: 3.5105e-04\n",
            "Epoch 18/30\n",
            "84/84 - 4s - 53ms/step - loss: 3.1904e-04 - val_loss: 3.4420e-04\n",
            "Epoch 19/30\n",
            "84/84 - 7s - 88ms/step - loss: 3.1821e-04 - val_loss: 3.4459e-04\n",
            "Epoch 20/30\n",
            "84/84 - 8s - 94ms/step - loss: 3.1814e-04 - val_loss: 3.4448e-04\n",
            "Epoch 21/30\n",
            "84/84 - 7s - 81ms/step - loss: 3.1865e-04 - val_loss: 3.4573e-04\n",
            "Epoch 22/30\n",
            "84/84 - 8s - 93ms/step - loss: 3.1706e-04 - val_loss: 3.4417e-04\n",
            "Epoch 23/30\n",
            "84/84 - 7s - 81ms/step - loss: 3.1918e-04 - val_loss: 3.5035e-04\n",
            "Epoch 24/30\n",
            "84/84 - 4s - 53ms/step - loss: 3.1909e-04 - val_loss: 3.4658e-04\n",
            "Epoch 25/30\n",
            "84/84 - 4s - 53ms/step - loss: 3.1772e-04 - val_loss: 3.4664e-04\n",
            "Epoch 26/30\n",
            "84/84 - 7s - 82ms/step - loss: 3.1774e-04 - val_loss: 3.4813e-04\n",
            "Epoch 27/30\n",
            "84/84 - 8s - 92ms/step - loss: 3.1716e-04 - val_loss: 3.4690e-04\n",
            "Epoch 28/30\n",
            "84/84 - 7s - 89ms/step - loss: 3.1749e-04 - val_loss: 3.4827e-04\n",
            "Epoch 29/30\n",
            "84/84 - 8s - 93ms/step - loss: 3.1610e-04 - val_loss: 3.4454e-04\n",
            "Epoch 30/30\n",
            "84/84 - 7s - 81ms/step - loss: 3.1806e-04 - val_loss: 3.4436e-04\n",
            "Training fold 4...\n",
            "Epoch 1/30\n",
            "84/84 - 5s - 54ms/step - loss: 3.2059e-04 - val_loss: 3.3017e-04\n",
            "Epoch 2/30\n",
            "84/84 - 7s - 81ms/step - loss: 3.2185e-04 - val_loss: 3.3061e-04\n",
            "Epoch 3/30\n",
            "84/84 - 8s - 94ms/step - loss: 3.2019e-04 - val_loss: 3.4095e-04\n",
            "Epoch 4/30\n",
            "84/84 - 7s - 82ms/step - loss: 3.2339e-04 - val_loss: 3.3033e-04\n",
            "Epoch 5/30\n",
            "84/84 - 4s - 53ms/step - loss: 3.2152e-04 - val_loss: 3.3120e-04\n",
            "Epoch 6/30\n",
            "84/84 - 7s - 89ms/step - loss: 3.2199e-04 - val_loss: 3.3326e-04\n",
            "Epoch 7/30\n",
            "84/84 - 4s - 52ms/step - loss: 3.2156e-04 - val_loss: 3.2992e-04\n",
            "Epoch 8/30\n",
            "84/84 - 4s - 52ms/step - loss: 3.2176e-04 - val_loss: 3.2985e-04\n",
            "Epoch 9/30\n",
            "84/84 - 7s - 87ms/step - loss: 3.2094e-04 - val_loss: 3.3703e-04\n",
            "Epoch 10/30\n",
            "84/84 - 8s - 96ms/step - loss: 3.2066e-04 - val_loss: 3.3049e-04\n",
            "Epoch 11/30\n",
            "84/84 - 7s - 82ms/step - loss: 3.2204e-04 - val_loss: 3.2978e-04\n",
            "Epoch 12/30\n",
            "84/84 - 9s - 111ms/step - loss: 3.2304e-04 - val_loss: 3.2980e-04\n",
            "Epoch 13/30\n",
            "84/84 - 9s - 111ms/step - loss: 3.2167e-04 - val_loss: 3.3099e-04\n",
            "Epoch 14/30\n",
            "84/84 - 7s - 88ms/step - loss: 3.2138e-04 - val_loss: 3.3004e-04\n",
            "Epoch 15/30\n",
            "84/84 - 8s - 94ms/step - loss: 3.2063e-04 - val_loss: 3.3320e-04\n",
            "Epoch 16/30\n",
            "84/84 - 8s - 91ms/step - loss: 3.2166e-04 - val_loss: 3.2990e-04\n",
            "Epoch 17/30\n",
            "84/84 - 8s - 92ms/step - loss: 3.2146e-04 - val_loss: 3.3218e-04\n",
            "Epoch 18/30\n",
            "84/84 - 7s - 88ms/step - loss: 3.2236e-04 - val_loss: 3.3049e-04\n",
            "Epoch 19/30\n",
            "84/84 - 8s - 93ms/step - loss: 3.2091e-04 - val_loss: 3.3146e-04\n",
            "Epoch 20/30\n",
            "84/84 - 7s - 80ms/step - loss: 3.2215e-04 - val_loss: 3.3091e-04\n",
            "Epoch 21/30\n",
            "84/84 - 8s - 95ms/step - loss: 3.2105e-04 - val_loss: 3.3021e-04\n",
            "Epoch 22/30\n",
            "84/84 - 7s - 81ms/step - loss: 3.2036e-04 - val_loss: 3.3124e-04\n",
            "Epoch 23/30\n",
            "84/84 - 9s - 113ms/step - loss: 3.2221e-04 - val_loss: 3.3134e-04\n",
            "Epoch 24/30\n",
            "84/84 - 9s - 109ms/step - loss: 3.2084e-04 - val_loss: 3.3093e-04\n",
            "Epoch 25/30\n",
            "84/84 - 7s - 79ms/step - loss: 3.2194e-04 - val_loss: 3.3018e-04\n",
            "Epoch 26/30\n",
            "84/84 - 4s - 53ms/step - loss: 3.1944e-04 - val_loss: 3.3682e-04\n",
            "Epoch 27/30\n",
            "84/84 - 5s - 60ms/step - loss: 3.2540e-04 - val_loss: 3.3023e-04\n",
            "Epoch 28/30\n",
            "84/84 - 7s - 80ms/step - loss: 3.2127e-04 - val_loss: 3.2984e-04\n",
            "Epoch 29/30\n",
            "84/84 - 4s - 52ms/step - loss: 3.2172e-04 - val_loss: 3.3127e-04\n",
            "Epoch 30/30\n",
            "84/84 - 5s - 61ms/step - loss: 3.2146e-04 - val_loss: 3.3001e-04\n",
            "Training fold 5...\n",
            "Epoch 1/30\n",
            "84/84 - 6s - 72ms/step - loss: 3.3200e-04 - val_loss: 2.9394e-04\n",
            "Epoch 2/30\n",
            "84/84 - 10s - 119ms/step - loss: 3.3250e-04 - val_loss: 2.8406e-04\n",
            "Epoch 3/30\n",
            "84/84 - 5s - 63ms/step - loss: 3.3233e-04 - val_loss: 2.8407e-04\n",
            "Epoch 4/30\n",
            "84/84 - 4s - 52ms/step - loss: 3.3190e-04 - val_loss: 2.8687e-04\n",
            "Epoch 5/30\n",
            "84/84 - 7s - 81ms/step - loss: 3.3288e-04 - val_loss: 2.8809e-04\n",
            "Epoch 6/30\n",
            "84/84 - 4s - 53ms/step - loss: 3.3279e-04 - val_loss: 2.9364e-04\n",
            "Epoch 7/30\n",
            "84/84 - 4s - 53ms/step - loss: 3.3340e-04 - val_loss: 2.8428e-04\n",
            "Epoch 8/30\n",
            "84/84 - 7s - 80ms/step - loss: 3.3308e-04 - val_loss: 2.8553e-04\n",
            "Epoch 9/30\n",
            "84/84 - 8s - 94ms/step - loss: 3.3462e-04 - val_loss: 2.8452e-04\n",
            "Epoch 10/30\n",
            "84/84 - 7s - 83ms/step - loss: 3.3308e-04 - val_loss: 2.8503e-04\n",
            "Epoch 11/30\n",
            "84/84 - 8s - 92ms/step - loss: 3.3186e-04 - val_loss: 2.8445e-04\n",
            "Epoch 12/30\n",
            "84/84 - 7s - 89ms/step - loss: 3.3312e-04 - val_loss: 2.8494e-04\n",
            "Epoch 13/30\n",
            "84/84 - 4s - 53ms/step - loss: 3.3272e-04 - val_loss: 2.8440e-04\n",
            "Epoch 14/30\n",
            "84/84 - 6s - 75ms/step - loss: 3.3128e-04 - val_loss: 2.8464e-04\n",
            "Epoch 15/30\n",
            "84/84 - 9s - 107ms/step - loss: 3.3195e-04 - val_loss: 2.8447e-04\n",
            "Epoch 16/30\n",
            "84/84 - 7s - 80ms/step - loss: 3.3261e-04 - val_loss: 2.8901e-04\n",
            "Epoch 17/30\n",
            "84/84 - 8s - 94ms/step - loss: 3.3252e-04 - val_loss: 2.8421e-04\n",
            "Epoch 18/30\n",
            "84/84 - 7s - 79ms/step - loss: 3.3323e-04 - val_loss: 2.8660e-04\n",
            "Epoch 19/30\n",
            "84/84 - 8s - 95ms/step - loss: 3.3333e-04 - val_loss: 2.8447e-04\n",
            "Epoch 20/30\n",
            "84/84 - 8s - 90ms/step - loss: 3.3217e-04 - val_loss: 2.8464e-04\n",
            "Epoch 21/30\n",
            "84/84 - 8s - 93ms/step - loss: 3.3326e-04 - val_loss: 2.8440e-04\n",
            "Epoch 22/30\n",
            "84/84 - 7s - 80ms/step - loss: 3.3146e-04 - val_loss: 2.8586e-04\n",
            "Epoch 23/30\n",
            "84/84 - 4s - 53ms/step - loss: 3.3328e-04 - val_loss: 2.8668e-04\n",
            "Epoch 24/30\n",
            "84/84 - 5s - 61ms/step - loss: 3.3178e-04 - val_loss: 2.9227e-04\n",
            "Epoch 25/30\n",
            "84/84 - 7s - 81ms/step - loss: 3.3229e-04 - val_loss: 2.8454e-04\n",
            "Epoch 26/30\n",
            "84/84 - 4s - 52ms/step - loss: 3.3292e-04 - val_loss: 2.8478e-04\n",
            "Epoch 27/30\n",
            "84/84 - 7s - 88ms/step - loss: 3.3391e-04 - val_loss: 2.8440e-04\n",
            "Epoch 28/30\n",
            "84/84 - 8s - 96ms/step - loss: 3.3343e-04 - val_loss: 2.8657e-04\n",
            "Epoch 29/30\n",
            "84/84 - 7s - 88ms/step - loss: 3.3298e-04 - val_loss: 2.8431e-04\n",
            "Epoch 30/30\n",
            "84/84 - 8s - 93ms/step - loss: 3.3269e-04 - val_loss: 2.8424e-04\n",
            "12/12 - 0s - 17ms/step - loss: 1.8519e-04\n",
            "Test Loss: 0.00018519429431762546\n",
            "Testing with params: {'batch_size': 32, 'max_epoch': 40}\n",
            "Training fold 1...\n",
            "Epoch 1/40\n",
            "84/84 - 9s - 108ms/step - loss: 3.3733e-04 - val_loss: 3.3271e-04\n",
            "Epoch 2/40\n",
            "84/84 - 11s - 135ms/step - loss: 3.3450e-04 - val_loss: 3.2741e-04\n",
            "Epoch 3/40\n",
            "84/84 - 8s - 94ms/step - loss: 3.3152e-04 - val_loss: 3.3169e-04\n",
            "Epoch 4/40\n",
            "84/84 - 7s - 89ms/step - loss: 3.3350e-04 - val_loss: 3.5396e-04\n",
            "Epoch 5/40\n",
            "84/84 - 8s - 94ms/step - loss: 3.3271e-04 - val_loss: 3.6203e-04\n",
            "Epoch 6/40\n",
            "84/84 - 7s - 87ms/step - loss: 3.3547e-04 - val_loss: 3.2717e-04\n",
            "Epoch 7/40\n",
            "84/84 - 4s - 53ms/step - loss: 3.3084e-04 - val_loss: 3.3109e-04\n",
            "Epoch 8/40\n",
            "84/84 - 7s - 81ms/step - loss: 3.3247e-04 - val_loss: 3.2613e-04\n",
            "Epoch 9/40\n",
            "84/84 - 9s - 101ms/step - loss: 3.2683e-04 - val_loss: 3.2778e-04\n",
            "Epoch 10/40\n",
            "84/84 - 7s - 89ms/step - loss: 3.2713e-04 - val_loss: 3.2957e-04\n",
            "Epoch 11/40\n",
            "84/84 - 8s - 94ms/step - loss: 3.2685e-04 - val_loss: 3.2571e-04\n",
            "Epoch 12/40\n",
            "84/84 - 7s - 82ms/step - loss: 3.2580e-04 - val_loss: 3.3393e-04\n",
            "Epoch 13/40\n",
            "84/84 - 8s - 93ms/step - loss: 3.2689e-04 - val_loss: 3.2755e-04\n",
            "Epoch 14/40\n",
            "84/84 - 7s - 82ms/step - loss: 3.3221e-04 - val_loss: 3.2603e-04\n",
            "Epoch 15/40\n",
            "84/84 - 4s - 53ms/step - loss: 3.2595e-04 - val_loss: 3.2608e-04\n",
            "Epoch 16/40\n",
            "84/84 - 4s - 53ms/step - loss: 3.2582e-04 - val_loss: 3.2909e-04\n",
            "Epoch 17/40\n",
            "84/84 - 7s - 87ms/step - loss: 3.2407e-04 - val_loss: 3.2697e-04\n",
            "Epoch 18/40\n",
            "84/84 - 8s - 97ms/step - loss: 3.2524e-04 - val_loss: 3.2556e-04\n",
            "Epoch 19/40\n",
            "84/84 - 7s - 80ms/step - loss: 3.2513e-04 - val_loss: 3.2564e-04\n",
            "Epoch 20/40\n",
            "84/84 - 9s - 113ms/step - loss: 3.2689e-04 - val_loss: 3.2622e-04\n",
            "Epoch 21/40\n",
            "84/84 - 9s - 110ms/step - loss: 3.2376e-04 - val_loss: 3.5965e-04\n",
            "Epoch 22/40\n",
            "84/84 - 8s - 89ms/step - loss: 3.2778e-04 - val_loss: 3.3058e-04\n",
            "Epoch 23/40\n",
            "84/84 - 8s - 93ms/step - loss: 3.2528e-04 - val_loss: 3.2725e-04\n",
            "Epoch 24/40\n",
            "84/84 - 7s - 81ms/step - loss: 3.2418e-04 - val_loss: 3.2598e-04\n",
            "Epoch 25/40\n",
            "84/84 - 4s - 52ms/step - loss: 3.2375e-04 - val_loss: 3.2901e-04\n",
            "Epoch 26/40\n",
            "84/84 - 5s - 64ms/step - loss: 3.2279e-04 - val_loss: 3.2657e-04\n",
            "Epoch 27/40\n",
            "84/84 - 6s - 76ms/step - loss: 3.2351e-04 - val_loss: 3.2563e-04\n",
            "Epoch 28/40\n",
            "84/84 - 4s - 53ms/step - loss: 3.2395e-04 - val_loss: 3.4299e-04\n",
            "Epoch 29/40\n",
            "84/84 - 7s - 82ms/step - loss: 3.2726e-04 - val_loss: 3.2649e-04\n",
            "Epoch 30/40\n",
            "84/84 - 8s - 99ms/step - loss: 3.2269e-04 - val_loss: 3.3830e-04\n",
            "Epoch 31/40\n",
            "84/84 - 6s - 76ms/step - loss: 3.2473e-04 - val_loss: 3.2775e-04\n",
            "Epoch 32/40\n",
            "84/84 - 8s - 97ms/step - loss: 3.2254e-04 - val_loss: 3.2614e-04\n",
            "Epoch 33/40\n",
            "84/84 - 7s - 79ms/step - loss: 3.2410e-04 - val_loss: 3.2754e-04\n",
            "Epoch 34/40\n",
            "84/84 - 5s - 55ms/step - loss: 3.2358e-04 - val_loss: 3.2948e-04\n",
            "Epoch 35/40\n",
            "84/84 - 5s - 59ms/step - loss: 3.2293e-04 - val_loss: 3.2573e-04\n",
            "Epoch 36/40\n",
            "84/84 - 7s - 82ms/step - loss: 3.2197e-04 - val_loss: 3.3068e-04\n",
            "Epoch 37/40\n",
            "84/84 - 8s - 92ms/step - loss: 3.2201e-04 - val_loss: 3.3016e-04\n",
            "Epoch 38/40\n",
            "84/84 - 7s - 88ms/step - loss: 3.2455e-04 - val_loss: 3.2867e-04\n",
            "Epoch 39/40\n",
            "84/84 - 8s - 94ms/step - loss: 3.2311e-04 - val_loss: 3.2742e-04\n",
            "Epoch 40/40\n",
            "84/84 - 7s - 82ms/step - loss: 3.2302e-04 - val_loss: 3.4499e-04\n",
            "Training fold 2...\n",
            "Epoch 1/40\n",
            "84/84 - 4s - 53ms/step - loss: 3.2343e-04 - val_loss: 3.2307e-04\n",
            "Epoch 2/40\n",
            "84/84 - 7s - 80ms/step - loss: 3.2377e-04 - val_loss: 3.2532e-04\n",
            "Epoch 3/40\n",
            "84/84 - 8s - 101ms/step - loss: 3.2539e-04 - val_loss: 3.3012e-04\n",
            "Epoch 4/40\n",
            "84/84 - 7s - 87ms/step - loss: 3.2311e-04 - val_loss: 3.2303e-04\n",
            "Epoch 5/40\n",
            "84/84 - 4s - 52ms/step - loss: 3.2209e-04 - val_loss: 3.2467e-04\n",
            "Epoch 6/40\n",
            "84/84 - 5s - 64ms/step - loss: 3.2294e-04 - val_loss: 3.2681e-04\n",
            "Epoch 7/40\n",
            "84/84 - 7s - 78ms/step - loss: 3.2289e-04 - val_loss: 3.2444e-04\n",
            "Epoch 8/40\n",
            "84/84 - 10s - 114ms/step - loss: 3.2281e-04 - val_loss: 3.2445e-04\n",
            "Epoch 9/40\n",
            "84/84 - 9s - 109ms/step - loss: 3.2308e-04 - val_loss: 3.2377e-04\n",
            "Epoch 10/40\n",
            "84/84 - 7s - 89ms/step - loss: 3.2349e-04 - val_loss: 3.2495e-04\n",
            "Epoch 11/40\n",
            "84/84 - 8s - 94ms/step - loss: 3.2418e-04 - val_loss: 3.2410e-04\n",
            "Epoch 12/40\n",
            "84/84 - 7s - 88ms/step - loss: 3.2518e-04 - val_loss: 3.2338e-04\n",
            "Epoch 13/40\n",
            "84/84 - 8s - 94ms/step - loss: 3.2282e-04 - val_loss: 3.2527e-04\n",
            "Epoch 14/40\n",
            "84/84 - 7s - 88ms/step - loss: 3.2251e-04 - val_loss: 3.2375e-04\n",
            "Epoch 15/40\n",
            "84/84 - 8s - 98ms/step - loss: 3.2304e-04 - val_loss: 3.2356e-04\n",
            "Epoch 16/40\n",
            "84/84 - 6s - 77ms/step - loss: 3.2298e-04 - val_loss: 3.2667e-04\n",
            "Epoch 17/40\n",
            "84/84 - 9s - 105ms/step - loss: 3.2507e-04 - val_loss: 3.2425e-04\n",
            "Epoch 18/40\n",
            "84/84 - 6s - 75ms/step - loss: 3.2156e-04 - val_loss: 3.3822e-04\n",
            "Epoch 19/40\n",
            "84/84 - 10s - 113ms/step - loss: 3.2307e-04 - val_loss: 3.2446e-04\n",
            "Epoch 20/40\n",
            "84/84 - 9s - 108ms/step - loss: 3.2335e-04 - val_loss: 3.2348e-04\n",
            "Epoch 21/40\n",
            "84/84 - 7s - 88ms/step - loss: 3.2339e-04 - val_loss: 3.2555e-04\n",
            "Epoch 22/40\n",
            "84/84 - 4s - 52ms/step - loss: 3.2524e-04 - val_loss: 3.3194e-04\n",
            "Epoch 23/40\n",
            "84/84 - 4s - 52ms/step - loss: 3.2317e-04 - val_loss: 3.2352e-04\n",
            "Epoch 24/40\n",
            "84/84 - 7s - 88ms/step - loss: 3.2239e-04 - val_loss: 3.2375e-04\n",
            "Epoch 25/40\n",
            "84/84 - 8s - 101ms/step - loss: 3.2276e-04 - val_loss: 3.2588e-04\n",
            "Epoch 26/40\n",
            "84/84 - 6s - 76ms/step - loss: 3.2299e-04 - val_loss: 3.2352e-04\n",
            "Epoch 27/40\n",
            "84/84 - 9s - 112ms/step - loss: 3.2162e-04 - val_loss: 3.2356e-04\n",
            "Epoch 28/40\n",
            "84/84 - 9s - 110ms/step - loss: 3.2321e-04 - val_loss: 3.2749e-04\n",
            "Epoch 29/40\n",
            "84/84 - 7s - 89ms/step - loss: 3.2426e-04 - val_loss: 3.2532e-04\n",
            "Epoch 30/40\n",
            "84/84 - 4s - 52ms/step - loss: 3.2292e-04 - val_loss: 3.2381e-04\n",
            "Epoch 31/40\n",
            "84/84 - 5s - 63ms/step - loss: 3.2306e-04 - val_loss: 3.2361e-04\n",
            "Epoch 32/40\n",
            "84/84 - 7s - 79ms/step - loss: 3.2340e-04 - val_loss: 3.2358e-04\n",
            "Epoch 33/40\n",
            "84/84 - 10s - 116ms/step - loss: 3.2428e-04 - val_loss: 3.2352e-04\n",
            "Epoch 34/40\n",
            "84/84 - 9s - 107ms/step - loss: 3.2263e-04 - val_loss: 3.3170e-04\n",
            "Epoch 35/40\n",
            "84/84 - 8s - 90ms/step - loss: 3.2316e-04 - val_loss: 3.2764e-04\n",
            "Epoch 36/40\n",
            "84/84 - 4s - 53ms/step - loss: 3.2291e-04 - val_loss: 3.3492e-04\n",
            "Epoch 37/40\n",
            "84/84 - 4s - 52ms/step - loss: 3.2236e-04 - val_loss: 3.2602e-04\n",
            "Epoch 38/40\n",
            "84/84 - 7s - 88ms/step - loss: 3.2184e-04 - val_loss: 3.2360e-04\n",
            "Epoch 39/40\n",
            "84/84 - 8s - 98ms/step - loss: 3.2300e-04 - val_loss: 3.3457e-04\n",
            "Epoch 40/40\n",
            "84/84 - 6s - 77ms/step - loss: 3.2298e-04 - val_loss: 3.2479e-04\n",
            "Training fold 3...\n",
            "Epoch 1/40\n",
            "84/84 - 4s - 52ms/step - loss: 3.1951e-04 - val_loss: 3.4410e-04\n",
            "Epoch 2/40\n",
            "84/84 - 6s - 71ms/step - loss: 3.1820e-04 - val_loss: 3.7787e-04\n",
            "Epoch 3/40\n",
            "84/84 - 9s - 103ms/step - loss: 3.2108e-04 - val_loss: 3.5079e-04\n",
            "Epoch 4/40\n",
            "84/84 - 7s - 87ms/step - loss: 3.1767e-04 - val_loss: 3.4680e-04\n",
            "Epoch 5/40\n",
            "84/84 - 8s - 96ms/step - loss: 3.1705e-04 - val_loss: 3.4984e-04\n",
            "Epoch 6/40\n",
            "84/84 - 8s - 89ms/step - loss: 3.1916e-04 - val_loss: 3.4429e-04\n",
            "Epoch 7/40\n",
            "84/84 - 4s - 52ms/step - loss: 3.1817e-04 - val_loss: 3.4500e-04\n",
            "Epoch 8/40\n",
            "84/84 - 6s - 74ms/step - loss: 3.1700e-04 - val_loss: 3.4524e-04\n",
            "Epoch 9/40\n",
            "84/84 - 9s - 108ms/step - loss: 3.1765e-04 - val_loss: 3.4435e-04\n",
            "Epoch 10/40\n",
            "84/84 - 7s - 89ms/step - loss: 3.1726e-04 - val_loss: 3.4420e-04\n",
            "Epoch 11/40\n",
            "84/84 - 4s - 54ms/step - loss: 3.1711e-04 - val_loss: 3.4628e-04\n",
            "Epoch 12/40\n",
            "84/84 - 5s - 59ms/step - loss: 3.1712e-04 - val_loss: 3.4525e-04\n",
            "Epoch 13/40\n",
            "84/84 - 7s - 81ms/step - loss: 3.1753e-04 - val_loss: 3.4769e-04\n",
            "Epoch 14/40\n",
            "84/84 - 10s - 116ms/step - loss: 3.2106e-04 - val_loss: 3.4419e-04\n",
            "Epoch 15/40\n",
            "84/84 - 5s - 62ms/step - loss: 3.1732e-04 - val_loss: 3.4548e-04\n",
            "Epoch 16/40\n",
            "84/84 - 12s - 139ms/step - loss: 3.1794e-04 - val_loss: 3.4419e-04\n",
            "Epoch 17/40\n",
            "84/84 - 4s - 53ms/step - loss: 3.1777e-04 - val_loss: 3.4444e-04\n",
            "Epoch 18/40\n",
            "84/84 - 4s - 53ms/step - loss: 3.1713e-04 - val_loss: 3.4550e-04\n",
            "Epoch 19/40\n",
            "84/84 - 7s - 81ms/step - loss: 3.1761e-04 - val_loss: 3.4540e-04\n",
            "Epoch 20/40\n",
            "84/84 - 8s - 93ms/step - loss: 3.1765e-04 - val_loss: 3.4885e-04\n",
            "Epoch 21/40\n",
            "84/84 - 7s - 86ms/step - loss: 3.1844e-04 - val_loss: 3.4437e-04\n",
            "Epoch 22/40\n",
            "84/84 - 8s - 101ms/step - loss: 3.1804e-04 - val_loss: 3.4986e-04\n",
            "Epoch 23/40\n",
            "84/84 - 6s - 76ms/step - loss: 3.1879e-04 - val_loss: 3.4470e-04\n",
            "Epoch 24/40\n",
            "84/84 - 9s - 105ms/step - loss: 3.1781e-04 - val_loss: 3.4459e-04\n",
            "Epoch 25/40\n",
            "84/84 - 6s - 72ms/step - loss: 3.1783e-04 - val_loss: 3.4566e-04\n",
            "Epoch 26/40\n",
            "84/84 - 4s - 52ms/step - loss: 3.1621e-04 - val_loss: 3.4493e-04\n",
            "Epoch 27/40\n",
            "84/84 - 7s - 87ms/step - loss: 3.1758e-04 - val_loss: 3.4494e-04\n",
            "Epoch 28/40\n",
            "84/84 - 8s - 95ms/step - loss: 3.1696e-04 - val_loss: 3.4603e-04\n",
            "Epoch 29/40\n",
            "84/84 - 7s - 81ms/step - loss: 3.1820e-04 - val_loss: 3.4788e-04\n",
            "Epoch 30/40\n",
            "84/84 - 8s - 93ms/step - loss: 3.1827e-04 - val_loss: 3.4515e-04\n",
            "Epoch 31/40\n",
            "84/84 - 8s - 89ms/step - loss: 3.1782e-04 - val_loss: 3.4514e-04\n",
            "Epoch 32/40\n",
            "84/84 - 4s - 52ms/step - loss: 3.1750e-04 - val_loss: 3.4510e-04\n",
            "Epoch 33/40\n",
            "84/84 - 4s - 52ms/step - loss: 3.1648e-04 - val_loss: 3.4491e-04\n",
            "Epoch 34/40\n",
            "84/84 - 7s - 80ms/step - loss: 3.1731e-04 - val_loss: 3.4455e-04\n",
            "Epoch 35/40\n",
            "84/84 - 8s - 94ms/step - loss: 3.1828e-04 - val_loss: 3.4451e-04\n",
            "Epoch 36/40\n",
            "84/84 - 7s - 80ms/step - loss: 3.1833e-04 - val_loss: 3.4481e-04\n",
            "Epoch 37/40\n",
            "84/84 - 8s - 95ms/step - loss: 3.1771e-04 - val_loss: 3.4454e-04\n",
            "Epoch 38/40\n",
            "84/84 - 7s - 81ms/step - loss: 3.1885e-04 - val_loss: 3.4451e-04\n",
            "Epoch 39/40\n",
            "84/84 - 8s - 93ms/step - loss: 3.1700e-04 - val_loss: 3.4530e-04\n",
            "Epoch 40/40\n",
            "84/84 - 7s - 87ms/step - loss: 3.1850e-04 - val_loss: 3.4515e-04\n",
            "Training fold 4...\n",
            "Epoch 1/40\n",
            "84/84 - 5s - 58ms/step - loss: 3.2015e-04 - val_loss: 3.3105e-04\n",
            "Epoch 2/40\n",
            "84/84 - 6s - 74ms/step - loss: 3.2095e-04 - val_loss: 3.3377e-04\n",
            "Epoch 3/40\n",
            "84/84 - 9s - 109ms/step - loss: 3.2130e-04 - val_loss: 3.3309e-04\n",
            "Epoch 4/40\n",
            "84/84 - 9s - 112ms/step - loss: 3.2127e-04 - val_loss: 3.3885e-04\n",
            "Epoch 5/40\n",
            "84/84 - 8s - 90ms/step - loss: 3.2413e-04 - val_loss: 3.3138e-04\n",
            "Epoch 6/40\n",
            "84/84 - 4s - 53ms/step - loss: 3.2180e-04 - val_loss: 3.3140e-04\n",
            "Epoch 7/40\n",
            "84/84 - 5s - 64ms/step - loss: 3.2088e-04 - val_loss: 3.3042e-04\n",
            "Epoch 8/40\n",
            "84/84 - 7s - 79ms/step - loss: 3.2160e-04 - val_loss: 3.3438e-04\n",
            "Epoch 9/40\n",
            "84/84 - 10s - 113ms/step - loss: 3.2271e-04 - val_loss: 3.3228e-04\n",
            "Epoch 10/40\n",
            "84/84 - 9s - 108ms/step - loss: 3.2249e-04 - val_loss: 3.3063e-04\n",
            "Epoch 11/40\n",
            "84/84 - 7s - 88ms/step - loss: 3.2300e-04 - val_loss: 3.3096e-04\n",
            "Epoch 12/40\n",
            "84/84 - 4s - 52ms/step - loss: 3.2074e-04 - val_loss: 3.3028e-04\n",
            "Epoch 13/40\n",
            "84/84 - 5s - 63ms/step - loss: 3.2083e-04 - val_loss: 3.3754e-04\n",
            "Epoch 14/40\n",
            "84/84 - 7s - 78ms/step - loss: 3.2305e-04 - val_loss: 3.3047e-04\n",
            "Epoch 15/40\n",
            "84/84 - 10s - 120ms/step - loss: 3.2141e-04 - val_loss: 3.3616e-04\n",
            "Epoch 16/40\n",
            "84/84 - 5s - 63ms/step - loss: 3.2171e-04 - val_loss: 3.3030e-04\n",
            "Epoch 17/40\n",
            "84/84 - 12s - 140ms/step - loss: 3.2404e-04 - val_loss: 3.3208e-04\n",
            "Epoch 18/40\n",
            "84/84 - 8s - 93ms/step - loss: 3.2223e-04 - val_loss: 3.3291e-04\n",
            "Epoch 19/40\n",
            "84/84 - 7s - 81ms/step - loss: 3.2082e-04 - val_loss: 3.3083e-04\n",
            "Epoch 20/40\n",
            "84/84 - 8s - 93ms/step - loss: 3.2181e-04 - val_loss: 3.3067e-04\n",
            "Epoch 21/40\n",
            "84/84 - 8s - 90ms/step - loss: 3.2536e-04 - val_loss: 3.3350e-04\n",
            "Epoch 22/40\n",
            "84/84 - 4s - 52ms/step - loss: 3.2029e-04 - val_loss: 3.3035e-04\n",
            "Epoch 23/40\n",
            "84/84 - 4s - 53ms/step - loss: 3.2100e-04 - val_loss: 3.2988e-04\n",
            "Epoch 24/40\n",
            "84/84 - 7s - 80ms/step - loss: 3.2101e-04 - val_loss: 3.3150e-04\n",
            "Epoch 25/40\n",
            "84/84 - 4s - 52ms/step - loss: 3.2120e-04 - val_loss: 3.3043e-04\n",
            "Epoch 26/40\n",
            "84/84 - 5s - 61ms/step - loss: 3.2133e-04 - val_loss: 3.2994e-04\n",
            "Epoch 27/40\n",
            "84/84 - 9s - 113ms/step - loss: 3.2366e-04 - val_loss: 3.2988e-04\n",
            "Epoch 28/40\n",
            "84/84 - 7s - 89ms/step - loss: 3.2151e-04 - val_loss: 3.3354e-04\n",
            "Epoch 29/40\n",
            "84/84 - 8s - 93ms/step - loss: 3.2162e-04 - val_loss: 3.3025e-04\n",
            "Epoch 30/40\n",
            "84/84 - 8s - 90ms/step - loss: 3.2163e-04 - val_loss: 3.3087e-04\n",
            "Epoch 31/40\n",
            "84/84 - 8s - 92ms/step - loss: 3.2358e-04 - val_loss: 3.3203e-04\n",
            "Epoch 32/40\n",
            "84/84 - 8s - 89ms/step - loss: 3.2094e-04 - val_loss: 3.3011e-04\n",
            "Epoch 33/40\n",
            "84/84 - 8s - 93ms/step - loss: 3.2075e-04 - val_loss: 3.2986e-04\n",
            "Epoch 34/40\n",
            "84/84 - 7s - 81ms/step - loss: 3.2169e-04 - val_loss: 3.3076e-04\n",
            "Epoch 35/40\n",
            "84/84 - 4s - 52ms/step - loss: 3.2109e-04 - val_loss: 3.3007e-04\n",
            "Epoch 36/40\n",
            "84/84 - 6s - 76ms/step - loss: 3.2175e-04 - val_loss: 3.3015e-04\n",
            "Epoch 37/40\n",
            "84/84 - 9s - 106ms/step - loss: 3.2071e-04 - val_loss: 3.3052e-04\n",
            "Epoch 38/40\n",
            "84/84 - 7s - 78ms/step - loss: 3.2202e-04 - val_loss: 3.3427e-04\n",
            "Epoch 39/40\n",
            "84/84 - 8s - 97ms/step - loss: 3.2153e-04 - val_loss: 3.3002e-04\n",
            "Epoch 40/40\n",
            "84/84 - 7s - 88ms/step - loss: 3.2110e-04 - val_loss: 3.3066e-04\n",
            "Training fold 5...\n",
            "Epoch 1/40\n",
            "84/84 - 4s - 53ms/step - loss: 3.3322e-04 - val_loss: 2.8737e-04\n",
            "Epoch 2/40\n",
            "84/84 - 7s - 86ms/step - loss: 3.3177e-04 - val_loss: 2.8540e-04\n",
            "Epoch 3/40\n",
            "84/84 - 4s - 53ms/step - loss: 3.3428e-04 - val_loss: 2.8390e-04\n",
            "Epoch 4/40\n",
            "84/84 - 6s - 73ms/step - loss: 3.3377e-04 - val_loss: 2.8454e-04\n",
            "Epoch 5/40\n",
            "84/84 - 9s - 109ms/step - loss: 3.3524e-04 - val_loss: 2.8508e-04\n",
            "Epoch 6/40\n",
            "84/84 - 7s - 89ms/step - loss: 3.3294e-04 - val_loss: 2.8684e-04\n",
            "Epoch 7/40\n",
            "84/84 - 4s - 52ms/step - loss: 3.3268e-04 - val_loss: 2.8481e-04\n",
            "Epoch 8/40\n",
            "84/84 - 4s - 53ms/step - loss: 3.3404e-04 - val_loss: 2.8396e-04\n",
            "Epoch 9/40\n",
            "84/84 - 7s - 85ms/step - loss: 3.3272e-04 - val_loss: 2.8733e-04\n",
            "Epoch 10/40\n",
            "84/84 - 8s - 100ms/step - loss: 3.3241e-04 - val_loss: 2.8790e-04\n",
            "Epoch 11/40\n",
            "84/84 - 6s - 77ms/step - loss: 3.3300e-04 - val_loss: 2.8555e-04\n",
            "Epoch 12/40\n",
            "84/84 - 10s - 116ms/step - loss: 3.3392e-04 - val_loss: 2.8454e-04\n",
            "Epoch 13/40\n",
            "84/84 - 9s - 108ms/step - loss: 3.3282e-04 - val_loss: 2.8528e-04\n",
            "Epoch 14/40\n",
            "84/84 - 7s - 85ms/step - loss: 3.3312e-04 - val_loss: 2.8419e-04\n",
            "Epoch 15/40\n",
            "84/84 - 8s - 97ms/step - loss: 3.3283e-04 - val_loss: 2.8693e-04\n",
            "Epoch 16/40\n",
            "84/84 - 7s - 82ms/step - loss: 3.3075e-04 - val_loss: 2.8810e-04\n",
            "Epoch 17/40\n",
            "84/84 - 4s - 53ms/step - loss: 3.3196e-04 - val_loss: 2.8453e-04\n",
            "Epoch 18/40\n",
            "84/84 - 6s - 70ms/step - loss: 3.3401e-04 - val_loss: 2.8784e-04\n",
            "Epoch 19/40\n",
            "84/84 - 9s - 112ms/step - loss: 3.3703e-04 - val_loss: 2.8426e-04\n",
            "Epoch 20/40\n",
            "84/84 - 8s - 90ms/step - loss: 3.3294e-04 - val_loss: 2.8403e-04\n",
            "Epoch 21/40\n",
            "84/84 - 8s - 92ms/step - loss: 3.3235e-04 - val_loss: 2.8749e-04\n",
            "Epoch 22/40\n",
            "84/84 - 7s - 81ms/step - loss: 3.3193e-04 - val_loss: 2.8507e-04\n",
            "Epoch 23/40\n",
            "84/84 - 8s - 93ms/step - loss: 3.3412e-04 - val_loss: 2.8442e-04\n",
            "Epoch 24/40\n",
            "84/84 - 7s - 89ms/step - loss: 3.3303e-04 - val_loss: 2.9725e-04\n",
            "Epoch 25/40\n",
            "84/84 - 4s - 53ms/step - loss: 3.3342e-04 - val_loss: 2.8796e-04\n",
            "Epoch 26/40\n",
            "84/84 - 4s - 52ms/step - loss: 3.3232e-04 - val_loss: 2.8434e-04\n",
            "Epoch 27/40\n",
            "84/84 - 7s - 81ms/step - loss: 3.3190e-04 - val_loss: 2.8669e-04\n",
            "Epoch 28/40\n",
            "84/84 - 8s - 93ms/step - loss: 3.3447e-04 - val_loss: 2.8942e-04\n",
            "Epoch 29/40\n",
            "84/84 - 7s - 81ms/step - loss: 3.3254e-04 - val_loss: 2.8461e-04\n",
            "Epoch 30/40\n",
            "84/84 - 4s - 53ms/step - loss: 3.3265e-04 - val_loss: 2.8681e-04\n",
            "Epoch 31/40\n",
            "84/84 - 5s - 60ms/step - loss: 3.3170e-04 - val_loss: 2.8541e-04\n",
            "Epoch 32/40\n",
            "84/84 - 6s - 73ms/step - loss: 3.3256e-04 - val_loss: 2.8434e-04\n",
            "Epoch 33/40\n",
            "84/84 - 10s - 118ms/step - loss: 3.3273e-04 - val_loss: 2.8543e-04\n",
            "Epoch 34/40\n",
            "84/84 - 9s - 106ms/step - loss: 3.3095e-04 - val_loss: 2.9242e-04\n",
            "Epoch 35/40\n",
            "84/84 - 6s - 77ms/step - loss: 3.3661e-04 - val_loss: 2.8440e-04\n",
            "Epoch 36/40\n",
            "84/84 - 8s - 97ms/step - loss: 3.3343e-04 - val_loss: 2.8641e-04\n",
            "Epoch 37/40\n",
            "84/84 - 7s - 89ms/step - loss: 3.3591e-04 - val_loss: 2.9128e-04\n",
            "Epoch 38/40\n",
            "84/84 - 8s - 94ms/step - loss: 3.3578e-04 - val_loss: 2.8532e-04\n",
            "Epoch 39/40\n",
            "84/84 - 7s - 88ms/step - loss: 3.3143e-04 - val_loss: 2.9228e-04\n",
            "Epoch 40/40\n",
            "84/84 - 4s - 52ms/step - loss: 3.3313e-04 - val_loss: 2.8481e-04\n",
            "12/12 - 0s - 17ms/step - loss: 1.8675e-04\n",
            "Test Loss: 0.00018674740567803383\n",
            "Testing with params: {'batch_size': 64, 'max_epoch': 10}\n",
            "Training fold 1...\n",
            "Epoch 1/10\n",
            "42/42 - 8s - 198ms/step - loss: 3.4892e-04 - val_loss: 3.2935e-04\n",
            "Epoch 2/10\n",
            "42/42 - 8s - 183ms/step - loss: 3.3210e-04 - val_loss: 3.3809e-04\n",
            "Epoch 3/10\n",
            "42/42 - 5s - 120ms/step - loss: 3.3050e-04 - val_loss: 3.3117e-04\n",
            "Epoch 4/10\n",
            "42/42 - 4s - 84ms/step - loss: 3.2711e-04 - val_loss: 3.2633e-04\n",
            "Epoch 5/10\n",
            "42/42 - 5s - 115ms/step - loss: 3.2786e-04 - val_loss: 3.2607e-04\n",
            "Epoch 6/10\n",
            "42/42 - 8s - 179ms/step - loss: 3.2325e-04 - val_loss: 3.2670e-04\n",
            "Epoch 7/10\n",
            "42/42 - 3s - 77ms/step - loss: 3.2802e-04 - val_loss: 3.2781e-04\n",
            "Epoch 8/10\n",
            "42/42 - 5s - 122ms/step - loss: 3.2555e-04 - val_loss: 3.2612e-04\n",
            "Epoch 9/10\n",
            "42/42 - 7s - 165ms/step - loss: 3.2842e-04 - val_loss: 3.2641e-04\n",
            "Epoch 10/10\n",
            "42/42 - 3s - 77ms/step - loss: 3.2622e-04 - val_loss: 3.3078e-04\n",
            "Training fold 2...\n",
            "Epoch 1/10\n",
            "42/42 - 3s - 76ms/step - loss: 3.2738e-04 - val_loss: 3.2878e-04\n",
            "Epoch 2/10\n",
            "42/42 - 7s - 176ms/step - loss: 3.2370e-04 - val_loss: 3.2758e-04\n",
            "Epoch 3/10\n",
            "42/42 - 8s - 190ms/step - loss: 3.2736e-04 - val_loss: 3.2411e-04\n",
            "Epoch 4/10\n",
            "42/42 - 7s - 171ms/step - loss: 3.2637e-04 - val_loss: 3.3049e-04\n",
            "Epoch 5/10\n",
            "42/42 - 8s - 192ms/step - loss: 3.2405e-04 - val_loss: 3.3406e-04\n",
            "Epoch 6/10\n",
            "42/42 - 7s - 157ms/step - loss: 3.2855e-04 - val_loss: 3.2388e-04\n",
            "Epoch 7/10\n",
            "42/42 - 3s - 76ms/step - loss: 3.3206e-04 - val_loss: 3.2544e-04\n",
            "Epoch 8/10\n",
            "42/42 - 5s - 123ms/step - loss: 3.2688e-04 - val_loss: 3.2791e-04\n",
            "Epoch 9/10\n",
            "42/42 - 5s - 130ms/step - loss: 3.2552e-04 - val_loss: 3.2432e-04\n",
            "Epoch 10/10\n",
            "42/42 - 3s - 75ms/step - loss: 3.2681e-04 - val_loss: 3.2589e-04\n",
            "Training fold 3...\n",
            "Epoch 1/10\n",
            "42/42 - 4s - 101ms/step - loss: 3.1972e-04 - val_loss: 3.4411e-04\n",
            "Epoch 2/10\n",
            "42/42 - 4s - 106ms/step - loss: 3.2129e-04 - val_loss: 3.5612e-04\n",
            "Epoch 3/10\n",
            "42/42 - 4s - 92ms/step - loss: 3.2002e-04 - val_loss: 3.4533e-04\n",
            "Epoch 4/10\n",
            "42/42 - 6s - 142ms/step - loss: 3.1944e-04 - val_loss: 3.4452e-04\n",
            "Epoch 5/10\n",
            "42/42 - 5s - 108ms/step - loss: 3.1842e-04 - val_loss: 3.4439e-04\n",
            "Epoch 6/10\n",
            "42/42 - 5s - 114ms/step - loss: 3.1873e-04 - val_loss: 3.4620e-04\n",
            "Epoch 7/10\n",
            "42/42 - 7s - 176ms/step - loss: 3.2184e-04 - val_loss: 3.5306e-04\n",
            "Epoch 8/10\n",
            "42/42 - 3s - 75ms/step - loss: 3.1853e-04 - val_loss: 3.4510e-04\n",
            "Epoch 9/10\n",
            "42/42 - 3s - 76ms/step - loss: 3.1810e-04 - val_loss: 3.4442e-04\n",
            "Epoch 10/10\n",
            "42/42 - 3s - 77ms/step - loss: 3.1797e-04 - val_loss: 3.4422e-04\n",
            "Training fold 4...\n",
            "Epoch 1/10\n",
            "42/42 - 5s - 131ms/step - loss: 3.2507e-04 - val_loss: 3.3102e-04\n",
            "Epoch 2/10\n",
            "42/42 - 8s - 188ms/step - loss: 3.2380e-04 - val_loss: 3.3216e-04\n",
            "Epoch 3/10\n",
            "42/42 - 7s - 162ms/step - loss: 3.2274e-04 - val_loss: 3.4111e-04\n",
            "Epoch 4/10\n",
            "42/42 - 3s - 82ms/step - loss: 3.2427e-04 - val_loss: 3.2918e-04\n",
            "Epoch 5/10\n",
            "42/42 - 5s - 121ms/step - loss: 3.2329e-04 - val_loss: 3.3083e-04\n",
            "Epoch 6/10\n",
            "42/42 - 6s - 133ms/step - loss: 3.2164e-04 - val_loss: 3.3065e-04\n",
            "Epoch 7/10\n",
            "42/42 - 3s - 77ms/step - loss: 3.2266e-04 - val_loss: 3.3100e-04\n",
            "Epoch 8/10\n",
            "42/42 - 6s - 143ms/step - loss: 3.2438e-04 - val_loss: 3.3003e-04\n",
            "Epoch 9/10\n",
            "42/42 - 4s - 105ms/step - loss: 3.2150e-04 - val_loss: 3.2938e-04\n",
            "Epoch 10/10\n",
            "42/42 - 5s - 115ms/step - loss: 3.2258e-04 - val_loss: 3.3248e-04\n",
            "Training fold 5...\n",
            "Epoch 1/10\n",
            "42/42 - 4s - 98ms/step - loss: 3.3325e-04 - val_loss: 2.8398e-04\n",
            "Epoch 2/10\n",
            "42/42 - 4s - 107ms/step - loss: 3.3375e-04 - val_loss: 2.8455e-04\n",
            "Epoch 3/10\n",
            "42/42 - 5s - 114ms/step - loss: 3.3283e-04 - val_loss: 2.8426e-04\n",
            "Epoch 4/10\n",
            "42/42 - 4s - 96ms/step - loss: 3.3190e-04 - val_loss: 2.8523e-04\n",
            "Epoch 5/10\n",
            "42/42 - 5s - 108ms/step - loss: 3.3220e-04 - val_loss: 2.8709e-04\n",
            "Epoch 6/10\n",
            "42/42 - 3s - 76ms/step - loss: 3.3434e-04 - val_loss: 2.8894e-04\n",
            "Epoch 7/10\n",
            "42/42 - 5s - 123ms/step - loss: 3.3595e-04 - val_loss: 2.9316e-04\n",
            "Epoch 8/10\n",
            "42/42 - 5s - 130ms/step - loss: 3.3442e-04 - val_loss: 2.9053e-04\n",
            "Epoch 9/10\n",
            "42/42 - 5s - 111ms/step - loss: 3.3248e-04 - val_loss: 2.8823e-04\n",
            "Epoch 10/10\n",
            "42/42 - 4s - 91ms/step - loss: 3.3406e-04 - val_loss: 2.8790e-04\n",
            "12/12 - 0s - 38ms/step - loss: 1.8539e-04\n",
            "Test Loss: 0.0001853902795119211\n",
            "Testing with params: {'batch_size': 64, 'max_epoch': 20}\n",
            "Training fold 1...\n",
            "Epoch 1/20\n",
            "42/42 - 7s - 155ms/step - loss: 3.3237e-04 - val_loss: 3.3912e-04\n",
            "Epoch 2/20\n",
            "42/42 - 3s - 83ms/step - loss: 3.3134e-04 - val_loss: 3.2831e-04\n",
            "Epoch 3/20\n",
            "42/42 - 5s - 130ms/step - loss: 3.3292e-04 - val_loss: 3.2612e-04\n",
            "Epoch 4/20\n",
            "42/42 - 8s - 192ms/step - loss: 3.2721e-04 - val_loss: 3.2605e-04\n",
            "Epoch 5/20\n",
            "42/42 - 6s - 152ms/step - loss: 3.2775e-04 - val_loss: 3.2624e-04\n",
            "Epoch 6/20\n",
            "42/42 - 3s - 79ms/step - loss: 3.3374e-04 - val_loss: 3.4155e-04\n",
            "Epoch 7/20\n",
            "42/42 - 5s - 127ms/step - loss: 3.3346e-04 - val_loss: 3.3257e-04\n",
            "Epoch 8/20\n",
            "42/42 - 5s - 125ms/step - loss: 3.2667e-04 - val_loss: 3.2758e-04\n",
            "Epoch 9/20\n",
            "42/42 - 3s - 79ms/step - loss: 3.2814e-04 - val_loss: 3.3582e-04\n",
            "Epoch 10/20\n",
            "42/42 - 6s - 147ms/step - loss: 3.2684e-04 - val_loss: 3.3242e-04\n",
            "Epoch 11/20\n",
            "42/42 - 4s - 103ms/step - loss: 3.2669e-04 - val_loss: 3.3872e-04\n",
            "Epoch 12/20\n",
            "42/42 - 3s - 76ms/step - loss: 3.2666e-04 - val_loss: 3.2668e-04\n",
            "Epoch 13/20\n",
            "42/42 - 3s - 77ms/step - loss: 3.2601e-04 - val_loss: 3.3862e-04\n",
            "Epoch 14/20\n",
            "42/42 - 6s - 131ms/step - loss: 3.2811e-04 - val_loss: 3.2712e-04\n",
            "Epoch 15/20\n",
            "42/42 - 8s - 188ms/step - loss: 3.2925e-04 - val_loss: 3.2630e-04\n",
            "Epoch 16/20\n",
            "42/42 - 7s - 174ms/step - loss: 3.2877e-04 - val_loss: 3.3319e-04\n",
            "Epoch 17/20\n",
            "42/42 - 3s - 79ms/step - loss: 3.2982e-04 - val_loss: 3.5286e-04\n",
            "Epoch 18/20\n",
            "42/42 - 3s - 77ms/step - loss: 3.2748e-04 - val_loss: 3.2794e-04\n",
            "Epoch 19/20\n",
            "42/42 - 7s - 176ms/step - loss: 3.2554e-04 - val_loss: 3.2805e-04\n",
            "Epoch 20/20\n",
            "42/42 - 8s - 189ms/step - loss: 3.2327e-04 - val_loss: 3.2814e-04\n",
            "Training fold 2...\n",
            "Epoch 1/20\n",
            "42/42 - 5s - 130ms/step - loss: 3.2475e-04 - val_loss: 3.2725e-04\n",
            "Epoch 2/20\n",
            "42/42 - 3s - 79ms/step - loss: 3.2912e-04 - val_loss: 3.3257e-04\n",
            "Epoch 3/20\n",
            "42/42 - 5s - 120ms/step - loss: 3.2719e-04 - val_loss: 3.2942e-04\n",
            "Epoch 4/20\n",
            "42/42 - 6s - 140ms/step - loss: 3.2428e-04 - val_loss: 3.3004e-04\n",
            "Epoch 5/20\n",
            "42/42 - 3s - 78ms/step - loss: 3.2618e-04 - val_loss: 3.2459e-04\n",
            "Epoch 6/20\n",
            "42/42 - 3s - 78ms/step - loss: 3.3094e-04 - val_loss: 3.3732e-04\n",
            "Epoch 7/20\n",
            "42/42 - 7s - 158ms/step - loss: 3.2302e-04 - val_loss: 3.2383e-04\n",
            "Epoch 8/20\n",
            "42/42 - 4s - 85ms/step - loss: 3.2461e-04 - val_loss: 3.2388e-04\n",
            "Epoch 9/20\n",
            "42/42 - 3s - 77ms/step - loss: 3.2508e-04 - val_loss: 3.2992e-04\n",
            "Epoch 10/20\n",
            "42/42 - 7s - 166ms/step - loss: 3.2431e-04 - val_loss: 3.2641e-04\n",
            "Epoch 11/20\n",
            "42/42 - 8s - 199ms/step - loss: 3.2641e-04 - val_loss: 3.3191e-04\n",
            "Epoch 12/20\n",
            "42/42 - 6s - 139ms/step - loss: 3.2884e-04 - val_loss: 3.2413e-04\n",
            "Epoch 13/20\n",
            "42/42 - 3s - 80ms/step - loss: 3.2512e-04 - val_loss: 3.2620e-04\n",
            "Epoch 14/20\n",
            "42/42 - 6s - 141ms/step - loss: 3.2333e-04 - val_loss: 3.2384e-04\n",
            "Epoch 15/20\n",
            "42/42 - 5s - 112ms/step - loss: 3.2215e-04 - val_loss: 3.2755e-04\n",
            "Epoch 16/20\n",
            "42/42 - 3s - 77ms/step - loss: 3.2344e-04 - val_loss: 3.2424e-04\n",
            "Epoch 17/20\n",
            "42/42 - 3s - 78ms/step - loss: 3.2304e-04 - val_loss: 3.4338e-04\n",
            "Epoch 18/20\n",
            "42/42 - 7s - 171ms/step - loss: 3.2426e-04 - val_loss: 3.2381e-04\n",
            "Epoch 19/20\n",
            "42/42 - 8s - 193ms/step - loss: 3.2373e-04 - val_loss: 3.2386e-04\n",
            "Epoch 20/20\n",
            "42/42 - 6s - 132ms/step - loss: 3.2671e-04 - val_loss: 3.3338e-04\n",
            "Training fold 3...\n",
            "Epoch 1/20\n",
            "42/42 - 3s - 78ms/step - loss: 3.1875e-04 - val_loss: 3.4384e-04\n",
            "Epoch 2/20\n",
            "42/42 - 5s - 108ms/step - loss: 3.1912e-04 - val_loss: 3.4413e-04\n",
            "Epoch 3/20\n",
            "42/42 - 4s - 100ms/step - loss: 3.1821e-04 - val_loss: 3.4409e-04\n",
            "Epoch 4/20\n",
            "42/42 - 5s - 112ms/step - loss: 3.1912e-04 - val_loss: 3.4576e-04\n",
            "Epoch 5/20\n",
            "42/42 - 4s - 94ms/step - loss: 3.1770e-04 - val_loss: 3.4435e-04\n",
            "Epoch 6/20\n",
            "42/42 - 5s - 114ms/step - loss: 3.1931e-04 - val_loss: 3.4873e-04\n",
            "Epoch 7/20\n",
            "42/42 - 5s - 113ms/step - loss: 3.2078e-04 - val_loss: 3.4476e-04\n",
            "Epoch 8/20\n",
            "42/42 - 7s - 175ms/step - loss: 3.2343e-04 - val_loss: 3.4571e-04\n",
            "Epoch 9/20\n",
            "42/42 - 8s - 190ms/step - loss: 3.1774e-04 - val_loss: 3.4802e-04\n",
            "Epoch 10/20\n",
            "42/42 - 5s - 115ms/step - loss: 3.1727e-04 - val_loss: 3.4492e-04\n",
            "Epoch 11/20\n",
            "42/42 - 4s - 96ms/step - loss: 3.1950e-04 - val_loss: 3.4555e-04\n",
            "Epoch 12/20\n",
            "42/42 - 3s - 79ms/step - loss: 3.1673e-04 - val_loss: 3.4584e-04\n",
            "Epoch 13/20\n",
            "42/42 - 6s - 140ms/step - loss: 3.1790e-04 - val_loss: 3.4477e-04\n",
            "Epoch 14/20\n",
            "42/42 - 4s - 107ms/step - loss: 3.1941e-04 - val_loss: 3.4481e-04\n",
            "Epoch 15/20\n",
            "42/42 - 5s - 115ms/step - loss: 3.1735e-04 - val_loss: 3.4482e-04\n",
            "Epoch 16/20\n",
            "42/42 - 4s - 101ms/step - loss: 3.1717e-04 - val_loss: 3.4874e-04\n",
            "Epoch 17/20\n",
            "42/42 - 4s - 105ms/step - loss: 3.1805e-04 - val_loss: 3.4589e-04\n",
            "Epoch 18/20\n",
            "42/42 - 5s - 113ms/step - loss: 3.1693e-04 - val_loss: 3.4675e-04\n",
            "Epoch 19/20\n",
            "42/42 - 7s - 177ms/step - loss: 3.1814e-04 - val_loss: 3.6737e-04\n",
            "Epoch 20/20\n",
            "42/42 - 8s - 188ms/step - loss: 3.2047e-04 - val_loss: 3.4446e-04\n",
            "Training fold 4...\n",
            "Epoch 1/20\n",
            "42/42 - 5s - 127ms/step - loss: 3.2028e-04 - val_loss: 3.2948e-04\n",
            "Epoch 2/20\n",
            "42/42 - 8s - 195ms/step - loss: 3.2265e-04 - val_loss: 3.3094e-04\n",
            "Epoch 3/20\n",
            "42/42 - 6s - 147ms/step - loss: 3.2147e-04 - val_loss: 3.3148e-04\n",
            "Epoch 4/20\n",
            "42/42 - 3s - 79ms/step - loss: 3.2012e-04 - val_loss: 3.2949e-04\n",
            "Epoch 5/20\n",
            "42/42 - 5s - 127ms/step - loss: 3.2165e-04 - val_loss: 3.2997e-04\n",
            "Epoch 6/20\n",
            "42/42 - 5s - 123ms/step - loss: 3.2153e-04 - val_loss: 3.2964e-04\n",
            "Epoch 7/20\n",
            "42/42 - 5s - 112ms/step - loss: 3.2118e-04 - val_loss: 3.2928e-04\n",
            "Epoch 8/20\n",
            "42/42 - 4s - 95ms/step - loss: 3.2045e-04 - val_loss: 3.3332e-04\n",
            "Epoch 9/20\n",
            "42/42 - 5s - 116ms/step - loss: 3.2043e-04 - val_loss: 3.3045e-04\n",
            "Epoch 10/20\n",
            "42/42 - 3s - 77ms/step - loss: 3.1993e-04 - val_loss: 3.2973e-04\n",
            "Epoch 11/20\n",
            "42/42 - 5s - 124ms/step - loss: 3.2241e-04 - val_loss: 3.3532e-04\n",
            "Epoch 12/20\n",
            "42/42 - 5s - 130ms/step - loss: 3.2129e-04 - val_loss: 3.3043e-04\n",
            "Epoch 13/20\n",
            "42/42 - 5s - 111ms/step - loss: 3.2194e-04 - val_loss: 3.3079e-04\n",
            "Epoch 14/20\n",
            "42/42 - 4s - 93ms/step - loss: 3.2368e-04 - val_loss: 3.2953e-04\n",
            "Epoch 15/20\n",
            "42/42 - 5s - 115ms/step - loss: 3.2041e-04 - val_loss: 3.2945e-04\n",
            "Epoch 16/20\n",
            "42/42 - 5s - 113ms/step - loss: 3.2119e-04 - val_loss: 3.2966e-04\n",
            "Epoch 17/20\n",
            "42/42 - 4s - 97ms/step - loss: 3.2134e-04 - val_loss: 3.3236e-04\n",
            "Epoch 18/20\n",
            "42/42 - 5s - 111ms/step - loss: 3.2210e-04 - val_loss: 3.2980e-04\n",
            "Epoch 19/20\n",
            "42/42 - 5s - 112ms/step - loss: 3.2067e-04 - val_loss: 3.2942e-04\n",
            "Epoch 20/20\n",
            "42/42 - 4s - 95ms/step - loss: 3.2030e-04 - val_loss: 3.2986e-04\n",
            "Training fold 5...\n",
            "Epoch 1/20\n",
            "42/42 - 4s - 85ms/step - loss: 3.3239e-04 - val_loss: 2.8504e-04\n",
            "Epoch 2/20\n",
            "42/42 - 5s - 113ms/step - loss: 3.3267e-04 - val_loss: 2.8443e-04\n",
            "Epoch 3/20\n",
            "42/42 - 7s - 176ms/step - loss: 3.3176e-04 - val_loss: 2.8435e-04\n",
            "Epoch 4/20\n",
            "42/42 - 8s - 190ms/step - loss: 3.3483e-04 - val_loss: 2.8638e-04\n",
            "Epoch 5/20\n",
            "42/42 - 7s - 170ms/step - loss: 3.3209e-04 - val_loss: 2.8436e-04\n",
            "Epoch 6/20\n",
            "42/42 - 8s - 195ms/step - loss: 3.3234e-04 - val_loss: 2.8806e-04\n",
            "Epoch 7/20\n",
            "42/42 - 6s - 150ms/step - loss: 3.3299e-04 - val_loss: 2.8928e-04\n",
            "Epoch 8/20\n",
            "42/42 - 4s - 92ms/step - loss: 3.3201e-04 - val_loss: 2.8490e-04\n",
            "Epoch 9/20\n",
            "42/42 - 6s - 144ms/step - loss: 3.3346e-04 - val_loss: 2.8515e-04\n",
            "Epoch 10/20\n",
            "42/42 - 5s - 112ms/step - loss: 3.3187e-04 - val_loss: 2.8427e-04\n",
            "Epoch 11/20\n",
            "42/42 - 3s - 78ms/step - loss: 3.3159e-04 - val_loss: 2.8555e-04\n",
            "Epoch 12/20\n",
            "42/42 - 3s - 78ms/step - loss: 3.3232e-04 - val_loss: 2.8451e-04\n",
            "Epoch 13/20\n",
            "42/42 - 7s - 168ms/step - loss: 3.3280e-04 - val_loss: 2.8878e-04\n",
            "Epoch 14/20\n",
            "42/42 - 3s - 76ms/step - loss: 3.3281e-04 - val_loss: 2.8549e-04\n",
            "Epoch 15/20\n",
            "42/42 - 3s - 79ms/step - loss: 3.3224e-04 - val_loss: 2.8488e-04\n",
            "Epoch 16/20\n",
            "42/42 - 4s - 103ms/step - loss: 3.3335e-04 - val_loss: 2.8466e-04\n",
            "Epoch 17/20\n",
            "42/42 - 4s - 105ms/step - loss: 3.3187e-04 - val_loss: 2.8435e-04\n",
            "Epoch 18/20\n",
            "42/42 - 3s - 78ms/step - loss: 3.3234e-04 - val_loss: 2.8439e-04\n",
            "Epoch 19/20\n",
            "42/42 - 3s - 77ms/step - loss: 3.3308e-04 - val_loss: 2.8533e-04\n",
            "Epoch 20/20\n",
            "42/42 - 6s - 151ms/step - loss: 3.3160e-04 - val_loss: 2.8447e-04\n",
            "12/12 - 0s - 19ms/step - loss: 1.8492e-04\n",
            "Test Loss: 0.00018492393428459764\n",
            "Testing with params: {'batch_size': 64, 'max_epoch': 30}\n",
            "Training fold 1...\n",
            "Epoch 1/30\n",
            "42/42 - 6s - 143ms/step - loss: 3.4159e-04 - val_loss: 3.3346e-04\n",
            "Epoch 2/30\n",
            "42/42 - 5s - 118ms/step - loss: 3.2728e-04 - val_loss: 3.2603e-04\n",
            "Epoch 3/30\n",
            "42/42 - 4s - 92ms/step - loss: 3.2749e-04 - val_loss: 3.2881e-04\n",
            "Epoch 4/30\n",
            "42/42 - 5s - 111ms/step - loss: 3.2958e-04 - val_loss: 3.3955e-04\n",
            "Epoch 5/30\n",
            "42/42 - 7s - 173ms/step - loss: 3.2703e-04 - val_loss: 3.4351e-04\n",
            "Epoch 6/30\n",
            "42/42 - 8s - 190ms/step - loss: 3.3376e-04 - val_loss: 3.2591e-04\n",
            "Epoch 7/30\n",
            "42/42 - 7s - 175ms/step - loss: 3.2915e-04 - val_loss: 3.2616e-04\n",
            "Epoch 8/30\n",
            "42/42 - 8s - 190ms/step - loss: 3.2612e-04 - val_loss: 3.2588e-04\n",
            "Epoch 9/30\n",
            "42/42 - 5s - 118ms/step - loss: 3.2575e-04 - val_loss: 3.2911e-04\n",
            "Epoch 10/30\n",
            "42/42 - 4s - 89ms/step - loss: 3.2552e-04 - val_loss: 3.2591e-04\n",
            "Epoch 11/30\n",
            "42/42 - 5s - 112ms/step - loss: 3.2387e-04 - val_loss: 3.3099e-04\n",
            "Epoch 12/30\n",
            "42/42 - 7s - 175ms/step - loss: 3.2528e-04 - val_loss: 3.3886e-04\n",
            "Epoch 13/30\n",
            "42/42 - 3s - 76ms/step - loss: 3.2351e-04 - val_loss: 3.3436e-04\n",
            "Epoch 14/30\n",
            "42/42 - 5s - 123ms/step - loss: 3.2600e-04 - val_loss: 3.3347e-04\n",
            "Epoch 15/30\n",
            "42/42 - 7s - 166ms/step - loss: 3.2549e-04 - val_loss: 3.2740e-04\n",
            "Epoch 16/30\n",
            "42/42 - 3s - 77ms/step - loss: 3.2918e-04 - val_loss: 3.2715e-04\n",
            "Epoch 17/30\n",
            "42/42 - 5s - 120ms/step - loss: 3.2381e-04 - val_loss: 3.2652e-04\n",
            "Epoch 18/30\n",
            "42/42 - 6s - 141ms/step - loss: 3.2337e-04 - val_loss: 3.3585e-04\n",
            "Epoch 19/30\n",
            "42/42 - 3s - 76ms/step - loss: 3.2677e-04 - val_loss: 3.2637e-04\n",
            "Epoch 20/30\n",
            "42/42 - 3s - 75ms/step - loss: 3.2559e-04 - val_loss: 3.2951e-04\n",
            "Epoch 21/30\n",
            "42/42 - 7s - 162ms/step - loss: 3.2287e-04 - val_loss: 3.2669e-04\n",
            "Epoch 22/30\n",
            "42/42 - 3s - 76ms/step - loss: 3.2367e-04 - val_loss: 3.2588e-04\n",
            "Epoch 23/30\n",
            "42/42 - 5s - 120ms/step - loss: 3.2436e-04 - val_loss: 3.2599e-04\n",
            "Epoch 24/30\n",
            "42/42 - 5s - 129ms/step - loss: 3.2460e-04 - val_loss: 3.3035e-04\n",
            "Epoch 25/30\n",
            "42/42 - 8s - 191ms/step - loss: 3.2312e-04 - val_loss: 3.2733e-04\n",
            "Epoch 26/30\n",
            "42/42 - 7s - 163ms/step - loss: 3.2421e-04 - val_loss: 3.2775e-04\n",
            "Epoch 27/30\n",
            "42/42 - 3s - 80ms/step - loss: 3.2337e-04 - val_loss: 3.2577e-04\n",
            "Epoch 28/30\n",
            "42/42 - 3s - 76ms/step - loss: 3.2244e-04 - val_loss: 3.2588e-04\n",
            "Epoch 29/30\n",
            "42/42 - 7s - 176ms/step - loss: 3.2754e-04 - val_loss: 3.3614e-04\n",
            "Epoch 30/30\n",
            "42/42 - 8s - 190ms/step - loss: 3.2342e-04 - val_loss: 3.3201e-04\n",
            "Training fold 2...\n",
            "Epoch 1/30\n",
            "42/42 - 5s - 118ms/step - loss: 3.2529e-04 - val_loss: 3.2414e-04\n",
            "Epoch 2/30\n",
            "42/42 - 4s - 89ms/step - loss: 3.2234e-04 - val_loss: 3.2310e-04\n",
            "Epoch 3/30\n",
            "42/42 - 5s - 111ms/step - loss: 3.2544e-04 - val_loss: 3.2472e-04\n",
            "Epoch 4/30\n",
            "42/42 - 4s - 87ms/step - loss: 3.2345e-04 - val_loss: 3.2340e-04\n",
            "Epoch 5/30\n",
            "42/42 - 5s - 119ms/step - loss: 3.2227e-04 - val_loss: 3.2556e-04\n",
            "Epoch 6/30\n",
            "42/42 - 3s - 78ms/step - loss: 3.2571e-04 - val_loss: 3.2498e-04\n",
            "Epoch 7/30\n",
            "42/42 - 5s - 121ms/step - loss: 3.2356e-04 - val_loss: 3.2334e-04\n",
            "Epoch 8/30\n",
            "42/42 - 6s - 133ms/step - loss: 3.2292e-04 - val_loss: 3.2778e-04\n",
            "Epoch 9/30\n",
            "42/42 - 3s - 75ms/step - loss: 3.2736e-04 - val_loss: 3.2380e-04\n",
            "Epoch 10/30\n",
            "42/42 - 5s - 121ms/step - loss: 3.2395e-04 - val_loss: 3.2384e-04\n",
            "Epoch 11/30\n",
            "42/42 - 7s - 161ms/step - loss: 3.2211e-04 - val_loss: 3.2485e-04\n",
            "Epoch 12/30\n",
            "42/42 - 3s - 82ms/step - loss: 3.2296e-04 - val_loss: 3.2370e-04\n",
            "Epoch 13/30\n",
            "42/42 - 3s - 76ms/step - loss: 3.2308e-04 - val_loss: 3.2390e-04\n",
            "Epoch 14/30\n",
            "42/42 - 7s - 173ms/step - loss: 3.2412e-04 - val_loss: 3.2489e-04\n",
            "Epoch 15/30\n",
            "42/42 - 3s - 76ms/step - loss: 3.2306e-04 - val_loss: 3.3138e-04\n",
            "Epoch 16/30\n",
            "42/42 - 5s - 121ms/step - loss: 3.2234e-04 - val_loss: 3.2421e-04\n",
            "Epoch 17/30\n",
            "42/42 - 6s - 155ms/step - loss: 3.2373e-04 - val_loss: 3.3211e-04\n",
            "Epoch 18/30\n",
            "42/42 - 4s - 88ms/step - loss: 3.2519e-04 - val_loss: 3.2497e-04\n",
            "Epoch 19/30\n",
            "42/42 - 3s - 76ms/step - loss: 3.2460e-04 - val_loss: 3.2371e-04\n",
            "Epoch 20/30\n",
            "42/42 - 7s - 165ms/step - loss: 3.2324e-04 - val_loss: 3.2805e-04\n",
            "Epoch 21/30\n",
            "42/42 - 3s - 79ms/step - loss: 3.2137e-04 - val_loss: 3.2368e-04\n",
            "Epoch 22/30\n",
            "42/42 - 3s - 76ms/step - loss: 3.2252e-04 - val_loss: 3.2500e-04\n",
            "Epoch 23/30\n",
            "42/42 - 7s - 170ms/step - loss: 3.2218e-04 - val_loss: 3.2427e-04\n",
            "Epoch 24/30\n",
            "42/42 - 8s - 194ms/step - loss: 3.2471e-04 - val_loss: 3.2739e-04\n",
            "Epoch 25/30\n",
            "42/42 - 7s - 158ms/step - loss: 3.2179e-04 - val_loss: 3.2860e-04\n",
            "Epoch 26/30\n",
            "42/42 - 4s - 85ms/step - loss: 3.2625e-04 - val_loss: 3.3425e-04\n",
            "Epoch 27/30\n",
            "42/42 - 3s - 76ms/step - loss: 3.2290e-04 - val_loss: 3.2434e-04\n",
            "Epoch 28/30\n",
            "42/42 - 4s - 106ms/step - loss: 3.2398e-04 - val_loss: 3.2745e-04\n",
            "Epoch 29/30\n",
            "42/42 - 4s - 98ms/step - loss: 3.2185e-04 - val_loss: 3.2480e-04\n",
            "Epoch 30/30\n",
            "42/42 - 3s - 75ms/step - loss: 3.2099e-04 - val_loss: 3.2436e-04\n",
            "Training fold 3...\n",
            "Epoch 1/30\n",
            "42/42 - 3s - 76ms/step - loss: 3.1780e-04 - val_loss: 3.4345e-04\n",
            "Epoch 2/30\n",
            "42/42 - 6s - 154ms/step - loss: 3.1889e-04 - val_loss: 3.6004e-04\n",
            "Epoch 3/30\n",
            "42/42 - 4s - 89ms/step - loss: 3.1658e-04 - val_loss: 3.4366e-04\n",
            "Epoch 4/30\n",
            "42/42 - 6s - 132ms/step - loss: 3.1711e-04 - val_loss: 3.4375e-04\n",
            "Epoch 5/30\n",
            "42/42 - 5s - 118ms/step - loss: 3.1811e-04 - val_loss: 3.4481e-04\n",
            "Epoch 6/30\n",
            "42/42 - 3s - 76ms/step - loss: 3.1677e-04 - val_loss: 3.4444e-04\n",
            "Epoch 7/30\n",
            "42/42 - 6s - 144ms/step - loss: 3.1903e-04 - val_loss: 3.4834e-04\n",
            "Epoch 8/30\n",
            "42/42 - 4s - 105ms/step - loss: 3.1777e-04 - val_loss: 3.4433e-04\n",
            "Epoch 9/30\n",
            "42/42 - 5s - 115ms/step - loss: 3.1912e-04 - val_loss: 3.4973e-04\n",
            "Epoch 10/30\n",
            "42/42 - 7s - 174ms/step - loss: 3.1710e-04 - val_loss: 3.4417e-04\n",
            "Epoch 11/30\n",
            "42/42 - 8s - 191ms/step - loss: 3.1670e-04 - val_loss: 3.4400e-04\n",
            "Epoch 12/30\n",
            "42/42 - 7s - 164ms/step - loss: 3.1746e-04 - val_loss: 3.4632e-04\n",
            "Epoch 13/30\n",
            "42/42 - 3s - 79ms/step - loss: 3.1749e-04 - val_loss: 3.5081e-04\n",
            "Epoch 14/30\n",
            "42/42 - 3s - 77ms/step - loss: 3.1810e-04 - val_loss: 3.4632e-04\n",
            "Epoch 15/30\n",
            "42/42 - 7s - 174ms/step - loss: 3.1741e-04 - val_loss: 3.4410e-04\n",
            "Epoch 16/30\n",
            "42/42 - 8s - 189ms/step - loss: 3.1749e-04 - val_loss: 3.5044e-04\n",
            "Epoch 17/30\n",
            "42/42 - 5s - 113ms/step - loss: 3.1769e-04 - val_loss: 3.4592e-04\n",
            "Epoch 18/30\n",
            "42/42 - 4s - 89ms/step - loss: 3.1763e-04 - val_loss: 3.4418e-04\n",
            "Epoch 19/30\n",
            "42/42 - 3s - 76ms/step - loss: 3.1800e-04 - val_loss: 3.4433e-04\n",
            "Epoch 20/30\n",
            "42/42 - 6s - 143ms/step - loss: 3.1680e-04 - val_loss: 3.4417e-04\n",
            "Epoch 21/30\n",
            "42/42 - 4s - 105ms/step - loss: 3.1681e-04 - val_loss: 3.4661e-04\n",
            "Epoch 22/30\n",
            "42/42 - 5s - 116ms/step - loss: 3.1776e-04 - val_loss: 3.4421e-04\n",
            "Epoch 23/30\n",
            "42/42 - 7s - 177ms/step - loss: 3.1642e-04 - val_loss: 3.4832e-04\n",
            "Epoch 24/30\n",
            "42/42 - 8s - 188ms/step - loss: 3.2042e-04 - val_loss: 3.4467e-04\n",
            "Epoch 25/30\n",
            "42/42 - 5s - 110ms/step - loss: 3.1691e-04 - val_loss: 3.4682e-04\n",
            "Epoch 26/30\n",
            "42/42 - 4s - 95ms/step - loss: 3.1731e-04 - val_loss: 3.4984e-04\n",
            "Epoch 27/30\n",
            "42/42 - 3s - 75ms/step - loss: 3.1643e-04 - val_loss: 3.4468e-04\n",
            "Epoch 28/30\n",
            "42/42 - 3s - 75ms/step - loss: 3.1704e-04 - val_loss: 3.4434e-04\n",
            "Epoch 29/30\n",
            "42/42 - 7s - 162ms/step - loss: 3.1810e-04 - val_loss: 3.4501e-04\n",
            "Epoch 30/30\n",
            "42/42 - 3s - 75ms/step - loss: 3.1770e-04 - val_loss: 3.4467e-04\n",
            "Training fold 4...\n",
            "Epoch 1/30\n",
            "42/42 - 3s - 77ms/step - loss: 3.2082e-04 - val_loss: 3.2946e-04\n",
            "Epoch 2/30\n",
            "42/42 - 6s - 136ms/step - loss: 3.2212e-04 - val_loss: 3.2958e-04\n",
            "Epoch 3/30\n",
            "42/42 - 3s - 75ms/step - loss: 3.2058e-04 - val_loss: 3.2937e-04\n",
            "Epoch 4/30\n",
            "42/42 - 6s - 142ms/step - loss: 3.2075e-04 - val_loss: 3.3038e-04\n",
            "Epoch 5/30\n",
            "42/42 - 5s - 108ms/step - loss: 3.2121e-04 - val_loss: 3.2950e-04\n",
            "Epoch 6/30\n",
            "42/42 - 5s - 115ms/step - loss: 3.1976e-04 - val_loss: 3.4285e-04\n",
            "Epoch 7/30\n",
            "42/42 - 7s - 177ms/step - loss: 3.2283e-04 - val_loss: 3.3124e-04\n",
            "Epoch 8/30\n",
            "42/42 - 8s - 187ms/step - loss: 3.2128e-04 - val_loss: 3.3032e-04\n",
            "Epoch 9/30\n",
            "42/42 - 7s - 168ms/step - loss: 3.2075e-04 - val_loss: 3.3880e-04\n",
            "Epoch 10/30\n",
            "42/42 - 8s - 197ms/step - loss: 3.2234e-04 - val_loss: 3.2947e-04\n",
            "Epoch 11/30\n",
            "42/42 - 6s - 149ms/step - loss: 3.2091e-04 - val_loss: 3.2953e-04\n",
            "Epoch 12/30\n",
            "42/42 - 4s - 94ms/step - loss: 3.2052e-04 - val_loss: 3.3038e-04\n",
            "Epoch 13/30\n",
            "42/42 - 6s - 144ms/step - loss: 3.2194e-04 - val_loss: 3.2949e-04\n",
            "Epoch 14/30\n",
            "42/42 - 4s - 105ms/step - loss: 3.2010e-04 - val_loss: 3.2962e-04\n",
            "Epoch 15/30\n",
            "42/42 - 3s - 76ms/step - loss: 3.2063e-04 - val_loss: 3.2974e-04\n",
            "Epoch 16/30\n",
            "42/42 - 6s - 151ms/step - loss: 3.2025e-04 - val_loss: 3.3525e-04\n",
            "Epoch 17/30\n",
            "42/42 - 4s - 100ms/step - loss: 3.2145e-04 - val_loss: 3.3035e-04\n",
            "Epoch 18/30\n",
            "42/42 - 3s - 77ms/step - loss: 3.2097e-04 - val_loss: 3.2990e-04\n",
            "Epoch 19/30\n",
            "42/42 - 6s - 148ms/step - loss: 3.2244e-04 - val_loss: 3.2979e-04\n",
            "Epoch 20/30\n",
            "42/42 - 4s - 106ms/step - loss: 3.2082e-04 - val_loss: 3.3067e-04\n",
            "Epoch 21/30\n",
            "42/42 - 4s - 92ms/step - loss: 3.2052e-04 - val_loss: 3.3063e-04\n",
            "Epoch 22/30\n",
            "42/42 - 3s - 76ms/step - loss: 3.2011e-04 - val_loss: 3.2996e-04\n",
            "Epoch 23/30\n",
            "42/42 - 5s - 127ms/step - loss: 3.2071e-04 - val_loss: 3.2944e-04\n",
            "Epoch 24/30\n",
            "42/42 - 8s - 193ms/step - loss: 3.1969e-04 - val_loss: 3.3054e-04\n",
            "Epoch 25/30\n",
            "42/42 - 4s - 101ms/step - loss: 3.2093e-04 - val_loss: 3.2998e-04\n",
            "Epoch 26/30\n",
            "42/42 - 4s - 104ms/step - loss: 3.2262e-04 - val_loss: 3.3123e-04\n",
            "Epoch 27/30\n",
            "42/42 - 5s - 114ms/step - loss: 3.2120e-04 - val_loss: 3.3005e-04\n",
            "Epoch 28/30\n",
            "42/42 - 7s - 177ms/step - loss: 3.2026e-04 - val_loss: 3.3132e-04\n",
            "Epoch 29/30\n",
            "42/42 - 8s - 189ms/step - loss: 3.2229e-04 - val_loss: 3.2999e-04\n",
            "Epoch 30/30\n",
            "42/42 - 5s - 111ms/step - loss: 3.2030e-04 - val_loss: 3.2984e-04\n",
            "Training fold 5...\n",
            "Epoch 1/30\n",
            "42/42 - 4s - 86ms/step - loss: 3.3213e-04 - val_loss: 2.8795e-04\n",
            "Epoch 2/30\n",
            "42/42 - 5s - 112ms/step - loss: 3.3254e-04 - val_loss: 2.8560e-04\n",
            "Epoch 3/30\n",
            "42/42 - 7s - 176ms/step - loss: 3.3180e-04 - val_loss: 2.8416e-04\n",
            "Epoch 4/30\n",
            "42/42 - 8s - 189ms/step - loss: 3.3125e-04 - val_loss: 2.8495e-04\n",
            "Epoch 5/30\n",
            "42/42 - 4s - 107ms/step - loss: 3.3250e-04 - val_loss: 2.8487e-04\n",
            "Epoch 6/30\n",
            "42/42 - 4s - 97ms/step - loss: 3.3228e-04 - val_loss: 2.8459e-04\n",
            "Epoch 7/30\n",
            "42/42 - 5s - 115ms/step - loss: 3.3291e-04 - val_loss: 2.8416e-04\n",
            "Epoch 8/30\n",
            "42/42 - 7s - 173ms/step - loss: 3.3195e-04 - val_loss: 2.8417e-04\n",
            "Epoch 9/30\n",
            "42/42 - 8s - 192ms/step - loss: 3.3307e-04 - val_loss: 2.8442e-04\n",
            "Epoch 10/30\n",
            "42/42 - 7s - 168ms/step - loss: 3.3275e-04 - val_loss: 2.8467e-04\n",
            "Epoch 11/30\n",
            "42/42 - 3s - 75ms/step - loss: 3.3213e-04 - val_loss: 2.8425e-04\n",
            "Epoch 12/30\n",
            "42/42 - 3s - 76ms/step - loss: 3.3256e-04 - val_loss: 2.8606e-04\n",
            "Epoch 13/30\n",
            "42/42 - 4s - 94ms/step - loss: 3.3121e-04 - val_loss: 2.8689e-04\n",
            "Epoch 14/30\n",
            "42/42 - 5s - 113ms/step - loss: 3.3279e-04 - val_loss: 2.9077e-04\n",
            "Epoch 15/30\n",
            "42/42 - 4s - 84ms/step - loss: 3.3344e-04 - val_loss: 2.8429e-04\n",
            "Epoch 16/30\n",
            "42/42 - 3s - 76ms/step - loss: 3.3294e-04 - val_loss: 2.8407e-04\n",
            "Epoch 17/30\n",
            "42/42 - 7s - 161ms/step - loss: 3.3158e-04 - val_loss: 2.8879e-04\n",
            "Epoch 18/30\n",
            "42/42 - 3s - 82ms/step - loss: 3.3174e-04 - val_loss: 2.8523e-04\n",
            "Epoch 19/30\n",
            "42/42 - 3s - 76ms/step - loss: 3.3507e-04 - val_loss: 2.8612e-04\n",
            "Epoch 20/30\n",
            "42/42 - 7s - 175ms/step - loss: 3.3154e-04 - val_loss: 2.8818e-04\n",
            "Epoch 21/30\n",
            "42/42 - 8s - 189ms/step - loss: 3.3211e-04 - val_loss: 2.8452e-04\n",
            "Epoch 22/30\n",
            "42/42 - 7s - 164ms/step - loss: 3.3265e-04 - val_loss: 2.8651e-04\n",
            "Epoch 23/30\n",
            "42/42 - 3s - 79ms/step - loss: 3.3082e-04 - val_loss: 2.8906e-04\n",
            "Epoch 24/30\n",
            "42/42 - 3s - 76ms/step - loss: 3.3437e-04 - val_loss: 2.8819e-04\n",
            "Epoch 25/30\n",
            "42/42 - 7s - 174ms/step - loss: 3.3248e-04 - val_loss: 2.8734e-04\n",
            "Epoch 26/30\n",
            "42/42 - 8s - 190ms/step - loss: 3.3214e-04 - val_loss: 2.8730e-04\n",
            "Epoch 27/30\n",
            "42/42 - 7s - 165ms/step - loss: 3.3139e-04 - val_loss: 2.9064e-04\n",
            "Epoch 28/30\n",
            "42/42 - 3s - 78ms/step - loss: 3.3250e-04 - val_loss: 2.8442e-04\n",
            "Epoch 29/30\n",
            "42/42 - 5s - 121ms/step - loss: 3.3135e-04 - val_loss: 2.8512e-04\n",
            "Epoch 30/30\n",
            "42/42 - 5s - 129ms/step - loss: 3.3141e-04 - val_loss: 2.8505e-04\n",
            "12/12 - 0s - 17ms/step - loss: 1.8688e-04\n",
            "Test Loss: 0.00018687582632992417\n",
            "Testing with params: {'batch_size': 64, 'max_epoch': 40}\n",
            "Training fold 1...\n",
            "Epoch 1/40\n",
            "42/42 - 6s - 143ms/step - loss: 3.3244e-04 - val_loss: 3.5397e-04\n",
            "Epoch 2/40\n",
            "42/42 - 6s - 149ms/step - loss: 3.3473e-04 - val_loss: 3.3029e-04\n",
            "Epoch 3/40\n",
            "42/42 - 4s - 94ms/step - loss: 3.2684e-04 - val_loss: 3.2794e-04\n",
            "Epoch 4/40\n",
            "42/42 - 3s - 77ms/step - loss: 3.3367e-04 - val_loss: 3.6881e-04\n",
            "Epoch 5/40\n",
            "42/42 - 3s - 75ms/step - loss: 3.3068e-04 - val_loss: 3.2677e-04\n",
            "Epoch 6/40\n",
            "42/42 - 7s - 160ms/step - loss: 3.2771e-04 - val_loss: 3.2969e-04\n",
            "Epoch 7/40\n",
            "42/42 - 3s - 76ms/step - loss: 3.2878e-04 - val_loss: 3.2584e-04\n",
            "Epoch 8/40\n",
            "42/42 - 5s - 121ms/step - loss: 3.2715e-04 - val_loss: 3.3565e-04\n",
            "Epoch 9/40\n",
            "42/42 - 5s - 130ms/step - loss: 3.2821e-04 - val_loss: 3.4737e-04\n",
            "Epoch 10/40\n",
            "42/42 - 3s - 76ms/step - loss: 3.3017e-04 - val_loss: 3.2795e-04\n",
            "Epoch 11/40\n",
            "42/42 - 5s - 122ms/step - loss: 3.2628e-04 - val_loss: 3.2935e-04\n",
            "Epoch 12/40\n",
            "42/42 - 7s - 158ms/step - loss: 3.2555e-04 - val_loss: 3.3346e-04\n",
            "Epoch 13/40\n",
            "42/42 - 3s - 83ms/step - loss: 3.2582e-04 - val_loss: 3.3816e-04\n",
            "Epoch 14/40\n",
            "42/42 - 3s - 75ms/step - loss: 3.3177e-04 - val_loss: 3.4122e-04\n",
            "Epoch 15/40\n",
            "42/42 - 7s - 173ms/step - loss: 3.2374e-04 - val_loss: 3.2586e-04\n",
            "Epoch 16/40\n",
            "42/42 - 8s - 192ms/step - loss: 3.2418e-04 - val_loss: 3.3014e-04\n",
            "Epoch 17/40\n",
            "42/42 - 7s - 156ms/step - loss: 3.2622e-04 - val_loss: 3.4209e-04\n",
            "Epoch 18/40\n",
            "42/42 - 4s - 86ms/step - loss: 3.2869e-04 - val_loss: 3.2594e-04\n",
            "Epoch 19/40\n",
            "42/42 - 5s - 129ms/step - loss: 3.2721e-04 - val_loss: 3.2970e-04\n",
            "Epoch 20/40\n",
            "42/42 - 5s - 122ms/step - loss: 3.2599e-04 - val_loss: 3.2632e-04\n",
            "Epoch 21/40\n",
            "42/42 - 3s - 75ms/step - loss: 3.2785e-04 - val_loss: 3.2721e-04\n",
            "Epoch 22/40\n",
            "42/42 - 6s - 143ms/step - loss: 3.2350e-04 - val_loss: 3.2605e-04\n",
            "Epoch 23/40\n",
            "42/42 - 4s - 106ms/step - loss: 3.2524e-04 - val_loss: 3.2706e-04\n",
            "Epoch 24/40\n",
            "42/42 - 5s - 116ms/step - loss: 3.2362e-04 - val_loss: 3.2649e-04\n",
            "Epoch 25/40\n",
            "42/42 - 7s - 176ms/step - loss: 3.2499e-04 - val_loss: 3.2775e-04\n",
            "Epoch 26/40\n",
            "42/42 - 8s - 189ms/step - loss: 3.2507e-04 - val_loss: 3.2689e-04\n",
            "Epoch 27/40\n",
            "42/42 - 7s - 169ms/step - loss: 3.2272e-04 - val_loss: 3.2599e-04\n",
            "Epoch 28/40\n",
            "42/42 - 8s - 195ms/step - loss: 3.2328e-04 - val_loss: 3.2589e-04\n",
            "Epoch 29/40\n",
            "42/42 - 6s - 150ms/step - loss: 3.2455e-04 - val_loss: 3.2612e-04\n",
            "Epoch 30/40\n",
            "42/42 - 4s - 94ms/step - loss: 3.2371e-04 - val_loss: 3.2593e-04\n",
            "Epoch 31/40\n",
            "42/42 - 6s - 139ms/step - loss: 3.2536e-04 - val_loss: 3.2585e-04\n",
            "Epoch 32/40\n",
            "42/42 - 5s - 110ms/step - loss: 3.2291e-04 - val_loss: 3.2582e-04\n",
            "Epoch 33/40\n",
            "42/42 - 4s - 86ms/step - loss: 3.2346e-04 - val_loss: 3.2820e-04\n",
            "Epoch 34/40\n",
            "42/42 - 6s - 131ms/step - loss: 3.2480e-04 - val_loss: 3.2882e-04\n",
            "Epoch 35/40\n",
            "42/42 - 5s - 120ms/step - loss: 3.2217e-04 - val_loss: 3.2583e-04\n",
            "Epoch 36/40\n",
            "42/42 - 3s - 77ms/step - loss: 3.2358e-04 - val_loss: 3.2589e-04\n",
            "Epoch 37/40\n",
            "42/42 - 5s - 121ms/step - loss: 3.2297e-04 - val_loss: 3.2777e-04\n",
            "Epoch 38/40\n",
            "42/42 - 6s - 138ms/step - loss: 3.2448e-04 - val_loss: 3.3122e-04\n",
            "Epoch 39/40\n",
            "42/42 - 4s - 104ms/step - loss: 3.2560e-04 - val_loss: 3.2578e-04\n",
            "Epoch 40/40\n",
            "42/42 - 7s - 167ms/step - loss: 3.2245e-04 - val_loss: 3.2584e-04\n",
            "Training fold 2...\n",
            "Epoch 1/40\n",
            "42/42 - 3s - 83ms/step - loss: 3.2488e-04 - val_loss: 3.2300e-04\n",
            "Epoch 2/40\n",
            "42/42 - 3s - 75ms/step - loss: 3.2119e-04 - val_loss: 3.2287e-04\n",
            "Epoch 3/40\n",
            "42/42 - 6s - 146ms/step - loss: 3.2520e-04 - val_loss: 3.2562e-04\n",
            "Epoch 4/40\n",
            "42/42 - 4s - 102ms/step - loss: 3.2149e-04 - val_loss: 3.2429e-04\n",
            "Epoch 5/40\n",
            "42/42 - 5s - 117ms/step - loss: 3.2426e-04 - val_loss: 3.2768e-04\n",
            "Epoch 6/40\n",
            "42/42 - 7s - 175ms/step - loss: 3.2476e-04 - val_loss: 3.3296e-04\n",
            "Epoch 7/40\n",
            "42/42 - 8s - 189ms/step - loss: 3.2427e-04 - val_loss: 3.3061e-04\n",
            "Epoch 8/40\n",
            "42/42 - 7s - 168ms/step - loss: 3.2315e-04 - val_loss: 3.2368e-04\n",
            "Epoch 9/40\n",
            "42/42 - 3s - 76ms/step - loss: 3.2374e-04 - val_loss: 3.2800e-04\n",
            "Epoch 10/40\n",
            "42/42 - 5s - 122ms/step - loss: 3.2397e-04 - val_loss: 3.2657e-04\n",
            "Epoch 11/40\n",
            "42/42 - 6s - 139ms/step - loss: 3.2422e-04 - val_loss: 3.2781e-04\n",
            "Epoch 12/40\n",
            "42/42 - 4s - 103ms/step - loss: 3.2267e-04 - val_loss: 3.2352e-04\n",
            "Epoch 13/40\n",
            "42/42 - 3s - 76ms/step - loss: 3.2289e-04 - val_loss: 3.2373e-04\n",
            "Epoch 14/40\n",
            "42/42 - 5s - 131ms/step - loss: 3.2205e-04 - val_loss: 3.2431e-04\n",
            "Epoch 15/40\n",
            "42/42 - 8s - 188ms/step - loss: 3.2369e-04 - val_loss: 3.2646e-04\n",
            "Epoch 16/40\n",
            "42/42 - 5s - 118ms/step - loss: 3.2227e-04 - val_loss: 3.2515e-04\n",
            "Epoch 17/40\n",
            "42/42 - 4s - 84ms/step - loss: 3.2177e-04 - val_loss: 3.2415e-04\n",
            "Epoch 18/40\n",
            "42/42 - 5s - 117ms/step - loss: 3.2307e-04 - val_loss: 3.2363e-04\n",
            "Epoch 19/40\n",
            "42/42 - 4s - 98ms/step - loss: 3.2325e-04 - val_loss: 3.2960e-04\n",
            "Epoch 20/40\n",
            "42/42 - 5s - 110ms/step - loss: 3.2400e-04 - val_loss: 3.2730e-04\n",
            "Epoch 21/40\n",
            "42/42 - 3s - 76ms/step - loss: 3.2201e-04 - val_loss: 3.2373e-04\n",
            "Epoch 22/40\n",
            "42/42 - 3s - 76ms/step - loss: 3.2227e-04 - val_loss: 3.2704e-04\n",
            "Epoch 23/40\n",
            "42/42 - 7s - 171ms/step - loss: 3.2331e-04 - val_loss: 3.2396e-04\n",
            "Epoch 24/40\n",
            "42/42 - 3s - 75ms/step - loss: 3.2183e-04 - val_loss: 3.3023e-04\n",
            "Epoch 25/40\n",
            "42/42 - 3s - 76ms/step - loss: 3.2480e-04 - val_loss: 3.2632e-04\n",
            "Epoch 26/40\n",
            "42/42 - 7s - 175ms/step - loss: 3.2655e-04 - val_loss: 3.2603e-04\n",
            "Epoch 27/40\n",
            "42/42 - 8s - 189ms/step - loss: 3.2197e-04 - val_loss: 3.2420e-04\n",
            "Epoch 28/40\n",
            "42/42 - 7s - 176ms/step - loss: 3.2302e-04 - val_loss: 3.2905e-04\n",
            "Epoch 29/40\n",
            "42/42 - 8s - 189ms/step - loss: 3.2266e-04 - val_loss: 3.2529e-04\n",
            "Epoch 30/40\n",
            "42/42 - 7s - 162ms/step - loss: 3.2260e-04 - val_loss: 3.2385e-04\n",
            "Epoch 31/40\n",
            "42/42 - 3s - 77ms/step - loss: 3.2305e-04 - val_loss: 3.2464e-04\n",
            "Epoch 32/40\n",
            "42/42 - 5s - 120ms/step - loss: 3.2267e-04 - val_loss: 3.2405e-04\n",
            "Epoch 33/40\n",
            "42/42 - 6s - 132ms/step - loss: 3.2414e-04 - val_loss: 3.2833e-04\n",
            "Epoch 34/40\n",
            "42/42 - 8s - 188ms/step - loss: 3.2133e-04 - val_loss: 3.2613e-04\n",
            "Epoch 35/40\n",
            "42/42 - 7s - 169ms/step - loss: 3.2267e-04 - val_loss: 3.2655e-04\n",
            "Epoch 36/40\n",
            "42/42 - 8s - 195ms/step - loss: 3.2164e-04 - val_loss: 3.2481e-04\n",
            "Epoch 37/40\n",
            "42/42 - 6s - 154ms/step - loss: 3.2232e-04 - val_loss: 3.2441e-04\n",
            "Epoch 38/40\n",
            "42/42 - 4s - 89ms/step - loss: 3.1923e-04 - val_loss: 3.2554e-04\n",
            "Epoch 39/40\n",
            "42/42 - 3s - 76ms/step - loss: 3.2331e-04 - val_loss: 3.2464e-04\n",
            "Epoch 40/40\n",
            "42/42 - 7s - 161ms/step - loss: 3.2256e-04 - val_loss: 3.2612e-04\n",
            "Training fold 3...\n",
            "Epoch 1/40\n",
            "42/42 - 3s - 77ms/step - loss: 3.1748e-04 - val_loss: 3.4496e-04\n",
            "Epoch 2/40\n",
            "42/42 - 3s - 77ms/step - loss: 3.1813e-04 - val_loss: 3.4395e-04\n",
            "Epoch 3/40\n",
            "42/42 - 4s - 102ms/step - loss: 3.1637e-04 - val_loss: 3.4372e-04\n",
            "Epoch 4/40\n",
            "42/42 - 4s - 101ms/step - loss: 3.2054e-04 - val_loss: 3.4438e-04\n",
            "Epoch 5/40\n",
            "42/42 - 3s - 77ms/step - loss: 3.1730e-04 - val_loss: 3.4664e-04\n",
            "Epoch 6/40\n",
            "42/42 - 6s - 146ms/step - loss: 3.1654e-04 - val_loss: 3.5270e-04\n",
            "Epoch 7/40\n",
            "42/42 - 4s - 101ms/step - loss: 3.1633e-04 - val_loss: 3.4475e-04\n",
            "Epoch 8/40\n",
            "42/42 - 5s - 117ms/step - loss: 3.1722e-04 - val_loss: 3.4786e-04\n",
            "Epoch 9/40\n",
            "42/42 - 7s - 172ms/step - loss: 3.1870e-04 - val_loss: 3.4497e-04\n",
            "Epoch 10/40\n",
            "42/42 - 8s - 192ms/step - loss: 3.1679e-04 - val_loss: 3.5168e-04\n",
            "Epoch 11/40\n",
            "42/42 - 5s - 113ms/step - loss: 3.1819e-04 - val_loss: 3.4671e-04\n",
            "Epoch 12/40\n",
            "42/42 - 4s - 94ms/step - loss: 3.1692e-04 - val_loss: 3.4796e-04\n",
            "Epoch 13/40\n",
            "42/42 - 4s - 103ms/step - loss: 3.1659e-04 - val_loss: 3.4492e-04\n",
            "Epoch 14/40\n",
            "42/42 - 7s - 166ms/step - loss: 3.1873e-04 - val_loss: 3.4552e-04\n",
            "Epoch 15/40\n",
            "42/42 - 4s - 87ms/step - loss: 3.1627e-04 - val_loss: 3.4430e-04\n",
            "Epoch 16/40\n",
            "42/42 - 5s - 113ms/step - loss: 3.1712e-04 - val_loss: 3.4472e-04\n",
            "Epoch 17/40\n",
            "42/42 - 4s - 92ms/step - loss: 3.1778e-04 - val_loss: 3.4584e-04\n",
            "Epoch 18/40\n",
            "42/42 - 5s - 112ms/step - loss: 3.1669e-04 - val_loss: 3.4436e-04\n",
            "Epoch 19/40\n",
            "42/42 - 5s - 113ms/step - loss: 3.1752e-04 - val_loss: 3.4735e-04\n",
            "Epoch 20/40\n",
            "42/42 - 7s - 176ms/step - loss: 3.1698e-04 - val_loss: 3.4452e-04\n",
            "Epoch 21/40\n",
            "42/42 - 3s - 77ms/step - loss: 3.1651e-04 - val_loss: 3.4420e-04\n",
            "Epoch 22/40\n",
            "42/42 - 5s - 120ms/step - loss: 3.1695e-04 - val_loss: 3.4447e-04\n",
            "Epoch 23/40\n",
            "42/42 - 7s - 165ms/step - loss: 3.1690e-04 - val_loss: 3.4484e-04\n",
            "Epoch 24/40\n",
            "42/42 - 3s - 76ms/step - loss: 3.1634e-04 - val_loss: 3.4826e-04\n",
            "Epoch 25/40\n",
            "42/42 - 3s - 76ms/step - loss: 3.1700e-04 - val_loss: 3.5305e-04\n",
            "Epoch 26/40\n",
            "42/42 - 7s - 176ms/step - loss: 3.1604e-04 - val_loss: 3.4877e-04\n",
            "Epoch 27/40\n",
            "42/42 - 3s - 76ms/step - loss: 3.1886e-04 - val_loss: 3.4528e-04\n",
            "Epoch 28/40\n",
            "42/42 - 5s - 122ms/step - loss: 3.1737e-04 - val_loss: 3.4667e-04\n",
            "Epoch 29/40\n",
            "42/42 - 7s - 161ms/step - loss: 3.1874e-04 - val_loss: 3.5283e-04\n",
            "Epoch 30/40\n",
            "42/42 - 3s - 76ms/step - loss: 3.1659e-04 - val_loss: 3.4456e-04\n",
            "Epoch 31/40\n",
            "42/42 - 5s - 122ms/step - loss: 3.1880e-04 - val_loss: 3.4959e-04\n",
            "Epoch 32/40\n",
            "42/42 - 6s - 134ms/step - loss: 3.1640e-04 - val_loss: 3.4919e-04\n",
            "Epoch 33/40\n",
            "42/42 - 3s - 75ms/step - loss: 3.1834e-04 - val_loss: 3.4829e-04\n",
            "Epoch 34/40\n",
            "42/42 - 3s - 76ms/step - loss: 3.1549e-04 - val_loss: 3.4435e-04\n",
            "Epoch 35/40\n",
            "42/42 - 5s - 124ms/step - loss: 3.1734e-04 - val_loss: 3.4435e-04\n",
            "Epoch 36/40\n",
            "42/42 - 3s - 82ms/step - loss: 3.1686e-04 - val_loss: 3.4551e-04\n",
            "Epoch 37/40\n",
            "42/42 - 5s - 114ms/step - loss: 3.1796e-04 - val_loss: 3.4429e-04\n",
            "Epoch 38/40\n",
            "42/42 - 7s - 177ms/step - loss: 3.1743e-04 - val_loss: 3.4547e-04\n",
            "Epoch 39/40\n",
            "42/42 - 3s - 76ms/step - loss: 3.1825e-04 - val_loss: 3.4643e-04\n",
            "Epoch 40/40\n",
            "42/42 - 5s - 121ms/step - loss: 3.1804e-04 - val_loss: 3.5005e-04\n",
            "Training fold 4...\n",
            "Epoch 1/40\n",
            "42/42 - 5s - 117ms/step - loss: 3.2388e-04 - val_loss: 3.3055e-04\n",
            "Epoch 2/40\n",
            "42/42 - 3s - 76ms/step - loss: 3.2036e-04 - val_loss: 3.2949e-04\n",
            "Epoch 3/40\n",
            "42/42 - 5s - 120ms/step - loss: 3.2027e-04 - val_loss: 3.2943e-04\n",
            "Epoch 4/40\n",
            "42/42 - 6s - 136ms/step - loss: 3.2146e-04 - val_loss: 3.2947e-04\n",
            "Epoch 5/40\n",
            "42/42 - 3s - 76ms/step - loss: 3.2071e-04 - val_loss: 3.3102e-04\n",
            "Epoch 6/40\n",
            "42/42 - 6s - 140ms/step - loss: 3.2111e-04 - val_loss: 3.2986e-04\n",
            "Epoch 7/40\n",
            "42/42 - 5s - 108ms/step - loss: 3.2105e-04 - val_loss: 3.2944e-04\n",
            "Epoch 8/40\n",
            "42/42 - 5s - 116ms/step - loss: 3.2026e-04 - val_loss: 3.3680e-04\n",
            "Epoch 9/40\n",
            "42/42 - 7s - 175ms/step - loss: 3.2258e-04 - val_loss: 3.3112e-04\n",
            "Epoch 10/40\n",
            "42/42 - 8s - 188ms/step - loss: 3.2277e-04 - val_loss: 3.3167e-04\n",
            "Epoch 11/40\n",
            "42/42 - 4s - 107ms/step - loss: 3.2006e-04 - val_loss: 3.3378e-04\n",
            "Epoch 12/40\n",
            "42/42 - 4s - 99ms/step - loss: 3.1997e-04 - val_loss: 3.2973e-04\n",
            "Epoch 13/40\n",
            "42/42 - 3s - 76ms/step - loss: 3.2012e-04 - val_loss: 3.2951e-04\n",
            "Epoch 14/40\n",
            "42/42 - 6s - 145ms/step - loss: 3.2052e-04 - val_loss: 3.2951e-04\n",
            "Epoch 15/40\n",
            "42/42 - 4s - 102ms/step - loss: 3.2160e-04 - val_loss: 3.3024e-04\n",
            "Epoch 16/40\n",
            "42/42 - 5s - 116ms/step - loss: 3.2076e-04 - val_loss: 3.2966e-04\n",
            "Epoch 17/40\n",
            "42/42 - 7s - 178ms/step - loss: 3.2112e-04 - val_loss: 3.3189e-04\n",
            "Epoch 18/40\n",
            "42/42 - 3s - 76ms/step - loss: 3.2122e-04 - val_loss: 3.2950e-04\n",
            "Epoch 19/40\n",
            "42/42 - 3s - 75ms/step - loss: 3.2108e-04 - val_loss: 3.3220e-04\n",
            "Epoch 20/40\n",
            "42/42 - 7s - 166ms/step - loss: 3.2002e-04 - val_loss: 3.2954e-04\n",
            "Epoch 21/40\n",
            "42/42 - 4s - 84ms/step - loss: 3.2016e-04 - val_loss: 3.2971e-04\n",
            "Epoch 22/40\n",
            "42/42 - 5s - 114ms/step - loss: 3.2385e-04 - val_loss: 3.2974e-04\n",
            "Epoch 23/40\n",
            "42/42 - 7s - 177ms/step - loss: 3.2251e-04 - val_loss: 3.3540e-04\n",
            "Epoch 24/40\n",
            "42/42 - 8s - 188ms/step - loss: 3.2005e-04 - val_loss: 3.4150e-04\n",
            "Epoch 25/40\n",
            "42/42 - 4s - 106ms/step - loss: 3.2296e-04 - val_loss: 3.3094e-04\n",
            "Epoch 26/40\n",
            "42/42 - 4s - 98ms/step - loss: 3.2015e-04 - val_loss: 3.3019e-04\n",
            "Epoch 27/40\n",
            "42/42 - 3s - 76ms/step - loss: 3.2117e-04 - val_loss: 3.2961e-04\n",
            "Epoch 28/40\n",
            "42/42 - 6s - 145ms/step - loss: 3.2189e-04 - val_loss: 3.3131e-04\n",
            "Epoch 29/40\n",
            "42/42 - 4s - 106ms/step - loss: 3.2161e-04 - val_loss: 3.2982e-04\n",
            "Epoch 30/40\n",
            "42/42 - 4s - 92ms/step - loss: 3.2037e-04 - val_loss: 3.2966e-04\n",
            "Epoch 31/40\n",
            "42/42 - 6s - 137ms/step - loss: 3.1992e-04 - val_loss: 3.2959e-04\n",
            "Epoch 32/40\n",
            "42/42 - 5s - 111ms/step - loss: 3.2080e-04 - val_loss: 3.2954e-04\n",
            "Epoch 33/40\n",
            "42/42 - 4s - 86ms/step - loss: 3.2075e-04 - val_loss: 3.2961e-04\n",
            "Epoch 34/40\n",
            "42/42 - 6s - 132ms/step - loss: 3.2059e-04 - val_loss: 3.3002e-04\n",
            "Epoch 35/40\n",
            "42/42 - 5s - 119ms/step - loss: 3.2080e-04 - val_loss: 3.3060e-04\n",
            "Epoch 36/40\n",
            "42/42 - 5s - 113ms/step - loss: 3.2046e-04 - val_loss: 3.3020e-04\n",
            "Epoch 37/40\n",
            "42/42 - 7s - 177ms/step - loss: 3.2031e-04 - val_loss: 3.2963e-04\n",
            "Epoch 38/40\n",
            "42/42 - 3s - 76ms/step - loss: 3.1895e-04 - val_loss: 3.3188e-04\n",
            "Epoch 39/40\n",
            "42/42 - 5s - 120ms/step - loss: 3.2092e-04 - val_loss: 3.3048e-04\n",
            "Epoch 40/40\n",
            "42/42 - 7s - 166ms/step - loss: 3.1948e-04 - val_loss: 3.3419e-04\n",
            "Training fold 5...\n",
            "Epoch 1/40\n",
            "42/42 - 3s - 76ms/step - loss: 3.3266e-04 - val_loss: 2.8438e-04\n",
            "Epoch 2/40\n",
            "42/42 - 5s - 121ms/step - loss: 3.3233e-04 - val_loss: 2.9071e-04\n",
            "Epoch 3/40\n",
            "42/42 - 6s - 137ms/step - loss: 3.3188e-04 - val_loss: 2.8444e-04\n",
            "Epoch 4/40\n",
            "42/42 - 4s - 106ms/step - loss: 3.3102e-04 - val_loss: 2.8479e-04\n",
            "Epoch 5/40\n",
            "42/42 - 7s - 169ms/step - loss: 3.3234e-04 - val_loss: 2.8406e-04\n",
            "Epoch 6/40\n",
            "42/42 - 8s - 195ms/step - loss: 3.3239e-04 - val_loss: 2.8464e-04\n",
            "Epoch 7/40\n",
            "42/42 - 4s - 99ms/step - loss: 3.3098e-04 - val_loss: 2.8479e-04\n",
            "Epoch 8/40\n",
            "42/42 - 4s - 105ms/step - loss: 3.3191e-04 - val_loss: 2.8479e-04\n",
            "Epoch 9/40\n",
            "42/42 - 5s - 115ms/step - loss: 3.3256e-04 - val_loss: 2.8518e-04\n",
            "Epoch 10/40\n",
            "42/42 - 7s - 175ms/step - loss: 3.3200e-04 - val_loss: 2.8695e-04\n",
            "Epoch 11/40\n",
            "42/42 - 8s - 191ms/step - loss: 3.3375e-04 - val_loss: 2.8422e-04\n",
            "Epoch 12/40\n",
            "42/42 - 7s - 168ms/step - loss: 3.3182e-04 - val_loss: 2.8513e-04\n",
            "Epoch 13/40\n",
            "42/42 - 8s - 196ms/step - loss: 3.3172e-04 - val_loss: 2.8596e-04\n",
            "Epoch 14/40\n",
            "42/42 - 6s - 151ms/step - loss: 3.3289e-04 - val_loss: 2.8435e-04\n",
            "Epoch 15/40\n",
            "42/42 - 3s - 77ms/step - loss: 3.3293e-04 - val_loss: 2.8541e-04\n",
            "Epoch 16/40\n",
            "42/42 - 3s - 76ms/step - loss: 3.3182e-04 - val_loss: 2.8473e-04\n",
            "Epoch 17/40\n",
            "42/42 - 7s - 171ms/step - loss: 3.3205e-04 - val_loss: 2.8451e-04\n",
            "Epoch 18/40\n",
            "42/42 - 8s - 193ms/step - loss: 3.3408e-04 - val_loss: 2.9016e-04\n",
            "Epoch 19/40\n",
            "42/42 - 7s - 156ms/step - loss: 3.3088e-04 - val_loss: 2.8452e-04\n",
            "Epoch 20/40\n",
            "42/42 - 4s - 88ms/step - loss: 3.3121e-04 - val_loss: 2.8482e-04\n",
            "Epoch 21/40\n",
            "42/42 - 5s - 131ms/step - loss: 3.3545e-04 - val_loss: 2.8431e-04\n",
            "Epoch 22/40\n",
            "42/42 - 5s - 121ms/step - loss: 3.3173e-04 - val_loss: 2.8454e-04\n",
            "Epoch 23/40\n",
            "42/42 - 5s - 112ms/step - loss: 3.3257e-04 - val_loss: 2.8670e-04\n",
            "Epoch 24/40\n",
            "42/42 - 7s - 173ms/step - loss: 3.3191e-04 - val_loss: 2.8683e-04\n",
            "Epoch 25/40\n",
            "42/42 - 8s - 193ms/step - loss: 3.3216e-04 - val_loss: 2.8530e-04\n",
            "Epoch 26/40\n",
            "42/42 - 7s - 159ms/step - loss: 3.3182e-04 - val_loss: 2.8482e-04\n",
            "Epoch 27/40\n",
            "42/42 - 4s - 83ms/step - loss: 3.3278e-04 - val_loss: 2.9165e-04\n",
            "Epoch 28/40\n",
            "42/42 - 3s - 77ms/step - loss: 3.3438e-04 - val_loss: 2.9025e-04\n",
            "Epoch 29/40\n",
            "42/42 - 7s - 170ms/step - loss: 3.3238e-04 - val_loss: 2.8456e-04\n",
            "Epoch 30/40\n",
            "42/42 - 8s - 195ms/step - loss: 3.3172e-04 - val_loss: 2.8473e-04\n",
            "Epoch 31/40\n",
            "42/42 - 5s - 131ms/step - loss: 3.3227e-04 - val_loss: 2.8609e-04\n",
            "Epoch 32/40\n",
            "42/42 - 8s - 189ms/step - loss: 3.3480e-04 - val_loss: 2.8456e-04\n",
            "Epoch 33/40\n",
            "42/42 - 4s - 102ms/step - loss: 3.3140e-04 - val_loss: 2.9135e-04\n",
            "Epoch 34/40\n",
            "42/42 - 4s - 100ms/step - loss: 3.3330e-04 - val_loss: 2.8560e-04\n",
            "Epoch 35/40\n",
            "42/42 - 5s - 116ms/step - loss: 3.3065e-04 - val_loss: 2.8778e-04\n",
            "Epoch 36/40\n",
            "42/42 - 4s - 94ms/step - loss: 3.3334e-04 - val_loss: 2.8792e-04\n",
            "Epoch 37/40\n",
            "42/42 - 5s - 110ms/step - loss: 3.3225e-04 - val_loss: 2.8662e-04\n",
            "Epoch 38/40\n",
            "42/42 - 5s - 114ms/step - loss: 3.3217e-04 - val_loss: 2.8703e-04\n",
            "Epoch 39/40\n",
            "42/42 - 7s - 176ms/step - loss: 3.3282e-04 - val_loss: 2.8494e-04\n",
            "Epoch 40/40\n",
            "42/42 - 8s - 189ms/step - loss: 3.3249e-04 - val_loss: 2.8887e-04\n",
            "12/12 - 0s - 18ms/step - loss: 1.8605e-04\n",
            "Test Loss: 0.00018604543583933264\n",
            "Testing with params: {'batch_size': 128, 'max_epoch': 10}\n",
            "Training fold 1...\n",
            "Epoch 1/10\n",
            "21/21 - 7s - 342ms/step - loss: 3.7620e-04 - val_loss: 3.3149e-04\n",
            "Epoch 2/10\n",
            "21/21 - 2s - 117ms/step - loss: 3.2246e-04 - val_loss: 3.2857e-04\n",
            "Epoch 3/10\n",
            "21/21 - 2s - 118ms/step - loss: 3.2793e-04 - val_loss: 3.2593e-04\n",
            "Epoch 4/10\n",
            "21/21 - 2s - 117ms/step - loss: 3.2819e-04 - val_loss: 3.2570e-04\n",
            "Epoch 5/10\n",
            "21/21 - 4s - 175ms/step - loss: 3.2298e-04 - val_loss: 3.2752e-04\n",
            "Epoch 6/10\n",
            "21/21 - 4s - 185ms/step - loss: 3.2301e-04 - val_loss: 3.2799e-04\n",
            "Epoch 7/10\n",
            "21/21 - 2s - 114ms/step - loss: 3.2473e-04 - val_loss: 3.3809e-04\n",
            "Epoch 8/10\n",
            "21/21 - 2s - 114ms/step - loss: 3.2519e-04 - val_loss: 3.3038e-04\n",
            "Epoch 9/10\n",
            "21/21 - 2s - 114ms/step - loss: 3.2184e-04 - val_loss: 3.2597e-04\n",
            "Epoch 10/10\n",
            "21/21 - 5s - 218ms/step - loss: 3.2562e-04 - val_loss: 3.2613e-04\n",
            "Training fold 2...\n",
            "Epoch 1/10\n",
            "21/21 - 2s - 117ms/step - loss: 3.2516e-04 - val_loss: 3.2277e-04\n",
            "Epoch 2/10\n",
            "21/21 - 2s - 115ms/step - loss: 3.3038e-04 - val_loss: 3.2299e-04\n",
            "Epoch 3/10\n",
            "21/21 - 3s - 119ms/step - loss: 3.2507e-04 - val_loss: 3.2976e-04\n",
            "Epoch 4/10\n",
            "21/21 - 3s - 123ms/step - loss: 3.2628e-04 - val_loss: 3.2331e-04\n",
            "Epoch 5/10\n",
            "21/21 - 4s - 204ms/step - loss: 3.2465e-04 - val_loss: 3.2328e-04\n",
            "Epoch 6/10\n",
            "21/21 - 3s - 154ms/step - loss: 3.2406e-04 - val_loss: 3.2857e-04\n",
            "Epoch 7/10\n",
            "21/21 - 2s - 113ms/step - loss: 3.2314e-04 - val_loss: 3.3733e-04\n",
            "Epoch 8/10\n",
            "21/21 - 2s - 115ms/step - loss: 3.2540e-04 - val_loss: 3.2385e-04\n",
            "Epoch 9/10\n",
            "21/21 - 3s - 151ms/step - loss: 3.2314e-04 - val_loss: 3.2684e-04\n",
            "Epoch 10/10\n",
            "21/21 - 4s - 185ms/step - loss: 3.2429e-04 - val_loss: 3.3077e-04\n",
            "Training fold 3...\n",
            "Epoch 1/10\n",
            "21/21 - 2s - 118ms/step - loss: 3.2004e-04 - val_loss: 3.4417e-04\n",
            "Epoch 2/10\n",
            "21/21 - 2s - 114ms/step - loss: 3.2404e-04 - val_loss: 3.4399e-04\n",
            "Epoch 3/10\n",
            "21/21 - 2s - 114ms/step - loss: 3.2210e-04 - val_loss: 3.4433e-04\n",
            "Epoch 4/10\n",
            "21/21 - 3s - 147ms/step - loss: 3.2272e-04 - val_loss: 3.4375e-04\n",
            "Epoch 5/10\n",
            "21/21 - 4s - 196ms/step - loss: 3.1951e-04 - val_loss: 3.4461e-04\n",
            "Epoch 6/10\n",
            "21/21 - 3s - 163ms/step - loss: 3.2112e-04 - val_loss: 3.4918e-04\n",
            "Epoch 7/10\n",
            "21/21 - 2s - 115ms/step - loss: 3.1754e-04 - val_loss: 3.4408e-04\n",
            "Epoch 8/10\n",
            "21/21 - 2s - 115ms/step - loss: 3.1635e-04 - val_loss: 3.4622e-04\n",
            "Epoch 9/10\n",
            "21/21 - 4s - 175ms/step - loss: 3.1813e-04 - val_loss: 3.4424e-04\n",
            "Epoch 10/10\n",
            "21/21 - 4s - 184ms/step - loss: 3.1905e-04 - val_loss: 3.4429e-04\n",
            "Training fold 4...\n",
            "Epoch 1/10\n",
            "21/21 - 2s - 118ms/step - loss: 3.2141e-04 - val_loss: 3.2905e-04\n",
            "Epoch 2/10\n",
            "21/21 - 2s - 116ms/step - loss: 3.2376e-04 - val_loss: 3.2967e-04\n",
            "Epoch 3/10\n",
            "21/21 - 3s - 138ms/step - loss: 3.2153e-04 - val_loss: 3.2989e-04\n",
            "Epoch 4/10\n",
            "21/21 - 5s - 223ms/step - loss: 3.2081e-04 - val_loss: 3.2927e-04\n",
            "Epoch 5/10\n",
            "21/21 - 3s - 125ms/step - loss: 3.2440e-04 - val_loss: 3.3251e-04\n",
            "Epoch 6/10\n",
            "21/21 - 2s - 117ms/step - loss: 3.2452e-04 - val_loss: 3.2926e-04\n",
            "Epoch 7/10\n",
            "21/21 - 3s - 133ms/step - loss: 3.2435e-04 - val_loss: 3.3028e-04\n",
            "Epoch 8/10\n",
            "21/21 - 5s - 231ms/step - loss: 3.2037e-04 - val_loss: 3.2919e-04\n",
            "Epoch 9/10\n",
            "21/21 - 3s - 122ms/step - loss: 3.2307e-04 - val_loss: 3.3131e-04\n",
            "Epoch 10/10\n",
            "21/21 - 3s - 121ms/step - loss: 3.2319e-04 - val_loss: 3.2959e-04\n",
            "Training fold 5...\n",
            "Epoch 1/10\n",
            "21/21 - 3s - 125ms/step - loss: 3.3217e-04 - val_loss: 2.8423e-04\n",
            "Epoch 2/10\n",
            "21/21 - 5s - 230ms/step - loss: 3.3519e-04 - val_loss: 2.8446e-04\n",
            "Epoch 3/10\n",
            "21/21 - 3s - 121ms/step - loss: 3.3126e-04 - val_loss: 2.8470e-04\n",
            "Epoch 4/10\n",
            "21/21 - 2s - 114ms/step - loss: 3.3291e-04 - val_loss: 2.8919e-04\n",
            "Epoch 5/10\n",
            "21/21 - 2s - 115ms/step - loss: 3.3422e-04 - val_loss: 2.8497e-04\n",
            "Epoch 6/10\n",
            "21/21 - 5s - 217ms/step - loss: 3.3206e-04 - val_loss: 2.8524e-04\n",
            "Epoch 7/10\n",
            "21/21 - 2s - 115ms/step - loss: 3.3824e-04 - val_loss: 2.8718e-04\n",
            "Epoch 8/10\n",
            "21/21 - 2s - 114ms/step - loss: 3.3495e-04 - val_loss: 2.8462e-04\n",
            "Epoch 9/10\n",
            "21/21 - 2s - 113ms/step - loss: 3.3138e-04 - val_loss: 2.8493e-04\n",
            "Epoch 10/10\n",
            "21/21 - 2s - 114ms/step - loss: 3.3104e-04 - val_loss: 2.8897e-04\n",
            "12/12 - 0s - 17ms/step - loss: 1.8617e-04\n",
            "Test Loss: 0.0001861701166490093\n",
            "Testing with params: {'batch_size': 128, 'max_epoch': 20}\n",
            "Training fold 1...\n",
            "Epoch 1/20\n",
            "21/21 - 7s - 318ms/step - loss: 3.6123e-04 - val_loss: 3.2748e-04\n",
            "Epoch 2/20\n",
            "21/21 - 2s - 115ms/step - loss: 3.2551e-04 - val_loss: 3.2579e-04\n",
            "Epoch 3/20\n",
            "21/21 - 3s - 120ms/step - loss: 3.2386e-04 - val_loss: 3.2568e-04\n",
            "Epoch 4/20\n",
            "21/21 - 3s - 127ms/step - loss: 3.2361e-04 - val_loss: 3.2629e-04\n",
            "Epoch 5/20\n",
            "21/21 - 5s - 231ms/step - loss: 3.2282e-04 - val_loss: 3.3685e-04\n",
            "Epoch 6/20\n",
            "21/21 - 3s - 121ms/step - loss: 3.3062e-04 - val_loss: 3.2598e-04\n",
            "Epoch 7/20\n",
            "21/21 - 3s - 121ms/step - loss: 3.2405e-04 - val_loss: 3.2656e-04\n",
            "Epoch 8/20\n",
            "21/21 - 2s - 117ms/step - loss: 3.2627e-04 - val_loss: 3.2623e-04\n",
            "Epoch 9/20\n",
            "21/21 - 5s - 217ms/step - loss: 3.2742e-04 - val_loss: 3.2598e-04\n",
            "Epoch 10/20\n",
            "21/21 - 2s - 115ms/step - loss: 3.2231e-04 - val_loss: 3.2875e-04\n",
            "Epoch 11/20\n",
            "21/21 - 2s - 115ms/step - loss: 3.2576e-04 - val_loss: 3.2629e-04\n",
            "Epoch 12/20\n",
            "21/21 - 2s - 114ms/step - loss: 3.2469e-04 - val_loss: 3.2607e-04\n",
            "Epoch 13/20\n",
            "21/21 - 2s - 115ms/step - loss: 3.2725e-04 - val_loss: 3.2739e-04\n",
            "Epoch 14/20\n",
            "21/21 - 4s - 213ms/step - loss: 3.2131e-04 - val_loss: 3.3341e-04\n",
            "Epoch 15/20\n",
            "21/21 - 3s - 151ms/step - loss: 3.2461e-04 - val_loss: 3.2820e-04\n",
            "Epoch 16/20\n",
            "21/21 - 2s - 116ms/step - loss: 3.2147e-04 - val_loss: 3.2596e-04\n",
            "Epoch 17/20\n",
            "21/21 - 3s - 120ms/step - loss: 3.3086e-04 - val_loss: 3.3681e-04\n",
            "Epoch 18/20\n",
            "21/21 - 2s - 118ms/step - loss: 3.3183e-04 - val_loss: 3.4417e-04\n",
            "Epoch 19/20\n",
            "21/21 - 4s - 211ms/step - loss: 3.2625e-04 - val_loss: 3.2583e-04\n",
            "Epoch 20/20\n",
            "21/21 - 3s - 148ms/step - loss: 3.2406e-04 - val_loss: 3.3059e-04\n",
            "Training fold 2...\n",
            "Epoch 1/20\n",
            "21/21 - 2s - 116ms/step - loss: 3.2860e-04 - val_loss: 3.2313e-04\n",
            "Epoch 2/20\n",
            "21/21 - 2s - 113ms/step - loss: 3.2628e-04 - val_loss: 3.2512e-04\n",
            "Epoch 3/20\n",
            "21/21 - 4s - 167ms/step - loss: 3.2442e-04 - val_loss: 3.2474e-04\n",
            "Epoch 4/20\n",
            "21/21 - 4s - 199ms/step - loss: 3.2425e-04 - val_loss: 3.2761e-04\n",
            "Epoch 5/20\n",
            "21/21 - 2s - 114ms/step - loss: 3.2359e-04 - val_loss: 3.2446e-04\n",
            "Epoch 6/20\n",
            "21/21 - 2s - 115ms/step - loss: 3.2548e-04 - val_loss: 3.3394e-04\n",
            "Epoch 7/20\n",
            "21/21 - 2s - 116ms/step - loss: 3.2326e-04 - val_loss: 3.2408e-04\n",
            "Epoch 8/20\n",
            "21/21 - 5s - 220ms/step - loss: 3.2229e-04 - val_loss: 3.2347e-04\n",
            "Epoch 9/20\n",
            "21/21 - 3s - 141ms/step - loss: 3.2365e-04 - val_loss: 3.2607e-04\n",
            "Epoch 10/20\n",
            "21/21 - 3s - 121ms/step - loss: 3.2407e-04 - val_loss: 3.2633e-04\n",
            "Epoch 11/20\n",
            "21/21 - 3s - 121ms/step - loss: 3.2626e-04 - val_loss: 3.3212e-04\n",
            "Epoch 12/20\n",
            "21/21 - 3s - 144ms/step - loss: 3.2434e-04 - val_loss: 3.3416e-04\n",
            "Epoch 13/20\n",
            "21/21 - 5s - 222ms/step - loss: 3.2453e-04 - val_loss: 3.2491e-04\n",
            "Epoch 14/20\n",
            "21/21 - 3s - 120ms/step - loss: 3.2449e-04 - val_loss: 3.2478e-04\n",
            "Epoch 15/20\n",
            "21/21 - 2s - 119ms/step - loss: 3.2224e-04 - val_loss: 3.2359e-04\n",
            "Epoch 16/20\n",
            "21/21 - 3s - 121ms/step - loss: 3.2285e-04 - val_loss: 3.2743e-04\n",
            "Epoch 17/20\n",
            "21/21 - 5s - 235ms/step - loss: 3.2179e-04 - val_loss: 3.2524e-04\n",
            "Epoch 18/20\n",
            "21/21 - 3s - 122ms/step - loss: 3.2895e-04 - val_loss: 3.3833e-04\n",
            "Epoch 19/20\n",
            "21/21 - 2s - 114ms/step - loss: 3.2547e-04 - val_loss: 3.2820e-04\n",
            "Epoch 20/20\n",
            "21/21 - 3s - 123ms/step - loss: 3.2281e-04 - val_loss: 3.2419e-04\n",
            "Training fold 3...\n",
            "Epoch 1/20\n",
            "21/21 - 4s - 208ms/step - loss: 3.1798e-04 - val_loss: 3.4620e-04\n",
            "Epoch 2/20\n",
            "21/21 - 2s - 113ms/step - loss: 3.1768e-04 - val_loss: 3.4377e-04\n",
            "Epoch 3/20\n",
            "21/21 - 3s - 123ms/step - loss: 3.1764e-04 - val_loss: 3.4511e-04\n",
            "Epoch 4/20\n",
            "21/21 - 2s - 116ms/step - loss: 3.1875e-04 - val_loss: 3.4950e-04\n",
            "Epoch 5/20\n",
            "21/21 - 3s - 123ms/step - loss: 3.1737e-04 - val_loss: 3.4476e-04\n",
            "Epoch 6/20\n",
            "21/21 - 5s - 215ms/step - loss: 3.1584e-04 - val_loss: 3.4389e-04\n",
            "Epoch 7/20\n",
            "21/21 - 2s - 114ms/step - loss: 3.1851e-04 - val_loss: 3.4558e-04\n",
            "Epoch 8/20\n",
            "21/21 - 3s - 122ms/step - loss: 3.1732e-04 - val_loss: 3.4639e-04\n",
            "Epoch 9/20\n",
            "21/21 - 3s - 120ms/step - loss: 3.1754e-04 - val_loss: 3.5002e-04\n",
            "Epoch 10/20\n",
            "21/21 - 3s - 124ms/step - loss: 3.1679e-04 - val_loss: 3.4419e-04\n",
            "Epoch 11/20\n",
            "21/21 - 5s - 216ms/step - loss: 3.1695e-04 - val_loss: 3.4720e-04\n",
            "Epoch 12/20\n",
            "21/21 - 2s - 113ms/step - loss: 3.1800e-04 - val_loss: 3.5234e-04\n",
            "Epoch 13/20\n",
            "21/21 - 3s - 122ms/step - loss: 3.1816e-04 - val_loss: 3.4436e-04\n",
            "Epoch 14/20\n",
            "21/21 - 2s - 115ms/step - loss: 3.1729e-04 - val_loss: 3.4714e-04\n",
            "Epoch 15/20\n",
            "21/21 - 2s - 113ms/step - loss: 3.1649e-04 - val_loss: 3.4543e-04\n",
            "Epoch 16/20\n",
            "21/21 - 4s - 202ms/step - loss: 3.1908e-04 - val_loss: 3.4473e-04\n",
            "Epoch 17/20\n",
            "21/21 - 3s - 155ms/step - loss: 3.1764e-04 - val_loss: 3.4628e-04\n",
            "Epoch 18/20\n",
            "21/21 - 3s - 120ms/step - loss: 3.1759e-04 - val_loss: 3.4578e-04\n",
            "Epoch 19/20\n",
            "21/21 - 3s - 122ms/step - loss: 3.1742e-04 - val_loss: 3.4537e-04\n",
            "Epoch 20/20\n",
            "21/21 - 3s - 141ms/step - loss: 3.1670e-04 - val_loss: 3.4469e-04\n",
            "Training fold 4...\n",
            "Epoch 1/20\n",
            "21/21 - 2s - 115ms/step - loss: 3.2154e-04 - val_loss: 3.3086e-04\n",
            "Epoch 2/20\n",
            "21/21 - 3s - 120ms/step - loss: 3.2278e-04 - val_loss: 3.3061e-04\n",
            "Epoch 3/20\n",
            "21/21 - 2s - 112ms/step - loss: 3.2187e-04 - val_loss: 3.2920e-04\n",
            "Epoch 4/20\n",
            "21/21 - 2s - 118ms/step - loss: 3.2208e-04 - val_loss: 3.3037e-04\n",
            "Epoch 5/20\n",
            "21/21 - 4s - 204ms/step - loss: 3.2137e-04 - val_loss: 3.2907e-04\n",
            "Epoch 6/20\n",
            "21/21 - 2s - 115ms/step - loss: 3.2339e-04 - val_loss: 3.3089e-04\n",
            "Epoch 7/20\n",
            "21/21 - 3s - 120ms/step - loss: 3.2108e-04 - val_loss: 3.2970e-04\n",
            "Epoch 8/20\n",
            "21/21 - 3s - 122ms/step - loss: 3.2167e-04 - val_loss: 3.3012e-04\n",
            "Epoch 9/20\n",
            "21/21 - 3s - 134ms/step - loss: 3.2025e-04 - val_loss: 3.2931e-04\n",
            "Epoch 10/20\n",
            "21/21 - 4s - 190ms/step - loss: 3.2167e-04 - val_loss: 3.3518e-04\n",
            "Epoch 11/20\n",
            "21/21 - 2s - 114ms/step - loss: 3.2338e-04 - val_loss: 3.3458e-04\n",
            "Epoch 12/20\n",
            "21/21 - 2s - 116ms/step - loss: 3.2357e-04 - val_loss: 3.3258e-04\n",
            "Epoch 13/20\n",
            "21/21 - 2s - 115ms/step - loss: 3.2268e-04 - val_loss: 3.3046e-04\n",
            "Epoch 14/20\n",
            "21/21 - 3s - 126ms/step - loss: 3.1991e-04 - val_loss: 3.3012e-04\n",
            "Epoch 15/20\n",
            "21/21 - 5s - 230ms/step - loss: 3.2037e-04 - val_loss: 3.3148e-04\n",
            "Epoch 16/20\n",
            "21/21 - 3s - 122ms/step - loss: 3.1985e-04 - val_loss: 3.3030e-04\n",
            "Epoch 17/20\n",
            "21/21 - 3s - 120ms/step - loss: 3.2032e-04 - val_loss: 3.2944e-04\n",
            "Epoch 18/20\n",
            "21/21 - 3s - 126ms/step - loss: 3.2532e-04 - val_loss: 3.2974e-04\n",
            "Epoch 19/20\n",
            "21/21 - 4s - 212ms/step - loss: 3.2334e-04 - val_loss: 3.2966e-04\n",
            "Epoch 20/20\n",
            "21/21 - 3s - 148ms/step - loss: 3.2074e-04 - val_loss: 3.3008e-04\n",
            "Training fold 5...\n",
            "Epoch 1/20\n",
            "21/21 - 2s - 115ms/step - loss: 3.3371e-04 - val_loss: 2.9019e-04\n",
            "Epoch 2/20\n",
            "21/21 - 3s - 120ms/step - loss: 3.3337e-04 - val_loss: 2.8652e-04\n",
            "Epoch 3/20\n",
            "21/21 - 3s - 145ms/step - loss: 3.3219e-04 - val_loss: 2.8478e-04\n",
            "Epoch 4/20\n",
            "21/21 - 5s - 217ms/step - loss: 3.3147e-04 - val_loss: 2.8472e-04\n",
            "Epoch 5/20\n",
            "21/21 - 3s - 122ms/step - loss: 3.3196e-04 - val_loss: 2.8483e-04\n",
            "Epoch 6/20\n",
            "21/21 - 3s - 120ms/step - loss: 3.3206e-04 - val_loss: 2.8580e-04\n",
            "Epoch 7/20\n",
            "21/21 - 3s - 136ms/step - loss: 3.3216e-04 - val_loss: 2.8469e-04\n",
            "Epoch 8/20\n",
            "21/21 - 5s - 229ms/step - loss: 3.3391e-04 - val_loss: 2.8466e-04\n",
            "Epoch 9/20\n",
            "21/21 - 2s - 113ms/step - loss: 3.3101e-04 - val_loss: 2.8690e-04\n",
            "Epoch 10/20\n",
            "21/21 - 3s - 121ms/step - loss: 3.3120e-04 - val_loss: 2.8474e-04\n",
            "Epoch 11/20\n",
            "21/21 - 2s - 115ms/step - loss: 3.3076e-04 - val_loss: 2.8571e-04\n",
            "Epoch 12/20\n",
            "21/21 - 4s - 213ms/step - loss: 3.3185e-04 - val_loss: 2.8605e-04\n",
            "Epoch 13/20\n",
            "21/21 - 3s - 145ms/step - loss: 3.3178e-04 - val_loss: 2.8610e-04\n",
            "Epoch 14/20\n",
            "21/21 - 3s - 120ms/step - loss: 3.3147e-04 - val_loss: 2.8738e-04\n",
            "Epoch 15/20\n",
            "21/21 - 2s - 115ms/step - loss: 3.3008e-04 - val_loss: 2.8551e-04\n",
            "Epoch 16/20\n",
            "21/21 - 3s - 135ms/step - loss: 3.3247e-04 - val_loss: 2.8525e-04\n",
            "Epoch 17/20\n",
            "21/21 - 4s - 199ms/step - loss: 3.3337e-04 - val_loss: 2.8614e-04\n",
            "Epoch 18/20\n",
            "21/21 - 3s - 162ms/step - loss: 3.3122e-04 - val_loss: 2.8535e-04\n",
            "Epoch 19/20\n",
            "21/21 - 3s - 121ms/step - loss: 3.3080e-04 - val_loss: 2.8926e-04\n",
            "Epoch 20/20\n",
            "21/21 - 3s - 121ms/step - loss: 3.3104e-04 - val_loss: 2.8604e-04\n",
            "12/12 - 0s - 17ms/step - loss: 1.8831e-04\n",
            "Test Loss: 0.00018830745830200613\n",
            "Testing with params: {'batch_size': 128, 'max_epoch': 30}\n",
            "Training fold 1...\n",
            "Epoch 1/30\n",
            "21/21 - 8s - 361ms/step - loss: 3.7121e-04 - val_loss: 3.3433e-04\n",
            "Epoch 2/30\n",
            "21/21 - 5s - 218ms/step - loss: 3.2138e-04 - val_loss: 3.3604e-04\n",
            "Epoch 3/30\n",
            "21/21 - 3s - 123ms/step - loss: 3.2497e-04 - val_loss: 3.2847e-04\n",
            "Epoch 4/30\n",
            "21/21 - 5s - 222ms/step - loss: 3.2621e-04 - val_loss: 3.2558e-04\n",
            "Epoch 5/30\n",
            "21/21 - 3s - 140ms/step - loss: 3.2193e-04 - val_loss: 3.3869e-04\n",
            "Epoch 6/30\n",
            "21/21 - 3s - 120ms/step - loss: 3.2553e-04 - val_loss: 3.2590e-04\n",
            "Epoch 7/30\n",
            "21/21 - 3s - 120ms/step - loss: 3.2326e-04 - val_loss: 3.2594e-04\n",
            "Epoch 8/30\n",
            "21/21 - 3s - 140ms/step - loss: 3.2274e-04 - val_loss: 3.2591e-04\n",
            "Epoch 9/30\n",
            "21/21 - 5s - 223ms/step - loss: 3.2559e-04 - val_loss: 3.3372e-04\n",
            "Epoch 10/30\n",
            "21/21 - 3s - 122ms/step - loss: 3.2735e-04 - val_loss: 3.2605e-04\n",
            "Epoch 11/30\n",
            "21/21 - 3s - 122ms/step - loss: 3.2931e-04 - val_loss: 3.4495e-04\n",
            "Epoch 12/30\n",
            "21/21 - 3s - 131ms/step - loss: 3.2394e-04 - val_loss: 3.2743e-04\n",
            "Epoch 13/30\n",
            "21/21 - 5s - 230ms/step - loss: 3.2631e-04 - val_loss: 3.2790e-04\n",
            "Epoch 14/30\n",
            "21/21 - 3s - 119ms/step - loss: 3.2421e-04 - val_loss: 3.2614e-04\n",
            "Epoch 15/30\n",
            "21/21 - 3s - 120ms/step - loss: 3.2417e-04 - val_loss: 3.2633e-04\n",
            "Epoch 16/30\n",
            "21/21 - 3s - 127ms/step - loss: 3.2414e-04 - val_loss: 3.3028e-04\n",
            "Epoch 17/30\n",
            "21/21 - 5s - 218ms/step - loss: 3.2151e-04 - val_loss: 3.2626e-04\n",
            "Epoch 18/30\n",
            "21/21 - 3s - 143ms/step - loss: 3.2232e-04 - val_loss: 3.3081e-04\n",
            "Epoch 19/30\n",
            "21/21 - 3s - 119ms/step - loss: 3.2542e-04 - val_loss: 3.2610e-04\n",
            "Epoch 20/30\n",
            "21/21 - 3s - 120ms/step - loss: 3.2483e-04 - val_loss: 3.2787e-04\n",
            "Epoch 21/30\n",
            "21/21 - 3s - 152ms/step - loss: 3.2372e-04 - val_loss: 3.2780e-04\n",
            "Epoch 22/30\n",
            "21/21 - 4s - 212ms/step - loss: 3.2407e-04 - val_loss: 3.2706e-04\n",
            "Epoch 23/30\n",
            "21/21 - 3s - 119ms/step - loss: 3.2222e-04 - val_loss: 3.3010e-04\n",
            "Epoch 24/30\n",
            "21/21 - 3s - 119ms/step - loss: 3.2655e-04 - val_loss: 3.2688e-04\n",
            "Epoch 25/30\n",
            "21/21 - 3s - 138ms/step - loss: 3.2471e-04 - val_loss: 3.2898e-04\n",
            "Epoch 26/30\n",
            "21/21 - 4s - 206ms/step - loss: 3.2685e-04 - val_loss: 3.2758e-04\n",
            "Epoch 27/30\n",
            "21/21 - 3s - 119ms/step - loss: 3.2349e-04 - val_loss: 3.2873e-04\n",
            "Epoch 28/30\n",
            "21/21 - 3s - 121ms/step - loss: 3.2267e-04 - val_loss: 3.3006e-04\n",
            "Epoch 29/30\n",
            "21/21 - 3s - 121ms/step - loss: 3.2184e-04 - val_loss: 3.2612e-04\n",
            "Epoch 30/30\n",
            "21/21 - 3s - 143ms/step - loss: 3.2288e-04 - val_loss: 3.2640e-04\n",
            "Training fold 2...\n",
            "Epoch 1/30\n",
            "21/21 - 3s - 121ms/step - loss: 3.2753e-04 - val_loss: 3.2929e-04\n",
            "Epoch 2/30\n",
            "21/21 - 2s - 119ms/step - loss: 3.2649e-04 - val_loss: 3.3075e-04\n",
            "Epoch 3/30\n",
            "21/21 - 2s - 117ms/step - loss: 3.2554e-04 - val_loss: 3.2331e-04\n",
            "Epoch 4/30\n",
            "21/21 - 3s - 133ms/step - loss: 3.3005e-04 - val_loss: 3.3294e-04\n",
            "Epoch 5/30\n",
            "21/21 - 5s - 231ms/step - loss: 3.2446e-04 - val_loss: 3.2602e-04\n",
            "Epoch 6/30\n",
            "21/21 - 2s - 118ms/step - loss: 3.2331e-04 - val_loss: 3.2353e-04\n",
            "Epoch 7/30\n",
            "21/21 - 3s - 121ms/step - loss: 3.2464e-04 - val_loss: 3.2358e-04\n",
            "Epoch 8/30\n",
            "21/21 - 3s - 126ms/step - loss: 3.2567e-04 - val_loss: 3.2999e-04\n",
            "Epoch 9/30\n",
            "21/21 - 5s - 237ms/step - loss: 3.2405e-04 - val_loss: 3.2575e-04\n",
            "Epoch 10/30\n",
            "21/21 - 3s - 124ms/step - loss: 3.2324e-04 - val_loss: 3.2364e-04\n",
            "Epoch 11/30\n",
            "21/21 - 2s - 117ms/step - loss: 3.2236e-04 - val_loss: 3.3067e-04\n",
            "Epoch 12/30\n",
            "21/21 - 3s - 121ms/step - loss: 3.2454e-04 - val_loss: 3.2558e-04\n",
            "Epoch 13/30\n",
            "21/21 - 5s - 238ms/step - loss: 3.2375e-04 - val_loss: 3.2367e-04\n",
            "Epoch 14/30\n",
            "21/21 - 3s - 122ms/step - loss: 3.2221e-04 - val_loss: 3.2454e-04\n",
            "Epoch 15/30\n",
            "21/21 - 2s - 118ms/step - loss: 3.2253e-04 - val_loss: 3.2373e-04\n",
            "Epoch 16/30\n",
            "21/21 - 3s - 126ms/step - loss: 3.2253e-04 - val_loss: 3.2744e-04\n",
            "Epoch 17/30\n",
            "21/21 - 5s - 237ms/step - loss: 3.2211e-04 - val_loss: 3.2467e-04\n",
            "Epoch 18/30\n",
            "21/21 - 2s - 118ms/step - loss: 3.2276e-04 - val_loss: 3.2381e-04\n",
            "Epoch 19/30\n",
            "21/21 - 2s - 118ms/step - loss: 3.2590e-04 - val_loss: 3.2377e-04\n",
            "Epoch 20/30\n",
            "21/21 - 3s - 121ms/step - loss: 3.2250e-04 - val_loss: 3.2834e-04\n",
            "Epoch 21/30\n",
            "21/21 - 5s - 239ms/step - loss: 3.2278e-04 - val_loss: 3.3955e-04\n",
            "Epoch 22/30\n",
            "21/21 - 3s - 122ms/step - loss: 3.2419e-04 - val_loss: 3.2536e-04\n",
            "Epoch 23/30\n",
            "21/21 - 2s - 118ms/step - loss: 3.2149e-04 - val_loss: 3.2386e-04\n",
            "Epoch 24/30\n",
            "21/21 - 3s - 121ms/step - loss: 3.2375e-04 - val_loss: 3.2424e-04\n",
            "Epoch 25/30\n",
            "21/21 - 5s - 239ms/step - loss: 3.2431e-04 - val_loss: 3.2403e-04\n",
            "Epoch 26/30\n",
            "21/21 - 2s - 118ms/step - loss: 3.2559e-04 - val_loss: 3.2844e-04\n",
            "Epoch 27/30\n",
            "21/21 - 2s - 116ms/step - loss: 3.2243e-04 - val_loss: 3.3640e-04\n",
            "Epoch 28/30\n",
            "21/21 - 2s - 117ms/step - loss: 3.2352e-04 - val_loss: 3.2552e-04\n",
            "Epoch 29/30\n",
            "21/21 - 4s - 214ms/step - loss: 3.2094e-04 - val_loss: 3.2396e-04\n",
            "Epoch 30/30\n",
            "21/21 - 3s - 146ms/step - loss: 3.2303e-04 - val_loss: 3.2659e-04\n",
            "Training fold 3...\n",
            "Epoch 1/30\n",
            "21/21 - 3s - 119ms/step - loss: 3.1914e-04 - val_loss: 3.4358e-04\n",
            "Epoch 2/30\n",
            "21/21 - 2s - 118ms/step - loss: 3.1684e-04 - val_loss: 3.4398e-04\n",
            "Epoch 3/30\n",
            "21/21 - 3s - 135ms/step - loss: 3.1765e-04 - val_loss: 3.4462e-04\n",
            "Epoch 4/30\n",
            "21/21 - 5s - 225ms/step - loss: 3.1831e-04 - val_loss: 3.4453e-04\n",
            "Epoch 5/30\n",
            "21/21 - 3s - 122ms/step - loss: 3.1839e-04 - val_loss: 3.4848e-04\n",
            "Epoch 6/30\n",
            "21/21 - 2s - 116ms/step - loss: 3.1889e-04 - val_loss: 3.4457e-04\n",
            "Epoch 7/30\n",
            "21/21 - 3s - 129ms/step - loss: 3.1648e-04 - val_loss: 3.4388e-04\n",
            "Epoch 8/30\n",
            "21/21 - 5s - 236ms/step - loss: 3.1990e-04 - val_loss: 3.4425e-04\n",
            "Epoch 9/30\n",
            "21/21 - 3s - 121ms/step - loss: 3.1642e-04 - val_loss: 3.4481e-04\n",
            "Epoch 10/30\n",
            "21/21 - 3s - 120ms/step - loss: 3.1778e-04 - val_loss: 3.4472e-04\n",
            "Epoch 11/30\n",
            "21/21 - 3s - 132ms/step - loss: 3.1713e-04 - val_loss: 3.4579e-04\n",
            "Epoch 12/30\n",
            "21/21 - 4s - 209ms/step - loss: 3.1741e-04 - val_loss: 3.4413e-04\n",
            "Epoch 13/30\n",
            "21/21 - 2s - 118ms/step - loss: 3.1702e-04 - val_loss: 3.4432e-04\n",
            "Epoch 14/30\n",
            "21/21 - 2s - 118ms/step - loss: 3.1747e-04 - val_loss: 3.4467e-04\n",
            "Epoch 15/30\n",
            "21/21 - 2s - 119ms/step - loss: 3.1729e-04 - val_loss: 3.4630e-04\n",
            "Epoch 16/30\n",
            "21/21 - 3s - 126ms/step - loss: 3.2189e-04 - val_loss: 3.4431e-04\n",
            "Epoch 17/30\n",
            "21/21 - 4s - 210ms/step - loss: 3.1643e-04 - val_loss: 3.4520e-04\n",
            "Epoch 18/30\n",
            "21/21 - 3s - 153ms/step - loss: 3.1713e-04 - val_loss: 3.4445e-04\n",
            "Epoch 19/30\n",
            "21/21 - 3s - 120ms/step - loss: 3.1727e-04 - val_loss: 3.4629e-04\n",
            "Epoch 20/30\n",
            "21/21 - 3s - 120ms/step - loss: 3.1677e-04 - val_loss: 3.4499e-04\n",
            "Epoch 21/30\n",
            "21/21 - 3s - 162ms/step - loss: 3.1944e-04 - val_loss: 3.4450e-04\n",
            "Epoch 22/30\n",
            "21/21 - 4s - 200ms/step - loss: 3.1668e-04 - val_loss: 3.4567e-04\n",
            "Epoch 23/30\n",
            "21/21 - 3s - 124ms/step - loss: 3.1971e-04 - val_loss: 3.4565e-04\n",
            "Epoch 24/30\n",
            "21/21 - 2s - 118ms/step - loss: 3.1630e-04 - val_loss: 3.4874e-04\n",
            "Epoch 25/30\n",
            "21/21 - 3s - 132ms/step - loss: 3.1764e-04 - val_loss: 3.4553e-04\n",
            "Epoch 26/30\n",
            "21/21 - 5s - 227ms/step - loss: 3.1700e-04 - val_loss: 3.4592e-04\n",
            "Epoch 27/30\n",
            "21/21 - 3s - 122ms/step - loss: 3.1539e-04 - val_loss: 3.4515e-04\n",
            "Epoch 28/30\n",
            "21/21 - 2s - 119ms/step - loss: 3.1733e-04 - val_loss: 3.4532e-04\n",
            "Epoch 29/30\n",
            "21/21 - 3s - 121ms/step - loss: 3.1682e-04 - val_loss: 3.5104e-04\n",
            "Epoch 30/30\n",
            "21/21 - 5s - 239ms/step - loss: 3.1968e-04 - val_loss: 3.4493e-04\n",
            "Training fold 4...\n",
            "Epoch 1/30\n",
            "21/21 - 2s - 119ms/step - loss: 3.2013e-04 - val_loss: 3.3567e-04\n",
            "Epoch 2/30\n",
            "21/21 - 2s - 117ms/step - loss: 3.2437e-04 - val_loss: 3.2935e-04\n",
            "Epoch 3/30\n",
            "21/21 - 3s - 122ms/step - loss: 3.2055e-04 - val_loss: 3.3206e-04\n",
            "Epoch 4/30\n",
            "21/21 - 5s - 217ms/step - loss: 3.2169e-04 - val_loss: 3.2923e-04\n",
            "Epoch 5/30\n",
            "21/21 - 2s - 119ms/step - loss: 3.2018e-04 - val_loss: 3.2915e-04\n",
            "Epoch 6/30\n",
            "21/21 - 3s - 119ms/step - loss: 3.1979e-04 - val_loss: 3.3569e-04\n",
            "Epoch 7/30\n",
            "21/21 - 3s - 122ms/step - loss: 3.2262e-04 - val_loss: 3.2918e-04\n",
            "Epoch 8/30\n",
            "21/21 - 3s - 135ms/step - loss: 3.2043e-04 - val_loss: 3.3045e-04\n",
            "Epoch 9/30\n",
            "21/21 - 5s - 228ms/step - loss: 3.1897e-04 - val_loss: 3.2922e-04\n",
            "Epoch 10/30\n",
            "21/21 - 2s - 117ms/step - loss: 3.2151e-04 - val_loss: 3.2916e-04\n",
            "Epoch 11/30\n",
            "21/21 - 3s - 121ms/step - loss: 3.2087e-04 - val_loss: 3.2917e-04\n",
            "Epoch 12/30\n",
            "21/21 - 2s - 119ms/step - loss: 3.1887e-04 - val_loss: 3.3011e-04\n",
            "Epoch 13/30\n",
            "21/21 - 5s - 219ms/step - loss: 3.2107e-04 - val_loss: 3.2927e-04\n",
            "Epoch 14/30\n",
            "21/21 - 3s - 146ms/step - loss: 3.2128e-04 - val_loss: 3.2923e-04\n",
            "Epoch 15/30\n",
            "21/21 - 2s - 117ms/step - loss: 3.2040e-04 - val_loss: 3.2933e-04\n",
            "Epoch 16/30\n",
            "21/21 - 3s - 121ms/step - loss: 3.2039e-04 - val_loss: 3.3030e-04\n",
            "Epoch 17/30\n",
            "21/21 - 3s - 146ms/step - loss: 3.2062e-04 - val_loss: 3.2950e-04\n",
            "Epoch 18/30\n",
            "21/21 - 5s - 216ms/step - loss: 3.2106e-04 - val_loss: 3.2948e-04\n",
            "Epoch 19/30\n",
            "21/21 - 3s - 122ms/step - loss: 3.2076e-04 - val_loss: 3.2948e-04\n",
            "Epoch 20/30\n",
            "21/21 - 2s - 118ms/step - loss: 3.2026e-04 - val_loss: 3.3227e-04\n",
            "Epoch 21/30\n",
            "21/21 - 3s - 134ms/step - loss: 3.2133e-04 - val_loss: 3.2941e-04\n",
            "Epoch 22/30\n",
            "21/21 - 5s - 229ms/step - loss: 3.2063e-04 - val_loss: 3.3066e-04\n",
            "Epoch 23/30\n",
            "21/21 - 3s - 122ms/step - loss: 3.2070e-04 - val_loss: 3.2965e-04\n",
            "Epoch 24/30\n",
            "21/21 - 2s - 118ms/step - loss: 3.2053e-04 - val_loss: 3.2998e-04\n",
            "Epoch 25/30\n",
            "21/21 - 3s - 125ms/step - loss: 3.2142e-04 - val_loss: 3.3099e-04\n",
            "Epoch 26/30\n",
            "21/21 - 5s - 238ms/step - loss: 3.2035e-04 - val_loss: 3.2932e-04\n",
            "Epoch 27/30\n",
            "21/21 - 3s - 123ms/step - loss: 3.2012e-04 - val_loss: 3.2931e-04\n",
            "Epoch 28/30\n",
            "21/21 - 2s - 117ms/step - loss: 3.1960e-04 - val_loss: 3.2961e-04\n",
            "Epoch 29/30\n",
            "21/21 - 3s - 124ms/step - loss: 3.2110e-04 - val_loss: 3.2974e-04\n",
            "Epoch 30/30\n",
            "21/21 - 5s - 237ms/step - loss: 3.1927e-04 - val_loss: 3.2977e-04\n",
            "Training fold 5...\n",
            "Epoch 1/30\n",
            "21/21 - 3s - 119ms/step - loss: 3.3219e-04 - val_loss: 2.8539e-04\n",
            "Epoch 2/30\n",
            "21/21 - 3s - 121ms/step - loss: 3.3178e-04 - val_loss: 2.8422e-04\n",
            "Epoch 3/30\n",
            "21/21 - 3s - 124ms/step - loss: 3.3140e-04 - val_loss: 2.8425e-04\n",
            "Epoch 4/30\n",
            "21/21 - 5s - 237ms/step - loss: 3.3210e-04 - val_loss: 2.8612e-04\n",
            "Epoch 5/30\n",
            "21/21 - 2s - 118ms/step - loss: 3.3194e-04 - val_loss: 2.8443e-04\n",
            "Epoch 6/30\n",
            "21/21 - 3s - 120ms/step - loss: 3.3119e-04 - val_loss: 2.8744e-04\n",
            "Epoch 7/30\n",
            "21/21 - 3s - 130ms/step - loss: 3.3113e-04 - val_loss: 2.8533e-04\n",
            "Epoch 8/30\n",
            "21/21 - 5s - 233ms/step - loss: 3.3207e-04 - val_loss: 2.8688e-04\n",
            "Epoch 9/30\n",
            "21/21 - 2s - 117ms/step - loss: 3.3129e-04 - val_loss: 2.8475e-04\n",
            "Epoch 10/30\n",
            "21/21 - 2s - 118ms/step - loss: 3.3223e-04 - val_loss: 2.8473e-04\n",
            "Epoch 11/30\n",
            "21/21 - 2s - 117ms/step - loss: 3.3170e-04 - val_loss: 2.8832e-04\n",
            "Epoch 12/30\n",
            "21/21 - 5s - 222ms/step - loss: 3.3135e-04 - val_loss: 2.8594e-04\n",
            "Epoch 13/30\n",
            "21/21 - 2s - 117ms/step - loss: 3.3154e-04 - val_loss: 2.8526e-04\n",
            "Epoch 14/30\n",
            "21/21 - 2s - 118ms/step - loss: 3.3340e-04 - val_loss: 2.8868e-04\n",
            "Epoch 15/30\n",
            "21/21 - 2s - 117ms/step - loss: 3.3373e-04 - val_loss: 2.8453e-04\n",
            "Epoch 16/30\n",
            "21/21 - 2s - 116ms/step - loss: 3.3205e-04 - val_loss: 2.8629e-04\n",
            "Epoch 17/30\n",
            "21/21 - 5s - 223ms/step - loss: 3.3098e-04 - val_loss: 2.8488e-04\n",
            "Epoch 18/30\n",
            "21/21 - 2s - 117ms/step - loss: 3.3041e-04 - val_loss: 2.8506e-04\n",
            "Epoch 19/30\n",
            "21/21 - 3s - 121ms/step - loss: 3.3117e-04 - val_loss: 2.8476e-04\n",
            "Epoch 20/30\n",
            "21/21 - 3s - 120ms/step - loss: 3.3102e-04 - val_loss: 2.8493e-04\n",
            "Epoch 21/30\n",
            "21/21 - 2s - 119ms/step - loss: 3.3444e-04 - val_loss: 2.8471e-04\n",
            "Epoch 22/30\n",
            "21/21 - 5s - 216ms/step - loss: 3.3244e-04 - val_loss: 2.8446e-04\n",
            "Epoch 23/30\n",
            "21/21 - 2s - 117ms/step - loss: 3.3092e-04 - val_loss: 2.8459e-04\n",
            "Epoch 24/30\n",
            "21/21 - 3s - 121ms/step - loss: 3.3117e-04 - val_loss: 2.8535e-04\n",
            "Epoch 25/30\n",
            "21/21 - 3s - 123ms/step - loss: 3.3120e-04 - val_loss: 2.8481e-04\n",
            "Epoch 26/30\n",
            "21/21 - 3s - 124ms/step - loss: 3.3219e-04 - val_loss: 2.8492e-04\n",
            "Epoch 27/30\n",
            "21/21 - 5s - 238ms/step - loss: 3.3126e-04 - val_loss: 2.8499e-04\n",
            "Epoch 28/30\n",
            "21/21 - 2s - 118ms/step - loss: 3.3161e-04 - val_loss: 2.8581e-04\n",
            "Epoch 29/30\n",
            "21/21 - 2s - 116ms/step - loss: 3.3110e-04 - val_loss: 2.8505e-04\n",
            "Epoch 30/30\n",
            "21/21 - 3s - 124ms/step - loss: 3.3088e-04 - val_loss: 2.8515e-04\n",
            "12/12 - 0s - 35ms/step - loss: 1.8643e-04\n",
            "Test Loss: 0.0001864295481937006\n",
            "Testing with params: {'batch_size': 128, 'max_epoch': 40}\n",
            "Training fold 1...\n",
            "Epoch 1/40\n",
            "21/21 - 6s - 304ms/step - loss: 3.7854e-04 - val_loss: 3.3045e-04\n",
            "Epoch 2/40\n",
            "21/21 - 2s - 115ms/step - loss: 3.2399e-04 - val_loss: 3.2854e-04\n",
            "Epoch 3/40\n",
            "21/21 - 3s - 122ms/step - loss: 3.2295e-04 - val_loss: 3.2828e-04\n",
            "Epoch 4/40\n",
            "21/21 - 3s - 143ms/step - loss: 3.2408e-04 - val_loss: 3.3365e-04\n",
            "Epoch 5/40\n",
            "21/21 - 4s - 193ms/step - loss: 3.2213e-04 - val_loss: 3.3147e-04\n",
            "Epoch 6/40\n",
            "21/21 - 3s - 166ms/step - loss: 3.2674e-04 - val_loss: 3.2650e-04\n",
            "Epoch 7/40\n",
            "21/21 - 3s - 122ms/step - loss: 3.2376e-04 - val_loss: 3.2908e-04\n",
            "Epoch 8/40\n",
            "21/21 - 2s - 116ms/step - loss: 3.2566e-04 - val_loss: 3.2851e-04\n",
            "Epoch 9/40\n",
            "21/21 - 4s - 192ms/step - loss: 3.2613e-04 - val_loss: 3.2602e-04\n",
            "Epoch 10/40\n",
            "21/21 - 4s - 171ms/step - loss: 3.2389e-04 - val_loss: 3.2765e-04\n",
            "Epoch 11/40\n",
            "21/21 - 2s - 116ms/step - loss: 3.2580e-04 - val_loss: 3.3047e-04\n",
            "Epoch 12/40\n",
            "21/21 - 2s - 115ms/step - loss: 3.2917e-04 - val_loss: 3.4756e-04\n",
            "Epoch 13/40\n",
            "21/21 - 2s - 116ms/step - loss: 3.2973e-04 - val_loss: 3.2627e-04\n",
            "Epoch 14/40\n",
            "21/21 - 4s - 211ms/step - loss: 3.2498e-04 - val_loss: 3.2843e-04\n",
            "Epoch 15/40\n",
            "21/21 - 3s - 148ms/step - loss: 3.2299e-04 - val_loss: 3.2649e-04\n",
            "Epoch 16/40\n",
            "21/21 - 2s - 115ms/step - loss: 3.2338e-04 - val_loss: 3.2972e-04\n",
            "Epoch 17/40\n",
            "21/21 - 3s - 120ms/step - loss: 3.2538e-04 - val_loss: 3.2619e-04\n",
            "Epoch 18/40\n",
            "21/21 - 3s - 129ms/step - loss: 3.2140e-04 - val_loss: 3.2940e-04\n",
            "Epoch 19/40\n",
            "21/21 - 4s - 205ms/step - loss: 3.2534e-04 - val_loss: 3.2761e-04\n",
            "Epoch 20/40\n",
            "21/21 - 2s - 115ms/step - loss: 3.2553e-04 - val_loss: 3.3250e-04\n",
            "Epoch 21/40\n",
            "21/21 - 2s - 118ms/step - loss: 3.2494e-04 - val_loss: 3.2687e-04\n",
            "Epoch 22/40\n",
            "21/21 - 2s - 118ms/step - loss: 3.2182e-04 - val_loss: 3.2639e-04\n",
            "Epoch 23/40\n",
            "21/21 - 3s - 131ms/step - loss: 3.2379e-04 - val_loss: 3.3739e-04\n",
            "Epoch 24/40\n",
            "21/21 - 5s - 234ms/step - loss: 3.2169e-04 - val_loss: 3.3199e-04\n",
            "Epoch 25/40\n",
            "21/21 - 3s - 121ms/step - loss: 3.2276e-04 - val_loss: 3.2647e-04\n",
            "Epoch 26/40\n",
            "21/21 - 3s - 124ms/step - loss: 3.2251e-04 - val_loss: 3.2689e-04\n",
            "Epoch 27/40\n",
            "21/21 - 3s - 121ms/step - loss: 3.2363e-04 - val_loss: 3.3435e-04\n",
            "Epoch 28/40\n",
            "21/21 - 4s - 210ms/step - loss: 3.2515e-04 - val_loss: 3.3264e-04\n",
            "Epoch 29/40\n",
            "21/21 - 2s - 117ms/step - loss: 3.2467e-04 - val_loss: 3.4441e-04\n",
            "Epoch 30/40\n",
            "21/21 - 2s - 115ms/step - loss: 3.2528e-04 - val_loss: 3.2608e-04\n",
            "Epoch 31/40\n",
            "21/21 - 3s - 120ms/step - loss: 3.2456e-04 - val_loss: 3.3306e-04\n",
            "Epoch 32/40\n",
            "21/21 - 2s - 117ms/step - loss: 3.2441e-04 - val_loss: 3.2708e-04\n",
            "Epoch 33/40\n",
            "21/21 - 5s - 218ms/step - loss: 3.2387e-04 - val_loss: 3.2945e-04\n",
            "Epoch 34/40\n",
            "21/21 - 2s - 114ms/step - loss: 3.2367e-04 - val_loss: 3.2688e-04\n",
            "Epoch 35/40\n",
            "21/21 - 2s - 116ms/step - loss: 3.2226e-04 - val_loss: 3.2933e-04\n",
            "Epoch 36/40\n",
            "21/21 - 3s - 122ms/step - loss: 3.2401e-04 - val_loss: 3.3615e-04\n",
            "Epoch 37/40\n",
            "21/21 - 3s - 120ms/step - loss: 3.2589e-04 - val_loss: 3.2907e-04\n",
            "Epoch 38/40\n",
            "21/21 - 5s - 215ms/step - loss: 3.2293e-04 - val_loss: 3.2667e-04\n",
            "Epoch 39/40\n",
            "21/21 - 2s - 118ms/step - loss: 3.2230e-04 - val_loss: 3.2997e-04\n",
            "Epoch 40/40\n",
            "21/21 - 2s - 116ms/step - loss: 3.2124e-04 - val_loss: 3.2715e-04\n",
            "Training fold 2...\n",
            "Epoch 1/40\n",
            "21/21 - 2s - 118ms/step - loss: 3.2759e-04 - val_loss: 3.2278e-04\n",
            "Epoch 2/40\n",
            "21/21 - 2s - 116ms/step - loss: 3.2265e-04 - val_loss: 3.2428e-04\n",
            "Epoch 3/40\n",
            "21/21 - 4s - 210ms/step - loss: 3.2280e-04 - val_loss: 3.2304e-04\n",
            "Epoch 4/40\n",
            "21/21 - 3s - 147ms/step - loss: 3.2344e-04 - val_loss: 3.2671e-04\n",
            "Epoch 5/40\n",
            "21/21 - 3s - 121ms/step - loss: 3.2499e-04 - val_loss: 3.2314e-04\n",
            "Epoch 6/40\n",
            "21/21 - 3s - 123ms/step - loss: 3.2640e-04 - val_loss: 3.2591e-04\n",
            "Epoch 7/40\n",
            "21/21 - 3s - 145ms/step - loss: 3.2638e-04 - val_loss: 3.2400e-04\n",
            "Epoch 8/40\n",
            "21/21 - 4s - 213ms/step - loss: 3.2325e-04 - val_loss: 3.3125e-04\n",
            "Epoch 9/40\n",
            "21/21 - 3s - 120ms/step - loss: 3.2213e-04 - val_loss: 3.2523e-04\n",
            "Epoch 10/40\n",
            "21/21 - 3s - 123ms/step - loss: 3.2283e-04 - val_loss: 3.2854e-04\n",
            "Epoch 11/40\n",
            "21/21 - 3s - 125ms/step - loss: 3.2503e-04 - val_loss: 3.2496e-04\n",
            "Epoch 12/40\n",
            "21/21 - 5s - 233ms/step - loss: 3.2310e-04 - val_loss: 3.2589e-04\n",
            "Epoch 13/40\n",
            "21/21 - 3s - 121ms/step - loss: 3.2277e-04 - val_loss: 3.2611e-04\n",
            "Epoch 14/40\n",
            "21/21 - 3s - 120ms/step - loss: 3.2282e-04 - val_loss: 3.2373e-04\n",
            "Epoch 15/40\n",
            "21/21 - 2s - 119ms/step - loss: 3.2304e-04 - val_loss: 3.2392e-04\n",
            "Epoch 16/40\n",
            "21/21 - 5s - 215ms/step - loss: 3.2249e-04 - val_loss: 3.2438e-04\n",
            "Epoch 17/40\n",
            "21/21 - 3s - 143ms/step - loss: 3.2214e-04 - val_loss: 3.2376e-04\n",
            "Epoch 18/40\n",
            "21/21 - 3s - 122ms/step - loss: 3.2548e-04 - val_loss: 3.2490e-04\n",
            "Epoch 19/40\n",
            "21/21 - 3s - 119ms/step - loss: 3.2092e-04 - val_loss: 3.2377e-04\n",
            "Epoch 20/40\n",
            "21/21 - 3s - 142ms/step - loss: 3.2240e-04 - val_loss: 3.2371e-04\n",
            "Epoch 21/40\n",
            "21/21 - 5s - 215ms/step - loss: 3.2334e-04 - val_loss: 3.2367e-04\n",
            "Epoch 22/40\n",
            "21/21 - 3s - 122ms/step - loss: 3.2209e-04 - val_loss: 3.2618e-04\n",
            "Epoch 23/40\n",
            "21/21 - 3s - 122ms/step - loss: 3.2268e-04 - val_loss: 3.2708e-04\n",
            "Epoch 24/40\n",
            "21/21 - 3s - 121ms/step - loss: 3.2251e-04 - val_loss: 3.2826e-04\n",
            "Epoch 25/40\n",
            "21/21 - 4s - 214ms/step - loss: 3.2645e-04 - val_loss: 3.2660e-04\n",
            "Epoch 26/40\n",
            "21/21 - 2s - 115ms/step - loss: 3.2571e-04 - val_loss: 3.2746e-04\n",
            "Epoch 27/40\n",
            "21/21 - 3s - 122ms/step - loss: 3.2265e-04 - val_loss: 3.2383e-04\n",
            "Epoch 28/40\n",
            "21/21 - 2s - 115ms/step - loss: 3.2262e-04 - val_loss: 3.2404e-04\n",
            "Epoch 29/40\n",
            "21/21 - 3s - 121ms/step - loss: 3.2237e-04 - val_loss: 3.2450e-04\n",
            "Epoch 30/40\n",
            "21/21 - 5s - 219ms/step - loss: 3.2255e-04 - val_loss: 3.2608e-04\n",
            "Epoch 31/40\n",
            "21/21 - 3s - 148ms/step - loss: 3.2283e-04 - val_loss: 3.2738e-04\n",
            "Epoch 32/40\n",
            "21/21 - 2s - 118ms/step - loss: 3.2305e-04 - val_loss: 3.2363e-04\n",
            "Epoch 33/40\n",
            "21/21 - 2s - 116ms/step - loss: 3.2129e-04 - val_loss: 3.2390e-04\n",
            "Epoch 34/40\n",
            "21/21 - 3s - 148ms/step - loss: 3.2199e-04 - val_loss: 3.2397e-04\n",
            "Epoch 35/40\n",
            "21/21 - 4s - 190ms/step - loss: 3.2162e-04 - val_loss: 3.2461e-04\n",
            "Epoch 36/40\n",
            "21/21 - 4s - 171ms/step - loss: 3.2777e-04 - val_loss: 3.2437e-04\n",
            "Epoch 37/40\n",
            "21/21 - 3s - 120ms/step - loss: 3.2201e-04 - val_loss: 3.2458e-04\n",
            "Epoch 38/40\n",
            "21/21 - 3s - 120ms/step - loss: 3.2362e-04 - val_loss: 3.2672e-04\n",
            "Epoch 39/40\n",
            "21/21 - 4s - 194ms/step - loss: 3.2337e-04 - val_loss: 3.2385e-04\n",
            "Epoch 40/40\n",
            "21/21 - 3s - 146ms/step - loss: 3.2139e-04 - val_loss: 3.2379e-04\n",
            "Training fold 3...\n",
            "Epoch 1/40\n",
            "21/21 - 2s - 116ms/step - loss: 3.1821e-04 - val_loss: 3.4329e-04\n",
            "Epoch 2/40\n",
            "21/21 - 3s - 121ms/step - loss: 3.1688e-04 - val_loss: 3.4417e-04\n",
            "Epoch 3/40\n",
            "21/21 - 4s - 177ms/step - loss: 3.1655e-04 - val_loss: 3.4347e-04\n",
            "Epoch 4/40\n",
            "21/21 - 3s - 159ms/step - loss: 3.1706e-04 - val_loss: 3.4360e-04\n",
            "Epoch 5/40\n",
            "21/21 - 4s - 199ms/step - loss: 3.1803e-04 - val_loss: 3.4361e-04\n",
            "Epoch 6/40\n",
            "21/21 - 3s - 123ms/step - loss: 3.1661e-04 - val_loss: 3.4371e-04\n",
            "Epoch 7/40\n",
            "21/21 - 3s - 147ms/step - loss: 3.1688e-04 - val_loss: 3.4402e-04\n",
            "Epoch 8/40\n",
            "21/21 - 4s - 214ms/step - loss: 3.1681e-04 - val_loss: 3.4476e-04\n",
            "Epoch 9/40\n",
            "21/21 - 3s - 121ms/step - loss: 3.1988e-04 - val_loss: 3.5049e-04\n",
            "Epoch 10/40\n",
            "21/21 - 2s - 114ms/step - loss: 3.1833e-04 - val_loss: 3.4840e-04\n",
            "Epoch 11/40\n",
            "21/21 - 2s - 117ms/step - loss: 3.1760e-04 - val_loss: 3.4386e-04\n",
            "Epoch 12/40\n",
            "21/21 - 5s - 216ms/step - loss: 3.1695e-04 - val_loss: 3.4397e-04\n",
            "Epoch 13/40\n",
            "21/21 - 3s - 146ms/step - loss: 3.1645e-04 - val_loss: 3.4397e-04\n",
            "Epoch 14/40\n",
            "21/21 - 3s - 122ms/step - loss: 3.1620e-04 - val_loss: 3.4530e-04\n",
            "Epoch 15/40\n",
            "21/21 - 2s - 116ms/step - loss: 3.1697e-04 - val_loss: 3.4538e-04\n",
            "Epoch 16/40\n",
            "21/21 - 3s - 140ms/step - loss: 3.1689e-04 - val_loss: 3.4498e-04\n",
            "Epoch 17/40\n",
            "21/21 - 5s - 217ms/step - loss: 3.1636e-04 - val_loss: 3.4485e-04\n",
            "Epoch 18/40\n",
            "21/21 - 3s - 124ms/step - loss: 3.1893e-04 - val_loss: 3.4684e-04\n",
            "Epoch 19/40\n",
            "21/21 - 2s - 117ms/step - loss: 3.2004e-04 - val_loss: 3.4496e-04\n",
            "Epoch 20/40\n",
            "21/21 - 3s - 129ms/step - loss: 3.1763e-04 - val_loss: 3.4485e-04\n",
            "Epoch 21/40\n",
            "21/21 - 5s - 232ms/step - loss: 3.1705e-04 - val_loss: 3.5330e-04\n",
            "Epoch 22/40\n",
            "21/21 - 3s - 121ms/step - loss: 3.1930e-04 - val_loss: 3.4786e-04\n",
            "Epoch 23/40\n",
            "21/21 - 3s - 122ms/step - loss: 3.1785e-04 - val_loss: 3.4822e-04\n",
            "Epoch 24/40\n",
            "21/21 - 3s - 126ms/step - loss: 3.1605e-04 - val_loss: 3.4493e-04\n",
            "Epoch 25/40\n",
            "21/21 - 5s - 231ms/step - loss: 3.1644e-04 - val_loss: 3.4441e-04\n",
            "Epoch 26/40\n",
            "21/21 - 3s - 122ms/step - loss: 3.1643e-04 - val_loss: 3.4431e-04\n",
            "Epoch 27/40\n",
            "21/21 - 3s - 122ms/step - loss: 3.1765e-04 - val_loss: 3.4431e-04\n",
            "Epoch 28/40\n",
            "21/21 - 3s - 128ms/step - loss: 3.1694e-04 - val_loss: 3.4774e-04\n",
            "Epoch 29/40\n",
            "21/21 - 5s - 234ms/step - loss: 3.1815e-04 - val_loss: 3.4426e-04\n",
            "Epoch 30/40\n",
            "21/21 - 3s - 121ms/step - loss: 3.1528e-04 - val_loss: 3.4608e-04\n",
            "Epoch 31/40\n",
            "21/21 - 2s - 116ms/step - loss: 3.1729e-04 - val_loss: 3.4438e-04\n",
            "Epoch 32/40\n",
            "21/21 - 2s - 115ms/step - loss: 3.1659e-04 - val_loss: 3.4553e-04\n",
            "Epoch 33/40\n",
            "21/21 - 5s - 216ms/step - loss: 3.1710e-04 - val_loss: 3.4516e-04\n",
            "Epoch 34/40\n",
            "21/21 - 3s - 142ms/step - loss: 3.1735e-04 - val_loss: 3.4476e-04\n",
            "Epoch 35/40\n",
            "21/21 - 3s - 122ms/step - loss: 3.1685e-04 - val_loss: 3.4693e-04\n",
            "Epoch 36/40\n",
            "21/21 - 3s - 120ms/step - loss: 3.1706e-04 - val_loss: 3.4674e-04\n",
            "Epoch 37/40\n",
            "21/21 - 3s - 132ms/step - loss: 3.1760e-04 - val_loss: 3.4542e-04\n",
            "Epoch 38/40\n",
            "21/21 - 4s - 200ms/step - loss: 3.1640e-04 - val_loss: 3.4787e-04\n",
            "Epoch 39/40\n",
            "21/21 - 2s - 116ms/step - loss: 3.1733e-04 - val_loss: 3.4476e-04\n",
            "Epoch 40/40\n",
            "21/21 - 3s - 121ms/step - loss: 3.1608e-04 - val_loss: 3.4722e-04\n",
            "Training fold 4...\n",
            "Epoch 1/40\n",
            "21/21 - 2s - 118ms/step - loss: 3.2120e-04 - val_loss: 3.2923e-04\n",
            "Epoch 2/40\n",
            "21/21 - 3s - 136ms/step - loss: 3.2049e-04 - val_loss: 3.2948e-04\n",
            "Epoch 3/40\n",
            "21/21 - 4s - 200ms/step - loss: 3.2010e-04 - val_loss: 3.3291e-04\n",
            "Epoch 4/40\n",
            "21/21 - 3s - 159ms/step - loss: 3.2102e-04 - val_loss: 3.3759e-04\n",
            "Epoch 5/40\n",
            "21/21 - 3s - 119ms/step - loss: 3.2145e-04 - val_loss: 3.2988e-04\n",
            "Epoch 6/40\n",
            "21/21 - 3s - 124ms/step - loss: 3.2075e-04 - val_loss: 3.2922e-04\n",
            "Epoch 7/40\n",
            "21/21 - 4s - 176ms/step - loss: 3.2022e-04 - val_loss: 3.3053e-04\n",
            "Epoch 8/40\n",
            "21/21 - 3s - 161ms/step - loss: 3.2058e-04 - val_loss: 3.2923e-04\n",
            "Epoch 9/40\n",
            "21/21 - 2s - 114ms/step - loss: 3.2038e-04 - val_loss: 3.3123e-04\n",
            "Epoch 10/40\n",
            "21/21 - 3s - 120ms/step - loss: 3.2099e-04 - val_loss: 3.3112e-04\n",
            "Epoch 11/40\n",
            "21/21 - 3s - 122ms/step - loss: 3.2044e-04 - val_loss: 3.2949e-04\n",
            "Epoch 12/40\n",
            "21/21 - 4s - 177ms/step - loss: 3.2158e-04 - val_loss: 3.3278e-04\n",
            "Epoch 13/40\n",
            "21/21 - 4s - 186ms/step - loss: 3.2175e-04 - val_loss: 3.3027e-04\n",
            "Epoch 14/40\n",
            "21/21 - 3s - 123ms/step - loss: 3.2027e-04 - val_loss: 3.3123e-04\n",
            "Epoch 15/40\n",
            "21/21 - 2s - 119ms/step - loss: 3.2139e-04 - val_loss: 3.3095e-04\n",
            "Epoch 16/40\n",
            "21/21 - 3s - 139ms/step - loss: 3.2155e-04 - val_loss: 3.2956e-04\n",
            "Epoch 17/40\n",
            "21/21 - 5s - 226ms/step - loss: 3.2024e-04 - val_loss: 3.2938e-04\n",
            "Epoch 18/40\n",
            "21/21 - 2s - 117ms/step - loss: 3.1999e-04 - val_loss: 3.2940e-04\n",
            "Epoch 19/40\n",
            "21/21 - 2s - 115ms/step - loss: 3.2062e-04 - val_loss: 3.3228e-04\n",
            "Epoch 20/40\n",
            "21/21 - 2s - 114ms/step - loss: 3.2035e-04 - val_loss: 3.3079e-04\n",
            "Epoch 21/40\n",
            "21/21 - 5s - 218ms/step - loss: 3.2088e-04 - val_loss: 3.2937e-04\n",
            "Epoch 22/40\n",
            "21/21 - 2s - 116ms/step - loss: 3.1932e-04 - val_loss: 3.3454e-04\n",
            "Epoch 23/40\n",
            "21/21 - 3s - 122ms/step - loss: 3.2236e-04 - val_loss: 3.3139e-04\n",
            "Epoch 24/40\n",
            "21/21 - 2s - 114ms/step - loss: 3.2154e-04 - val_loss: 3.3017e-04\n",
            "Epoch 25/40\n",
            "21/21 - 3s - 124ms/step - loss: 3.2497e-04 - val_loss: 3.2950e-04\n",
            "Epoch 26/40\n",
            "21/21 - 5s - 216ms/step - loss: 3.2283e-04 - val_loss: 3.2977e-04\n",
            "Epoch 27/40\n",
            "21/21 - 3s - 143ms/step - loss: 3.1935e-04 - val_loss: 3.3048e-04\n",
            "Epoch 28/40\n",
            "21/21 - 3s - 120ms/step - loss: 3.2096e-04 - val_loss: 3.2945e-04\n",
            "Epoch 29/40\n",
            "21/21 - 3s - 122ms/step - loss: 3.1941e-04 - val_loss: 3.3361e-04\n",
            "Epoch 30/40\n",
            "21/21 - 3s - 148ms/step - loss: 3.2090e-04 - val_loss: 3.2999e-04\n",
            "Epoch 31/40\n",
            "21/21 - 5s - 215ms/step - loss: 3.2030e-04 - val_loss: 3.3092e-04\n",
            "Epoch 32/40\n",
            "21/21 - 2s - 115ms/step - loss: 3.2071e-04 - val_loss: 3.3024e-04\n",
            "Epoch 33/40\n",
            "21/21 - 2s - 116ms/step - loss: 3.1987e-04 - val_loss: 3.2956e-04\n",
            "Epoch 34/40\n",
            "21/21 - 3s - 124ms/step - loss: 3.2045e-04 - val_loss: 3.2935e-04\n",
            "Epoch 35/40\n",
            "21/21 - 4s - 214ms/step - loss: 3.2149e-04 - val_loss: 3.2971e-04\n",
            "Epoch 36/40\n",
            "21/21 - 3s - 145ms/step - loss: 3.1967e-04 - val_loss: 3.3084e-04\n",
            "Epoch 37/40\n",
            "21/21 - 2s - 116ms/step - loss: 3.2124e-04 - val_loss: 3.2976e-04\n",
            "Epoch 38/40\n",
            "21/21 - 3s - 120ms/step - loss: 3.2046e-04 - val_loss: 3.2934e-04\n",
            "Epoch 39/40\n",
            "21/21 - 3s - 136ms/step - loss: 3.2135e-04 - val_loss: 3.3185e-04\n",
            "Epoch 40/40\n",
            "21/21 - 5s - 220ms/step - loss: 3.2058e-04 - val_loss: 3.2941e-04\n",
            "Training fold 5...\n",
            "Epoch 1/40\n",
            "21/21 - 2s - 117ms/step - loss: 3.3165e-04 - val_loss: 2.8590e-04\n",
            "Epoch 2/40\n",
            "21/21 - 3s - 119ms/step - loss: 3.3105e-04 - val_loss: 2.8480e-04\n",
            "Epoch 3/40\n",
            "21/21 - 3s - 131ms/step - loss: 3.3102e-04 - val_loss: 2.8597e-04\n",
            "Epoch 4/40\n",
            "21/21 - 4s - 205ms/step - loss: 3.3192e-04 - val_loss: 2.8479e-04\n",
            "Epoch 5/40\n",
            "21/21 - 3s - 153ms/step - loss: 3.3219e-04 - val_loss: 2.8460e-04\n",
            "Epoch 6/40\n",
            "21/21 - 2s - 116ms/step - loss: 3.3296e-04 - val_loss: 2.8438e-04\n",
            "Epoch 7/40\n",
            "21/21 - 2s - 116ms/step - loss: 3.3071e-04 - val_loss: 2.8537e-04\n",
            "Epoch 8/40\n",
            "21/21 - 3s - 158ms/step - loss: 3.3084e-04 - val_loss: 2.8467e-04\n",
            "Epoch 9/40\n",
            "21/21 - 4s - 181ms/step - loss: 3.3262e-04 - val_loss: 2.8469e-04\n",
            "Epoch 10/40\n",
            "21/21 - 2s - 116ms/step - loss: 3.3241e-04 - val_loss: 2.8552e-04\n",
            "Epoch 11/40\n",
            "21/21 - 3s - 122ms/step - loss: 3.3150e-04 - val_loss: 2.8495e-04\n",
            "Epoch 12/40\n",
            "21/21 - 2s - 116ms/step - loss: 3.3059e-04 - val_loss: 2.8596e-04\n",
            "Epoch 13/40\n",
            "21/21 - 3s - 151ms/step - loss: 3.3122e-04 - val_loss: 2.8488e-04\n",
            "Epoch 14/40\n",
            "21/21 - 4s - 188ms/step - loss: 3.3107e-04 - val_loss: 2.8511e-04\n",
            "Epoch 15/40\n",
            "21/21 - 4s - 171ms/step - loss: 3.3134e-04 - val_loss: 2.8486e-04\n",
            "Epoch 16/40\n",
            "21/21 - 2s - 117ms/step - loss: 3.3160e-04 - val_loss: 2.8520e-04\n",
            "Epoch 17/40\n",
            "21/21 - 2s - 116ms/step - loss: 3.3157e-04 - val_loss: 2.8494e-04\n",
            "Epoch 18/40\n",
            "21/21 - 4s - 196ms/step - loss: 3.3123e-04 - val_loss: 2.8553e-04\n",
            "Epoch 19/40\n",
            "21/21 - 4s - 168ms/step - loss: 3.3093e-04 - val_loss: 2.8559e-04\n",
            "Epoch 20/40\n",
            "21/21 - 2s - 117ms/step - loss: 3.3269e-04 - val_loss: 2.8860e-04\n",
            "Epoch 21/40\n",
            "21/21 - 2s - 116ms/step - loss: 3.3259e-04 - val_loss: 2.8512e-04\n",
            "Epoch 22/40\n",
            "21/21 - 3s - 123ms/step - loss: 3.3116e-04 - val_loss: 2.8616e-04\n",
            "Epoch 23/40\n",
            "21/21 - 5s - 216ms/step - loss: 3.3104e-04 - val_loss: 2.8777e-04\n",
            "Epoch 24/40\n",
            "21/21 - 2s - 118ms/step - loss: 3.3235e-04 - val_loss: 2.8493e-04\n",
            "Epoch 25/40\n",
            "21/21 - 3s - 120ms/step - loss: 3.3206e-04 - val_loss: 2.8486e-04\n",
            "Epoch 26/40\n",
            "21/21 - 2s - 116ms/step - loss: 3.3192e-04 - val_loss: 2.8535e-04\n",
            "Epoch 27/40\n",
            "21/21 - 3s - 122ms/step - loss: 3.3091e-04 - val_loss: 2.8663e-04\n",
            "Epoch 28/40\n",
            "21/21 - 4s - 214ms/step - loss: 3.3175e-04 - val_loss: 2.8513e-04\n",
            "Epoch 29/40\n",
            "21/21 - 2s - 114ms/step - loss: 3.3182e-04 - val_loss: 2.8537e-04\n",
            "Epoch 30/40\n",
            "21/21 - 2s - 116ms/step - loss: 3.3187e-04 - val_loss: 2.8938e-04\n",
            "Epoch 31/40\n",
            "21/21 - 3s - 120ms/step - loss: 3.3210e-04 - val_loss: 2.8789e-04\n",
            "Epoch 32/40\n",
            "21/21 - 3s - 123ms/step - loss: 3.3040e-04 - val_loss: 2.8623e-04\n",
            "Epoch 33/40\n",
            "21/21 - 4s - 214ms/step - loss: 3.3063e-04 - val_loss: 2.8514e-04\n",
            "Epoch 34/40\n",
            "21/21 - 2s - 117ms/step - loss: 3.3121e-04 - val_loss: 2.8526e-04\n",
            "Epoch 35/40\n",
            "21/21 - 3s - 121ms/step - loss: 3.3084e-04 - val_loss: 2.8533e-04\n",
            "Epoch 36/40\n",
            "21/21 - 2s - 116ms/step - loss: 3.3146e-04 - val_loss: 2.8524e-04\n",
            "Epoch 37/40\n",
            "21/21 - 3s - 120ms/step - loss: 3.3177e-04 - val_loss: 2.8512e-04\n",
            "Epoch 38/40\n",
            "21/21 - 5s - 224ms/step - loss: 3.3094e-04 - val_loss: 2.8503e-04\n",
            "Epoch 39/40\n",
            "21/21 - 3s - 141ms/step - loss: 3.3140e-04 - val_loss: 2.8486e-04\n",
            "Epoch 40/40\n",
            "21/21 - 2s - 116ms/step - loss: 3.3295e-04 - val_loss: 2.9503e-04\n",
            "12/12 - 0s - 17ms/step - loss: 1.9075e-04\n",
            "Test Loss: 0.00019075324235018343\n",
            "Best params: {'batch_size': 32, 'max_epoch': 10} with loss: 0.00018443215230945498\n"
          ]
        }
      ],
      "source": [
        "from sklearn.model_selection import ParameterGrid\n",
        "param_grid = {\n",
        "    'batch_size': [32, 64, 128],\n",
        "    'max_epoch': [10, 20, 30, 40]\n",
        "}\n",
        "grid = ParameterGrid(param_grid)\n",
        "\n",
        "best_loss = float('inf')\n",
        "best_params = None\n",
        "\n",
        "np.random.seed(42)\n",
        "for params in grid:\n",
        "    print(f\"Testing with params: {params}\")\n",
        "    model = LstmRNNEh(stock_count=1, model_type=\"Bidirectional_LSTM\")\n",
        "    config = {\n",
        "        'batch_size': params['batch_size'],\n",
        "        'max_epoch': params['max_epoch']\n",
        "    }\n",
        "\n",
        "    dataset = StockEnhanceDataSet(\"AAPL\")\n",
        "    model.train([dataset], config)\n",
        "    val_loss = model.evaluate(dataset)\n",
        "\n",
        "    if val_loss < best_loss:\n",
        "        best_loss = val_loss\n",
        "        best_params = params\n",
        "        model.save()\n",
        "        print(f\"Model saved with best params\")\n",
        "\n",
        "\n",
        "print(f\"Best params: {best_params} with loss: {best_loss}\")"
      ]
    },
    {
      "cell_type": "code",
      "execution_count": 1,
      "metadata": {
        "colab": {
          "base_uri": "https://localhost:8080/",
          "height": 207
        },
        "id": "uso7tb_jRFq9",
        "outputId": "943bf45e-f754-4fd9-949d-e184a779758c"
      },
      "outputs": [
        {
          "output_type": "error",
          "ename": "NameError",
          "evalue": "name 'StockEnhanceDataSet' is not defined",
          "traceback": [
            "\u001b[0;31m---------------------------------------------------------------------------\u001b[0m",
            "\u001b[0;31mNameError\u001b[0m                                 Traceback (most recent call last)",
            "\u001b[0;32m<ipython-input-1-dcf95c3b6b4f>\u001b[0m in \u001b[0;36m<cell line: 3>\u001b[0;34m()\u001b[0m\n\u001b[1;32m      1\u001b[0m \u001b[0mstock_sym\u001b[0m \u001b[0;34m=\u001b[0m \u001b[0;34m\"A\"\u001b[0m  \u001b[0;31m# Use the first stock symbol\u001b[0m\u001b[0;34m\u001b[0m\u001b[0;34m\u001b[0m\u001b[0m\n\u001b[1;32m      2\u001b[0m \u001b[0;31m# dataset = StockEnhanceDataSet(stock_sym)\u001b[0m\u001b[0;34m\u001b[0m\u001b[0;34m\u001b[0m\u001b[0m\n\u001b[0;32m----> 3\u001b[0;31m \u001b[0mdataset\u001b[0m \u001b[0;34m=\u001b[0m \u001b[0mStockEnhanceDataSet\u001b[0m\u001b[0;34m(\u001b[0m\u001b[0mstock_sym\u001b[0m\u001b[0;34m)\u001b[0m\u001b[0;34m\u001b[0m\u001b[0;34m\u001b[0m\u001b[0m\n\u001b[0m\u001b[1;32m      4\u001b[0m \u001b[0;34m\u001b[0m\u001b[0m\n\u001b[1;32m      5\u001b[0m \u001b[0;31m# Build and train the model\u001b[0m\u001b[0;34m\u001b[0m\u001b[0;34m\u001b[0m\u001b[0m\n",
            "\u001b[0;31mNameError\u001b[0m: name 'StockEnhanceDataSet' is not defined"
          ]
        }
      ],
      "source": [
        "stock_sym = \"A\"  # Use the first stock symbol\n",
        "# dataset = StockEnhanceDataSet(stock_sym)\n",
        "dataset = StockEnhanceDataSet(stock_sym)\n",
        "\n",
        "# Build and train the model\n",
        "rnn_model = LstmRNNEh(stock_count=1)  # Only one stock dataset is used here\n",
        "config = {\"max_epoch\": 20, \"batch_size\": 128}\n",
        " # Configuration object\n",
        "rnn_model.train([dataset], config)  # Train with one dataset\n",
        "\n",
        "# Evaluate the model on the test data\n",
        "predictions = rnn_model.model.predict(dataset.test_X)\n",
        "\n",
        "# Visualize and evaluate results\n",
        "evaluate_and_visualize(predictions.flatten(), dataset.test_y.flatten(), stock_sym=stock_sym)"
      ]
    },
    {
      "cell_type": "code",
      "execution_count": 26,
      "metadata": {
        "colab": {
          "base_uri": "https://localhost:8080/",
          "height": 1000
        },
        "id": "7KOf2X_URFrB",
        "outputId": "07309ead-e810-49be-c5c7-d4822a5e74b5"
      },
      "outputs": [
        {
          "output_type": "stream",
          "name": "stderr",
          "text": [
            "WARNING:absl:Compiled the loaded model, but the compiled metrics have yet to be built. `model.compile_metrics` will be empty until you train or evaluate the model.\n"
          ]
        },
        {
          "output_type": "stream",
          "name": "stdout",
          "text": [
            "Model loaded from logs/lstm_model_enhance.h5\n",
            "\u001b[1m12/12\u001b[0m \u001b[32m━━━━━━━━━━━━━━━━━━━━\u001b[0m\u001b[37m\u001b[0m \u001b[1m1s\u001b[0m 67ms/step\n",
            "Evaluation Metrics for A:\n",
            "Mean Squared Error (MSE): 0.0002\n",
            "Root Mean Squared Error (RMSE): 0.0136\n",
            "Mean Absolute Error (MAE): 0.0100\n",
            "Mean Absolute Percentage Error (MAPE): inf%\n",
            "Mean Absolute Scaled Error (MASE): 0.7183\n"
          ]
        },
        {
          "output_type": "stream",
          "name": "stderr",
          "text": [
            "<ipython-input-23-86c2c63043f6>:26: RuntimeWarning: divide by zero encountered in divide\n",
            "  mape = np.mean(np.abs((ground_truth - predictions) / ground_truth)) * 100\n"
          ]
        },
        {
          "output_type": "display_data",
          "data": {
            "text/plain": [
              "<Figure size 1400x700 with 1 Axes>"
            ],
            "image/png": "[encoded data removed]"
          },
          "metadata": {}
        },
        {
          "output_type": "display_data",
          "data": {
            "text/plain": [
              "<Figure size 1000x600 with 1 Axes>"
            ],
            "image/png": "[encoded data removed]"
          },
          "metadata": {}
        },
        {
          "output_type": "display_data",
          "data": {
            "text/plain": [
              "<Figure size 1400x700 with 1 Axes>"
            ],
            "image/png": "[encoded data removed]"
          },
          "metadata": {}
        }
      ],
      "source": [
        "model = LstmRNNEh(stock_count=1, model_type=\"Bidirectional_LSTM\")\n",
        "model.load()\n",
        "predictions = model.model.predict(dataset.test_X)\n",
        "# Visualize and evaluate results\n",
        "evaluate_and_visualize(predictions.flatten(), dataset.test_y.flatten(), stock_sym=stock_sym)"
      ]
    }
  ],
  "metadata": {
    "colab": {
      "provenance": [],
      "toc_visible": true
    },
    "kernelspec": {
      "display_name": "Python 3",
      "language": "python",
      "name": "python3"
    },
    "language_info": {
      "codemirror_mode": {
        "name": "ipython",
        "version": 3
      },
      "file_extension": ".py",
      "mimetype": "text/x-python",
      "name": "python",
      "nbconvert_exporter": "python",
      "pygments_lexer": "ipython3",
      "version": "3.10.14"
    }
  },
  "nbformat": 4,
  "nbformat_minor": 0
}